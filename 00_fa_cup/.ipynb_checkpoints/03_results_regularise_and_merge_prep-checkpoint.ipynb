{
 "cells": [
  {
   "cell_type": "code",
   "execution_count": 1,
   "metadata": {
    "collapsed": true
   },
   "outputs": [],
   "source": [
    "import pandas as pd\n",
    "import numpy as np\n",
    "import matplotlib.pyplot as plt\n",
    "import matplotlib\n",
    "\n",
    "%matplotlib inline\n",
    "matplotlib.style.use('ggplot')"
   ]
  },
  {
   "cell_type": "code",
   "execution_count": 2,
   "metadata": {
    "collapsed": true
   },
   "outputs": [],
   "source": [
    "fac = pd.read_csv('facup_v2.csv')"
   ]
  },
  {
   "cell_type": "code",
   "execution_count": 3,
   "metadata": {
    "collapsed": false
   },
   "outputs": [
    {
     "name": "stdout",
     "output_type": "stream",
     "text": [
      "<class 'pandas.core.frame.DataFrame'>\n",
      "Int64Index: 68516 entries, 0 to 68515\n",
      "Data columns (total 14 columns):\n",
      "away_score    68516 non-null float64\n",
      "away_team     68516 non-null object\n",
      "date          68516 non-null object\n",
      "home_score    68516 non-null float64\n",
      "home_team     68516 non-null object\n",
      "match_id      68516 non-null float64\n",
      "qualifier     68516 non-null bool\n",
      "replay        68516 non-null bool\n",
      "round         68516 non-null object\n",
      "round_id      68516 non-null int64\n",
      "stage         68515 non-null float64\n",
      "year          68516 non-null int64\n",
      "year_id       68516 non-null int64\n",
      "stage_f       68515 non-null float64\n",
      "dtypes: bool(2), float64(5), int64(3), object(4)\n",
      "memory usage: 6.9+ MB\n"
     ]
    }
   ],
   "source": [
    "fac.info()"
   ]
  },
  {
   "cell_type": "code",
   "execution_count": null,
   "metadata": {
    "collapsed": false
   },
   "outputs": [],
   "source": [
    "fac.head()"
   ]
  },
  {
   "cell_type": "code",
   "execution_count": null,
   "metadata": {
    "collapsed": false
   },
   "outputs": [],
   "source": [
    "fac = fac[fac.home == False]"
   ]
  },
  {
   "cell_type": "code",
   "execution_count": null,
   "metadata": {
    "collapsed": false
   },
   "outputs": [],
   "source": [
    "fac4.info()"
   ]
  },
  {
   "cell_type": "code",
   "execution_count": null,
   "metadata": {
    "collapsed": false
   },
   "outputs": [],
   "source": [
    "fac4 = fac4[['home_team','away_team','home_score', 'away_score','round','year','date','replay','qualifier', 'stage_r','match_id']]"
   ]
  },
  {
   "cell_type": "code",
   "execution_count": null,
   "metadata": {
    "collapsed": false
   },
   "outputs": [],
   "source": [
    "fac4.info()"
   ]
  },
  {
   "cell_type": "code",
   "execution_count": null,
   "metadata": {
    "collapsed": false
   },
   "outputs": [],
   "source": [
    "fac4.head()"
   ]
  },
  {
   "cell_type": "markdown",
   "metadata": {},
   "source": [
    "#### Finding teams with non-unique names"
   ]
  },
  {
   "cell_type": "code",
   "execution_count": null,
   "metadata": {
    "collapsed": false
   },
   "outputs": [],
   "source": [
    "fac4.home_team[fac4.home_team.str.contains('\\(\\d\\)')].unique()"
   ]
  },
  {
   "cell_type": "markdown",
   "metadata": {},
   "source": [
    "#### Finding any years that have duplicate teams in same year e.g. ARSENAL (1) ARSENAL (2)"
   ]
  },
  {
   "cell_type": "code",
   "execution_count": null,
   "metadata": {
    "collapsed": false
   },
   "outputs": [],
   "source": [
    "def find_dups(group):\n",
    "    teams_unq = pd.Series(pd.concat([group.home_team, group.away_team], ignore_index=True).unique())\n",
    "    teams_unq_strip = teams_unq.str.replace('\\(\\d\\)','').value_counts() # stripping values from end of dupe teams and counting (#)\n",
    "    return teams_unq_strip[teams_unq_strip.values > 1]\n",
    "\n",
    "fac4.groupby('year').apply(find_dups)\n"
   ]
  },
  {
   "cell_type": "markdown",
   "metadata": {},
   "source": [
    "There are no duplicate teams occuring in the same year! this is good as we can strip values from end of team name before matching with league tables :)"
   ]
  },
  {
   "cell_type": "markdown",
   "metadata": {},
   "source": [
    "#### Reversing stage counter"
   ]
  },
  {
   "cell_type": "code",
   "execution_count": null,
   "metadata": {
    "collapsed": false
   },
   "outputs": [],
   "source": [
    "fac4['stage'] = 15 - fac4.stage_r"
   ]
  },
  {
   "cell_type": "code",
   "execution_count": null,
   "metadata": {
    "collapsed": false
   },
   "outputs": [],
   "source": [
    "fac4.drop('stage_r', axis=1, inplace=True)"
   ]
  },
  {
   "cell_type": "code",
   "execution_count": null,
   "metadata": {
    "collapsed": false
   },
   "outputs": [],
   "source": [
    "fac4.head()"
   ]
  },
  {
   "cell_type": "markdown",
   "metadata": {},
   "source": [
    "#### regularising team names by converting to upper case and stripping whitespace, and numbers from duplicates"
   ]
  },
  {
   "cell_type": "code",
   "execution_count": null,
   "metadata": {
    "collapsed": false
   },
   "outputs": [],
   "source": [
    "fac4.home_team = fac4['home_team'].str.upper()\n",
    "fac4.away_team = fac4['away_team'].str.upper()"
   ]
  },
  {
   "cell_type": "code",
   "execution_count": null,
   "metadata": {
    "collapsed": false
   },
   "outputs": [],
   "source": [
    "fac4.home_team = fac4['home_team'].str.replace('\\(\\d\\)','').str.strip()\n",
    "fac4.away_team = fac4['away_team'].str.replace('\\(\\d\\)','').str.strip()"
   ]
  },
  {
   "cell_type": "code",
   "execution_count": null,
   "metadata": {
    "collapsed": false
   },
   "outputs": [],
   "source": [
    "fac4.head()"
   ]
  },
  {
   "cell_type": "markdown",
   "metadata": {},
   "source": [
    "#### creating match winner columns, NaN for draws"
   ]
  },
  {
   "cell_type": "code",
   "execution_count": null,
   "metadata": {
    "collapsed": false
   },
   "outputs": [],
   "source": [
    "fac4['winner'] = np.where(fac4.home_score > fac4.away_score, fac4.home_team, fac4.away_team) #setting match winners\n",
    "fac4['winner'] = np.where(fac4.home_score == fac4.away_score, np.nan, fac4.winner) #setting match draws"
   ]
  },
  {
   "cell_type": "code",
   "execution_count": null,
   "metadata": {
    "collapsed": false
   },
   "outputs": [],
   "source": [
    "fac4[(fac4['home_team'] == \"BYE\")].head()"
   ]
  },
  {
   "cell_type": "code",
   "execution_count": null,
   "metadata": {
    "collapsed": false
   },
   "outputs": [],
   "source": [
    "fac4[(fac4['away_team'] == \"BYE\")].head()"
   ]
  },
  {
   "cell_type": "code",
   "execution_count": null,
   "metadata": {
    "collapsed": true
   },
   "outputs": [],
   "source": [
    "fac4['winner'] = np.where(fac4.away_team == 'BYE', 'BYE', fac4.winner) #setting match byes"
   ]
  },
  {
   "cell_type": "markdown",
   "metadata": {},
   "source": [
    "#### Checking that every \"fixture\" has a winner. A fixture is defined as any number of matches between two teams in the same round\n",
    "(there can be more than one match in each 'fixture' due to replays)\n",
    "\n",
    "Creating new columns \"left\" and \"right\" which organise the teams so that in each fixture the same team always appears in the same column rather than varying between the home_team and away_team columns"
   ]
  },
  {
   "cell_type": "code",
   "execution_count": null,
   "metadata": {
    "collapsed": true
   },
   "outputs": [],
   "source": [
    "fac4['left'] = fac4[['home_team','away_team']].max(axis=1)\n",
    "fac4['right'] = fac4[['home_team','away_team']].min(axis=1)"
   ]
  },
  {
   "cell_type": "code",
   "execution_count": null,
   "metadata": {
    "collapsed": false
   },
   "outputs": [],
   "source": [
    "fac4.head()"
   ]
  },
  {
   "cell_type": "markdown",
   "metadata": {},
   "source": [
    "Sort values so that the final match in each fixture is always the top row in each 'fix' group"
   ]
  },
  {
   "cell_type": "code",
   "execution_count": null,
   "metadata": {
    "collapsed": true
   },
   "outputs": [],
   "source": [
    "fac4.sort_values(['year','stage','date'], ascending = False, inplace = True)"
   ]
  },
  {
   "cell_type": "code",
   "execution_count": null,
   "metadata": {
    "collapsed": false
   },
   "outputs": [],
   "source": [
    "fix = fac4.groupby(['year','round','left','right'])"
   ]
  },
  {
   "cell_type": "code",
   "execution_count": null,
   "metadata": {
    "collapsed": false
   },
   "outputs": [],
   "source": [
    "fix.size().max()"
   ]
  },
  {
   "cell_type": "markdown",
   "metadata": {},
   "source": [
    "This shows 6 matches played in a single round as the record (5 replays), it belongs to [Alvechurch and Oxford City in 1971](http://www.theguardian.com/sport/2009/nov/21/oxford-city-alvechurch-longest-fa-cup)\n",
    "\n",
    "4 of the matches were on consecutive days!"
   ]
  },
  {
   "cell_type": "code",
   "execution_count": null,
   "metadata": {
    "collapsed": false
   },
   "outputs": [],
   "source": [
    "fix.filter(lambda x: len(x) == 6)"
   ]
  },
  {
   "cell_type": "code",
   "execution_count": null,
   "metadata": {
    "collapsed": false
   },
   "outputs": [],
   "source": [
    "fac4.sort_values('year')"
   ]
  },
  {
   "cell_type": "code",
   "execution_count": null,
   "metadata": {
    "collapsed": false
   },
   "outputs": [],
   "source": [
    "fix['winner'].max()"
   ]
  },
  {
   "cell_type": "code",
   "execution_count": null,
   "metadata": {
    "collapsed": false
   },
   "outputs": [],
   "source": [
    "fix.get_group((2015, 'Third Round Qualifying', 'MICKLEOVER SPORTS', 'GOSPORT BOROUGH'))"
   ]
  },
  {
   "cell_type": "code",
   "execution_count": null,
   "metadata": {
    "collapsed": false
   },
   "outputs": [],
   "source": [
    "fix.groups[(1933, 'Extra Preliminary Round', 'WEALDSTONE', 'ABINGDON TOWN')]"
   ]
  },
  {
   "cell_type": "code",
   "execution_count": null,
   "metadata": {
    "collapsed": false,
    "scrolled": false
   },
   "outputs": [],
   "source": [
    "fac4[(fac4.year == 2015)&(fac4['round'] == 'Third Round Qualifying')]"
   ]
  },
  {
   "cell_type": "code",
   "execution_count": null,
   "metadata": {
    "collapsed": true
   },
   "outputs": [],
   "source": []
  }
 ],
 "metadata": {
  "kernelspec": {
   "display_name": "Python 2",
   "language": "python",
   "name": "python2"
  },
  "language_info": {
   "codemirror_mode": {
    "name": "ipython",
    "version": 2
   },
   "file_extension": ".py",
   "mimetype": "text/x-python",
   "name": "python",
   "nbconvert_exporter": "python",
   "pygments_lexer": "ipython2",
   "version": "2.7.11"
  }
 },
 "nbformat": 4,
 "nbformat_minor": 0
}
