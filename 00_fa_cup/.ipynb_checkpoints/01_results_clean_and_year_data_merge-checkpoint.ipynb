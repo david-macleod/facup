{
 "cells": [
  {
   "cell_type": "code",
   "execution_count": 2,
   "metadata": {
    "collapsed": false
   },
   "outputs": [],
   "source": [
    "import pandas as pd\n",
    "import numpy as np\n",
    "import matplotlib\n",
    "import matplotlib.pyplot as plt\n",
    "\n",
    "%matplotlib inline\n",
    "matplotlib.style.use('ggplot')"
   ]
  },
  {
   "cell_type": "code",
   "execution_count": 3,
   "metadata": {
    "collapsed": false
   },
   "outputs": [],
   "source": [
    "matches = pd.read_csv('results.csv') "
   ]
  },
  {
   "cell_type": "code",
   "execution_count": 4,
   "metadata": {
    "collapsed": false
   },
   "outputs": [
    {
     "name": "stdout",
     "output_type": "stream",
     "text": [
      "<class 'pandas.core.frame.DataFrame'>\n",
      "Int64Index: 68511 entries, 0 to 68510\n",
      "Data columns (total 8 columns):\n",
      "home_team     68509 non-null object\n",
      "away_team     68511 non-null object\n",
      "match_id      68511 non-null int64\n",
      "round_id      68511 non-null int64\n",
      "replay        68511 non-null bool\n",
      "home_score    68421 non-null float64\n",
      "date          68511 non-null object\n",
      "away_score    68421 non-null float64\n",
      "dtypes: bool(1), float64(2), int64(2), object(3)\n",
      "memory usage: 4.2+ MB\n"
     ]
    },
    {
     "data": {
      "text/html": [
       "<div>\n",
       "<table border=\"1\" class=\"dataframe\">\n",
       "  <thead>\n",
       "    <tr style=\"text-align: right;\">\n",
       "      <th></th>\n",
       "      <th>home_team</th>\n",
       "      <th>away_team</th>\n",
       "      <th>match_id</th>\n",
       "      <th>round_id</th>\n",
       "      <th>replay</th>\n",
       "      <th>home_score</th>\n",
       "      <th>date</th>\n",
       "      <th>away_score</th>\n",
       "    </tr>\n",
       "  </thead>\n",
       "  <tbody>\n",
       "    <tr>\n",
       "      <th>0</th>\n",
       "      <td>Royal Engineers</td>\n",
       "      <td>Hampstead Heathens</td>\n",
       "      <td>16062</td>\n",
       "      <td>10683</td>\n",
       "      <td>False</td>\n",
       "      <td>3</td>\n",
       "      <td>27.01.72</td>\n",
       "      <td>0</td>\n",
       "    </tr>\n",
       "    <tr>\n",
       "      <th>1</th>\n",
       "      <td>Wanderers</td>\n",
       "      <td>Crystal Palace (1)</td>\n",
       "      <td>16063</td>\n",
       "      <td>10683</td>\n",
       "      <td>False</td>\n",
       "      <td>0</td>\n",
       "      <td>20.01.72</td>\n",
       "      <td>0</td>\n",
       "    </tr>\n",
       "    <tr>\n",
       "      <th>2</th>\n",
       "      <td>Queen's Park (Glasgow)</td>\n",
       "      <td>Bye</td>\n",
       "      <td>16061</td>\n",
       "      <td>10683</td>\n",
       "      <td>False</td>\n",
       "      <td>0</td>\n",
       "      <td>01.01.01</td>\n",
       "      <td>0</td>\n",
       "    </tr>\n",
       "    <tr>\n",
       "      <th>3</th>\n",
       "      <td>Royal Engineers</td>\n",
       "      <td>Crystal Palace (1)</td>\n",
       "      <td>16066</td>\n",
       "      <td>10682</td>\n",
       "      <td>True</td>\n",
       "      <td>3</td>\n",
       "      <td>09.03.72</td>\n",
       "      <td>0</td>\n",
       "    </tr>\n",
       "    <tr>\n",
       "      <th>4</th>\n",
       "      <td>Wanderers</td>\n",
       "      <td>Queen's Park (Glasgow)</td>\n",
       "      <td>16065</td>\n",
       "      <td>10682</td>\n",
       "      <td>False</td>\n",
       "      <td>0</td>\n",
       "      <td>05.03.72</td>\n",
       "      <td>0</td>\n",
       "    </tr>\n",
       "  </tbody>\n",
       "</table>\n",
       "</div>"
      ],
      "text/plain": [
       "                home_team               away_team  match_id  round_id replay  \\\n",
       "0         Royal Engineers      Hampstead Heathens     16062     10683  False   \n",
       "1               Wanderers      Crystal Palace (1)     16063     10683  False   \n",
       "2  Queen's Park (Glasgow)                     Bye     16061     10683  False   \n",
       "3         Royal Engineers      Crystal Palace (1)     16066     10682   True   \n",
       "4               Wanderers  Queen's Park (Glasgow)     16065     10682  False   \n",
       "\n",
       "   home_score      date  away_score  \n",
       "0           3  27.01.72           0  \n",
       "1           0  20.01.72           0  \n",
       "2           0  01.01.01           0  \n",
       "3           3  09.03.72           0  \n",
       "4           0  05.03.72           0  "
      ]
     },
     "execution_count": 4,
     "metadata": {},
     "output_type": "execute_result"
    }
   ],
   "source": [
    "matches.info(); matches.head()"
   ]
  },
  {
   "cell_type": "code",
   "execution_count": 5,
   "metadata": {
    "collapsed": false
   },
   "outputs": [
    {
     "name": "stdout",
     "output_type": "stream",
     "text": [
      "<class 'pandas.core.frame.DataFrame'>\n",
      "Int64Index: 1507 entries, 0 to 1506\n",
      "Data columns (total 5 columns):\n",
      "round_id    1507 non-null int64\n",
      "round       1507 non-null object\n",
      "year_id     1507 non-null int64\n",
      "year        1507 non-null int64\n",
      "stage       1507 non-null float64\n",
      "dtypes: float64(1), int64(3), object(1)\n",
      "memory usage: 70.6+ KB\n"
     ]
    },
    {
     "data": {
      "text/html": [
       "<div>\n",
       "<table border=\"1\" class=\"dataframe\">\n",
       "  <thead>\n",
       "    <tr style=\"text-align: right;\">\n",
       "      <th></th>\n",
       "      <th>round_id</th>\n",
       "      <th>round</th>\n",
       "      <th>year_id</th>\n",
       "      <th>year</th>\n",
       "      <th>stage</th>\n",
       "    </tr>\n",
       "  </thead>\n",
       "  <tbody>\n",
       "    <tr>\n",
       "      <th>0</th>\n",
       "      <td>10682</td>\n",
       "      <td>Semi-Final</td>\n",
       "      <td>71234</td>\n",
       "      <td>1872</td>\n",
       "      <td>4</td>\n",
       "    </tr>\n",
       "    <tr>\n",
       "      <th>1</th>\n",
       "      <td>10681</td>\n",
       "      <td>Second Round Proper</td>\n",
       "      <td>71234</td>\n",
       "      <td>1872</td>\n",
       "      <td>2</td>\n",
       "    </tr>\n",
       "    <tr>\n",
       "      <th>2</th>\n",
       "      <td>10683</td>\n",
       "      <td>Third Round Proper</td>\n",
       "      <td>71234</td>\n",
       "      <td>1872</td>\n",
       "      <td>3</td>\n",
       "    </tr>\n",
       "    <tr>\n",
       "      <th>3</th>\n",
       "      <td>10680</td>\n",
       "      <td>First Round Proper</td>\n",
       "      <td>71234</td>\n",
       "      <td>1872</td>\n",
       "      <td>1</td>\n",
       "    </tr>\n",
       "    <tr>\n",
       "      <th>4</th>\n",
       "      <td>10689</td>\n",
       "      <td>Third Round Proper</td>\n",
       "      <td>71235</td>\n",
       "      <td>1873</td>\n",
       "      <td>3</td>\n",
       "    </tr>\n",
       "  </tbody>\n",
       "</table>\n",
       "</div>"
      ],
      "text/plain": [
       "   round_id                round  year_id  year  stage\n",
       "0     10682           Semi-Final    71234  1872      4\n",
       "1     10681  Second Round Proper    71234  1872      2\n",
       "2     10683   Third Round Proper    71234  1872      3\n",
       "3     10680   First Round Proper    71234  1872      1\n",
       "4     10689   Third Round Proper    71235  1873      3"
      ]
     },
     "execution_count": 5,
     "metadata": {},
     "output_type": "execute_result"
    }
   ],
   "source": [
    "# read .csv containing round names, year and stage for each round_id and merge with results\n",
    "\n",
    "#Stage this is the numeric round number of a particular year,\n",
    "# e.g. first qualifying round = 1 and final = number of rounds in that year\n",
    "\n",
    "years = pd.read_csv('years_edit.csv')\n",
    "\n",
    "years.info(); years.head()"
   ]
  },
  {
   "cell_type": "code",
   "execution_count": 6,
   "metadata": {
    "collapsed": false
   },
   "outputs": [
    {
     "name": "stdout",
     "output_type": "stream",
     "text": [
      "<class 'pandas.core.frame.DataFrame'>\n",
      "Int64Index: 68511 entries, 0 to 68510\n",
      "Data columns (total 12 columns):\n",
      "home_team     68509 non-null object\n",
      "away_team     68511 non-null object\n",
      "match_id      68511 non-null int64\n",
      "round_id      68511 non-null int64\n",
      "replay        68511 non-null bool\n",
      "home_score    68421 non-null float64\n",
      "date          68511 non-null object\n",
      "away_score    68421 non-null float64\n",
      "round         68511 non-null object\n",
      "year_id       68511 non-null int64\n",
      "year          68511 non-null int64\n",
      "stage         68511 non-null float64\n",
      "dtypes: bool(1), float64(3), int64(4), object(4)\n",
      "memory usage: 6.3+ MB\n"
     ]
    },
    {
     "data": {
      "text/html": [
       "<div>\n",
       "<table border=\"1\" class=\"dataframe\">\n",
       "  <thead>\n",
       "    <tr style=\"text-align: right;\">\n",
       "      <th></th>\n",
       "      <th>home_team</th>\n",
       "      <th>away_team</th>\n",
       "      <th>match_id</th>\n",
       "      <th>round_id</th>\n",
       "      <th>replay</th>\n",
       "      <th>home_score</th>\n",
       "      <th>date</th>\n",
       "      <th>away_score</th>\n",
       "      <th>round</th>\n",
       "      <th>year_id</th>\n",
       "      <th>year</th>\n",
       "      <th>stage</th>\n",
       "    </tr>\n",
       "  </thead>\n",
       "  <tbody>\n",
       "    <tr>\n",
       "      <th>0</th>\n",
       "      <td>Royal Engineers</td>\n",
       "      <td>Hampstead Heathens</td>\n",
       "      <td>16062</td>\n",
       "      <td>10683</td>\n",
       "      <td>False</td>\n",
       "      <td>3</td>\n",
       "      <td>27.01.72</td>\n",
       "      <td>0</td>\n",
       "      <td>Third Round Proper</td>\n",
       "      <td>71234</td>\n",
       "      <td>1872</td>\n",
       "      <td>3</td>\n",
       "    </tr>\n",
       "    <tr>\n",
       "      <th>1</th>\n",
       "      <td>Wanderers</td>\n",
       "      <td>Crystal Palace (1)</td>\n",
       "      <td>16063</td>\n",
       "      <td>10683</td>\n",
       "      <td>False</td>\n",
       "      <td>0</td>\n",
       "      <td>20.01.72</td>\n",
       "      <td>0</td>\n",
       "      <td>Third Round Proper</td>\n",
       "      <td>71234</td>\n",
       "      <td>1872</td>\n",
       "      <td>3</td>\n",
       "    </tr>\n",
       "    <tr>\n",
       "      <th>2</th>\n",
       "      <td>Queen's Park (Glasgow)</td>\n",
       "      <td>Bye</td>\n",
       "      <td>16061</td>\n",
       "      <td>10683</td>\n",
       "      <td>False</td>\n",
       "      <td>0</td>\n",
       "      <td>01.01.01</td>\n",
       "      <td>0</td>\n",
       "      <td>Third Round Proper</td>\n",
       "      <td>71234</td>\n",
       "      <td>1872</td>\n",
       "      <td>3</td>\n",
       "    </tr>\n",
       "    <tr>\n",
       "      <th>3</th>\n",
       "      <td>Royal Engineers</td>\n",
       "      <td>Crystal Palace (1)</td>\n",
       "      <td>16066</td>\n",
       "      <td>10682</td>\n",
       "      <td>True</td>\n",
       "      <td>3</td>\n",
       "      <td>09.03.72</td>\n",
       "      <td>0</td>\n",
       "      <td>Semi-Final</td>\n",
       "      <td>71234</td>\n",
       "      <td>1872</td>\n",
       "      <td>4</td>\n",
       "    </tr>\n",
       "    <tr>\n",
       "      <th>4</th>\n",
       "      <td>Wanderers</td>\n",
       "      <td>Queen's Park (Glasgow)</td>\n",
       "      <td>16065</td>\n",
       "      <td>10682</td>\n",
       "      <td>False</td>\n",
       "      <td>0</td>\n",
       "      <td>05.03.72</td>\n",
       "      <td>0</td>\n",
       "      <td>Semi-Final</td>\n",
       "      <td>71234</td>\n",
       "      <td>1872</td>\n",
       "      <td>4</td>\n",
       "    </tr>\n",
       "  </tbody>\n",
       "</table>\n",
       "</div>"
      ],
      "text/plain": [
       "                home_team               away_team  match_id  round_id replay  \\\n",
       "0         Royal Engineers      Hampstead Heathens     16062     10683  False   \n",
       "1               Wanderers      Crystal Palace (1)     16063     10683  False   \n",
       "2  Queen's Park (Glasgow)                     Bye     16061     10683  False   \n",
       "3         Royal Engineers      Crystal Palace (1)     16066     10682   True   \n",
       "4               Wanderers  Queen's Park (Glasgow)     16065     10682  False   \n",
       "\n",
       "   home_score      date  away_score               round  year_id  year  stage  \n",
       "0           3  27.01.72           0  Third Round Proper    71234  1872      3  \n",
       "1           0  20.01.72           0  Third Round Proper    71234  1872      3  \n",
       "2           0  01.01.01           0  Third Round Proper    71234  1872      3  \n",
       "3           3  09.03.72           0          Semi-Final    71234  1872      4  \n",
       "4           0  05.03.72           0          Semi-Final    71234  1872      4  "
      ]
     },
     "execution_count": 6,
     "metadata": {},
     "output_type": "execute_result"
    }
   ],
   "source": [
    "matches = pd.merge(matches, years, how='inner', on='round_id')\n",
    "\n",
    "matches.info(); matches.head()"
   ]
  },
  {
   "cell_type": "code",
   "execution_count": 7,
   "metadata": {
    "collapsed": false
   },
   "outputs": [
    {
     "name": "stdout",
     "output_type": "stream",
     "text": [
      "<class 'pandas.core.frame.DataFrame'>\n",
      "Int64Index: 92 entries, 55430 to 68329\n",
      "Data columns (total 12 columns):\n",
      "home_team     90 non-null object\n",
      "away_team     92 non-null object\n",
      "match_id      92 non-null int64\n",
      "round_id      92 non-null int64\n",
      "replay        92 non-null bool\n",
      "home_score    2 non-null float64\n",
      "date          92 non-null object\n",
      "away_score    2 non-null float64\n",
      "round         92 non-null object\n",
      "year_id       92 non-null int64\n",
      "year          92 non-null int64\n",
      "stage         92 non-null float64\n",
      "dtypes: bool(1), float64(3), int64(4), object(4)\n",
      "memory usage: 8.7+ KB\n"
     ]
    }
   ],
   "source": [
    "# returning rows with missing data\n",
    "\n",
    "missing = matches[matches.isnull().any(axis=1)]\n",
    "\n",
    "missing.info()"
   ]
  },
  {
   "cell_type": "code",
   "execution_count": 8,
   "metadata": {
    "collapsed": false
   },
   "outputs": [
    {
     "name": "stdout",
     "output_type": "stream",
     "text": [
      "<class 'pandas.core.frame.DataFrame'>\n",
      "Int64Index: 68419 entries, 0 to 68510\n",
      "Data columns (total 12 columns):\n",
      "home_team     68419 non-null object\n",
      "away_team     68419 non-null object\n",
      "match_id      68419 non-null int64\n",
      "round_id      68419 non-null int64\n",
      "replay        68419 non-null bool\n",
      "home_score    68419 non-null float64\n",
      "date          68419 non-null object\n",
      "away_score    68419 non-null float64\n",
      "round         68419 non-null object\n",
      "year_id       68419 non-null int64\n",
      "year          68419 non-null int64\n",
      "stage         68419 non-null float64\n",
      "dtypes: bool(1), float64(3), int64(4), object(4)\n",
      "memory usage: 6.3+ MB\n"
     ]
    }
   ],
   "source": [
    "# mainly missing scorelines but also some missing team names, saving to separate .csv file and dropping from dataframe\n",
    "\n",
    "missing.to_csv('results_missing.csv')\n",
    "matches.drop(missing.index, inplace=True)\n",
    "\n",
    "matches.info()"
   ]
  },
  {
   "cell_type": "code",
   "execution_count": 9,
   "metadata": {
    "collapsed": false
   },
   "outputs": [
    {
     "name": "stdout",
     "output_type": "stream",
     "text": [
      "<class 'pandas.core.frame.DataFrame'>\n",
      "Int64Index: 77 entries, 0 to 76\n",
      "Data columns (total 12 columns):\n",
      "home_team     77 non-null object\n",
      "away_team     77 non-null object\n",
      "match_id      77 non-null int64\n",
      "round_id      77 non-null int64\n",
      "replay        77 non-null bool\n",
      "home_score    77 non-null int64\n",
      "date          77 non-null object\n",
      "away_score    77 non-null int64\n",
      "round         77 non-null object\n",
      "year_id       77 non-null int64\n",
      "year          77 non-null int64\n",
      "stage         77 non-null int64\n",
      "dtypes: bool(1), int64(7), object(4)\n",
      "memory usage: 7.3+ KB\n"
     ]
    }
   ],
   "source": [
    "# missing values filled in manually (from wikipedia), some duplicates dropped\n",
    "\n",
    "missing_edit = pd.read_csv('results_missing_edit.csv')\n",
    "\n",
    "missing_edit.info()"
   ]
  },
  {
   "cell_type": "code",
   "execution_count": 10,
   "metadata": {
    "collapsed": true
   },
   "outputs": [],
   "source": [
    "# concatenate main dataframe with edited missing values"
   ]
  },
  {
   "cell_type": "code",
   "execution_count": 11,
   "metadata": {
    "collapsed": false
   },
   "outputs": [
    {
     "name": "stdout",
     "output_type": "stream",
     "text": [
      "<class 'pandas.core.frame.DataFrame'>\n",
      "Int64Index: 68496 entries, 0 to 68495\n",
      "Data columns (total 12 columns):\n",
      "home_team     68496 non-null object\n",
      "away_team     68496 non-null object\n",
      "match_id      68496 non-null int64\n",
      "round_id      68496 non-null int64\n",
      "replay        68496 non-null bool\n",
      "home_score    68496 non-null float64\n",
      "date          68496 non-null object\n",
      "away_score    68496 non-null float64\n",
      "round         68496 non-null object\n",
      "year_id       68496 non-null int64\n",
      "year          68496 non-null int64\n",
      "stage         68496 non-null float64\n",
      "dtypes: bool(1), float64(3), int64(4), object(4)\n",
      "memory usage: 6.3+ MB\n"
     ]
    }
   ],
   "source": [
    "matches = pd.concat([matches, missing_edit], ignore_index=True)\n",
    "\n",
    "matches.info()"
   ]
  },
  {
   "cell_type": "code",
   "execution_count": 12,
   "metadata": {
    "collapsed": false
   },
   "outputs": [
    {
     "data": {
      "text/plain": [
       "First Qualifying Round     14314\n",
       "Preliminary Round          13876\n",
       "Second Qualifying Round     8063\n",
       "First Round Proper          5786\n",
       "Extra Preliminary Round     4801\n",
       "Third Qualifying Round      4290\n",
       "Third Round Proper          3988\n",
       "Fourth Qualifying Round     3448\n",
       "Second Round Proper         2976\n",
       "Fourth Round Proper         1950\n",
       "First Round Qualifying      1141\n",
       "Fifth Round Proper           934\n",
       "Second Round Qualifying      790\n",
       "Sixth Round Proper           459\n",
       "Fifth Qualifying Round       409\n",
       "Third Round Qualifying       391\n",
       "Fourth Round Qualifying      325\n",
       "Semi-Final                   321\n",
       "Sixth Qualifying Round       120\n",
       "Intermediate Round            70\n",
       "Final                         28\n",
       "Semi Final                    16\n",
       "Name: round, dtype: int64"
      ]
     },
     "execution_count": 12,
     "metadata": {},
     "output_type": "execute_result"
    }
   ],
   "source": [
    "# finding round names and creating new 'qualifier' column\n",
    "\n",
    "matches['round'].value_counts()"
   ]
  },
  {
   "cell_type": "code",
   "execution_count": 13,
   "metadata": {
    "collapsed": true
   },
   "outputs": [],
   "source": [
    "# n.b. Semi Final and Semi-Final, will fix this later in notebook"
   ]
  },
  {
   "cell_type": "code",
   "execution_count": 14,
   "metadata": {
    "collapsed": false
   },
   "outputs": [
    {
     "name": "stdout",
     "output_type": "stream",
     "text": [
      "<class 'pandas.core.frame.DataFrame'>\n",
      "Int64Index: 68496 entries, 0 to 68495\n",
      "Data columns (total 13 columns):\n",
      "home_team     68496 non-null object\n",
      "away_team     68496 non-null object\n",
      "match_id      68496 non-null int64\n",
      "round_id      68496 non-null int64\n",
      "replay        68496 non-null bool\n",
      "home_score    68496 non-null float64\n",
      "date          68496 non-null object\n",
      "away_score    68496 non-null float64\n",
      "round         68496 non-null object\n",
      "year_id       68496 non-null int64\n",
      "year          68496 non-null int64\n",
      "stage         68496 non-null float64\n",
      "qualifier     68496 non-null bool\n",
      "dtypes: bool(2), float64(3), int64(4), object(4)\n",
      "memory usage: 6.4+ MB\n"
     ]
    }
   ],
   "source": [
    "matches['qualifier'] = matches['round'].str.contains(\"Qualifying|Preliminary\") #search for regex expression, return boolean\n",
    "\n",
    "matches.info()"
   ]
  },
  {
   "cell_type": "code",
   "execution_count": 15,
   "metadata": {
    "collapsed": false
   },
   "outputs": [
    {
     "name": "stdout",
     "output_type": "stream",
     "text": [
      "<class 'pandas.core.frame.DataFrame'>\n",
      "Int64Index: 120 entries, 0 to 119\n",
      "Data columns (total 13 columns):\n",
      "home_team     120 non-null object\n",
      "away_team     120 non-null object\n",
      "match_id      120 non-null int64\n",
      "round_id      120 non-null int64\n",
      "year_id       120 non-null int64\n",
      "replay        120 non-null bool\n",
      "home_score    120 non-null int64\n",
      "year          120 non-null int64\n",
      "date          120 non-null object\n",
      "away_score    120 non-null int64\n",
      "round         120 non-null object\n",
      "stage         120 non-null int64\n",
      "qualifier     120 non-null bool\n",
      "dtypes: bool(2), int64(7), object(4)\n",
      "memory usage: 11.5+ KB\n"
     ]
    }
   ],
   "source": [
    "# loading finals .csv file. Most finals were not scraped with main results due to different formatting on website\n",
    "\n",
    "finals = pd.read_csv('results_finals.csv')\n",
    "\n",
    "finals.info()"
   ]
  },
  {
   "cell_type": "code",
   "execution_count": 16,
   "metadata": {
    "collapsed": false
   },
   "outputs": [
    {
     "name": "stdout",
     "output_type": "stream",
     "text": [
      "<class 'pandas.core.frame.DataFrame'>\n",
      "Int64Index: 68616 entries, 0 to 68615\n",
      "Data columns (total 13 columns):\n",
      "away_score    68616 non-null float64\n",
      "away_team     68616 non-null object\n",
      "date          68616 non-null object\n",
      "home_score    68616 non-null float64\n",
      "home_team     68616 non-null object\n",
      "match_id      68616 non-null int64\n",
      "qualifier     68616 non-null bool\n",
      "replay        68616 non-null bool\n",
      "round         68616 non-null object\n",
      "round_id      68616 non-null int64\n",
      "stage         68616 non-null float64\n",
      "year          68616 non-null int64\n",
      "year_id       68616 non-null int64\n",
      "dtypes: bool(2), float64(3), int64(4), object(4)\n",
      "memory usage: 6.4+ MB\n"
     ]
    }
   ],
   "source": [
    "matches = pd.concat([matches, finals], ignore_index = True)\n",
    "\n",
    "matches.info()"
   ]
  },
  {
   "cell_type": "code",
   "execution_count": 17,
   "metadata": {
    "collapsed": false
   },
   "outputs": [
    {
     "data": {
      "text/plain": [
       "First Qualifying Round     14314\n",
       "Preliminary Round          13876\n",
       "Second Qualifying Round     8063\n",
       "First Round Proper          5786\n",
       "Extra Preliminary Round     4801\n",
       "Third Qualifying Round      4290\n",
       "Third Round Proper          3988\n",
       "Fourth Qualifying Round     3448\n",
       "Second Round Proper         2976\n",
       "Fourth Round Proper         1950\n",
       "First Round Qualifying      1141\n",
       "Fifth Round Proper           934\n",
       "Second Round Qualifying      790\n",
       "Sixth Round Proper           459\n",
       "Fifth Qualifying Round       409\n",
       "Third Round Qualifying       391\n",
       "Semi-Final                   337\n",
       "Fourth Round Qualifying      325\n",
       "Final                        148\n",
       "Sixth Qualifying Round       120\n",
       "Intermediate Round            70\n",
       "Name: round, dtype: int64"
      ]
     },
     "execution_count": 17,
     "metadata": {},
     "output_type": "execute_result"
    }
   ],
   "source": [
    "matches.replace('Semi Final', 'Semi-Final', inplace=True)\n",
    "\n",
    "matches['round'].value_counts()"
   ]
  },
  {
   "cell_type": "code",
   "execution_count": 18,
   "metadata": {
    "collapsed": true
   },
   "outputs": [],
   "source": [
    "# Semi-Final / Semi Final regularisation complete\n",
    "\n",
    "# the newly joined finals did not have a match_id value so confirming this then assigning a unique match_id to them"
   ]
  },
  {
   "cell_type": "code",
   "execution_count": 19,
   "metadata": {
    "collapsed": false
   },
   "outputs": [
    {
     "data": {
      "text/plain": [
       "0        120\n",
       "16087      2\n",
       "16060      2\n",
       "16057      2\n",
       "16088      2\n",
       "Name: match_id, dtype: int64"
      ]
     },
     "execution_count": 19,
     "metadata": {},
     "output_type": "execute_result"
    }
   ],
   "source": [
    "matches['match_id'].value_counts().head()"
   ]
  },
  {
   "cell_type": "code",
   "execution_count": 20,
   "metadata": {
    "collapsed": false
   },
   "outputs": [],
   "source": [
    "matches.loc[matches['match_id'] == 0,'match_id'] = matches.index / 100000.0"
   ]
  },
  {
   "cell_type": "code",
   "execution_count": 21,
   "metadata": {
    "collapsed": false
   },
   "outputs": [
    {
     "data": {
      "text/plain": [
       "16088    2\n",
       "16087    2\n",
       "16085    2\n",
       "16060    2\n",
       "16059    2\n",
       "Name: match_id, dtype: int64"
      ]
     },
     "execution_count": 21,
     "metadata": {},
     "output_type": "execute_result"
    }
   ],
   "source": [
    "matches['match_id'].value_counts().head()"
   ]
  },
  {
   "cell_type": "code",
   "execution_count": 22,
   "metadata": {
    "collapsed": true
   },
   "outputs": [],
   "source": [
    "# sorted :) now match_id is unique for each row\n",
    "\n",
    "# now the correct 'stage' value needs to be assigned to new finals rows. \n",
    "# we start by giving new finals a generic large value and then creating a rank function"
   ]
  },
  {
   "cell_type": "code",
   "execution_count": 23,
   "metadata": {
    "collapsed": false
   },
   "outputs": [
    {
     "data": {
      "text/plain": [
       "2     18450\n",
       "1     11289\n",
       "3     11164\n",
       "4      6487\n",
       "6      4309\n",
       "5      4155\n",
       "7      3580\n",
       "8      3400\n",
       "9      2956\n",
       "10     1485\n",
       "11      743\n",
       "12      362\n",
       "0       120\n",
       "13      116\n",
       "Name: stage, dtype: int64"
      ]
     },
     "execution_count": 23,
     "metadata": {},
     "output_type": "execute_result"
    }
   ],
   "source": [
    "matches['stage'].value_counts()"
   ]
  },
  {
   "cell_type": "code",
   "execution_count": 24,
   "metadata": {
    "collapsed": true
   },
   "outputs": [],
   "source": [
    "matches.loc[matches['stage'] == 0,'stage'] = 100"
   ]
  },
  {
   "cell_type": "code",
   "execution_count": 25,
   "metadata": {
    "collapsed": false
   },
   "outputs": [
    {
     "data": {
      "text/plain": [
       "2      18450\n",
       "1      11289\n",
       "3      11164\n",
       "4       6487\n",
       "6       4309\n",
       "5       4155\n",
       "7       3580\n",
       "8       3400\n",
       "9       2956\n",
       "10      1485\n",
       "11       743\n",
       "12       362\n",
       "100      120\n",
       "13       116\n",
       "Name: stage, dtype: int64"
      ]
     },
     "execution_count": 25,
     "metadata": {},
     "output_type": "execute_result"
    }
   ],
   "source": [
    "matches['stage'].value_counts()"
   ]
  },
  {
   "cell_type": "code",
   "execution_count": 26,
   "metadata": {
    "collapsed": false
   },
   "outputs": [],
   "source": [
    "# function to set final 'stage' equal to semi-final 'stage' + 1 for each group\n",
    "\n",
    "def final_stage(grp):\n",
    "    grp.ix[(grp['round'] == 'Final'), 'stage'] = grp.ix[(grp['round'] == 'Semi-Final'), 'stage'].max() + 1\n",
    "    return grp\n",
    "\n",
    "# grouping by year and applying function\n",
    "\n",
    "matches = matches.groupby('year').apply(final_stage)"
   ]
  },
  {
   "cell_type": "code",
   "execution_count": 27,
   "metadata": {
    "collapsed": false
   },
   "outputs": [
    {
     "data": {
      "text/plain": [
       "2     18450\n",
       "1     11289\n",
       "3     11164\n",
       "4      6487\n",
       "6      4313\n",
       "5      4157\n",
       "7      3585\n",
       "8      3403\n",
       "9      2960\n",
       "10     1489\n",
       "11      748\n",
       "12      370\n",
       "13      158\n",
       "14       43\n",
       "Name: stage, dtype: int64"
      ]
     },
     "execution_count": 27,
     "metadata": {},
     "output_type": "execute_result"
    }
   ],
   "source": [
    "matches['stage'].value_counts()"
   ]
  },
  {
   "cell_type": "code",
   "execution_count": 28,
   "metadata": {
    "collapsed": true
   },
   "outputs": [],
   "source": [
    "# sorted :) \n",
    "\n",
    "# saving dataframe"
   ]
  },
  {
   "cell_type": "code",
   "execution_count": 29,
   "metadata": {
    "collapsed": true
   },
   "outputs": [],
   "source": [
    "matches.to_csv('facup_v1.csv', index = False)"
   ]
  }
 ],
 "metadata": {
  "kernelspec": {
   "display_name": "Python 2",
   "language": "python",
   "name": "python2"
  },
  "language_info": {
   "codemirror_mode": {
    "name": "ipython",
    "version": 2
   },
   "file_extension": ".py",
   "mimetype": "text/x-python",
   "name": "python",
   "nbconvert_exporter": "python",
   "pygments_lexer": "ipython2",
   "version": "2.7.11"
  }
 },
 "nbformat": 4,
 "nbformat_minor": 0
}
