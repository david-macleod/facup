{
 "cells": [
  {
   "cell_type": "code",
   "execution_count": 1,
   "metadata": {
    "collapsed": true
   },
   "outputs": [],
   "source": [
    "import pandas as pd\n",
    "import numpy as np\n",
    "import matplotlib\n",
    "import matplotlib.pyplot as plt\n",
    "\n",
    "matplotlib.style.use('ggplot')"
   ]
  },
  {
   "cell_type": "code",
   "execution_count": 4,
   "metadata": {
    "collapsed": true
   },
   "outputs": [],
   "source": [
    "fac = pd.read_csv('facup_v1.csv')"
   ]
  },
  {
   "cell_type": "code",
   "execution_count": 5,
   "metadata": {
    "collapsed": false
   },
   "outputs": [
    {
     "data": {
      "text/html": [
       "<div>\n",
       "<table border=\"1\" class=\"dataframe\">\n",
       "  <thead>\n",
       "    <tr style=\"text-align: right;\">\n",
       "      <th></th>\n",
       "      <th>away_score</th>\n",
       "      <th>home_score</th>\n",
       "      <th>match_id</th>\n",
       "      <th>qualifier</th>\n",
       "      <th>replay</th>\n",
       "      <th>round_id</th>\n",
       "      <th>stage</th>\n",
       "      <th>year</th>\n",
       "      <th>year_id</th>\n",
       "    </tr>\n",
       "  </thead>\n",
       "  <tbody>\n",
       "    <tr>\n",
       "      <th>count</th>\n",
       "      <td>68616.000000</td>\n",
       "      <td>68616.000000</td>\n",
       "      <td>68616.000000</td>\n",
       "      <td>68616</td>\n",
       "      <td>68616</td>\n",
       "      <td>68616.000000</td>\n",
       "      <td>68616.000000</td>\n",
       "      <td>68616.000000</td>\n",
       "      <td>68616.000000</td>\n",
       "    </tr>\n",
       "    <tr>\n",
       "      <th>mean</th>\n",
       "      <td>1.467850</td>\n",
       "      <td>2.077752</td>\n",
       "      <td>61858.030446</td>\n",
       "      <td>0.757374</td>\n",
       "      <td>0.177961</td>\n",
       "      <td>11231.718899</td>\n",
       "      <td>3.839702</td>\n",
       "      <td>1961.331351</td>\n",
       "      <td>71718.645199</td>\n",
       "    </tr>\n",
       "    <tr>\n",
       "      <th>std</th>\n",
       "      <td>1.456809</td>\n",
       "      <td>1.870874</td>\n",
       "      <td>65390.837640</td>\n",
       "      <td>0.428674</td>\n",
       "      <td>0.382483</td>\n",
       "      <td>945.389836</td>\n",
       "      <td>2.693933</td>\n",
       "      <td>36.915893</td>\n",
       "      <td>1340.741523</td>\n",
       "    </tr>\n",
       "    <tr>\n",
       "      <th>min</th>\n",
       "      <td>0.000000</td>\n",
       "      <td>0.000000</td>\n",
       "      <td>0.000000</td>\n",
       "      <td>False</td>\n",
       "      <td>False</td>\n",
       "      <td>0.000000</td>\n",
       "      <td>1.000000</td>\n",
       "      <td>1872.000000</td>\n",
       "      <td>71040.000000</td>\n",
       "    </tr>\n",
       "    <tr>\n",
       "      <th>25%</th>\n",
       "      <td>0.000000</td>\n",
       "      <td>1.000000</td>\n",
       "      <td>32000.750000</td>\n",
       "      <td>1</td>\n",
       "      <td>0</td>\n",
       "      <td>10975.000000</td>\n",
       "      <td>2.000000</td>\n",
       "      <td>1930.000000</td>\n",
       "      <td>71268.000000</td>\n",
       "    </tr>\n",
       "    <tr>\n",
       "      <th>50%</th>\n",
       "      <td>1.000000</td>\n",
       "      <td>2.000000</td>\n",
       "      <td>49217.500000</td>\n",
       "      <td>1</td>\n",
       "      <td>0</td>\n",
       "      <td>11369.000000</td>\n",
       "      <td>3.000000</td>\n",
       "      <td>1966.000000</td>\n",
       "      <td>71297.000000</td>\n",
       "    </tr>\n",
       "    <tr>\n",
       "      <th>75%</th>\n",
       "      <td>2.000000</td>\n",
       "      <td>3.000000</td>\n",
       "      <td>66396.250000</td>\n",
       "      <td>1</td>\n",
       "      <td>0</td>\n",
       "      <td>11779.000000</td>\n",
       "      <td>5.000000</td>\n",
       "      <td>1994.000000</td>\n",
       "      <td>71329.000000</td>\n",
       "    </tr>\n",
       "    <tr>\n",
       "      <th>max</th>\n",
       "      <td>14.000000</td>\n",
       "      <td>26.000000</td>\n",
       "      <td>434659.000000</td>\n",
       "      <td>True</td>\n",
       "      <td>True</td>\n",
       "      <td>12829.000000</td>\n",
       "      <td>14.000000</td>\n",
       "      <td>2015.000000</td>\n",
       "      <td>75823.000000</td>\n",
       "    </tr>\n",
       "  </tbody>\n",
       "</table>\n",
       "</div>"
      ],
      "text/plain": [
       "         away_score    home_score       match_id qualifier    replay  \\\n",
       "count  68616.000000  68616.000000   68616.000000     68616     68616   \n",
       "mean       1.467850      2.077752   61858.030446  0.757374  0.177961   \n",
       "std        1.456809      1.870874   65390.837640  0.428674  0.382483   \n",
       "min        0.000000      0.000000       0.000000     False     False   \n",
       "25%        0.000000      1.000000   32000.750000         1         0   \n",
       "50%        1.000000      2.000000   49217.500000         1         0   \n",
       "75%        2.000000      3.000000   66396.250000         1         0   \n",
       "max       14.000000     26.000000  434659.000000      True      True   \n",
       "\n",
       "           round_id         stage          year       year_id  \n",
       "count  68616.000000  68616.000000  68616.000000  68616.000000  \n",
       "mean   11231.718899      3.839702   1961.331351  71718.645199  \n",
       "std      945.389836      2.693933     36.915893   1340.741523  \n",
       "min        0.000000      1.000000   1872.000000  71040.000000  \n",
       "25%    10975.000000      2.000000   1930.000000  71268.000000  \n",
       "50%    11369.000000      3.000000   1966.000000  71297.000000  \n",
       "75%    11779.000000      5.000000   1994.000000  71329.000000  \n",
       "max    12829.000000     14.000000   2015.000000  75823.000000  "
      ]
     },
     "execution_count": 5,
     "metadata": {},
     "output_type": "execute_result"
    }
   ],
   "source": [
    "fac.describe()"
   ]
  },
  {
   "cell_type": "code",
   "execution_count": 6,
   "metadata": {
    "collapsed": false
   },
   "outputs": [
    {
     "data": {
      "text/html": [
       "<div>\n",
       "<table border=\"1\" class=\"dataframe\">\n",
       "  <thead>\n",
       "    <tr style=\"text-align: right;\">\n",
       "      <th></th>\n",
       "      <th>away_score</th>\n",
       "      <th>away_team</th>\n",
       "      <th>date</th>\n",
       "      <th>home_score</th>\n",
       "      <th>home_team</th>\n",
       "      <th>match_id</th>\n",
       "      <th>qualifier</th>\n",
       "      <th>replay</th>\n",
       "      <th>round</th>\n",
       "      <th>round_id</th>\n",
       "      <th>stage</th>\n",
       "      <th>year</th>\n",
       "      <th>year_id</th>\n",
       "    </tr>\n",
       "  </thead>\n",
       "  <tbody>\n",
       "    <tr>\n",
       "      <th>1449</th>\n",
       "      <td>0</td>\n",
       "      <td>Hyde</td>\n",
       "      <td>15.10.87</td>\n",
       "      <td>26</td>\n",
       "      <td>Preston North End</td>\n",
       "      <td>17366</td>\n",
       "      <td>False</td>\n",
       "      <td>False</td>\n",
       "      <td>First Round Proper</td>\n",
       "      <td>10784</td>\n",
       "      <td>1</td>\n",
       "      <td>1888</td>\n",
       "      <td>71250</td>\n",
       "    </tr>\n",
       "  </tbody>\n",
       "</table>\n",
       "</div>"
      ],
      "text/plain": [
       "      away_score away_team      date  home_score          home_team  match_id  \\\n",
       "1449           0      Hyde  15.10.87          26  Preston North End     17366   \n",
       "\n",
       "     qualifier replay               round  round_id  stage  year  year_id  \n",
       "1449     False  False  First Round Proper     10784      1  1888    71250  "
      ]
     },
     "execution_count": 6,
     "metadata": {},
     "output_type": "execute_result"
    }
   ],
   "source": [
    "fac[fac.home_score == 26]"
   ]
  },
  {
   "cell_type": "markdown",
   "metadata": {},
   "source": [
    "26 - 0 is the FA Cup record for heaviest defeat! [link](http://news.bbc.co.uk/sport1/hi/funny_old_game/1272025.stm)"
   ]
  },
  {
   "cell_type": "code",
   "execution_count": null,
   "metadata": {
    "collapsed": true
   },
   "outputs": [],
   "source": []
  }
 ],
 "metadata": {
  "kernelspec": {
   "display_name": "Python 2",
   "language": "python",
   "name": "python2"
  },
  "language_info": {
   "codemirror_mode": {
    "name": "ipython",
    "version": 2
   },
   "file_extension": ".py",
   "mimetype": "text/x-python",
   "name": "python",
   "nbconvert_exporter": "python",
   "pygments_lexer": "ipython2",
   "version": "2.7.11"
  }
 },
 "nbformat": 4,
 "nbformat_minor": 0
}
