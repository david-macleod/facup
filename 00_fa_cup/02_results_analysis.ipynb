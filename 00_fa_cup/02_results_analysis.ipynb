{
 "cells": [
  {
   "cell_type": "code",
   "execution_count": 1,
   "metadata": {
    "collapsed": true
   },
   "outputs": [],
   "source": [
    "import pandas as pd\n",
    "import numpy as np\n",
    "import matplotlib\n",
    "import matplotlib.pyplot as plt\n",
    "\n",
    "%matplotlib inline\n",
    "matplotlib.style.use('ggplot')"
   ]
  },
  {
   "cell_type": "code",
   "execution_count": 2,
   "metadata": {
    "collapsed": true
   },
   "outputs": [],
   "source": [
    "fac = pd.read_csv('facup_v1.csv')"
   ]
  },
  {
   "cell_type": "code",
   "execution_count": 3,
   "metadata": {
    "collapsed": false
   },
   "outputs": [
    {
     "name": "stdout",
     "output_type": "stream",
     "text": [
      "<class 'pandas.core.frame.DataFrame'>\n",
      "Int64Index: 68543 entries, 0 to 68542\n",
      "Data columns (total 13 columns):\n",
      "away_score    68543 non-null float64\n",
      "away_team     68543 non-null object\n",
      "date          68543 non-null object\n",
      "home_score    68543 non-null float64\n",
      "home_team     68543 non-null object\n",
      "match_id      68543 non-null int64\n",
      "qualifier     68543 non-null bool\n",
      "replay        68543 non-null bool\n",
      "round         68543 non-null object\n",
      "round_id      68543 non-null int64\n",
      "stage         68543 non-null float64\n",
      "year          68543 non-null int64\n",
      "year_id       68543 non-null int64\n",
      "dtypes: bool(2), float64(3), int64(4), object(4)\n",
      "memory usage: 6.4+ MB\n"
     ]
    }
   ],
   "source": [
    "fac.info()"
   ]
  },
  {
   "cell_type": "code",
   "execution_count": 4,
   "metadata": {
    "collapsed": false
   },
   "outputs": [
    {
     "data": {
      "text/html": [
       "<div>\n",
       "<table border=\"1\" class=\"dataframe\">\n",
       "  <thead>\n",
       "    <tr style=\"text-align: right;\">\n",
       "      <th></th>\n",
       "      <th>away_score</th>\n",
       "      <th>away_team</th>\n",
       "      <th>date</th>\n",
       "      <th>home_score</th>\n",
       "      <th>home_team</th>\n",
       "      <th>match_id</th>\n",
       "      <th>qualifier</th>\n",
       "      <th>replay</th>\n",
       "      <th>round</th>\n",
       "      <th>round_id</th>\n",
       "      <th>stage</th>\n",
       "      <th>year</th>\n",
       "      <th>year_id</th>\n",
       "    </tr>\n",
       "  </thead>\n",
       "  <tbody>\n",
       "    <tr>\n",
       "      <th>0</th>\n",
       "      <td>0</td>\n",
       "      <td>Crystal Palace (1)</td>\n",
       "      <td>09.03.72</td>\n",
       "      <td>3</td>\n",
       "      <td>Royal Engineers</td>\n",
       "      <td>16066</td>\n",
       "      <td>False</td>\n",
       "      <td>True</td>\n",
       "      <td>Semi-Final</td>\n",
       "      <td>10682</td>\n",
       "      <td>4</td>\n",
       "      <td>1872</td>\n",
       "      <td>71234</td>\n",
       "    </tr>\n",
       "    <tr>\n",
       "      <th>1</th>\n",
       "      <td>0</td>\n",
       "      <td>Queen's Park (Glasgow)</td>\n",
       "      <td>05.03.72</td>\n",
       "      <td>0</td>\n",
       "      <td>Wanderers</td>\n",
       "      <td>16065</td>\n",
       "      <td>False</td>\n",
       "      <td>False</td>\n",
       "      <td>Semi-Final</td>\n",
       "      <td>10682</td>\n",
       "      <td>4</td>\n",
       "      <td>1872</td>\n",
       "      <td>71234</td>\n",
       "    </tr>\n",
       "    <tr>\n",
       "      <th>2</th>\n",
       "      <td>0</td>\n",
       "      <td>Crystal Palace (1)</td>\n",
       "      <td>17.02.72</td>\n",
       "      <td>0</td>\n",
       "      <td>Royal Engineers</td>\n",
       "      <td>16064</td>\n",
       "      <td>False</td>\n",
       "      <td>False</td>\n",
       "      <td>Semi-Final</td>\n",
       "      <td>10682</td>\n",
       "      <td>4</td>\n",
       "      <td>1872</td>\n",
       "      <td>71234</td>\n",
       "    </tr>\n",
       "    <tr>\n",
       "      <th>3</th>\n",
       "      <td>0</td>\n",
       "      <td>Queen's Park (Glasgow)</td>\n",
       "      <td>01.01.01</td>\n",
       "      <td>0</td>\n",
       "      <td>Wanderers</td>\n",
       "      <td>16067</td>\n",
       "      <td>False</td>\n",
       "      <td>True</td>\n",
       "      <td>Semi-Final</td>\n",
       "      <td>10682</td>\n",
       "      <td>4</td>\n",
       "      <td>1872</td>\n",
       "      <td>71234</td>\n",
       "    </tr>\n",
       "    <tr>\n",
       "      <th>4</th>\n",
       "      <td>5</td>\n",
       "      <td>Royal Engineers</td>\n",
       "      <td>10.01.72</td>\n",
       "      <td>0</td>\n",
       "      <td>Hitchin</td>\n",
       "      <td>16057</td>\n",
       "      <td>False</td>\n",
       "      <td>False</td>\n",
       "      <td>Second Round Proper</td>\n",
       "      <td>10681</td>\n",
       "      <td>2</td>\n",
       "      <td>1872</td>\n",
       "      <td>71234</td>\n",
       "    </tr>\n",
       "  </tbody>\n",
       "</table>\n",
       "</div>"
      ],
      "text/plain": [
       "   away_score               away_team      date  home_score        home_team  \\\n",
       "0           0      Crystal Palace (1)  09.03.72           3  Royal Engineers   \n",
       "1           0  Queen's Park (Glasgow)  05.03.72           0        Wanderers   \n",
       "2           0      Crystal Palace (1)  17.02.72           0  Royal Engineers   \n",
       "3           0  Queen's Park (Glasgow)  01.01.01           0        Wanderers   \n",
       "4           5         Royal Engineers  10.01.72           0          Hitchin   \n",
       "\n",
       "   match_id qualifier replay                round  round_id  stage  year  \\\n",
       "0     16066     False   True           Semi-Final     10682      4  1872   \n",
       "1     16065     False  False           Semi-Final     10682      4  1872   \n",
       "2     16064     False  False           Semi-Final     10682      4  1872   \n",
       "3     16067     False   True           Semi-Final     10682      4  1872   \n",
       "4     16057     False  False  Second Round Proper     10681      2  1872   \n",
       "\n",
       "   year_id  \n",
       "0    71234  \n",
       "1    71234  \n",
       "2    71234  \n",
       "3    71234  \n",
       "4    71234  "
      ]
     },
     "execution_count": 4,
     "metadata": {},
     "output_type": "execute_result"
    }
   ],
   "source": [
    "fac.head()"
   ]
  },
  {
   "cell_type": "code",
   "execution_count": 5,
   "metadata": {
    "collapsed": false
   },
   "outputs": [
    {
     "data": {
      "text/html": [
       "<div>\n",
       "<table border=\"1\" class=\"dataframe\">\n",
       "  <thead>\n",
       "    <tr style=\"text-align: right;\">\n",
       "      <th></th>\n",
       "      <th>away_score</th>\n",
       "      <th>home_score</th>\n",
       "      <th>match_id</th>\n",
       "      <th>qualifier</th>\n",
       "      <th>replay</th>\n",
       "      <th>round_id</th>\n",
       "      <th>stage</th>\n",
       "      <th>year</th>\n",
       "      <th>year_id</th>\n",
       "    </tr>\n",
       "  </thead>\n",
       "  <tbody>\n",
       "    <tr>\n",
       "      <th>count</th>\n",
       "      <td>68543.000000</td>\n",
       "      <td>68543.000000</td>\n",
       "      <td>68543.000000</td>\n",
       "      <td>68543</td>\n",
       "      <td>68543</td>\n",
       "      <td>68543.000000</td>\n",
       "      <td>68543.000000</td>\n",
       "      <td>68543.000000</td>\n",
       "      <td>68543.000000</td>\n",
       "    </tr>\n",
       "    <tr>\n",
       "      <th>mean</th>\n",
       "      <td>1.467794</td>\n",
       "      <td>2.078272</td>\n",
       "      <td>70485.897480</td>\n",
       "      <td>0.757729</td>\n",
       "      <td>0.177772</td>\n",
       "      <td>11230.635616</td>\n",
       "      <td>3.837299</td>\n",
       "      <td>1961.280714</td>\n",
       "      <td>71715.015363</td>\n",
       "    </tr>\n",
       "    <tr>\n",
       "      <th>std</th>\n",
       "      <td>1.456992</td>\n",
       "      <td>1.871273</td>\n",
       "      <td>216475.419874</td>\n",
       "      <td>0.428461</td>\n",
       "      <td>0.382323</td>\n",
       "      <td>945.099149</td>\n",
       "      <td>2.692718</td>\n",
       "      <td>36.898787</td>\n",
       "      <td>1336.163621</td>\n",
       "    </tr>\n",
       "    <tr>\n",
       "      <th>min</th>\n",
       "      <td>0.000000</td>\n",
       "      <td>0.000000</td>\n",
       "      <td>11.000000</td>\n",
       "      <td>False</td>\n",
       "      <td>False</td>\n",
       "      <td>0.000000</td>\n",
       "      <td>1.000000</td>\n",
       "      <td>1872.000000</td>\n",
       "      <td>71040.000000</td>\n",
       "    </tr>\n",
       "    <tr>\n",
       "      <th>25%</th>\n",
       "      <td>0.000000</td>\n",
       "      <td>1.000000</td>\n",
       "      <td>32106.500000</td>\n",
       "      <td>1</td>\n",
       "      <td>0</td>\n",
       "      <td>10975.000000</td>\n",
       "      <td>2.000000</td>\n",
       "      <td>1930.000000</td>\n",
       "      <td>71267.000000</td>\n",
       "    </tr>\n",
       "    <tr>\n",
       "      <th>50%</th>\n",
       "      <td>1.000000</td>\n",
       "      <td>2.000000</td>\n",
       "      <td>49305.000000</td>\n",
       "      <td>1</td>\n",
       "      <td>0</td>\n",
       "      <td>11369.000000</td>\n",
       "      <td>3.000000</td>\n",
       "      <td>1966.000000</td>\n",
       "      <td>71297.000000</td>\n",
       "    </tr>\n",
       "    <tr>\n",
       "      <th>75%</th>\n",
       "      <td>2.000000</td>\n",
       "      <td>3.000000</td>\n",
       "      <td>66465.500000</td>\n",
       "      <td>1</td>\n",
       "      <td>0</td>\n",
       "      <td>11778.500000</td>\n",
       "      <td>5.000000</td>\n",
       "      <td>1994.000000</td>\n",
       "      <td>71329.000000</td>\n",
       "    </tr>\n",
       "    <tr>\n",
       "      <th>max</th>\n",
       "      <td>14.000000</td>\n",
       "      <td>26.000000</td>\n",
       "      <td>5000119.000000</td>\n",
       "      <td>True</td>\n",
       "      <td>True</td>\n",
       "      <td>12829.000000</td>\n",
       "      <td>14.000000</td>\n",
       "      <td>2015.000000</td>\n",
       "      <td>75823.000000</td>\n",
       "    </tr>\n",
       "  </tbody>\n",
       "</table>\n",
       "</div>"
      ],
      "text/plain": [
       "         away_score    home_score        match_id qualifier    replay  \\\n",
       "count  68543.000000  68543.000000    68543.000000     68543     68543   \n",
       "mean       1.467794      2.078272    70485.897480  0.757729  0.177772   \n",
       "std        1.456992      1.871273   216475.419874  0.428461  0.382323   \n",
       "min        0.000000      0.000000       11.000000     False     False   \n",
       "25%        0.000000      1.000000    32106.500000         1         0   \n",
       "50%        1.000000      2.000000    49305.000000         1         0   \n",
       "75%        2.000000      3.000000    66465.500000         1         0   \n",
       "max       14.000000     26.000000  5000119.000000      True      True   \n",
       "\n",
       "           round_id         stage          year       year_id  \n",
       "count  68543.000000  68543.000000  68543.000000  68543.000000  \n",
       "mean   11230.635616      3.837299   1961.280714  71715.015363  \n",
       "std      945.099149      2.692718     36.898787   1336.163621  \n",
       "min        0.000000      1.000000   1872.000000  71040.000000  \n",
       "25%    10975.000000      2.000000   1930.000000  71267.000000  \n",
       "50%    11369.000000      3.000000   1966.000000  71297.000000  \n",
       "75%    11778.500000      5.000000   1994.000000  71329.000000  \n",
       "max    12829.000000     14.000000   2015.000000  75823.000000  "
      ]
     },
     "execution_count": 5,
     "metadata": {},
     "output_type": "execute_result"
    }
   ],
   "source": [
    "fac.describe()"
   ]
  },
  {
   "cell_type": "code",
   "execution_count": 6,
   "metadata": {
    "collapsed": false
   },
   "outputs": [
    {
     "data": {
      "text/html": [
       "<div>\n",
       "<table border=\"1\" class=\"dataframe\">\n",
       "  <thead>\n",
       "    <tr style=\"text-align: right;\">\n",
       "      <th></th>\n",
       "      <th>away_score</th>\n",
       "      <th>away_team</th>\n",
       "      <th>date</th>\n",
       "      <th>home_score</th>\n",
       "      <th>home_team</th>\n",
       "      <th>match_id</th>\n",
       "      <th>qualifier</th>\n",
       "      <th>replay</th>\n",
       "      <th>round</th>\n",
       "      <th>round_id</th>\n",
       "      <th>stage</th>\n",
       "      <th>year</th>\n",
       "      <th>year_id</th>\n",
       "    </tr>\n",
       "  </thead>\n",
       "  <tbody>\n",
       "    <tr>\n",
       "      <th>1396</th>\n",
       "      <td>0</td>\n",
       "      <td>Hyde</td>\n",
       "      <td>15.10.87</td>\n",
       "      <td>26</td>\n",
       "      <td>Preston North End</td>\n",
       "      <td>17366</td>\n",
       "      <td>False</td>\n",
       "      <td>False</td>\n",
       "      <td>First Round Proper</td>\n",
       "      <td>10784</td>\n",
       "      <td>1</td>\n",
       "      <td>1888</td>\n",
       "      <td>71250</td>\n",
       "    </tr>\n",
       "  </tbody>\n",
       "</table>\n",
       "</div>"
      ],
      "text/plain": [
       "      away_score away_team      date  home_score          home_team  match_id  \\\n",
       "1396           0      Hyde  15.10.87          26  Preston North End     17366   \n",
       "\n",
       "     qualifier replay               round  round_id  stage  year  year_id  \n",
       "1396     False  False  First Round Proper     10784      1  1888    71250  "
      ]
     },
     "execution_count": 6,
     "metadata": {},
     "output_type": "execute_result"
    }
   ],
   "source": [
    "fac[fac.home_score == 26]"
   ]
  },
  {
   "cell_type": "markdown",
   "metadata": {},
   "source": [
    "26 - 0 is the FA Cup record for heaviest defeat! [link](http://news.bbc.co.uk/sport1/hi/funny_old_game/1272025.stm)"
   ]
  },
  {
   "cell_type": "markdown",
   "metadata": {},
   "source": [
    "Finding number of matches per year and plotting"
   ]
  },
  {
   "cell_type": "code",
   "execution_count": 7,
   "metadata": {
    "collapsed": true
   },
   "outputs": [],
   "source": [
    "matches_per_year = fac.groupby('year')['match_id'].nunique().reindex(range(1872,2016))"
   ]
  },
  {
   "cell_type": "code",
   "execution_count": 8,
   "metadata": {
    "collapsed": false
   },
   "outputs": [
    {
     "data": {
      "image/png": "[encoded data removed]",
      "text/plain": [
       "<matplotlib.figure.Figure at 0xc359e80>"
      ]
     },
     "metadata": {},
     "output_type": "display_data"
    }
   ],
   "source": [
    "ax = matches_per_year.plot(kind='bar', \n",
    "                         figsize=(13,4), \n",
    "                         width=1, \n",
    "                         color='steelblue')\n",
    "\n",
    "ticks = ax.xaxis.get_ticklocs()\n",
    "ticklabels = [l.get_text() for l in ax.xaxis.get_ticklabels()]\n",
    "ax.xaxis.set_ticks(ticks[::5])\n",
    "ax.xaxis.set_ticklabels(ticklabels[::5])\n",
    "\n",
    "plt.show()"
   ]
  },
  {
   "cell_type": "markdown",
   "metadata": {},
   "source": [
    "Breaking the number of matches per year down into qualifiers and 'proper' matches"
   ]
  },
  {
   "cell_type": "code",
   "execution_count": 9,
   "metadata": {
    "collapsed": false
   },
   "outputs": [],
   "source": [
    "#no. of qualifiers/non qualifiers per year\n",
    "\n",
    "q = fac[fac['qualifier'] == True] \n",
    "nq = fac[fac['qualifier'] == False]\n",
    "\n",
    "q_per_year = q.groupby('year')['match_id'].nunique().reindex(range(1872,2016)) * -1\n",
    "nq_per_year = nq.groupby('year')['match_id'].nunique().reindex(range(1872,2016))"
   ]
  },
  {
   "cell_type": "code",
   "execution_count": 10,
   "metadata": {
    "collapsed": false
   },
   "outputs": [
    {
     "data": {
      "image/png": "[encoded data removed]",
      "text/plain": [
       "<matplotlib.figure.Figure at 0x4200eb8>"
      ]
     },
     "metadata": {},
     "output_type": "display_data"
    }
   ],
   "source": [
    "q_per_year.plot(kind='bar', \n",
    "                 figsize=(13,5), \n",
    "                 width=1, \n",
    "                 color='lightsteelblue')\n",
    "\n",
    "ax = plt.gca()\n",
    "\n",
    "nq_per_year.plot(kind='bar', \n",
    "                 width=1, \n",
    "                 color='steelblue',\n",
    "                 ax = ax, \n",
    "                 ylim = (-800, 300))\n",
    "\n",
    "ticks = ax.xaxis.get_ticklocs()\n",
    "ticklabels = [l.get_text() for l in ax.xaxis.get_ticklabels()]\n",
    "ax.xaxis.set_ticks(ticks[::5])\n",
    "ax.xaxis.set_ticklabels(ticklabels[::5])\n",
    "ax.legend().set_visible(False)\n",
    "\n",
    "plt.show()"
   ]
  },
  {
   "cell_type": "markdown",
   "metadata": {},
   "source": [
    "Despite a widely variable number of qualifying matches since WWII the number of 'proper' matches each year has remained relatively consistent"
   ]
  },
  {
   "cell_type": "markdown",
   "metadata": {},
   "source": [
    "#### Why do qualifiers start in 1889?\n",
    "\n",
    "According to Wikipedia:\n",
    ">\"The FA Cup, from this season onwards, began to incorporate a series of qualifying rounds in order to determine qualifiers for the actual Cup competition itself. The qualifying rounds were made up of amateur teams, semi-professional teams, and professional sides not yet associated with the Football League.\""
   ]
  },
  {
   "cell_type": "markdown",
   "metadata": {},
   "source": [
    "#### Why are there so many matches in 1946?"
   ]
  },
  {
   "cell_type": "code",
   "execution_count": 11,
   "metadata": {
    "collapsed": false
   },
   "outputs": [
    {
     "data": {
      "text/plain": [
       "First Round Proper     34\n",
       "Third Round Proper     32\n",
       "Second Round Proper    17\n",
       "Fourth Round Proper    16\n",
       "Fifth Round Proper      8\n",
       "Sixth Round Proper      4\n",
       "Semi-Final              2\n",
       "Final                   1\n",
       "Name: round, dtype: int64"
      ]
     },
     "execution_count": 11,
     "metadata": {},
     "output_type": "execute_result"
    }
   ],
   "source": [
    "fac[(fac.year == 1946) & (fac.qualifier == False) & (fac.replay == False)]['round'].value_counts()"
   ]
  },
  {
   "cell_type": "code",
   "execution_count": 12,
   "metadata": {
    "collapsed": false
   },
   "outputs": [
    {
     "data": {
      "text/plain": [
       "First Round Proper     34\n",
       "Third Round Proper     32\n",
       "Second Round Proper    17\n",
       "Fourth Round Proper    16\n",
       "Fifth Round Proper      8\n",
       "Sixth Round Proper      4\n",
       "Semi-Final              2\n",
       "Final                   1\n",
       "Name: round, dtype: int64"
      ]
     },
     "execution_count": 12,
     "metadata": {},
     "output_type": "execute_result"
    }
   ],
   "source": [
    "fac[(fac.year == 1947) & (fac.qualifier == False) & (fac.replay == False)]['round'].value_counts()"
   ]
  },
  {
   "cell_type": "markdown",
   "metadata": {},
   "source": [
    "Both 1946 and 1947 have the same number of matches (excluding replays) so extra matches must be due to replays?"
   ]
  },
  {
   "cell_type": "code",
   "execution_count": 13,
   "metadata": {
    "collapsed": false
   },
   "outputs": [
    {
     "data": {
      "text/plain": [
       "First Round Proper     34\n",
       "Third Round Proper     34\n",
       "Second Round Proper    17\n",
       "Fourth Round Proper    17\n",
       "Fifth Round Proper      8\n",
       "Sixth Round Proper      4\n",
       "Semi-Final              1\n",
       "Name: round, dtype: int64"
      ]
     },
     "execution_count": 13,
     "metadata": {},
     "output_type": "execute_result"
    }
   ],
   "source": [
    "fac[(fac.year == 1946) & (fac.qualifier == False) & (fac.replay == True)]['round'].value_counts()"
   ]
  },
  {
   "cell_type": "markdown",
   "metadata": {},
   "source": [
    "We can see that every match had at least one replay in 1946! According to Wikipedia:\n",
    "\n",
    ">\"For the only time in the history of the competition, all matches from the First Round Proper up to and including the Sixth Round Proper were played over two legs ... These changes were made in order to give clubs additional revenue, as the Football League would not resume normal play until the autumn of 1946.\""
   ]
  },
  {
   "cell_type": "markdown",
   "metadata": {},
   "source": [
    "#### Plotting number of matches per round"
   ]
  },
  {
   "cell_type": "code",
   "execution_count": 14,
   "metadata": {
    "collapsed": false
   },
   "outputs": [
    {
     "data": {
      "text/html": [
       "<div>\n",
       "<table border=\"1\" class=\"dataframe\">\n",
       "  <thead>\n",
       "    <tr style=\"text-align: right;\">\n",
       "      <th></th>\n",
       "      <th>away_score</th>\n",
       "      <th>away_team</th>\n",
       "      <th>date</th>\n",
       "      <th>home_score</th>\n",
       "      <th>home_team</th>\n",
       "      <th>match_id</th>\n",
       "      <th>qualifier</th>\n",
       "      <th>replay</th>\n",
       "      <th>round</th>\n",
       "      <th>round_id</th>\n",
       "      <th>year</th>\n",
       "      <th>year_id</th>\n",
       "      <th>stage_f</th>\n",
       "    </tr>\n",
       "    <tr>\n",
       "      <th>stage</th>\n",
       "      <th></th>\n",
       "      <th></th>\n",
       "      <th></th>\n",
       "      <th></th>\n",
       "      <th></th>\n",
       "      <th></th>\n",
       "      <th></th>\n",
       "      <th></th>\n",
       "      <th></th>\n",
       "      <th></th>\n",
       "      <th></th>\n",
       "      <th></th>\n",
       "      <th></th>\n",
       "    </tr>\n",
       "  </thead>\n",
       "  <tbody>\n",
       "    <tr>\n",
       "      <th>1</th>\n",
       "      <td>2</td>\n",
       "      <td>Kingsbury Town</td>\n",
       "      <td>05.09.95</td>\n",
       "      <td>3</td>\n",
       "      <td>Bracknell Town</td>\n",
       "      <td>68628</td>\n",
       "      <td>True</td>\n",
       "      <td>True</td>\n",
       "      <td>Preliminary Round</td>\n",
       "      <td>9443</td>\n",
       "      <td>1996</td>\n",
       "      <td>71044</td>\n",
       "      <td>2</td>\n",
       "    </tr>\n",
       "    <tr>\n",
       "      <th>2</th>\n",
       "      <td>1</td>\n",
       "      <td>Worthing</td>\n",
       "      <td>22.09.95</td>\n",
       "      <td>6</td>\n",
       "      <td>Buckingham Town</td>\n",
       "      <td>68804</td>\n",
       "      <td>True</td>\n",
       "      <td>True</td>\n",
       "      <td>First Qualifying Round</td>\n",
       "      <td>9444</td>\n",
       "      <td>1996</td>\n",
       "      <td>71044</td>\n",
       "      <td>3</td>\n",
       "    </tr>\n",
       "    <tr>\n",
       "      <th>3</th>\n",
       "      <td>2</td>\n",
       "      <td>Bromley</td>\n",
       "      <td>02.10.95</td>\n",
       "      <td>1</td>\n",
       "      <td>Welling United</td>\n",
       "      <td>68891</td>\n",
       "      <td>True</td>\n",
       "      <td>True</td>\n",
       "      <td>Second Qualifying Round</td>\n",
       "      <td>9445</td>\n",
       "      <td>1996</td>\n",
       "      <td>71044</td>\n",
       "      <td>4</td>\n",
       "    </tr>\n",
       "    <tr>\n",
       "      <th>4</th>\n",
       "      <td>3</td>\n",
       "      <td>Cinderford Town</td>\n",
       "      <td>16.10.95</td>\n",
       "      <td>1</td>\n",
       "      <td>Forest Green Rovers</td>\n",
       "      <td>68937</td>\n",
       "      <td>True</td>\n",
       "      <td>True</td>\n",
       "      <td>Third Qualifying Round</td>\n",
       "      <td>9446</td>\n",
       "      <td>1996</td>\n",
       "      <td>71044</td>\n",
       "      <td>5</td>\n",
       "    </tr>\n",
       "    <tr>\n",
       "      <th>5</th>\n",
       "      <td>0</td>\n",
       "      <td>Marlow</td>\n",
       "      <td>30.10.95</td>\n",
       "      <td>4</td>\n",
       "      <td>Ebbsfleet United</td>\n",
       "      <td>68972</td>\n",
       "      <td>True</td>\n",
       "      <td>True</td>\n",
       "      <td>Fourth Qualifying Round</td>\n",
       "      <td>9447</td>\n",
       "      <td>1996</td>\n",
       "      <td>71044</td>\n",
       "      <td>6</td>\n",
       "    </tr>\n",
       "    <tr>\n",
       "      <th>6</th>\n",
       "      <td>2</td>\n",
       "      <td>Crewe Alexandra</td>\n",
       "      <td>22.11.95</td>\n",
       "      <td>0</td>\n",
       "      <td>Altrincham</td>\n",
       "      <td>68974</td>\n",
       "      <td>False</td>\n",
       "      <td>False</td>\n",
       "      <td>First Round Proper</td>\n",
       "      <td>9448</td>\n",
       "      <td>1996</td>\n",
       "      <td>71044</td>\n",
       "      <td>7</td>\n",
       "    </tr>\n",
       "    <tr>\n",
       "      <th>7</th>\n",
       "      <td>0</td>\n",
       "      <td>Fulham</td>\n",
       "      <td>14.12.95</td>\n",
       "      <td>0</td>\n",
       "      <td>Brighton &amp; Hove Albion</td>\n",
       "      <td>69044</td>\n",
       "      <td>False</td>\n",
       "      <td>True</td>\n",
       "      <td>Second Round Proper</td>\n",
       "      <td>9449</td>\n",
       "      <td>1996</td>\n",
       "      <td>71044</td>\n",
       "      <td>8</td>\n",
       "    </tr>\n",
       "    <tr>\n",
       "      <th>8</th>\n",
       "      <td>1</td>\n",
       "      <td>Barnsley</td>\n",
       "      <td>23.01.96</td>\n",
       "      <td>2</td>\n",
       "      <td>Oldham Athletic</td>\n",
       "      <td>69086</td>\n",
       "      <td>False</td>\n",
       "      <td>True</td>\n",
       "      <td>Third Round Proper</td>\n",
       "      <td>9450</td>\n",
       "      <td>1996</td>\n",
       "      <td>71044</td>\n",
       "      <td>9</td>\n",
       "    </tr>\n",
       "    <tr>\n",
       "      <th>9</th>\n",
       "      <td>4</td>\n",
       "      <td>Liverpool</td>\n",
       "      <td>18.02.96</td>\n",
       "      <td>0</td>\n",
       "      <td>Shrewsbury Town</td>\n",
       "      <td>69107</td>\n",
       "      <td>False</td>\n",
       "      <td>False</td>\n",
       "      <td>Fourth Round Proper</td>\n",
       "      <td>9451</td>\n",
       "      <td>1996</td>\n",
       "      <td>71044</td>\n",
       "      <td>10</td>\n",
       "    </tr>\n",
       "    <tr>\n",
       "      <th>10</th>\n",
       "      <td>1</td>\n",
       "      <td>Nottingham Forest</td>\n",
       "      <td>09.03.96</td>\n",
       "      <td>1</td>\n",
       "      <td>Tottenham Hotspur</td>\n",
       "      <td>69130</td>\n",
       "      <td>False</td>\n",
       "      <td>True</td>\n",
       "      <td>Fifth Round Proper</td>\n",
       "      <td>9452</td>\n",
       "      <td>1996</td>\n",
       "      <td>71044</td>\n",
       "      <td>11</td>\n",
       "    </tr>\n",
       "    <tr>\n",
       "      <th>11</th>\n",
       "      <td>0</td>\n",
       "      <td>Leeds United AFC</td>\n",
       "      <td>20.03.96</td>\n",
       "      <td>3</td>\n",
       "      <td>Liverpool</td>\n",
       "      <td>69136</td>\n",
       "      <td>False</td>\n",
       "      <td>True</td>\n",
       "      <td>Sixth Round Proper</td>\n",
       "      <td>9453</td>\n",
       "      <td>1996</td>\n",
       "      <td>71044</td>\n",
       "      <td>12</td>\n",
       "    </tr>\n",
       "    <tr>\n",
       "      <th>12</th>\n",
       "      <td>0</td>\n",
       "      <td>Aston Villa</td>\n",
       "      <td>31.03.96</td>\n",
       "      <td>3</td>\n",
       "      <td>Liverpool</td>\n",
       "      <td>69138</td>\n",
       "      <td>False</td>\n",
       "      <td>False</td>\n",
       "      <td>Semi-Final</td>\n",
       "      <td>9454</td>\n",
       "      <td>1996</td>\n",
       "      <td>71044</td>\n",
       "      <td>13</td>\n",
       "    </tr>\n",
       "    <tr>\n",
       "      <th>13</th>\n",
       "      <td>0</td>\n",
       "      <td>Liverpool</td>\n",
       "      <td>11 May 1996</td>\n",
       "      <td>1</td>\n",
       "      <td>Manchester United</td>\n",
       "      <td>5000095</td>\n",
       "      <td>False</td>\n",
       "      <td>False</td>\n",
       "      <td>Final</td>\n",
       "      <td>0</td>\n",
       "      <td>1996</td>\n",
       "      <td>71044</td>\n",
       "      <td>14</td>\n",
       "    </tr>\n",
       "  </tbody>\n",
       "</table>\n",
       "</div>"
      ],
      "text/plain": [
       "       away_score          away_team         date  home_score  \\\n",
       "stage                                                           \n",
       "1               2     Kingsbury Town     05.09.95           3   \n",
       "2               1           Worthing     22.09.95           6   \n",
       "3               2            Bromley     02.10.95           1   \n",
       "4               3    Cinderford Town     16.10.95           1   \n",
       "5               0             Marlow     30.10.95           4   \n",
       "6               2    Crewe Alexandra     22.11.95           0   \n",
       "7               0             Fulham     14.12.95           0   \n",
       "8               1           Barnsley     23.01.96           2   \n",
       "9               4          Liverpool     18.02.96           0   \n",
       "10              1  Nottingham Forest     09.03.96           1   \n",
       "11              0   Leeds United AFC     20.03.96           3   \n",
       "12              0        Aston Villa     31.03.96           3   \n",
       "13              0          Liverpool  11 May 1996           1   \n",
       "\n",
       "                    home_team  match_id qualifier replay  \\\n",
       "stage                                                      \n",
       "1              Bracknell Town     68628      True   True   \n",
       "2             Buckingham Town     68804      True   True   \n",
       "3              Welling United     68891      True   True   \n",
       "4         Forest Green Rovers     68937      True   True   \n",
       "5            Ebbsfleet United     68972      True   True   \n",
       "6                  Altrincham     68974     False  False   \n",
       "7      Brighton & Hove Albion     69044     False   True   \n",
       "8             Oldham Athletic     69086     False   True   \n",
       "9             Shrewsbury Town     69107     False  False   \n",
       "10          Tottenham Hotspur     69130     False   True   \n",
       "11                  Liverpool     69136     False   True   \n",
       "12                  Liverpool     69138     False  False   \n",
       "13          Manchester United   5000095     False  False   \n",
       "\n",
       "                         round  round_id  year  year_id  stage_f  \n",
       "stage                                                             \n",
       "1            Preliminary Round      9443  1996    71044        2  \n",
       "2       First Qualifying Round      9444  1996    71044        3  \n",
       "3      Second Qualifying Round      9445  1996    71044        4  \n",
       "4       Third Qualifying Round      9446  1996    71044        5  \n",
       "5      Fourth Qualifying Round      9447  1996    71044        6  \n",
       "6           First Round Proper      9448  1996    71044        7  \n",
       "7          Second Round Proper      9449  1996    71044        8  \n",
       "8           Third Round Proper      9450  1996    71044        9  \n",
       "9          Fourth Round Proper      9451  1996    71044       10  \n",
       "10          Fifth Round Proper      9452  1996    71044       11  \n",
       "11          Sixth Round Proper      9453  1996    71044       12  \n",
       "12                  Semi-Final      9454  1996    71044       13  \n",
       "13                       Final         0  1996    71044       14  "
      ]
     },
     "execution_count": 14,
     "metadata": {},
     "output_type": "execute_result"
    }
   ],
   "source": [
    "# we need to reverse 'stage' and create 'stage_f' that 'hangs' stages off final (now always equal to 14) rather than initial round\n",
    "\n",
    "fac['stage_f'] = 15 - fac.groupby('year')['stage'].rank(method = 'dense', ascending = False)\n",
    "\n",
    "\n",
    "# testing on 1996\n",
    "fac[fac.year == 1996].groupby('stage').first()\n"
   ]
  },
  {
   "cell_type": "code",
   "execution_count": 15,
   "metadata": {
    "collapsed": false
   },
   "outputs": [],
   "source": [
    "non_q = fac[fac['qualifier'] == False] #only plotting non qualifiers as we will be dropping qualifier data soon"
   ]
  },
  {
   "cell_type": "code",
   "execution_count": 16,
   "metadata": {
    "collapsed": false
   },
   "outputs": [
    {
     "data": {
      "text/html": [
       "<div>\n",
       "<table border=\"1\" class=\"dataframe\">\n",
       "  <thead>\n",
       "    <tr style=\"text-align: right;\">\n",
       "      <th>stage_f</th>\n",
       "      <th>7.0</th>\n",
       "      <th>8.0</th>\n",
       "      <th>9.0</th>\n",
       "      <th>10.0</th>\n",
       "      <th>11.0</th>\n",
       "      <th>12.0</th>\n",
       "      <th>13.0</th>\n",
       "      <th>14.0</th>\n",
       "    </tr>\n",
       "    <tr>\n",
       "      <th>year</th>\n",
       "      <th></th>\n",
       "      <th></th>\n",
       "      <th></th>\n",
       "      <th></th>\n",
       "      <th></th>\n",
       "      <th></th>\n",
       "      <th></th>\n",
       "      <th></th>\n",
       "    </tr>\n",
       "  </thead>\n",
       "  <tbody>\n",
       "    <tr>\n",
       "      <th>1872</th>\n",
       "      <td>NaN</td>\n",
       "      <td>NaN</td>\n",
       "      <td>NaN</td>\n",
       "      <td>8</td>\n",
       "      <td>6</td>\n",
       "      <td>3</td>\n",
       "      <td>4</td>\n",
       "      <td>1</td>\n",
       "    </tr>\n",
       "    <tr>\n",
       "      <th>1873</th>\n",
       "      <td>NaN</td>\n",
       "      <td>NaN</td>\n",
       "      <td>9</td>\n",
       "      <td>7</td>\n",
       "      <td>4</td>\n",
       "      <td>3</td>\n",
       "      <td>2</td>\n",
       "      <td>1</td>\n",
       "    </tr>\n",
       "    <tr>\n",
       "      <th>1874</th>\n",
       "      <td>NaN</td>\n",
       "      <td>NaN</td>\n",
       "      <td>NaN</td>\n",
       "      <td>16</td>\n",
       "      <td>9</td>\n",
       "      <td>5</td>\n",
       "      <td>2</td>\n",
       "      <td>1</td>\n",
       "    </tr>\n",
       "    <tr>\n",
       "      <th>1875</th>\n",
       "      <td>NaN</td>\n",
       "      <td>NaN</td>\n",
       "      <td>NaN</td>\n",
       "      <td>19</td>\n",
       "      <td>8</td>\n",
       "      <td>5</td>\n",
       "      <td>3</td>\n",
       "      <td>2</td>\n",
       "    </tr>\n",
       "    <tr>\n",
       "      <th>1876</th>\n",
       "      <td>NaN</td>\n",
       "      <td>NaN</td>\n",
       "      <td>NaN</td>\n",
       "      <td>17</td>\n",
       "      <td>8</td>\n",
       "      <td>4</td>\n",
       "      <td>2</td>\n",
       "      <td>2</td>\n",
       "    </tr>\n",
       "  </tbody>\n",
       "</table>\n",
       "</div>"
      ],
      "text/plain": [
       "stage_f  7   8   9   10  11  12  13  14\n",
       "year                                   \n",
       "1872    NaN NaN NaN   8   6   3   4   1\n",
       "1873    NaN NaN   9   7   4   3   2   1\n",
       "1874    NaN NaN NaN  16   9   5   2   1\n",
       "1875    NaN NaN NaN  19   8   5   3   2\n",
       "1876    NaN NaN NaN  17   8   4   2   2"
      ]
     },
     "execution_count": 16,
     "metadata": {},
     "output_type": "execute_result"
    }
   ],
   "source": [
    "matches_per_stage = non_q.groupby(['year', 'stage_f'])['match_id'].nunique().unstack().reindex(range(1872,2016))\n",
    "\n",
    "matches_per_stage.head()"
   ]
  },
  {
   "cell_type": "code",
   "execution_count": 17,
   "metadata": {
    "collapsed": false
   },
   "outputs": [
    {
     "data": {
      "image/png": "[encoded data removed]",
      "text/plain": [
       "<matplotlib.figure.Figure at 0x10eaf588>"
      ]
     },
     "metadata": {},
     "output_type": "display_data"
    }
   ],
   "source": [
    "ax = matches_per_stage.plot(kind='bar', \n",
    "                       figsize=(13,4), \n",
    "                       width=1, \n",
    "                       stacked=True, \n",
    "                       colormap = 'Blues_r')\n",
    "\n",
    "ticks = ax.xaxis.get_ticklocs()\n",
    "ticklabels = [l.get_text() for l in ax.xaxis.get_ticklabels()]\n",
    "ax.xaxis.set_ticks(ticks[::5])\n",
    "ax.xaxis.set_ticklabels(ticklabels[::5])\n",
    "ax.legend().set_visible(False)\n",
    "\n",
    "plt.show()"
   ]
  },
  {
   "cell_type": "markdown",
   "metadata": {},
   "source": [
    "There seems to be an anomalous value in 1905"
   ]
  },
  {
   "cell_type": "code",
   "execution_count": 18,
   "metadata": {
    "collapsed": false
   },
   "outputs": [
    {
     "data": {
      "text/html": [
       "<div>\n",
       "<table border=\"1\" class=\"dataframe\">\n",
       "  <thead>\n",
       "    <tr style=\"text-align: right;\">\n",
       "      <th>stage_f</th>\n",
       "      <th>7.0</th>\n",
       "      <th>8.0</th>\n",
       "      <th>9.0</th>\n",
       "      <th>10.0</th>\n",
       "      <th>11.0</th>\n",
       "      <th>12.0</th>\n",
       "      <th>13.0</th>\n",
       "      <th>14.0</th>\n",
       "    </tr>\n",
       "    <tr>\n",
       "      <th>year</th>\n",
       "      <th></th>\n",
       "      <th></th>\n",
       "      <th></th>\n",
       "      <th></th>\n",
       "      <th></th>\n",
       "      <th></th>\n",
       "      <th></th>\n",
       "      <th></th>\n",
       "    </tr>\n",
       "  </thead>\n",
       "  <tbody>\n",
       "    <tr>\n",
       "      <th>1903</th>\n",
       "      <td>NaN</td>\n",
       "      <td>NaN</td>\n",
       "      <td>14</td>\n",
       "      <td>21</td>\n",
       "      <td>9</td>\n",
       "      <td>4</td>\n",
       "      <td>2</td>\n",
       "      <td>1</td>\n",
       "    </tr>\n",
       "    <tr>\n",
       "      <th>1904</th>\n",
       "      <td>NaN</td>\n",
       "      <td>NaN</td>\n",
       "      <td>17</td>\n",
       "      <td>20</td>\n",
       "      <td>10</td>\n",
       "      <td>6</td>\n",
       "      <td>2</td>\n",
       "      <td>1</td>\n",
       "    </tr>\n",
       "    <tr>\n",
       "      <th>1905</th>\n",
       "      <td>NaN</td>\n",
       "      <td>15</td>\n",
       "      <td>NaN</td>\n",
       "      <td>25</td>\n",
       "      <td>10</td>\n",
       "      <td>5</td>\n",
       "      <td>3</td>\n",
       "      <td>1</td>\n",
       "    </tr>\n",
       "  </tbody>\n",
       "</table>\n",
       "</div>"
      ],
      "text/plain": [
       "stage_f  7   8   9   10  11  12  13  14\n",
       "year                                   \n",
       "1903    NaN NaN  14  21   9   4   2   1\n",
       "1904    NaN NaN  17  20  10   6   2   1\n",
       "1905    NaN  15 NaN  25  10   5   3   1"
      ]
     },
     "execution_count": 18,
     "metadata": {},
     "output_type": "execute_result"
    }
   ],
   "source": [
    "matches_per_stage.loc[1903:1905]"
   ]
  },
  {
   "cell_type": "code",
   "execution_count": 19,
   "metadata": {
    "collapsed": false
   },
   "outputs": [
    {
     "data": {
      "text/html": [
       "<div>\n",
       "<table border=\"1\" class=\"dataframe\">\n",
       "  <thead>\n",
       "    <tr style=\"text-align: right;\">\n",
       "      <th></th>\n",
       "      <th>away_score</th>\n",
       "      <th>away_team</th>\n",
       "      <th>date</th>\n",
       "      <th>home_score</th>\n",
       "      <th>home_team</th>\n",
       "      <th>match_id</th>\n",
       "      <th>qualifier</th>\n",
       "      <th>replay</th>\n",
       "      <th>round_id</th>\n",
       "      <th>stage</th>\n",
       "      <th>year</th>\n",
       "      <th>year_id</th>\n",
       "      <th>stage_f</th>\n",
       "    </tr>\n",
       "    <tr>\n",
       "      <th>round</th>\n",
       "      <th></th>\n",
       "      <th></th>\n",
       "      <th></th>\n",
       "      <th></th>\n",
       "      <th></th>\n",
       "      <th></th>\n",
       "      <th></th>\n",
       "      <th></th>\n",
       "      <th></th>\n",
       "      <th></th>\n",
       "      <th></th>\n",
       "      <th></th>\n",
       "      <th></th>\n",
       "    </tr>\n",
       "  </thead>\n",
       "  <tbody>\n",
       "    <tr>\n",
       "      <th>Extra Preliminary Round</th>\n",
       "      <td>0</td>\n",
       "      <td>Rotherham Town</td>\n",
       "      <td>14.09.04</td>\n",
       "      <td>1</td>\n",
       "      <td>Thornhill United</td>\n",
       "      <td>21199</td>\n",
       "      <td>True</td>\n",
       "      <td>True</td>\n",
       "      <td>10959</td>\n",
       "      <td>1</td>\n",
       "      <td>1905</td>\n",
       "      <td>71267</td>\n",
       "      <td>1</td>\n",
       "    </tr>\n",
       "    <tr>\n",
       "      <th>Preliminary Round</th>\n",
       "      <td>0</td>\n",
       "      <td>Leadgate Park</td>\n",
       "      <td>24.09.04</td>\n",
       "      <td>1</td>\n",
       "      <td>Stanley United</td>\n",
       "      <td>21250</td>\n",
       "      <td>True</td>\n",
       "      <td>True</td>\n",
       "      <td>10966</td>\n",
       "      <td>2</td>\n",
       "      <td>1905</td>\n",
       "      <td>71267</td>\n",
       "      <td>2</td>\n",
       "    </tr>\n",
       "    <tr>\n",
       "      <th>First Qualifying Round</th>\n",
       "      <td>2</td>\n",
       "      <td>Oswestry United</td>\n",
       "      <td>10.10.04</td>\n",
       "      <td>3</td>\n",
       "      <td>Druids</td>\n",
       "      <td>21324</td>\n",
       "      <td>True</td>\n",
       "      <td>True</td>\n",
       "      <td>10962</td>\n",
       "      <td>3</td>\n",
       "      <td>1905</td>\n",
       "      <td>71267</td>\n",
       "      <td>3</td>\n",
       "    </tr>\n",
       "    <tr>\n",
       "      <th>Second Qualifying Round</th>\n",
       "      <td>4</td>\n",
       "      <td>Civil Service</td>\n",
       "      <td>22.10.04</td>\n",
       "      <td>4</td>\n",
       "      <td>Kensal Rise</td>\n",
       "      <td>21369</td>\n",
       "      <td>True</td>\n",
       "      <td>True</td>\n",
       "      <td>10967</td>\n",
       "      <td>4</td>\n",
       "      <td>1905</td>\n",
       "      <td>71267</td>\n",
       "      <td>4</td>\n",
       "    </tr>\n",
       "    <tr>\n",
       "      <th>Third Qualifying Round</th>\n",
       "      <td>2</td>\n",
       "      <td>Kettering Town</td>\n",
       "      <td>07.11.04</td>\n",
       "      <td>1</td>\n",
       "      <td>Wellingborough Town</td>\n",
       "      <td>21414</td>\n",
       "      <td>True</td>\n",
       "      <td>True</td>\n",
       "      <td>10971</td>\n",
       "      <td>5</td>\n",
       "      <td>1905</td>\n",
       "      <td>71267</td>\n",
       "      <td>5</td>\n",
       "    </tr>\n",
       "    <tr>\n",
       "      <th>Fourth Qualifying Round</th>\n",
       "      <td>0</td>\n",
       "      <td>Glossop</td>\n",
       "      <td>23.11.04</td>\n",
       "      <td>1</td>\n",
       "      <td>Stockport County</td>\n",
       "      <td>21447</td>\n",
       "      <td>True</td>\n",
       "      <td>True</td>\n",
       "      <td>10964</td>\n",
       "      <td>6</td>\n",
       "      <td>1905</td>\n",
       "      <td>71267</td>\n",
       "      <td>6</td>\n",
       "    </tr>\n",
       "    <tr>\n",
       "      <th>Fifth Qualifying Round</th>\n",
       "      <td>2</td>\n",
       "      <td>Sunderland West End</td>\n",
       "      <td>07.12.04</td>\n",
       "      <td>1</td>\n",
       "      <td>Bishop Auckland</td>\n",
       "      <td>21461</td>\n",
       "      <td>True</td>\n",
       "      <td>True</td>\n",
       "      <td>10960</td>\n",
       "      <td>7</td>\n",
       "      <td>1905</td>\n",
       "      <td>71267</td>\n",
       "      <td>7</td>\n",
       "    </tr>\n",
       "    <tr>\n",
       "      <th>Intermediate Round</th>\n",
       "      <td>1</td>\n",
       "      <td>Fulham</td>\n",
       "      <td>23.01.05</td>\n",
       "      <td>0</td>\n",
       "      <td>Manchester United</td>\n",
       "      <td>21489</td>\n",
       "      <td>False</td>\n",
       "      <td>True</td>\n",
       "      <td>10965</td>\n",
       "      <td>8</td>\n",
       "      <td>1905</td>\n",
       "      <td>71267</td>\n",
       "      <td>8</td>\n",
       "    </tr>\n",
       "    <tr>\n",
       "      <th>Sixth Qualifying Round</th>\n",
       "      <td>2</td>\n",
       "      <td>Barnsley</td>\n",
       "      <td>15.12.04</td>\n",
       "      <td>1</td>\n",
       "      <td>Burslem Port Vale</td>\n",
       "      <td>21472</td>\n",
       "      <td>True</td>\n",
       "      <td>True</td>\n",
       "      <td>10970</td>\n",
       "      <td>9</td>\n",
       "      <td>1905</td>\n",
       "      <td>71267</td>\n",
       "      <td>9</td>\n",
       "    </tr>\n",
       "    <tr>\n",
       "      <th>First Round Proper</th>\n",
       "      <td>0</td>\n",
       "      <td>Reading</td>\n",
       "      <td>13.02.05</td>\n",
       "      <td>1</td>\n",
       "      <td>Fulham</td>\n",
       "      <td>21513</td>\n",
       "      <td>False</td>\n",
       "      <td>True</td>\n",
       "      <td>10963</td>\n",
       "      <td>10</td>\n",
       "      <td>1905</td>\n",
       "      <td>71267</td>\n",
       "      <td>10</td>\n",
       "    </tr>\n",
       "    <tr>\n",
       "      <th>Second Round Proper</th>\n",
       "      <td>0</td>\n",
       "      <td>Bristol City</td>\n",
       "      <td>23.02.05</td>\n",
       "      <td>1</td>\n",
       "      <td>Preston North End</td>\n",
       "      <td>21524</td>\n",
       "      <td>False</td>\n",
       "      <td>True</td>\n",
       "      <td>10968</td>\n",
       "      <td>11</td>\n",
       "      <td>1905</td>\n",
       "      <td>71267</td>\n",
       "      <td>11</td>\n",
       "    </tr>\n",
       "    <tr>\n",
       "      <th>Third Round Proper</th>\n",
       "      <td>0</td>\n",
       "      <td>Preston North End</td>\n",
       "      <td>09.03.05</td>\n",
       "      <td>3</td>\n",
       "      <td>Sheffield Wednesday</td>\n",
       "      <td>21529</td>\n",
       "      <td>False</td>\n",
       "      <td>True</td>\n",
       "      <td>10972</td>\n",
       "      <td>12</td>\n",
       "      <td>1905</td>\n",
       "      <td>71267</td>\n",
       "      <td>12</td>\n",
       "    </tr>\n",
       "    <tr>\n",
       "      <th>Semi-Final</th>\n",
       "      <td>1</td>\n",
       "      <td>Everton</td>\n",
       "      <td>29.03.05</td>\n",
       "      <td>2</td>\n",
       "      <td>Aston Villa</td>\n",
       "      <td>21532</td>\n",
       "      <td>False</td>\n",
       "      <td>True</td>\n",
       "      <td>10969</td>\n",
       "      <td>13</td>\n",
       "      <td>1905</td>\n",
       "      <td>71267</td>\n",
       "      <td>13</td>\n",
       "    </tr>\n",
       "    <tr>\n",
       "      <th>Final</th>\n",
       "      <td>0</td>\n",
       "      <td>Newcastle United</td>\n",
       "      <td>15 April 1905</td>\n",
       "      <td>2</td>\n",
       "      <td>Aston Villa</td>\n",
       "      <td>5000027</td>\n",
       "      <td>False</td>\n",
       "      <td>False</td>\n",
       "      <td>0</td>\n",
       "      <td>14</td>\n",
       "      <td>1905</td>\n",
       "      <td>71267</td>\n",
       "      <td>14</td>\n",
       "    </tr>\n",
       "  </tbody>\n",
       "</table>\n",
       "</div>"
      ],
      "text/plain": [
       "                         away_score            away_team           date  \\\n",
       "round                                                                     \n",
       "Extra Preliminary Round           0       Rotherham Town       14.09.04   \n",
       "Preliminary Round                 0        Leadgate Park       24.09.04   \n",
       "First Qualifying Round            2      Oswestry United       10.10.04   \n",
       "Second Qualifying Round           4        Civil Service       22.10.04   \n",
       "Third Qualifying Round            2       Kettering Town       07.11.04   \n",
       "Fourth Qualifying Round           0              Glossop       23.11.04   \n",
       "Fifth Qualifying Round            2  Sunderland West End       07.12.04   \n",
       "Intermediate Round                1               Fulham       23.01.05   \n",
       "Sixth Qualifying Round            2             Barnsley       15.12.04   \n",
       "First Round Proper                0              Reading       13.02.05   \n",
       "Second Round Proper               0         Bristol City       23.02.05   \n",
       "Third Round Proper                0    Preston North End       09.03.05   \n",
       "Semi-Final                        1              Everton       29.03.05   \n",
       "Final                             0     Newcastle United  15 April 1905   \n",
       "\n",
       "                         home_score            home_team  match_id qualifier  \\\n",
       "round                                                                          \n",
       "Extra Preliminary Round           1     Thornhill United     21199      True   \n",
       "Preliminary Round                 1       Stanley United     21250      True   \n",
       "First Qualifying Round            3               Druids     21324      True   \n",
       "Second Qualifying Round           4          Kensal Rise     21369      True   \n",
       "Third Qualifying Round            1  Wellingborough Town     21414      True   \n",
       "Fourth Qualifying Round           1     Stockport County     21447      True   \n",
       "Fifth Qualifying Round            1      Bishop Auckland     21461      True   \n",
       "Intermediate Round                0    Manchester United     21489     False   \n",
       "Sixth Qualifying Round            1    Burslem Port Vale     21472      True   \n",
       "First Round Proper                1               Fulham     21513     False   \n",
       "Second Round Proper               1    Preston North End     21524     False   \n",
       "Third Round Proper                3  Sheffield Wednesday     21529     False   \n",
       "Semi-Final                        2          Aston Villa     21532     False   \n",
       "Final                             2          Aston Villa   5000027     False   \n",
       "\n",
       "                        replay  round_id  stage  year  year_id  stage_f  \n",
       "round                                                                    \n",
       "Extra Preliminary Round   True     10959      1  1905    71267        1  \n",
       "Preliminary Round         True     10966      2  1905    71267        2  \n",
       "First Qualifying Round    True     10962      3  1905    71267        3  \n",
       "Second Qualifying Round   True     10967      4  1905    71267        4  \n",
       "Third Qualifying Round    True     10971      5  1905    71267        5  \n",
       "Fourth Qualifying Round   True     10964      6  1905    71267        6  \n",
       "Fifth Qualifying Round    True     10960      7  1905    71267        7  \n",
       "Intermediate Round        True     10965      8  1905    71267        8  \n",
       "Sixth Qualifying Round    True     10970      9  1905    71267        9  \n",
       "First Round Proper        True     10963     10  1905    71267       10  \n",
       "Second Round Proper       True     10968     11  1905    71267       11  \n",
       "Third Round Proper        True     10972     12  1905    71267       12  \n",
       "Semi-Final                True     10969     13  1905    71267       13  \n",
       "Final                    False         0     14  1905    71267       14  "
      ]
     },
     "execution_count": 19,
     "metadata": {},
     "output_type": "execute_result"
    }
   ],
   "source": [
    "fac[(fac.year == 1905)].groupby('round').first().sort_values('stage')"
   ]
  },
  {
   "cell_type": "markdown",
   "metadata": {},
   "source": [
    "The dates show us that the intermediate and 6th qualifying stages are in wrong order (also on data source). Will now check if any other intermediate stages are affected."
   ]
  },
  {
   "cell_type": "code",
   "execution_count": 20,
   "metadata": {
    "collapsed": false
   },
   "outputs": [
    {
     "data": {
      "text/html": [
       "<div>\n",
       "<table border=\"1\" class=\"dataframe\">\n",
       "  <thead>\n",
       "    <tr style=\"text-align: right;\">\n",
       "      <th></th>\n",
       "      <th>away_score</th>\n",
       "      <th>away_team</th>\n",
       "      <th>date</th>\n",
       "      <th>home_score</th>\n",
       "      <th>home_team</th>\n",
       "      <th>match_id</th>\n",
       "      <th>qualifier</th>\n",
       "      <th>replay</th>\n",
       "      <th>round</th>\n",
       "      <th>round_id</th>\n",
       "      <th>stage</th>\n",
       "      <th>year_id</th>\n",
       "      <th>stage_f</th>\n",
       "    </tr>\n",
       "    <tr>\n",
       "      <th>year</th>\n",
       "      <th></th>\n",
       "      <th></th>\n",
       "      <th></th>\n",
       "      <th></th>\n",
       "      <th></th>\n",
       "      <th></th>\n",
       "      <th></th>\n",
       "      <th></th>\n",
       "      <th></th>\n",
       "      <th></th>\n",
       "      <th></th>\n",
       "      <th></th>\n",
       "      <th></th>\n",
       "    </tr>\n",
       "  </thead>\n",
       "  <tbody>\n",
       "    <tr>\n",
       "      <th>1901</th>\n",
       "      <td>1</td>\n",
       "      <td>Bristol City</td>\n",
       "      <td>14.01.01</td>\n",
       "      <td>2</td>\n",
       "      <td>Reading</td>\n",
       "      <td>20292</td>\n",
       "      <td>False</td>\n",
       "      <td>True</td>\n",
       "      <td>Intermediate Round</td>\n",
       "      <td>10915</td>\n",
       "      <td>7</td>\n",
       "      <td>71263</td>\n",
       "      <td>9</td>\n",
       "    </tr>\n",
       "    <tr>\n",
       "      <th>1902</th>\n",
       "      <td>0</td>\n",
       "      <td>Millwall Athletic</td>\n",
       "      <td>18.12.01</td>\n",
       "      <td>1</td>\n",
       "      <td>Bristol Rovers</td>\n",
       "      <td>20570</td>\n",
       "      <td>False</td>\n",
       "      <td>True</td>\n",
       "      <td>Intermediate Round</td>\n",
       "      <td>10927</td>\n",
       "      <td>7</td>\n",
       "      <td>71264</td>\n",
       "      <td>9</td>\n",
       "    </tr>\n",
       "    <tr>\n",
       "      <th>1903</th>\n",
       "      <td>0</td>\n",
       "      <td>Bristol Rovers</td>\n",
       "      <td>22.12.02</td>\n",
       "      <td>2</td>\n",
       "      <td>Millwall Athletic</td>\n",
       "      <td>20847</td>\n",
       "      <td>False</td>\n",
       "      <td>True</td>\n",
       "      <td>Intermediate Round</td>\n",
       "      <td>10939</td>\n",
       "      <td>7</td>\n",
       "      <td>71265</td>\n",
       "      <td>9</td>\n",
       "    </tr>\n",
       "    <tr>\n",
       "      <th>1904</th>\n",
       "      <td>1</td>\n",
       "      <td>Small Heath</td>\n",
       "      <td>11.01.04</td>\n",
       "      <td>3</td>\n",
       "      <td>Manchester United</td>\n",
       "      <td>21149</td>\n",
       "      <td>False</td>\n",
       "      <td>True</td>\n",
       "      <td>Intermediate Round</td>\n",
       "      <td>10952</td>\n",
       "      <td>8</td>\n",
       "      <td>71266</td>\n",
       "      <td>9</td>\n",
       "    </tr>\n",
       "    <tr>\n",
       "      <th>1905</th>\n",
       "      <td>1</td>\n",
       "      <td>Fulham</td>\n",
       "      <td>23.01.05</td>\n",
       "      <td>0</td>\n",
       "      <td>Manchester United</td>\n",
       "      <td>21489</td>\n",
       "      <td>False</td>\n",
       "      <td>True</td>\n",
       "      <td>Intermediate Round</td>\n",
       "      <td>10965</td>\n",
       "      <td>8</td>\n",
       "      <td>71267</td>\n",
       "      <td>8</td>\n",
       "    </tr>\n",
       "  </tbody>\n",
       "</table>\n",
       "</div>"
      ],
      "text/plain": [
       "      away_score          away_team      date  home_score          home_team  \\\n",
       "year                                                                           \n",
       "1901           1       Bristol City  14.01.01           2            Reading   \n",
       "1902           0  Millwall Athletic  18.12.01           1     Bristol Rovers   \n",
       "1903           0     Bristol Rovers  22.12.02           2  Millwall Athletic   \n",
       "1904           1        Small Heath  11.01.04           3  Manchester United   \n",
       "1905           1             Fulham  23.01.05           0  Manchester United   \n",
       "\n",
       "      match_id qualifier replay               round  round_id  stage  year_id  \\\n",
       "year                                                                            \n",
       "1901     20292     False   True  Intermediate Round     10915      7    71263   \n",
       "1902     20570     False   True  Intermediate Round     10927      7    71264   \n",
       "1903     20847     False   True  Intermediate Round     10939      7    71265   \n",
       "1904     21149     False   True  Intermediate Round     10952      8    71266   \n",
       "1905     21489     False   True  Intermediate Round     10965      8    71267   \n",
       "\n",
       "      stage_f  \n",
       "year           \n",
       "1901        9  \n",
       "1902        9  \n",
       "1903        9  \n",
       "1904        9  \n",
       "1905        8  "
      ]
     },
     "execution_count": 20,
     "metadata": {},
     "output_type": "execute_result"
    }
   ],
   "source": [
    "fac[fac['round'] == 'Intermediate Round'].groupby('year').first()"
   ]
  },
  {
   "cell_type": "code",
   "execution_count": 21,
   "metadata": {
    "collapsed": false
   },
   "outputs": [
    {
     "data": {
      "text/plain": [
       "year\n",
       "1901     (1901, True)\n",
       "1902     (1902, True)\n",
       "1903     (1903, True)\n",
       "1904     (1904, True)\n",
       "1905    (1905, False)\n",
       "dtype: object"
      ]
     },
     "execution_count": 21,
     "metadata": {},
     "output_type": "execute_result"
    }
   ],
   "source": [
    "def inter_check(g_year):\n",
    "    g_year['date'] = pd.to_datetime(g_year['date'], dayfirst=True) # setting date format\n",
    "    inter = g_year[g_year['round'] == 'Intermediate Round'].iloc[0] #assinging  first row from intermediate round\n",
    "\n",
    "    if inter['date'] < g_year[g_year['stage'] == inter['stage'] + 1].iloc[0]['date']: #comparing date to next stage numerically\n",
    "        return g_year['year'].max(), True\n",
    "    else:\n",
    "        return g_year['year'].max(), False\n",
    "\n",
    "fac[fac.year.isin(range(1901, 1906))].groupby('year').apply(inter_check)"
   ]
  },
  {
   "cell_type": "markdown",
   "metadata": {},
   "source": [
    "There are 5 years in total with intermediate round and only 1905 needs fixing"
   ]
  },
  {
   "cell_type": "code",
   "execution_count": 22,
   "metadata": {
    "collapsed": true
   },
   "outputs": [],
   "source": [
    "fac.loc[(fac['year'] == 1905) & (fac['round'] == 'Intermediate Round'), 'stage'] = 9\n",
    "fac.loc[(fac['year'] == 1905) & (fac['round'] == 'Sixth Qualifying Round'), 'stage'] = 8"
   ]
  },
  {
   "cell_type": "markdown",
   "metadata": {},
   "source": [
    "Recreating matches per round plot"
   ]
  },
  {
   "cell_type": "code",
   "execution_count": 23,
   "metadata": {
    "collapsed": false
   },
   "outputs": [
    {
     "data": {
      "image/png": "[encoded data removed]",
      "text/plain": [
       "<matplotlib.figure.Figure at 0xc359dd8>"
      ]
     },
     "metadata": {},
     "output_type": "display_data"
    }
   ],
   "source": [
    "fac['stage_f'] = 15 - fac.groupby('year')['stage'].rank(method = 'dense', ascending = False)\n",
    "\n",
    "non_q = fac[fac['qualifier'] == False]\n",
    "\n",
    "matches_per_stage = non_q.groupby(['year', 'stage_f'])['match_id'].nunique().unstack().reindex(range(1872,2016))\n",
    "\n",
    "ax = matches_per_stage.plot(kind='bar', \n",
    "                       figsize=(13,4), \n",
    "                       width=1, \n",
    "                       stacked=True, \n",
    "                       colormap = 'Blues_r')\n",
    "\n",
    "ticks = ax.xaxis.get_ticklocs()\n",
    "ticklabels = [l.get_text() for l in ax.xaxis.get_ticklabels()]\n",
    "ax.xaxis.set_ticks(ticks[::5])\n",
    "ax.xaxis.set_ticklabels(ticklabels[::5])\n",
    "ax.legend().set_visible(False)\n",
    "\n",
    "plt.show()"
   ]
  },
  {
   "cell_type": "markdown",
   "metadata": {},
   "source": [
    "sorted :) \n",
    "\n",
    "#### Plotting number of teams per round\n"
   ]
  },
  {
   "cell_type": "code",
   "execution_count": 24,
   "metadata": {
    "collapsed": true
   },
   "outputs": [],
   "source": [
    "non_qr = fac[(fac['qualifier'] == False) & (fac['replay'] == False)]"
   ]
  },
  {
   "cell_type": "code",
   "execution_count": 25,
   "metadata": {
    "collapsed": true
   },
   "outputs": [],
   "source": [
    "nonr_per_stage = non_qr.groupby(['year', 'stage_f'])['match_id'].nunique().unstack().reindex(range(1872,2016))"
   ]
  },
  {
   "cell_type": "code",
   "execution_count": 26,
   "metadata": {
    "collapsed": false
   },
   "outputs": [
    {
     "data": {
      "image/png": "[encoded data removed]",
      "text/plain": [
       "<matplotlib.figure.Figure at 0xeebcf28>"
      ]
     },
     "metadata": {},
     "output_type": "display_data"
    }
   ],
   "source": [
    "ax = nonr_per_stage.plot(kind='bar', \n",
    "                       figsize=(13,4), \n",
    "                       width=1, \n",
    "                       stacked=True, \n",
    "                       colormap = 'Blues_r')\n",
    "\n",
    "ticks = ax.xaxis.get_ticklocs()\n",
    "ticklabels = [l.get_text() for l in ax.xaxis.get_ticklabels()]\n",
    "ax.xaxis.set_ticks(ticks[::5])\n",
    "ax.xaxis.set_ticklabels(ticklabels[::5])\n",
    "ax.legend().set_visible(False)\n",
    "\n",
    "plt.show()"
   ]
  },
  {
   "cell_type": "code",
   "execution_count": 27,
   "metadata": {
    "collapsed": false
   },
   "outputs": [],
   "source": [
    "# some matches are replays but don't have replay tag on source data, fixing this\n",
    "\n",
    "rep = fac.match_id.isin([89432, 75597, 75586, 75584])\n",
    "\n",
    "fac.ix[rep, 'replay'] = True"
   ]
  },
  {
   "cell_type": "code",
   "execution_count": 28,
   "metadata": {
    "collapsed": false
   },
   "outputs": [
    {
     "data": {
      "image/png": "[encoded data removed]",
      "text/plain": [
       "<matplotlib.figure.Figure at 0x151cbac8>"
      ]
     },
     "metadata": {},
     "output_type": "display_data"
    }
   ],
   "source": [
    "non_qr = fac[(fac['qualifier'] == False) & (fac['replay'] == False)]\n",
    "\n",
    "nonr_per_stage = non_qr.groupby(['year', 'stage_f'])['match_id'].nunique().unstack().reindex(range(1872,2016))\n",
    "\n",
    "ax = nonr_per_stage.plot(kind='bar', \n",
    "                       figsize=(13,4), \n",
    "                       width=1, \n",
    "                       stacked=True, \n",
    "                       colormap = 'Blues_r')\n",
    "\n",
    "ticks = ax.xaxis.get_ticklocs()\n",
    "ticklabels = [l.get_text() for l in ax.xaxis.get_ticklabels()]\n",
    "ax.xaxis.set_ticks(ticks[::5])\n",
    "ax.xaxis.set_ticklabels(ticklabels[::5])\n",
    "ax.legend().set_visible(False)\n",
    "\n",
    "plt.show()"
   ]
  },
  {
   "cell_type": "code",
   "execution_count": 29,
   "metadata": {
    "collapsed": false
   },
   "outputs": [],
   "source": [
    "fac.to_csv('facup_v2.csv', index = False)"
   ]
  },
  {
   "cell_type": "code",
   "execution_count": null,
   "metadata": {
    "collapsed": true
   },
   "outputs": [],
   "source": []
  }
 ],
 "metadata": {
  "kernelspec": {
   "display_name": "Python 2",
   "language": "python",
   "name": "python2"
  },
  "language_info": {
   "codemirror_mode": {
    "name": "ipython",
    "version": 2
   },
   "file_extension": ".py",
   "mimetype": "text/x-python",
   "name": "python",
   "nbconvert_exporter": "python",
   "pygments_lexer": "ipython2",
   "version": "2.7.11"
  }
 },
 "nbformat": 4,
 "nbformat_minor": 0
}
