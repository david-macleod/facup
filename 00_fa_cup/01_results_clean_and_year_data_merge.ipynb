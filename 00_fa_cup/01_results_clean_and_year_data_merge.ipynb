{
 "cells": [
  {
   "cell_type": "code",
   "execution_count": 2,
   "metadata": {
    "collapsed": false
   },
   "outputs": [],
   "source": [
    "import pandas as pd\n",
    "import numpy as np\n",
    "import matplotlib\n",
    "import matplotlib.pyplot as plt\n",
    "\n",
    "%matplotlib inline\n",
    "matplotlib.style.use('ggplot')"
   ]
  },
  {
   "cell_type": "code",
   "execution_count": 3,
   "metadata": {
    "collapsed": false
   },
   "outputs": [],
   "source": [
    "matches = pd.read_csv('results.csv') "
   ]
  },
  {
   "cell_type": "code",
   "execution_count": 4,
   "metadata": {
    "collapsed": false
   },
   "outputs": [
    {
     "name": "stdout",
     "output_type": "stream",
     "text": [
      "<class 'pandas.core.frame.DataFrame'>\n",
      "Int64Index: 68510 entries, 0 to 68509\n",
      "Data columns (total 8 columns):\n",
      "home_team     68508 non-null object\n",
      "away_team     68510 non-null object\n",
      "match_id      68510 non-null int64\n",
      "round_id      68510 non-null int64\n",
      "replay        68510 non-null bool\n",
      "home_score    68420 non-null float64\n",
      "date          68510 non-null object\n",
      "away_score    68420 non-null float64\n",
      "dtypes: bool(1), float64(2), int64(2), object(3)\n",
      "memory usage: 4.2+ MB\n"
     ]
    },
    {
     "data": {
      "text/html": [
       "<div>\n",
       "<table border=\"1\" class=\"dataframe\">\n",
       "  <thead>\n",
       "    <tr style=\"text-align: right;\">\n",
       "      <th></th>\n",
       "      <th>home_team</th>\n",
       "      <th>away_team</th>\n",
       "      <th>match_id</th>\n",
       "      <th>round_id</th>\n",
       "      <th>replay</th>\n",
       "      <th>home_score</th>\n",
       "      <th>date</th>\n",
       "      <th>away_score</th>\n",
       "    </tr>\n",
       "  </thead>\n",
       "  <tbody>\n",
       "    <tr>\n",
       "      <th>0</th>\n",
       "      <td>Royal Engineers</td>\n",
       "      <td>Crystal Palace (1)</td>\n",
       "      <td>16066</td>\n",
       "      <td>10682</td>\n",
       "      <td>True</td>\n",
       "      <td>3</td>\n",
       "      <td>09.03.72</td>\n",
       "      <td>0</td>\n",
       "    </tr>\n",
       "    <tr>\n",
       "      <th>1</th>\n",
       "      <td>Wanderers</td>\n",
       "      <td>Queen's Park (Glasgow)</td>\n",
       "      <td>16065</td>\n",
       "      <td>10682</td>\n",
       "      <td>False</td>\n",
       "      <td>0</td>\n",
       "      <td>05.03.72</td>\n",
       "      <td>0</td>\n",
       "    </tr>\n",
       "    <tr>\n",
       "      <th>2</th>\n",
       "      <td>Royal Engineers</td>\n",
       "      <td>Crystal Palace (1)</td>\n",
       "      <td>16064</td>\n",
       "      <td>10682</td>\n",
       "      <td>False</td>\n",
       "      <td>0</td>\n",
       "      <td>17.02.72</td>\n",
       "      <td>0</td>\n",
       "    </tr>\n",
       "    <tr>\n",
       "      <th>3</th>\n",
       "      <td>Wanderers</td>\n",
       "      <td>Queen's Park (Glasgow)</td>\n",
       "      <td>16067</td>\n",
       "      <td>10682</td>\n",
       "      <td>True</td>\n",
       "      <td>0</td>\n",
       "      <td>01.01.01</td>\n",
       "      <td>0</td>\n",
       "    </tr>\n",
       "    <tr>\n",
       "      <th>4</th>\n",
       "      <td>Hitchin</td>\n",
       "      <td>Royal Engineers</td>\n",
       "      <td>16057</td>\n",
       "      <td>10681</td>\n",
       "      <td>False</td>\n",
       "      <td>0</td>\n",
       "      <td>10.01.72</td>\n",
       "      <td>5</td>\n",
       "    </tr>\n",
       "  </tbody>\n",
       "</table>\n",
       "</div>"
      ],
      "text/plain": [
       "         home_team               away_team  match_id  round_id replay  \\\n",
       "0  Royal Engineers      Crystal Palace (1)     16066     10682   True   \n",
       "1        Wanderers  Queen's Park (Glasgow)     16065     10682  False   \n",
       "2  Royal Engineers      Crystal Palace (1)     16064     10682  False   \n",
       "3        Wanderers  Queen's Park (Glasgow)     16067     10682   True   \n",
       "4          Hitchin         Royal Engineers     16057     10681  False   \n",
       "\n",
       "   home_score      date  away_score  \n",
       "0           3  09.03.72           0  \n",
       "1           0  05.03.72           0  \n",
       "2           0  17.02.72           0  \n",
       "3           0  01.01.01           0  \n",
       "4           0  10.01.72           5  "
      ]
     },
     "execution_count": 4,
     "metadata": {},
     "output_type": "execute_result"
    }
   ],
   "source": [
    "matches.info(); matches.head()"
   ]
  },
  {
   "cell_type": "code",
   "execution_count": 5,
   "metadata": {
    "collapsed": false
   },
   "outputs": [
    {
     "name": "stdout",
     "output_type": "stream",
     "text": [
      "<class 'pandas.core.frame.DataFrame'>\n",
      "Int64Index: 1507 entries, 0 to 1506\n",
      "Data columns (total 5 columns):\n",
      "round_id    1507 non-null int64\n",
      "round       1507 non-null object\n",
      "year_id     1507 non-null int64\n",
      "year        1507 non-null int64\n",
      "stage       1507 non-null float64\n",
      "dtypes: float64(1), int64(3), object(1)\n",
      "memory usage: 70.6+ KB\n"
     ]
    },
    {
     "data": {
      "text/html": [
       "<div>\n",
       "<table border=\"1\" class=\"dataframe\">\n",
       "  <thead>\n",
       "    <tr style=\"text-align: right;\">\n",
       "      <th></th>\n",
       "      <th>round_id</th>\n",
       "      <th>round</th>\n",
       "      <th>year_id</th>\n",
       "      <th>year</th>\n",
       "      <th>stage</th>\n",
       "    </tr>\n",
       "  </thead>\n",
       "  <tbody>\n",
       "    <tr>\n",
       "      <th>0</th>\n",
       "      <td>10682</td>\n",
       "      <td>Semi-Final</td>\n",
       "      <td>71234</td>\n",
       "      <td>1872</td>\n",
       "      <td>4</td>\n",
       "    </tr>\n",
       "    <tr>\n",
       "      <th>1</th>\n",
       "      <td>10681</td>\n",
       "      <td>Second Round Proper</td>\n",
       "      <td>71234</td>\n",
       "      <td>1872</td>\n",
       "      <td>2</td>\n",
       "    </tr>\n",
       "    <tr>\n",
       "      <th>2</th>\n",
       "      <td>10683</td>\n",
       "      <td>Third Round Proper</td>\n",
       "      <td>71234</td>\n",
       "      <td>1872</td>\n",
       "      <td>3</td>\n",
       "    </tr>\n",
       "    <tr>\n",
       "      <th>3</th>\n",
       "      <td>10680</td>\n",
       "      <td>First Round Proper</td>\n",
       "      <td>71234</td>\n",
       "      <td>1872</td>\n",
       "      <td>1</td>\n",
       "    </tr>\n",
       "    <tr>\n",
       "      <th>4</th>\n",
       "      <td>10689</td>\n",
       "      <td>Third Round Proper</td>\n",
       "      <td>71235</td>\n",
       "      <td>1873</td>\n",
       "      <td>3</td>\n",
       "    </tr>\n",
       "  </tbody>\n",
       "</table>\n",
       "</div>"
      ],
      "text/plain": [
       "   round_id                round  year_id  year  stage\n",
       "0     10682           Semi-Final    71234  1872      4\n",
       "1     10681  Second Round Proper    71234  1872      2\n",
       "2     10683   Third Round Proper    71234  1872      3\n",
       "3     10680   First Round Proper    71234  1872      1\n",
       "4     10689   Third Round Proper    71235  1873      3"
      ]
     },
     "execution_count": 5,
     "metadata": {},
     "output_type": "execute_result"
    }
   ],
   "source": [
    "# read .csv containing round names, year and stage for each round_id and merge with results\n",
    "\n",
    "#Stage this is the numeric round number of a particular year,\n",
    "# e.g. first qualifying round = 1 and final = number of rounds in that year\n",
    "\n",
    "years = pd.read_csv('years_edit.csv')\n",
    "\n",
    "years.info(); years.head()"
   ]
  },
  {
   "cell_type": "code",
   "execution_count": 6,
   "metadata": {
    "collapsed": false
   },
   "outputs": [
    {
     "data": {
      "text/plain": [
       "1507"
      ]
     },
     "execution_count": 6,
     "metadata": {},
     "output_type": "execute_result"
    }
   ],
   "source": [
    "# checking all rounds have been scraped, should equal 1507\n",
    "\n",
    "matches.round_id.nunique()"
   ]
  },
  {
   "cell_type": "code",
   "execution_count": 7,
   "metadata": {
    "collapsed": false
   },
   "outputs": [
    {
     "name": "stdout",
     "output_type": "stream",
     "text": [
      "<class 'pandas.core.frame.DataFrame'>\n",
      "Int64Index: 68510 entries, 0 to 68509\n",
      "Data columns (total 12 columns):\n",
      "home_team     68508 non-null object\n",
      "away_team     68510 non-null object\n",
      "match_id      68510 non-null int64\n",
      "round_id      68510 non-null int64\n",
      "replay        68510 non-null bool\n",
      "home_score    68420 non-null float64\n",
      "date          68510 non-null object\n",
      "away_score    68420 non-null float64\n",
      "round         68510 non-null object\n",
      "year_id       68510 non-null int64\n",
      "year          68510 non-null int64\n",
      "stage         68510 non-null float64\n",
      "dtypes: bool(1), float64(3), int64(4), object(4)\n",
      "memory usage: 6.3+ MB\n"
     ]
    },
    {
     "data": {
      "text/html": [
       "<div>\n",
       "<table border=\"1\" class=\"dataframe\">\n",
       "  <thead>\n",
       "    <tr style=\"text-align: right;\">\n",
       "      <th></th>\n",
       "      <th>home_team</th>\n",
       "      <th>away_team</th>\n",
       "      <th>match_id</th>\n",
       "      <th>round_id</th>\n",
       "      <th>replay</th>\n",
       "      <th>home_score</th>\n",
       "      <th>date</th>\n",
       "      <th>away_score</th>\n",
       "      <th>round</th>\n",
       "      <th>year_id</th>\n",
       "      <th>year</th>\n",
       "      <th>stage</th>\n",
       "    </tr>\n",
       "  </thead>\n",
       "  <tbody>\n",
       "    <tr>\n",
       "      <th>0</th>\n",
       "      <td>Royal Engineers</td>\n",
       "      <td>Crystal Palace (1)</td>\n",
       "      <td>16066</td>\n",
       "      <td>10682</td>\n",
       "      <td>True</td>\n",
       "      <td>3</td>\n",
       "      <td>09.03.72</td>\n",
       "      <td>0</td>\n",
       "      <td>Semi-Final</td>\n",
       "      <td>71234</td>\n",
       "      <td>1872</td>\n",
       "      <td>4</td>\n",
       "    </tr>\n",
       "    <tr>\n",
       "      <th>1</th>\n",
       "      <td>Wanderers</td>\n",
       "      <td>Queen's Park (Glasgow)</td>\n",
       "      <td>16065</td>\n",
       "      <td>10682</td>\n",
       "      <td>False</td>\n",
       "      <td>0</td>\n",
       "      <td>05.03.72</td>\n",
       "      <td>0</td>\n",
       "      <td>Semi-Final</td>\n",
       "      <td>71234</td>\n",
       "      <td>1872</td>\n",
       "      <td>4</td>\n",
       "    </tr>\n",
       "    <tr>\n",
       "      <th>2</th>\n",
       "      <td>Royal Engineers</td>\n",
       "      <td>Crystal Palace (1)</td>\n",
       "      <td>16064</td>\n",
       "      <td>10682</td>\n",
       "      <td>False</td>\n",
       "      <td>0</td>\n",
       "      <td>17.02.72</td>\n",
       "      <td>0</td>\n",
       "      <td>Semi-Final</td>\n",
       "      <td>71234</td>\n",
       "      <td>1872</td>\n",
       "      <td>4</td>\n",
       "    </tr>\n",
       "    <tr>\n",
       "      <th>3</th>\n",
       "      <td>Wanderers</td>\n",
       "      <td>Queen's Park (Glasgow)</td>\n",
       "      <td>16067</td>\n",
       "      <td>10682</td>\n",
       "      <td>True</td>\n",
       "      <td>0</td>\n",
       "      <td>01.01.01</td>\n",
       "      <td>0</td>\n",
       "      <td>Semi-Final</td>\n",
       "      <td>71234</td>\n",
       "      <td>1872</td>\n",
       "      <td>4</td>\n",
       "    </tr>\n",
       "    <tr>\n",
       "      <th>4</th>\n",
       "      <td>Hitchin</td>\n",
       "      <td>Royal Engineers</td>\n",
       "      <td>16057</td>\n",
       "      <td>10681</td>\n",
       "      <td>False</td>\n",
       "      <td>0</td>\n",
       "      <td>10.01.72</td>\n",
       "      <td>5</td>\n",
       "      <td>Second Round Proper</td>\n",
       "      <td>71234</td>\n",
       "      <td>1872</td>\n",
       "      <td>2</td>\n",
       "    </tr>\n",
       "  </tbody>\n",
       "</table>\n",
       "</div>"
      ],
      "text/plain": [
       "         home_team               away_team  match_id  round_id replay  \\\n",
       "0  Royal Engineers      Crystal Palace (1)     16066     10682   True   \n",
       "1        Wanderers  Queen's Park (Glasgow)     16065     10682  False   \n",
       "2  Royal Engineers      Crystal Palace (1)     16064     10682  False   \n",
       "3        Wanderers  Queen's Park (Glasgow)     16067     10682   True   \n",
       "4          Hitchin         Royal Engineers     16057     10681  False   \n",
       "\n",
       "   home_score      date  away_score                round  year_id  year  stage  \n",
       "0           3  09.03.72           0           Semi-Final    71234  1872      4  \n",
       "1           0  05.03.72           0           Semi-Final    71234  1872      4  \n",
       "2           0  17.02.72           0           Semi-Final    71234  1872      4  \n",
       "3           0  01.01.01           0           Semi-Final    71234  1872      4  \n",
       "4           0  10.01.72           5  Second Round Proper    71234  1872      2  "
      ]
     },
     "execution_count": 7,
     "metadata": {},
     "output_type": "execute_result"
    }
   ],
   "source": [
    "matches = pd.merge(matches, years, how='inner', on='round_id')\n",
    "\n",
    "matches.info(); matches.head()"
   ]
  },
  {
   "cell_type": "code",
   "execution_count": 8,
   "metadata": {
    "collapsed": false
   },
   "outputs": [
    {
     "name": "stdout",
     "output_type": "stream",
     "text": [
      "<class 'pandas.core.frame.DataFrame'>\n",
      "Int64Index: 92 entries, 55448 to 68470\n",
      "Data columns (total 12 columns):\n",
      "home_team     90 non-null object\n",
      "away_team     92 non-null object\n",
      "match_id      92 non-null int64\n",
      "round_id      92 non-null int64\n",
      "replay        92 non-null bool\n",
      "home_score    2 non-null float64\n",
      "date          92 non-null object\n",
      "away_score    2 non-null float64\n",
      "round         92 non-null object\n",
      "year_id       92 non-null int64\n",
      "year          92 non-null int64\n",
      "stage         92 non-null float64\n",
      "dtypes: bool(1), float64(3), int64(4), object(4)\n",
      "memory usage: 8.7+ KB\n"
     ]
    }
   ],
   "source": [
    "# returning rows with missing data\n",
    "\n",
    "missing = matches[matches.isnull().any(axis=1)]\n",
    "\n",
    "missing.info()"
   ]
  },
  {
   "cell_type": "code",
   "execution_count": 9,
   "metadata": {
    "collapsed": false
   },
   "outputs": [],
   "source": [
    "# 2 missing home_teams and 90 missing scorelines, analysing missing scores first \n",
    "# grouping by team and round and returning groups which have a missing score\n",
    "\n",
    "no_score = matches.groupby(['round_id','home_team', 'away_team']).filter(lambda x: x['home_score'].isnull().max())"
   ]
  },
  {
   "cell_type": "code",
   "execution_count": 10,
   "metadata": {
    "collapsed": false
   },
   "outputs": [
    {
     "data": {
      "text/html": [
       "<div>\n",
       "<table border=\"1\" class=\"dataframe\">\n",
       "  <thead>\n",
       "    <tr style=\"text-align: right;\">\n",
       "      <th></th>\n",
       "      <th>home_team</th>\n",
       "      <th>away_team</th>\n",
       "      <th>match_id</th>\n",
       "      <th>round_id</th>\n",
       "      <th>replay</th>\n",
       "      <th>home_score</th>\n",
       "      <th>date</th>\n",
       "      <th>away_score</th>\n",
       "      <th>round</th>\n",
       "      <th>year_id</th>\n",
       "      <th>year</th>\n",
       "      <th>stage</th>\n",
       "    </tr>\n",
       "  </thead>\n",
       "  <tbody>\n",
       "    <tr>\n",
       "      <th>67298</th>\n",
       "      <td>AFC Bournemouth</td>\n",
       "      <td>Burton Albion</td>\n",
       "      <td>390156</td>\n",
       "      <td>12744</td>\n",
       "      <td>False</td>\n",
       "      <td>4</td>\n",
       "      <td>14.01.14</td>\n",
       "      <td>1</td>\n",
       "      <td>Third Round Proper</td>\n",
       "      <td>75769</td>\n",
       "      <td>2014</td>\n",
       "      <td>9</td>\n",
       "    </tr>\n",
       "    <tr>\n",
       "      <th>67315</th>\n",
       "      <td>AFC Bournemouth</td>\n",
       "      <td>Burton Albion</td>\n",
       "      <td>383299</td>\n",
       "      <td>12744</td>\n",
       "      <td>False</td>\n",
       "      <td>NaN</td>\n",
       "      <td>04.01.14</td>\n",
       "      <td>NaN</td>\n",
       "      <td>Third Round Proper</td>\n",
       "      <td>75769</td>\n",
       "      <td>2014</td>\n",
       "      <td>9</td>\n",
       "    </tr>\n",
       "    <tr>\n",
       "      <th>63527</th>\n",
       "      <td>Accrington Stanley</td>\n",
       "      <td>Gillingham</td>\n",
       "      <td>98745</td>\n",
       "      <td>12237</td>\n",
       "      <td>False</td>\n",
       "      <td>1</td>\n",
       "      <td>19.01.10</td>\n",
       "      <td>0</td>\n",
       "      <td>Third Round Proper</td>\n",
       "      <td>75425</td>\n",
       "      <td>2010</td>\n",
       "      <td>9</td>\n",
       "    </tr>\n",
       "    <tr>\n",
       "      <th>63533</th>\n",
       "      <td>Accrington Stanley</td>\n",
       "      <td>Gillingham</td>\n",
       "      <td>98589</td>\n",
       "      <td>12237</td>\n",
       "      <td>False</td>\n",
       "      <td>NaN</td>\n",
       "      <td>12.01.10</td>\n",
       "      <td>NaN</td>\n",
       "      <td>Third Round Proper</td>\n",
       "      <td>75425</td>\n",
       "      <td>2010</td>\n",
       "      <td>9</td>\n",
       "    </tr>\n",
       "    <tr>\n",
       "      <th>63548</th>\n",
       "      <td>Accrington Stanley</td>\n",
       "      <td>Gillingham</td>\n",
       "      <td>98084</td>\n",
       "      <td>12237</td>\n",
       "      <td>False</td>\n",
       "      <td>NaN</td>\n",
       "      <td>02.01.10</td>\n",
       "      <td>NaN</td>\n",
       "      <td>Third Round Proper</td>\n",
       "      <td>75425</td>\n",
       "      <td>2010</td>\n",
       "      <td>9</td>\n",
       "    </tr>\n",
       "  </tbody>\n",
       "</table>\n",
       "</div>"
      ],
      "text/plain": [
       "                home_team      away_team  match_id  round_id replay  \\\n",
       "67298     AFC Bournemouth  Burton Albion    390156     12744  False   \n",
       "67315     AFC Bournemouth  Burton Albion    383299     12744  False   \n",
       "63527  Accrington Stanley     Gillingham     98745     12237  False   \n",
       "63533  Accrington Stanley     Gillingham     98589     12237  False   \n",
       "63548  Accrington Stanley     Gillingham     98084     12237  False   \n",
       "\n",
       "       home_score      date  away_score               round  year_id  year  \\\n",
       "67298           4  14.01.14           1  Third Round Proper    75769  2014   \n",
       "67315         NaN  04.01.14         NaN  Third Round Proper    75769  2014   \n",
       "63527           1  19.01.10           0  Third Round Proper    75425  2010   \n",
       "63533         NaN  12.01.10         NaN  Third Round Proper    75425  2010   \n",
       "63548         NaN  02.01.10         NaN  Third Round Proper    75425  2010   \n",
       "\n",
       "       stage  \n",
       "67298      9  \n",
       "67315      9  \n",
       "63527      9  \n",
       "63533      9  \n",
       "63548      9  "
      ]
     },
     "execution_count": 10,
     "metadata": {},
     "output_type": "execute_result"
    }
   ],
   "source": [
    "#returning groups that have more than one row, these are matches which were rescheduled and so missing values can be dropped\n",
    "\n",
    "no_score.groupby(['round_id','home_team', 'away_team']).filter(lambda x: len(x) > 1).sort_values(['home_team','round_id']).head()"
   ]
  },
  {
   "cell_type": "code",
   "execution_count": 11,
   "metadata": {
    "collapsed": false
   },
   "outputs": [
    {
     "data": {
      "text/html": [
       "<div>\n",
       "<table border=\"1\" class=\"dataframe\">\n",
       "  <thead>\n",
       "    <tr style=\"text-align: right;\">\n",
       "      <th></th>\n",
       "      <th>home_team</th>\n",
       "      <th>away_team</th>\n",
       "      <th>match_id</th>\n",
       "      <th>round_id</th>\n",
       "      <th>replay</th>\n",
       "      <th>home_score</th>\n",
       "      <th>date</th>\n",
       "      <th>away_score</th>\n",
       "      <th>round</th>\n",
       "      <th>year_id</th>\n",
       "      <th>year</th>\n",
       "      <th>stage</th>\n",
       "    </tr>\n",
       "  </thead>\n",
       "  <tbody>\n",
       "    <tr>\n",
       "      <th>55448</th>\n",
       "      <td>Gillingham</td>\n",
       "      <td>Darlington</td>\n",
       "      <td>71833</td>\n",
       "      <td>9723</td>\n",
       "      <td>False</td>\n",
       "      <td>NaN</td>\n",
       "      <td>20.11.99</td>\n",
       "      <td>NaN</td>\n",
       "      <td>Second Round Proper</td>\n",
       "      <td>71048</td>\n",
       "      <td>2000</td>\n",
       "      <td>7</td>\n",
       "    </tr>\n",
       "    <tr>\n",
       "      <th>59563</th>\n",
       "      <td>Thornaby</td>\n",
       "      <td>Dunston UTS</td>\n",
       "      <td>14788</td>\n",
       "      <td>10144</td>\n",
       "      <td>True</td>\n",
       "      <td>NaN</td>\n",
       "      <td>28.09.05</td>\n",
       "      <td>NaN</td>\n",
       "      <td>Second Qualifying Round</td>\n",
       "      <td>71054</td>\n",
       "      <td>2006</td>\n",
       "      <td>4</td>\n",
       "    </tr>\n",
       "    <tr>\n",
       "      <th>59957</th>\n",
       "      <td>Stocksbridge Park Steels</td>\n",
       "      <td>Washington</td>\n",
       "      <td>14787</td>\n",
       "      <td>10142</td>\n",
       "      <td>True</td>\n",
       "      <td>NaN</td>\n",
       "      <td>30.08.05</td>\n",
       "      <td>NaN</td>\n",
       "      <td>Preliminary Round</td>\n",
       "      <td>71054</td>\n",
       "      <td>2006</td>\n",
       "      <td>2</td>\n",
       "    </tr>\n",
       "  </tbody>\n",
       "</table>\n",
       "</div>"
      ],
      "text/plain": [
       "                      home_team    away_team  match_id  round_id replay  \\\n",
       "55448                Gillingham   Darlington     71833      9723  False   \n",
       "59563                  Thornaby  Dunston UTS     14788     10144   True   \n",
       "59957  Stocksbridge Park Steels   Washington     14787     10142   True   \n",
       "\n",
       "       home_score      date  away_score                    round  year_id  \\\n",
       "55448         NaN  20.11.99         NaN      Second Round Proper    71048   \n",
       "59563         NaN  28.09.05         NaN  Second Qualifying Round    71054   \n",
       "59957         NaN  30.08.05         NaN        Preliminary Round    71054   \n",
       "\n",
       "       year  stage  \n",
       "55448  2000      7  \n",
       "59563  2006      4  \n",
       "59957  2006      2  "
      ]
     },
     "execution_count": 11,
     "metadata": {},
     "output_type": "execute_result"
    }
   ],
   "source": [
    "# returning groups that only have one row, these need to be filled in (ref. wikipedia)\n",
    "\n",
    "no_score.groupby(['round_id','home_team', 'away_team']).filter(lambda x: len(x) == 1)"
   ]
  },
  {
   "cell_type": "code",
   "execution_count": 12,
   "metadata": {
    "collapsed": false
   },
   "outputs": [],
   "source": [
    "matches.ix[55448, 'home_score'] = 3\n",
    "matches.ix[55448, 'away_score'] = 1\n",
    "\n",
    "matches.ix[59563, 'home_score'] = 2\n",
    "matches.ix[59563, 'away_score'] = 1\n",
    "\n",
    "matches.ix[59957, 'home_score'] = 1\n",
    "matches.ix[59957, 'away_score'] = 1"
   ]
  },
  {
   "cell_type": "code",
   "execution_count": 13,
   "metadata": {
    "collapsed": false
   },
   "outputs": [
    {
     "data": {
      "text/html": [
       "<div>\n",
       "<table border=\"1\" class=\"dataframe\">\n",
       "  <thead>\n",
       "    <tr style=\"text-align: right;\">\n",
       "      <th></th>\n",
       "      <th>home_team</th>\n",
       "      <th>away_team</th>\n",
       "      <th>match_id</th>\n",
       "      <th>round_id</th>\n",
       "      <th>replay</th>\n",
       "      <th>home_score</th>\n",
       "      <th>date</th>\n",
       "      <th>away_score</th>\n",
       "      <th>round</th>\n",
       "      <th>year_id</th>\n",
       "      <th>year</th>\n",
       "      <th>stage</th>\n",
       "    </tr>\n",
       "  </thead>\n",
       "  <tbody>\n",
       "    <tr>\n",
       "      <th>66729</th>\n",
       "      <td>NaN</td>\n",
       "      <td>AFC Sudbury</td>\n",
       "      <td>364896</td>\n",
       "      <td>12739</td>\n",
       "      <td>False</td>\n",
       "      <td>0</td>\n",
       "      <td>28.09.13</td>\n",
       "      <td>0</td>\n",
       "      <td>Second Round Qualifying</td>\n",
       "      <td>75769</td>\n",
       "      <td>2014</td>\n",
       "      <td>4</td>\n",
       "    </tr>\n",
       "    <tr>\n",
       "      <th>68030</th>\n",
       "      <td>NaN</td>\n",
       "      <td>Weston Super Mare</td>\n",
       "      <td>433203</td>\n",
       "      <td>12821</td>\n",
       "      <td>False</td>\n",
       "      <td>1</td>\n",
       "      <td>11.10.14</td>\n",
       "      <td>4</td>\n",
       "      <td>Third Round Qualifying</td>\n",
       "      <td>75823</td>\n",
       "      <td>2015</td>\n",
       "      <td>5</td>\n",
       "    </tr>\n",
       "  </tbody>\n",
       "</table>\n",
       "</div>"
      ],
      "text/plain": [
       "      home_team          away_team  match_id  round_id replay  home_score  \\\n",
       "66729       NaN        AFC Sudbury    364896     12739  False           0   \n",
       "68030       NaN  Weston Super Mare    433203     12821  False           1   \n",
       "\n",
       "           date  away_score                    round  year_id  year  stage  \n",
       "66729  28.09.13           0  Second Round Qualifying    75769  2014      4  \n",
       "68030  11.10.14           4   Third Round Qualifying    75823  2015      5  "
      ]
     },
     "execution_count": 13,
     "metadata": {},
     "output_type": "execute_result"
    }
   ],
   "source": [
    "# also filling missing team names\n",
    "\n",
    "matches[matches.home_team.isnull()]"
   ]
  },
  {
   "cell_type": "code",
   "execution_count": 14,
   "metadata": {
    "collapsed": true
   },
   "outputs": [],
   "source": [
    "matches.ix[66729, 'home_team'] = 'Bye'\n",
    "matches.ix[68030, 'home_team'] = 'Flackwell Heath'"
   ]
  },
  {
   "cell_type": "code",
   "execution_count": 15,
   "metadata": {
    "collapsed": false
   },
   "outputs": [],
   "source": [
    "matches.dropna(inplace = True) #dropping all remaining rows with NaN values "
   ]
  },
  {
   "cell_type": "code",
   "execution_count": 16,
   "metadata": {
    "collapsed": false
   },
   "outputs": [
    {
     "name": "stdout",
     "output_type": "stream",
     "text": [
      "<class 'pandas.core.frame.DataFrame'>\n",
      "Int64Index: 68423 entries, 0 to 68509\n",
      "Data columns (total 12 columns):\n",
      "home_team     68423 non-null object\n",
      "away_team     68423 non-null object\n",
      "match_id      68423 non-null int64\n",
      "round_id      68423 non-null int64\n",
      "replay        68423 non-null bool\n",
      "home_score    68423 non-null float64\n",
      "date          68423 non-null object\n",
      "away_score    68423 non-null float64\n",
      "round         68423 non-null object\n",
      "year_id       68423 non-null int64\n",
      "year          68423 non-null int64\n",
      "stage         68423 non-null float64\n",
      "dtypes: bool(1), float64(3), int64(4), object(4)\n",
      "memory usage: 6.3+ MB\n"
     ]
    }
   ],
   "source": [
    "matches.info()"
   ]
  },
  {
   "cell_type": "code",
   "execution_count": 17,
   "metadata": {
    "collapsed": false
   },
   "outputs": [
    {
     "data": {
      "text/plain": [
       "First Qualifying Round     14314\n",
       "Preliminary Round          13864\n",
       "Second Qualifying Round     8063\n",
       "First Round Proper          5786\n",
       "Extra Preliminary Round     4796\n",
       "Third Qualifying Round      4290\n",
       "Third Round Proper          3968\n",
       "Fourth Qualifying Round     3448\n",
       "Second Round Proper         2958\n",
       "Fourth Round Proper         1949\n",
       "First Round Qualifying      1134\n",
       "Fifth Round Proper           932\n",
       "Second Round Qualifying      786\n",
       "Sixth Round Proper           458\n",
       "Fifth Qualifying Round       409\n",
       "Third Round Qualifying       390\n",
       "Fourth Round Qualifying      323\n",
       "Semi-Final                   321\n",
       "Sixth Qualifying Round       120\n",
       "Intermediate Round            70\n",
       "Final                         28\n",
       "Semi Final                    16\n",
       "Name: round, dtype: int64"
      ]
     },
     "execution_count": 17,
     "metadata": {},
     "output_type": "execute_result"
    }
   ],
   "source": [
    "# finding round names and creating new 'qualifier' column\n",
    "\n",
    "matches['round'].value_counts()"
   ]
  },
  {
   "cell_type": "code",
   "execution_count": 18,
   "metadata": {
    "collapsed": true
   },
   "outputs": [],
   "source": [
    "# n.b. Semi Final and Semi-Final, will fix this later in notebook"
   ]
  },
  {
   "cell_type": "code",
   "execution_count": 19,
   "metadata": {
    "collapsed": false
   },
   "outputs": [
    {
     "name": "stdout",
     "output_type": "stream",
     "text": [
      "<class 'pandas.core.frame.DataFrame'>\n",
      "Int64Index: 68423 entries, 0 to 68509\n",
      "Data columns (total 13 columns):\n",
      "home_team     68423 non-null object\n",
      "away_team     68423 non-null object\n",
      "match_id      68423 non-null int64\n",
      "round_id      68423 non-null int64\n",
      "replay        68423 non-null bool\n",
      "home_score    68423 non-null float64\n",
      "date          68423 non-null object\n",
      "away_score    68423 non-null float64\n",
      "round         68423 non-null object\n",
      "year_id       68423 non-null int64\n",
      "year          68423 non-null int64\n",
      "stage         68423 non-null float64\n",
      "qualifier     68423 non-null bool\n",
      "dtypes: bool(2), float64(3), int64(4), object(4)\n",
      "memory usage: 6.4+ MB\n"
     ]
    }
   ],
   "source": [
    "matches['qualifier'] = matches['round'].str.contains(\"Qualifying|Preliminary\") #search for regex expression, return boolean\n",
    "\n",
    "matches.info()"
   ]
  },
  {
   "cell_type": "code",
   "execution_count": 20,
   "metadata": {
    "collapsed": false
   },
   "outputs": [
    {
     "name": "stdout",
     "output_type": "stream",
     "text": [
      "<class 'pandas.core.frame.DataFrame'>\n",
      "Int64Index: 120 entries, 0 to 119\n",
      "Data columns (total 13 columns):\n",
      "home_team     120 non-null object\n",
      "away_team     120 non-null object\n",
      "match_id      120 non-null int64\n",
      "round_id      120 non-null int64\n",
      "year_id       120 non-null int64\n",
      "replay        120 non-null bool\n",
      "home_score    120 non-null int64\n",
      "year          120 non-null int64\n",
      "date          120 non-null object\n",
      "away_score    120 non-null int64\n",
      "round         120 non-null object\n",
      "stage         120 non-null int64\n",
      "qualifier     120 non-null bool\n",
      "dtypes: bool(2), int64(7), object(4)\n",
      "memory usage: 11.5+ KB\n"
     ]
    }
   ],
   "source": [
    "# loading finals .csv file. Most finals were not scraped with main results due to different formatting on website\n",
    "\n",
    "finals = pd.read_csv('results_finals.csv')\n",
    "\n",
    "finals.info()"
   ]
  },
  {
   "cell_type": "code",
   "execution_count": 21,
   "metadata": {
    "collapsed": false
   },
   "outputs": [
    {
     "name": "stdout",
     "output_type": "stream",
     "text": [
      "<class 'pandas.core.frame.DataFrame'>\n",
      "Int64Index: 68543 entries, 0 to 68542\n",
      "Data columns (total 13 columns):\n",
      "away_score    68543 non-null float64\n",
      "away_team     68543 non-null object\n",
      "date          68543 non-null object\n",
      "home_score    68543 non-null float64\n",
      "home_team     68543 non-null object\n",
      "match_id      68543 non-null int64\n",
      "qualifier     68543 non-null bool\n",
      "replay        68543 non-null bool\n",
      "round         68543 non-null object\n",
      "round_id      68543 non-null int64\n",
      "stage         68543 non-null float64\n",
      "year          68543 non-null int64\n",
      "year_id       68543 non-null int64\n",
      "dtypes: bool(2), float64(3), int64(4), object(4)\n",
      "memory usage: 6.4+ MB\n"
     ]
    }
   ],
   "source": [
    "matches = pd.concat([matches, finals], ignore_index = True)\n",
    "\n",
    "matches.info()"
   ]
  },
  {
   "cell_type": "code",
   "execution_count": 22,
   "metadata": {
    "collapsed": false
   },
   "outputs": [
    {
     "data": {
      "text/plain": [
       "First Qualifying Round     14314\n",
       "Preliminary Round          13864\n",
       "Second Qualifying Round     8063\n",
       "First Round Proper          5786\n",
       "Extra Preliminary Round     4796\n",
       "Third Qualifying Round      4290\n",
       "Third Round Proper          3968\n",
       "Fourth Qualifying Round     3448\n",
       "Second Round Proper         2958\n",
       "Fourth Round Proper         1949\n",
       "First Round Qualifying      1134\n",
       "Fifth Round Proper           932\n",
       "Second Round Qualifying      786\n",
       "Sixth Round Proper           458\n",
       "Fifth Qualifying Round       409\n",
       "Third Round Qualifying       390\n",
       "Semi-Final                   337\n",
       "Fourth Round Qualifying      323\n",
       "Final                        148\n",
       "Sixth Qualifying Round       120\n",
       "Intermediate Round            70\n",
       "Name: round, dtype: int64"
      ]
     },
     "execution_count": 22,
     "metadata": {},
     "output_type": "execute_result"
    }
   ],
   "source": [
    "matches.replace('Semi Final', 'Semi-Final', inplace=True)\n",
    "\n",
    "matches['round'].value_counts()"
   ]
  },
  {
   "cell_type": "code",
   "execution_count": 23,
   "metadata": {
    "collapsed": true
   },
   "outputs": [],
   "source": [
    "# Semi-Final / Semi Final regularisation complete\n",
    "\n",
    "# the newly joined finals did not have a match_id value so confirming this then assigning a unique match_id to them"
   ]
  },
  {
   "cell_type": "code",
   "execution_count": 24,
   "metadata": {
    "collapsed": false
   },
   "outputs": [
    {
     "data": {
      "text/plain": [
       "0        120\n",
       "68340      1\n",
       "60168      1\n",
       "37639      1\n",
       "39686      1\n",
       "Name: match_id, dtype: int64"
      ]
     },
     "execution_count": 24,
     "metadata": {},
     "output_type": "execute_result"
    }
   ],
   "source": [
    "matches['match_id'].value_counts().head()"
   ]
  },
  {
   "cell_type": "code",
   "execution_count": 28,
   "metadata": {
    "collapsed": false
   },
   "outputs": [],
   "source": [
    "matches.loc[(matches['match_id'] == 0),'match_id'] = matches.index + 5000000"
   ]
  },
  {
   "cell_type": "code",
   "execution_count": 30,
   "metadata": {
    "collapsed": false
   },
   "outputs": [
    {
     "data": {
      "text/plain": [
       "16376    1\n",
       "43776    1\n",
       "56078    1\n",
       "49933    1\n",
       "51980    1\n",
       "Name: match_id, dtype: int64"
      ]
     },
     "execution_count": 30,
     "metadata": {},
     "output_type": "execute_result"
    }
   ],
   "source": [
    "matches['match_id'].value_counts().head()"
   ]
  },
  {
   "cell_type": "code",
   "execution_count": 33,
   "metadata": {
    "collapsed": true
   },
   "outputs": [],
   "source": [
    "# sorted :) now match_id is unique for each row\n",
    "\n",
    "# now the correct 'stage' value needs to be assigned to new finals rows (currently = 0) \n",
    "# we start by giving new finals a generic large value and then creating a rank function"
   ]
  },
  {
   "cell_type": "code",
   "execution_count": 34,
   "metadata": {
    "collapsed": true
   },
   "outputs": [],
   "source": [
    "matches.loc[matches['stage'] == 0,'stage'] = 100"
   ]
  },
  {
   "cell_type": "code",
   "execution_count": 35,
   "metadata": {
    "collapsed": false
   },
   "outputs": [
    {
     "data": {
      "text/plain": [
       "2      18432\n",
       "1      11293\n",
       "3      11153\n",
       "4       6483\n",
       "6       4307\n",
       "5       4154\n",
       "7       3571\n",
       "8       3388\n",
       "9       2940\n",
       "10      1484\n",
       "11       741\n",
       "12       361\n",
       "100      120\n",
       "13       116\n",
       "Name: stage, dtype: int64"
      ]
     },
     "execution_count": 35,
     "metadata": {},
     "output_type": "execute_result"
    }
   ],
   "source": [
    "matches['stage'].value_counts()"
   ]
  },
  {
   "cell_type": "code",
   "execution_count": 36,
   "metadata": {
    "collapsed": false
   },
   "outputs": [],
   "source": [
    "# function to set final 'stage' equal to semi-final 'stage' + 1 for each group\n",
    "\n",
    "def final_stage(grp):\n",
    "    grp.ix[(grp['round'] == 'Final'), 'stage'] = grp.ix[(grp['round'] == 'Semi-Final'), 'stage'].max() + 1\n",
    "    return grp\n",
    "\n",
    "# grouping by year and applying function\n",
    "\n",
    "matches = matches.groupby('year').apply(final_stage)"
   ]
  },
  {
   "cell_type": "code",
   "execution_count": 37,
   "metadata": {
    "collapsed": false
   },
   "outputs": [
    {
     "data": {
      "text/plain": [
       "2     18432\n",
       "1     11293\n",
       "3     11153\n",
       "4      6483\n",
       "6      4311\n",
       "5      4156\n",
       "7      3576\n",
       "8      3391\n",
       "9      2944\n",
       "10     1488\n",
       "11      746\n",
       "12      369\n",
       "13      158\n",
       "14       43\n",
       "Name: stage, dtype: int64"
      ]
     },
     "execution_count": 37,
     "metadata": {},
     "output_type": "execute_result"
    }
   ],
   "source": [
    "matches['stage'].value_counts()"
   ]
  },
  {
   "cell_type": "code",
   "execution_count": 38,
   "metadata": {
    "collapsed": false
   },
   "outputs": [
    {
     "name": "stdout",
     "output_type": "stream",
     "text": [
      "<class 'pandas.core.frame.DataFrame'>\n",
      "Int64Index: 68543 entries, 0 to 68542\n",
      "Data columns (total 13 columns):\n",
      "away_score    68543 non-null float64\n",
      "away_team     68543 non-null object\n",
      "date          68543 non-null object\n",
      "home_score    68543 non-null float64\n",
      "home_team     68543 non-null object\n",
      "match_id      68543 non-null int64\n",
      "qualifier     68543 non-null bool\n",
      "replay        68543 non-null bool\n",
      "round         68543 non-null object\n",
      "round_id      68543 non-null int64\n",
      "stage         68543 non-null float64\n",
      "year          68543 non-null int64\n",
      "year_id       68543 non-null int64\n",
      "dtypes: bool(2), float64(3), int64(4), object(4)\n",
      "memory usage: 6.4+ MB\n"
     ]
    }
   ],
   "source": [
    "matches.info()"
   ]
  },
  {
   "cell_type": "code",
   "execution_count": 39,
   "metadata": {
    "collapsed": true
   },
   "outputs": [],
   "source": [
    "# sorted :) \n",
    "\n",
    "# saving dataframe"
   ]
  },
  {
   "cell_type": "code",
   "execution_count": 40,
   "metadata": {
    "collapsed": false
   },
   "outputs": [],
   "source": [
    "matches.to_csv('facup_v1.csv', index = False)"
   ]
  },
  {
   "cell_type": "code",
   "execution_count": null,
   "metadata": {
    "collapsed": true
   },
   "outputs": [],
   "source": []
  }
 ],
 "metadata": {
  "kernelspec": {
   "display_name": "Python 2",
   "language": "python",
   "name": "python2"
  },
  "language_info": {
   "codemirror_mode": {
    "name": "ipython",
    "version": 2
   },
   "file_extension": ".py",
   "mimetype": "text/x-python",
   "name": "python",
   "nbconvert_exporter": "python",
   "pygments_lexer": "ipython2",
   "version": "2.7.11"
  }
 },
 "nbformat": 4,
 "nbformat_minor": 0
}
