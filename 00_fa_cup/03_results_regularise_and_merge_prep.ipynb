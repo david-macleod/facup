{
 "cells": [
  {
   "cell_type": "code",
   "execution_count": 1,
   "metadata": {
    "collapsed": false
   },
   "outputs": [],
   "source": [
    "import pandas as pd\n",
    "import numpy as np\n",
    "import plotly\n",
    "import plotly.plotly as py\n",
    "import cufflinks as cf\n",
    "\n",
    "#plotly.offline.init_notebook_mode()"
   ]
  },
  {
   "cell_type": "code",
   "execution_count": 2,
   "metadata": {
    "collapsed": true
   },
   "outputs": [],
   "source": [
    "fac = pd.read_csv('facup_v2.csv')"
   ]
  },
  {
   "cell_type": "code",
   "execution_count": 3,
   "metadata": {
    "collapsed": false
   },
   "outputs": [
    {
     "name": "stdout",
     "output_type": "stream",
     "text": [
      "<class 'pandas.core.frame.DataFrame'>\n",
      "Int64Index: 68543 entries, 0 to 68542\n",
      "Data columns (total 14 columns):\n",
      "away_score    68543 non-null float64\n",
      "away_team     68543 non-null object\n",
      "date          68543 non-null object\n",
      "home_score    68543 non-null float64\n",
      "home_team     68543 non-null object\n",
      "match_id      68543 non-null int64\n",
      "qualifier     68543 non-null bool\n",
      "replay        68543 non-null bool\n",
      "round         68543 non-null object\n",
      "round_id      68543 non-null int64\n",
      "stage         68543 non-null float64\n",
      "year          68543 non-null int64\n",
      "year_id       68543 non-null int64\n",
      "stage_f       68543 non-null float64\n",
      "dtypes: bool(2), float64(4), int64(4), object(4)\n",
      "memory usage: 6.9+ MB\n"
     ]
    }
   ],
   "source": [
    "fac.info()"
   ]
  },
  {
   "cell_type": "code",
   "execution_count": 4,
   "metadata": {
    "collapsed": false
   },
   "outputs": [
    {
     "data": {
      "text/html": [
       "<div>\n",
       "<table border=\"1\" class=\"dataframe\">\n",
       "  <thead>\n",
       "    <tr style=\"text-align: right;\">\n",
       "      <th></th>\n",
       "      <th>away_score</th>\n",
       "      <th>away_team</th>\n",
       "      <th>date</th>\n",
       "      <th>home_score</th>\n",
       "      <th>home_team</th>\n",
       "      <th>match_id</th>\n",
       "      <th>qualifier</th>\n",
       "      <th>replay</th>\n",
       "      <th>round</th>\n",
       "      <th>round_id</th>\n",
       "      <th>stage</th>\n",
       "      <th>year</th>\n",
       "      <th>year_id</th>\n",
       "      <th>stage_f</th>\n",
       "    </tr>\n",
       "  </thead>\n",
       "  <tbody>\n",
       "    <tr>\n",
       "      <th>0</th>\n",
       "      <td>0</td>\n",
       "      <td>Crystal Palace (1)</td>\n",
       "      <td>09.03.72</td>\n",
       "      <td>3</td>\n",
       "      <td>Royal Engineers</td>\n",
       "      <td>16066</td>\n",
       "      <td>False</td>\n",
       "      <td>True</td>\n",
       "      <td>Semi-Final</td>\n",
       "      <td>10682</td>\n",
       "      <td>4</td>\n",
       "      <td>1872</td>\n",
       "      <td>71234</td>\n",
       "      <td>13</td>\n",
       "    </tr>\n",
       "    <tr>\n",
       "      <th>1</th>\n",
       "      <td>0</td>\n",
       "      <td>Queen's Park (Glasgow)</td>\n",
       "      <td>05.03.72</td>\n",
       "      <td>0</td>\n",
       "      <td>Wanderers</td>\n",
       "      <td>16065</td>\n",
       "      <td>False</td>\n",
       "      <td>False</td>\n",
       "      <td>Semi-Final</td>\n",
       "      <td>10682</td>\n",
       "      <td>4</td>\n",
       "      <td>1872</td>\n",
       "      <td>71234</td>\n",
       "      <td>13</td>\n",
       "    </tr>\n",
       "    <tr>\n",
       "      <th>2</th>\n",
       "      <td>0</td>\n",
       "      <td>Crystal Palace (1)</td>\n",
       "      <td>17.02.72</td>\n",
       "      <td>0</td>\n",
       "      <td>Royal Engineers</td>\n",
       "      <td>16064</td>\n",
       "      <td>False</td>\n",
       "      <td>False</td>\n",
       "      <td>Semi-Final</td>\n",
       "      <td>10682</td>\n",
       "      <td>4</td>\n",
       "      <td>1872</td>\n",
       "      <td>71234</td>\n",
       "      <td>13</td>\n",
       "    </tr>\n",
       "    <tr>\n",
       "      <th>3</th>\n",
       "      <td>0</td>\n",
       "      <td>Queen's Park (Glasgow)</td>\n",
       "      <td>01.01.01</td>\n",
       "      <td>0</td>\n",
       "      <td>Wanderers</td>\n",
       "      <td>16067</td>\n",
       "      <td>False</td>\n",
       "      <td>True</td>\n",
       "      <td>Semi-Final</td>\n",
       "      <td>10682</td>\n",
       "      <td>4</td>\n",
       "      <td>1872</td>\n",
       "      <td>71234</td>\n",
       "      <td>13</td>\n",
       "    </tr>\n",
       "    <tr>\n",
       "      <th>4</th>\n",
       "      <td>5</td>\n",
       "      <td>Royal Engineers</td>\n",
       "      <td>10.01.72</td>\n",
       "      <td>0</td>\n",
       "      <td>Hitchin</td>\n",
       "      <td>16057</td>\n",
       "      <td>False</td>\n",
       "      <td>False</td>\n",
       "      <td>Second Round Proper</td>\n",
       "      <td>10681</td>\n",
       "      <td>2</td>\n",
       "      <td>1872</td>\n",
       "      <td>71234</td>\n",
       "      <td>11</td>\n",
       "    </tr>\n",
       "  </tbody>\n",
       "</table>\n",
       "</div>"
      ],
      "text/plain": [
       "   away_score               away_team      date  home_score        home_team  \\\n",
       "0           0      Crystal Palace (1)  09.03.72           3  Royal Engineers   \n",
       "1           0  Queen's Park (Glasgow)  05.03.72           0        Wanderers   \n",
       "2           0      Crystal Palace (1)  17.02.72           0  Royal Engineers   \n",
       "3           0  Queen's Park (Glasgow)  01.01.01           0        Wanderers   \n",
       "4           5         Royal Engineers  10.01.72           0          Hitchin   \n",
       "\n",
       "   match_id qualifier replay                round  round_id  stage  year  \\\n",
       "0     16066     False   True           Semi-Final     10682      4  1872   \n",
       "1     16065     False  False           Semi-Final     10682      4  1872   \n",
       "2     16064     False  False           Semi-Final     10682      4  1872   \n",
       "3     16067     False   True           Semi-Final     10682      4  1872   \n",
       "4     16057     False  False  Second Round Proper     10681      2  1872   \n",
       "\n",
       "   year_id  stage_f  \n",
       "0    71234       13  \n",
       "1    71234       13  \n",
       "2    71234       13  \n",
       "3    71234       13  \n",
       "4    71234       11  "
      ]
     },
     "execution_count": 4,
     "metadata": {},
     "output_type": "execute_result"
    }
   ],
   "source": [
    "fac.head()"
   ]
  },
  {
   "cell_type": "markdown",
   "metadata": {},
   "source": [
    "#### Dropping qualifying matches, metadata columns, and setting index to match_id"
   ]
  },
  {
   "cell_type": "code",
   "execution_count": 5,
   "metadata": {
    "collapsed": false
   },
   "outputs": [],
   "source": [
    "fac = fac[fac.qualifier == False]"
   ]
  },
  {
   "cell_type": "code",
   "execution_count": 6,
   "metadata": {
    "collapsed": false
   },
   "outputs": [],
   "source": [
    "fac = fac[['home_team','away_team','home_score', 'away_score','round','year','date','replay','qualifier', 'stage_f','match_id']]"
   ]
  },
  {
   "cell_type": "code",
   "execution_count": 7,
   "metadata": {
    "collapsed": false
   },
   "outputs": [
    {
     "name": "stdout",
     "output_type": "stream",
     "text": [
      "<class 'pandas.core.frame.DataFrame'>\n",
      "Int64Index: 16606 entries, 0 to 68542\n",
      "Data columns (total 11 columns):\n",
      "home_team     16606 non-null object\n",
      "away_team     16606 non-null object\n",
      "home_score    16606 non-null float64\n",
      "away_score    16606 non-null float64\n",
      "round         16606 non-null object\n",
      "year          16606 non-null int64\n",
      "date          16606 non-null object\n",
      "replay        16606 non-null bool\n",
      "qualifier     16606 non-null bool\n",
      "stage_f       16606 non-null float64\n",
      "match_id      16606 non-null int64\n",
      "dtypes: bool(2), float64(3), int64(2), object(4)\n",
      "memory usage: 1.3+ MB\n"
     ]
    }
   ],
   "source": [
    "fac.info()"
   ]
  },
  {
   "cell_type": "markdown",
   "metadata": {
    "collapsed": false
   },
   "source": [
    "#### Regularising text strings to upper-case "
   ]
  },
  {
   "cell_type": "code",
   "execution_count": 8,
   "metadata": {
    "collapsed": false
   },
   "outputs": [],
   "source": [
    "fac['home_team'] = fac['home_team'].str.upper()\n",
    "fac['away_team'] = fac['away_team'].str.upper()\n",
    "fac['round'] = fac['round'].str.upper()"
   ]
  },
  {
   "cell_type": "markdown",
   "metadata": {},
   "source": [
    "#### Removing AFC from end of team names, spotted in a later (merge) QC and fix inserted here"
   ]
  },
  {
   "cell_type": "markdown",
   "metadata": {},
   "source": [
    "First check that AFC does not appear in the middle of any team names"
   ]
  },
  {
   "cell_type": "code",
   "execution_count": 9,
   "metadata": {
    "collapsed": false
   },
   "outputs": [],
   "source": [
    "fac['home_team'] = fac['home_team'].str.replace(' AFC', '')\n",
    "fac['away_team'] = fac['away_team'].str.replace(' AFC', '')"
   ]
  },
  {
   "cell_type": "markdown",
   "metadata": {},
   "source": [
    "#### Reversing stage counter"
   ]
  },
  {
   "cell_type": "code",
   "execution_count": 10,
   "metadata": {
    "collapsed": false
   },
   "outputs": [
    {
     "data": {
      "text/html": [
       "<div>\n",
       "<table border=\"1\" class=\"dataframe\">\n",
       "  <thead>\n",
       "    <tr style=\"text-align: right;\">\n",
       "      <th></th>\n",
       "      <th>home_team</th>\n",
       "      <th>away_team</th>\n",
       "      <th>home_score</th>\n",
       "      <th>away_score</th>\n",
       "      <th>round</th>\n",
       "      <th>year</th>\n",
       "      <th>date</th>\n",
       "      <th>replay</th>\n",
       "      <th>qualifier</th>\n",
       "      <th>match_id</th>\n",
       "      <th>stage</th>\n",
       "    </tr>\n",
       "  </thead>\n",
       "  <tbody>\n",
       "    <tr>\n",
       "      <th>0</th>\n",
       "      <td>ROYAL ENGINEERS</td>\n",
       "      <td>CRYSTAL PALACE (1)</td>\n",
       "      <td>3</td>\n",
       "      <td>0</td>\n",
       "      <td>SEMI-FINAL</td>\n",
       "      <td>1872</td>\n",
       "      <td>09.03.72</td>\n",
       "      <td>True</td>\n",
       "      <td>False</td>\n",
       "      <td>16066</td>\n",
       "      <td>2</td>\n",
       "    </tr>\n",
       "    <tr>\n",
       "      <th>1</th>\n",
       "      <td>WANDERERS</td>\n",
       "      <td>QUEEN'S PARK (GLASGOW)</td>\n",
       "      <td>0</td>\n",
       "      <td>0</td>\n",
       "      <td>SEMI-FINAL</td>\n",
       "      <td>1872</td>\n",
       "      <td>05.03.72</td>\n",
       "      <td>False</td>\n",
       "      <td>False</td>\n",
       "      <td>16065</td>\n",
       "      <td>2</td>\n",
       "    </tr>\n",
       "    <tr>\n",
       "      <th>2</th>\n",
       "      <td>ROYAL ENGINEERS</td>\n",
       "      <td>CRYSTAL PALACE (1)</td>\n",
       "      <td>0</td>\n",
       "      <td>0</td>\n",
       "      <td>SEMI-FINAL</td>\n",
       "      <td>1872</td>\n",
       "      <td>17.02.72</td>\n",
       "      <td>False</td>\n",
       "      <td>False</td>\n",
       "      <td>16064</td>\n",
       "      <td>2</td>\n",
       "    </tr>\n",
       "    <tr>\n",
       "      <th>3</th>\n",
       "      <td>WANDERERS</td>\n",
       "      <td>QUEEN'S PARK (GLASGOW)</td>\n",
       "      <td>0</td>\n",
       "      <td>0</td>\n",
       "      <td>SEMI-FINAL</td>\n",
       "      <td>1872</td>\n",
       "      <td>01.01.01</td>\n",
       "      <td>True</td>\n",
       "      <td>False</td>\n",
       "      <td>16067</td>\n",
       "      <td>2</td>\n",
       "    </tr>\n",
       "    <tr>\n",
       "      <th>4</th>\n",
       "      <td>HITCHIN</td>\n",
       "      <td>ROYAL ENGINEERS</td>\n",
       "      <td>0</td>\n",
       "      <td>5</td>\n",
       "      <td>SECOND ROUND PROPER</td>\n",
       "      <td>1872</td>\n",
       "      <td>10.01.72</td>\n",
       "      <td>False</td>\n",
       "      <td>False</td>\n",
       "      <td>16057</td>\n",
       "      <td>4</td>\n",
       "    </tr>\n",
       "  </tbody>\n",
       "</table>\n",
       "</div>"
      ],
      "text/plain": [
       "         home_team               away_team  home_score  away_score  \\\n",
       "0  ROYAL ENGINEERS      CRYSTAL PALACE (1)           3           0   \n",
       "1        WANDERERS  QUEEN'S PARK (GLASGOW)           0           0   \n",
       "2  ROYAL ENGINEERS      CRYSTAL PALACE (1)           0           0   \n",
       "3        WANDERERS  QUEEN'S PARK (GLASGOW)           0           0   \n",
       "4          HITCHIN         ROYAL ENGINEERS           0           5   \n",
       "\n",
       "                 round  year      date replay qualifier  match_id  stage  \n",
       "0           SEMI-FINAL  1872  09.03.72   True     False     16066      2  \n",
       "1           SEMI-FINAL  1872  05.03.72  False     False     16065      2  \n",
       "2           SEMI-FINAL  1872  17.02.72  False     False     16064      2  \n",
       "3           SEMI-FINAL  1872  01.01.01   True     False     16067      2  \n",
       "4  SECOND ROUND PROPER  1872  10.01.72  False     False     16057      4  "
      ]
     },
     "execution_count": 10,
     "metadata": {},
     "output_type": "execute_result"
    }
   ],
   "source": [
    "# previously all finals = 14, now = 1\n",
    "\n",
    "fac['stage'] = 15 - fac['stage_f']\n",
    "fac.drop('stage_f', axis=1, inplace=True)\n",
    "\n",
    "fac.head()"
   ]
  },
  {
   "cell_type": "markdown",
   "metadata": {},
   "source": [
    "#### Finding teams with non-unique names"
   ]
  },
  {
   "cell_type": "code",
   "execution_count": 11,
   "metadata": {
    "collapsed": false
   },
   "outputs": [
    {
     "data": {
      "text/plain": [
       "array(['CRYSTAL PALACE (1)', 'BRENTWOOD (1)', 'ROMFORD (1)', 'HENDON (1)',\n",
       "       'BIRMINGHAM (1)', 'BOOTLE (1)', 'HORNCHURCH (1)', 'BELPER TOWN (1)',\n",
       "       'LOUGHBOROUGH (1)', 'WORKINGTON (1)', 'BOSTON (1)',\n",
       "       'BEDFORD TOWN (1)', 'ROMFORD (2)', 'SOUTH SHIELDS (2)',\n",
       "       'BRIDGWATER TOWN (1)', 'MAIDSTONE UNITED (1)',\n",
       "       'ACCRINGTON STANLEY (2)', 'DORKING (2)', 'NEWPORT COUNTY (2)',\n",
       "       'KIDDERMINSTER (1)', 'TAUNTON TOWN (1)', 'GATESHEAD (2)'], dtype=object)"
      ]
     },
     "execution_count": 11,
     "metadata": {},
     "output_type": "execute_result"
    }
   ],
   "source": [
    "teams = pd.concat([fac.home_team, fac.away_team])\n",
    "\n",
    "teams[teams.str.contains('\\(\\d\\)')].unique()"
   ]
  },
  {
   "cell_type": "markdown",
   "metadata": {},
   "source": [
    "#### Finding any years that have duplicate teams in same year e.g. ARSENAL (1) ARSENAL (2)"
   ]
  },
  {
   "cell_type": "code",
   "execution_count": 12,
   "metadata": {
    "collapsed": false
   },
   "outputs": [
    {
     "data": {
      "text/html": [
       "<div>\n",
       "<table border=\"1\" class=\"dataframe\">\n",
       "  <thead>\n",
       "    <tr style=\"text-align: right;\">\n",
       "      <th></th>\n",
       "    </tr>\n",
       "    <tr>\n",
       "      <th>year</th>\n",
       "    </tr>\n",
       "  </thead>\n",
       "  <tbody>\n",
       "  </tbody>\n",
       "</table>\n",
       "</div>"
      ],
      "text/plain": [
       "Empty DataFrame\n",
       "Columns: []\n",
       "Index: []"
      ]
     },
     "execution_count": 12,
     "metadata": {},
     "output_type": "execute_result"
    }
   ],
   "source": [
    "def find_dups(group):\n",
    "    teams_unq = pd.Series(pd.concat([group.home_team, group.away_team], ignore_index=True).unique()) # unique teams in year\n",
    "    teams_unq_strip = teams_unq.str.replace('\\(\\d\\)','').value_counts() # stripping values from end of dupe teams and counting (#)\n",
    "    return teams_unq_strip[teams_unq_strip.values > 1]\n",
    "\n",
    "fac.groupby('year').apply(find_dups)"
   ]
  },
  {
   "cell_type": "markdown",
   "metadata": {},
   "source": [
    "There are no duplicate teams occuring in the same year! this is good as we can strip values from end of team name before matching with league tables :)"
   ]
  },
  {
   "cell_type": "code",
   "execution_count": 13,
   "metadata": {
    "collapsed": false
   },
   "outputs": [],
   "source": [
    "fac.home_team = fac['home_team'].str.replace('\\(\\d\\)','').str.strip()\n",
    "fac.away_team = fac['away_team'].str.replace('\\(\\d\\)','').str.strip()"
   ]
  },
  {
   "cell_type": "code",
   "execution_count": 14,
   "metadata": {
    "collapsed": false
   },
   "outputs": [
    {
     "data": {
      "text/html": [
       "<div>\n",
       "<table border=\"1\" class=\"dataframe\">\n",
       "  <thead>\n",
       "    <tr style=\"text-align: right;\">\n",
       "      <th></th>\n",
       "      <th>home_team</th>\n",
       "      <th>away_team</th>\n",
       "      <th>home_score</th>\n",
       "      <th>away_score</th>\n",
       "      <th>round</th>\n",
       "      <th>year</th>\n",
       "      <th>date</th>\n",
       "      <th>replay</th>\n",
       "      <th>qualifier</th>\n",
       "      <th>match_id</th>\n",
       "      <th>stage</th>\n",
       "    </tr>\n",
       "  </thead>\n",
       "  <tbody>\n",
       "    <tr>\n",
       "      <th>0</th>\n",
       "      <td>ROYAL ENGINEERS</td>\n",
       "      <td>CRYSTAL PALACE</td>\n",
       "      <td>3</td>\n",
       "      <td>0</td>\n",
       "      <td>SEMI-FINAL</td>\n",
       "      <td>1872</td>\n",
       "      <td>09.03.72</td>\n",
       "      <td>True</td>\n",
       "      <td>False</td>\n",
       "      <td>16066</td>\n",
       "      <td>2</td>\n",
       "    </tr>\n",
       "    <tr>\n",
       "      <th>1</th>\n",
       "      <td>WANDERERS</td>\n",
       "      <td>QUEEN'S PARK (GLASGOW)</td>\n",
       "      <td>0</td>\n",
       "      <td>0</td>\n",
       "      <td>SEMI-FINAL</td>\n",
       "      <td>1872</td>\n",
       "      <td>05.03.72</td>\n",
       "      <td>False</td>\n",
       "      <td>False</td>\n",
       "      <td>16065</td>\n",
       "      <td>2</td>\n",
       "    </tr>\n",
       "    <tr>\n",
       "      <th>2</th>\n",
       "      <td>ROYAL ENGINEERS</td>\n",
       "      <td>CRYSTAL PALACE</td>\n",
       "      <td>0</td>\n",
       "      <td>0</td>\n",
       "      <td>SEMI-FINAL</td>\n",
       "      <td>1872</td>\n",
       "      <td>17.02.72</td>\n",
       "      <td>False</td>\n",
       "      <td>False</td>\n",
       "      <td>16064</td>\n",
       "      <td>2</td>\n",
       "    </tr>\n",
       "    <tr>\n",
       "      <th>3</th>\n",
       "      <td>WANDERERS</td>\n",
       "      <td>QUEEN'S PARK (GLASGOW)</td>\n",
       "      <td>0</td>\n",
       "      <td>0</td>\n",
       "      <td>SEMI-FINAL</td>\n",
       "      <td>1872</td>\n",
       "      <td>01.01.01</td>\n",
       "      <td>True</td>\n",
       "      <td>False</td>\n",
       "      <td>16067</td>\n",
       "      <td>2</td>\n",
       "    </tr>\n",
       "    <tr>\n",
       "      <th>4</th>\n",
       "      <td>HITCHIN</td>\n",
       "      <td>ROYAL ENGINEERS</td>\n",
       "      <td>0</td>\n",
       "      <td>5</td>\n",
       "      <td>SECOND ROUND PROPER</td>\n",
       "      <td>1872</td>\n",
       "      <td>10.01.72</td>\n",
       "      <td>False</td>\n",
       "      <td>False</td>\n",
       "      <td>16057</td>\n",
       "      <td>4</td>\n",
       "    </tr>\n",
       "  </tbody>\n",
       "</table>\n",
       "</div>"
      ],
      "text/plain": [
       "         home_team               away_team  home_score  away_score  \\\n",
       "0  ROYAL ENGINEERS          CRYSTAL PALACE           3           0   \n",
       "1        WANDERERS  QUEEN'S PARK (GLASGOW)           0           0   \n",
       "2  ROYAL ENGINEERS          CRYSTAL PALACE           0           0   \n",
       "3        WANDERERS  QUEEN'S PARK (GLASGOW)           0           0   \n",
       "4          HITCHIN         ROYAL ENGINEERS           0           5   \n",
       "\n",
       "                 round  year      date replay qualifier  match_id  stage  \n",
       "0           SEMI-FINAL  1872  09.03.72   True     False     16066      2  \n",
       "1           SEMI-FINAL  1872  05.03.72  False     False     16065      2  \n",
       "2           SEMI-FINAL  1872  17.02.72  False     False     16064      2  \n",
       "3           SEMI-FINAL  1872  01.01.01   True     False     16067      2  \n",
       "4  SECOND ROUND PROPER  1872  10.01.72  False     False     16057      4  "
      ]
     },
     "execution_count": 14,
     "metadata": {},
     "output_type": "execute_result"
    }
   ],
   "source": [
    "fac.head()"
   ]
  },
  {
   "cell_type": "markdown",
   "metadata": {},
   "source": [
    "#### creating match winner columns, NaN for draws"
   ]
  },
  {
   "cell_type": "code",
   "execution_count": 15,
   "metadata": {
    "collapsed": false
   },
   "outputs": [
    {
     "data": {
      "text/html": [
       "<div>\n",
       "<table border=\"1\" class=\"dataframe\">\n",
       "  <thead>\n",
       "    <tr style=\"text-align: right;\">\n",
       "      <th></th>\n",
       "      <th>home_team</th>\n",
       "      <th>away_team</th>\n",
       "      <th>home_score</th>\n",
       "      <th>away_score</th>\n",
       "      <th>round</th>\n",
       "      <th>year</th>\n",
       "      <th>date</th>\n",
       "      <th>replay</th>\n",
       "      <th>qualifier</th>\n",
       "      <th>match_id</th>\n",
       "      <th>stage</th>\n",
       "    </tr>\n",
       "  </thead>\n",
       "  <tbody>\n",
       "  </tbody>\n",
       "</table>\n",
       "</div>"
      ],
      "text/plain": [
       "Empty DataFrame\n",
       "Columns: [home_team, away_team, home_score, away_score, round, year, date, replay, qualifier, match_id, stage]\n",
       "Index: []"
      ]
     },
     "execution_count": 15,
     "metadata": {},
     "output_type": "execute_result"
    }
   ],
   "source": [
    "fac[(fac['home_team'] == \"BYE\")].head()"
   ]
  },
  {
   "cell_type": "code",
   "execution_count": 16,
   "metadata": {
    "collapsed": false
   },
   "outputs": [
    {
     "data": {
      "text/html": [
       "<div>\n",
       "<table border=\"1\" class=\"dataframe\">\n",
       "  <thead>\n",
       "    <tr style=\"text-align: right;\">\n",
       "      <th></th>\n",
       "      <th>home_team</th>\n",
       "      <th>away_team</th>\n",
       "      <th>home_score</th>\n",
       "      <th>away_score</th>\n",
       "      <th>round</th>\n",
       "      <th>year</th>\n",
       "      <th>date</th>\n",
       "      <th>replay</th>\n",
       "      <th>qualifier</th>\n",
       "      <th>match_id</th>\n",
       "      <th>stage</th>\n",
       "    </tr>\n",
       "  </thead>\n",
       "  <tbody>\n",
       "    <tr>\n",
       "      <th>12</th>\n",
       "      <td>QUEEN'S PARK (GLASGOW)</td>\n",
       "      <td>BYE</td>\n",
       "      <td>0</td>\n",
       "      <td>0</td>\n",
       "      <td>THIRD ROUND PROPER</td>\n",
       "      <td>1872</td>\n",
       "      <td>01.01.01</td>\n",
       "      <td>False</td>\n",
       "      <td>False</td>\n",
       "      <td>16061</td>\n",
       "      <td>3</td>\n",
       "    </tr>\n",
       "    <tr>\n",
       "      <th>17</th>\n",
       "      <td>HAMPSTEAD HEATHENS</td>\n",
       "      <td>BYE</td>\n",
       "      <td>0</td>\n",
       "      <td>0</td>\n",
       "      <td>FIRST ROUND PROPER</td>\n",
       "      <td>1872</td>\n",
       "      <td>01.01.01</td>\n",
       "      <td>False</td>\n",
       "      <td>False</td>\n",
       "      <td>16048</td>\n",
       "      <td>5</td>\n",
       "    </tr>\n",
       "    <tr>\n",
       "      <th>23</th>\n",
       "      <td>QUEEN'S PARK (GLASGOW)</td>\n",
       "      <td>BYE</td>\n",
       "      <td>0</td>\n",
       "      <td>0</td>\n",
       "      <td>THIRD ROUND PROPER</td>\n",
       "      <td>1873</td>\n",
       "      <td>01.01.01</td>\n",
       "      <td>False</td>\n",
       "      <td>False</td>\n",
       "      <td>16087</td>\n",
       "      <td>4</td>\n",
       "    </tr>\n",
       "    <tr>\n",
       "      <th>24</th>\n",
       "      <td>WANDERERS</td>\n",
       "      <td>BYE</td>\n",
       "      <td>0</td>\n",
       "      <td>0</td>\n",
       "      <td>THIRD ROUND PROPER</td>\n",
       "      <td>1873</td>\n",
       "      <td>01.01.01</td>\n",
       "      <td>False</td>\n",
       "      <td>False</td>\n",
       "      <td>16088</td>\n",
       "      <td>4</td>\n",
       "    </tr>\n",
       "    <tr>\n",
       "      <th>26</th>\n",
       "      <td>QUEEN'S PARK (GLASGOW)</td>\n",
       "      <td>BYE</td>\n",
       "      <td>0</td>\n",
       "      <td>0</td>\n",
       "      <td>FOURTH ROUND PROPER</td>\n",
       "      <td>1873</td>\n",
       "      <td>01.01.01</td>\n",
       "      <td>False</td>\n",
       "      <td>False</td>\n",
       "      <td>16090</td>\n",
       "      <td>3</td>\n",
       "    </tr>\n",
       "  </tbody>\n",
       "</table>\n",
       "</div>"
      ],
      "text/plain": [
       "                 home_team away_team  home_score  away_score  \\\n",
       "12  QUEEN'S PARK (GLASGOW)       BYE           0           0   \n",
       "17      HAMPSTEAD HEATHENS       BYE           0           0   \n",
       "23  QUEEN'S PARK (GLASGOW)       BYE           0           0   \n",
       "24               WANDERERS       BYE           0           0   \n",
       "26  QUEEN'S PARK (GLASGOW)       BYE           0           0   \n",
       "\n",
       "                  round  year      date replay qualifier  match_id  stage  \n",
       "12   THIRD ROUND PROPER  1872  01.01.01  False     False     16061      3  \n",
       "17   FIRST ROUND PROPER  1872  01.01.01  False     False     16048      5  \n",
       "23   THIRD ROUND PROPER  1873  01.01.01  False     False     16087      4  \n",
       "24   THIRD ROUND PROPER  1873  01.01.01  False     False     16088      4  \n",
       "26  FOURTH ROUND PROPER  1873  01.01.01  False     False     16090      3  "
      ]
     },
     "execution_count": 16,
     "metadata": {},
     "output_type": "execute_result"
    }
   ],
   "source": [
    "fac[(fac['away_team'] == \"BYE\")].head()"
   ]
  },
  {
   "cell_type": "code",
   "execution_count": 17,
   "metadata": {
    "collapsed": false
   },
   "outputs": [],
   "source": [
    "fac['winner'] = np.where(fac.home_score > fac.away_score, fac.home_team, fac.away_team) #setting match winners\n",
    "fac['winner'] = np.where(fac.home_score == fac.away_score, np.nan, fac.winner) #setting match draws\n",
    "fac['winner'] = np.where(fac.away_team == 'BYE', 'BYE', fac.winner) #setting match draws"
   ]
  },
  {
   "cell_type": "code",
   "execution_count": 18,
   "metadata": {
    "collapsed": false
   },
   "outputs": [
    {
     "data": {
      "text/plain": [
       "0.0"
      ]
     },
     "execution_count": 18,
     "metadata": {},
     "output_type": "execute_result"
    }
   ],
   "source": [
    "# checking BYE matches always have 0-0 scorelines and replace score with NaN\n",
    "\n",
    "fac[(fac['away_team'] == \"BYE\")].home_score.max()"
   ]
  },
  {
   "cell_type": "code",
   "execution_count": 19,
   "metadata": {
    "collapsed": false
   },
   "outputs": [
    {
     "data": {
      "text/plain": [
       "0.0"
      ]
     },
     "execution_count": 19,
     "metadata": {},
     "output_type": "execute_result"
    }
   ],
   "source": [
    "fac[(fac['away_team'] == \"BYE\")].away_score.max()"
   ]
  },
  {
   "cell_type": "code",
   "execution_count": 20,
   "metadata": {
    "collapsed": false
   },
   "outputs": [
    {
     "name": "stdout",
     "output_type": "stream",
     "text": [
      "    home_score  away_score\n",
      "12           0           0\n",
      "17           0           0\n",
      "23           0           0\n",
      "24           0           0\n",
      "26           0           0\n",
      "    home_score  away_score\n",
      "12         NaN         NaN\n",
      "17         NaN         NaN\n",
      "23         NaN         NaN\n",
      "24         NaN         NaN\n",
      "26         NaN         NaN\n"
     ]
    }
   ],
   "source": [
    "print fac.ix[fac['away_team'] == \"BYE\", ['home_score', 'away_score']].head()\n",
    "\n",
    "fac.ix[fac['away_team'] == \"BYE\", ['home_score', 'away_score']] = np.nan\n",
    "\n",
    "print fac.ix[fac['away_team'] == \"BYE\", ['home_score', 'away_score']].head()"
   ]
  },
  {
   "cell_type": "markdown",
   "metadata": {},
   "source": [
    "#### Checking \"fixtures\"\n",
    "\n",
    "A fixture is defined as any number of matches between two teams in the same round\n",
    "(there can be more than one match in each 'fixture' due to replays)\n",
    "\n",
    "Each fixture should have exactly one match which has a winner\n",
    "Each fixturs should have exactly one non-replay match\n",
    "\n",
    "Creating new columns \"left\" and \"right\" which organise the teams so that in each fixture the same team always appears in the same column rather than varying between the home_team and away_team columns"
   ]
  },
  {
   "cell_type": "code",
   "execution_count": 21,
   "metadata": {
    "collapsed": true
   },
   "outputs": [],
   "source": [
    "fac['left'] = fac[['home_team','away_team']].max(axis=1)\n",
    "fac['right'] = fac[['home_team','away_team']].min(axis=1)"
   ]
  },
  {
   "cell_type": "code",
   "execution_count": 22,
   "metadata": {
    "collapsed": false
   },
   "outputs": [
    {
     "data": {
      "text/html": [
       "<div>\n",
       "<table border=\"1\" class=\"dataframe\">\n",
       "  <thead>\n",
       "    <tr style=\"text-align: right;\">\n",
       "      <th></th>\n",
       "      <th>home_team</th>\n",
       "      <th>away_team</th>\n",
       "      <th>home_score</th>\n",
       "      <th>away_score</th>\n",
       "      <th>round</th>\n",
       "      <th>year</th>\n",
       "      <th>date</th>\n",
       "      <th>replay</th>\n",
       "      <th>qualifier</th>\n",
       "      <th>match_id</th>\n",
       "      <th>stage</th>\n",
       "      <th>winner</th>\n",
       "      <th>left</th>\n",
       "      <th>right</th>\n",
       "    </tr>\n",
       "  </thead>\n",
       "  <tbody>\n",
       "    <tr>\n",
       "      <th>0</th>\n",
       "      <td>ROYAL ENGINEERS</td>\n",
       "      <td>CRYSTAL PALACE</td>\n",
       "      <td>3</td>\n",
       "      <td>0</td>\n",
       "      <td>SEMI-FINAL</td>\n",
       "      <td>1872</td>\n",
       "      <td>09.03.72</td>\n",
       "      <td>True</td>\n",
       "      <td>False</td>\n",
       "      <td>16066</td>\n",
       "      <td>2</td>\n",
       "      <td>ROYAL ENGINEERS</td>\n",
       "      <td>ROYAL ENGINEERS</td>\n",
       "      <td>CRYSTAL PALACE</td>\n",
       "    </tr>\n",
       "    <tr>\n",
       "      <th>1</th>\n",
       "      <td>WANDERERS</td>\n",
       "      <td>QUEEN'S PARK (GLASGOW)</td>\n",
       "      <td>0</td>\n",
       "      <td>0</td>\n",
       "      <td>SEMI-FINAL</td>\n",
       "      <td>1872</td>\n",
       "      <td>05.03.72</td>\n",
       "      <td>False</td>\n",
       "      <td>False</td>\n",
       "      <td>16065</td>\n",
       "      <td>2</td>\n",
       "      <td>NaN</td>\n",
       "      <td>WANDERERS</td>\n",
       "      <td>QUEEN'S PARK (GLASGOW)</td>\n",
       "    </tr>\n",
       "    <tr>\n",
       "      <th>2</th>\n",
       "      <td>ROYAL ENGINEERS</td>\n",
       "      <td>CRYSTAL PALACE</td>\n",
       "      <td>0</td>\n",
       "      <td>0</td>\n",
       "      <td>SEMI-FINAL</td>\n",
       "      <td>1872</td>\n",
       "      <td>17.02.72</td>\n",
       "      <td>False</td>\n",
       "      <td>False</td>\n",
       "      <td>16064</td>\n",
       "      <td>2</td>\n",
       "      <td>NaN</td>\n",
       "      <td>ROYAL ENGINEERS</td>\n",
       "      <td>CRYSTAL PALACE</td>\n",
       "    </tr>\n",
       "    <tr>\n",
       "      <th>3</th>\n",
       "      <td>WANDERERS</td>\n",
       "      <td>QUEEN'S PARK (GLASGOW)</td>\n",
       "      <td>0</td>\n",
       "      <td>0</td>\n",
       "      <td>SEMI-FINAL</td>\n",
       "      <td>1872</td>\n",
       "      <td>01.01.01</td>\n",
       "      <td>True</td>\n",
       "      <td>False</td>\n",
       "      <td>16067</td>\n",
       "      <td>2</td>\n",
       "      <td>NaN</td>\n",
       "      <td>WANDERERS</td>\n",
       "      <td>QUEEN'S PARK (GLASGOW)</td>\n",
       "    </tr>\n",
       "    <tr>\n",
       "      <th>4</th>\n",
       "      <td>HITCHIN</td>\n",
       "      <td>ROYAL ENGINEERS</td>\n",
       "      <td>0</td>\n",
       "      <td>5</td>\n",
       "      <td>SECOND ROUND PROPER</td>\n",
       "      <td>1872</td>\n",
       "      <td>10.01.72</td>\n",
       "      <td>False</td>\n",
       "      <td>False</td>\n",
       "      <td>16057</td>\n",
       "      <td>4</td>\n",
       "      <td>ROYAL ENGINEERS</td>\n",
       "      <td>ROYAL ENGINEERS</td>\n",
       "      <td>HITCHIN</td>\n",
       "    </tr>\n",
       "  </tbody>\n",
       "</table>\n",
       "</div>"
      ],
      "text/plain": [
       "         home_team               away_team  home_score  away_score  \\\n",
       "0  ROYAL ENGINEERS          CRYSTAL PALACE           3           0   \n",
       "1        WANDERERS  QUEEN'S PARK (GLASGOW)           0           0   \n",
       "2  ROYAL ENGINEERS          CRYSTAL PALACE           0           0   \n",
       "3        WANDERERS  QUEEN'S PARK (GLASGOW)           0           0   \n",
       "4          HITCHIN         ROYAL ENGINEERS           0           5   \n",
       "\n",
       "                 round  year      date replay qualifier  match_id  stage  \\\n",
       "0           SEMI-FINAL  1872  09.03.72   True     False     16066      2   \n",
       "1           SEMI-FINAL  1872  05.03.72  False     False     16065      2   \n",
       "2           SEMI-FINAL  1872  17.02.72  False     False     16064      2   \n",
       "3           SEMI-FINAL  1872  01.01.01   True     False     16067      2   \n",
       "4  SECOND ROUND PROPER  1872  10.01.72  False     False     16057      4   \n",
       "\n",
       "            winner             left                   right  \n",
       "0  ROYAL ENGINEERS  ROYAL ENGINEERS          CRYSTAL PALACE  \n",
       "1              NaN        WANDERERS  QUEEN'S PARK (GLASGOW)  \n",
       "2              NaN  ROYAL ENGINEERS          CRYSTAL PALACE  \n",
       "3              NaN        WANDERERS  QUEEN'S PARK (GLASGOW)  \n",
       "4  ROYAL ENGINEERS  ROYAL ENGINEERS                 HITCHIN  "
      ]
     },
     "execution_count": 22,
     "metadata": {},
     "output_type": "execute_result"
    }
   ],
   "source": [
    "fac.head()"
   ]
  },
  {
   "cell_type": "code",
   "execution_count": 23,
   "metadata": {
    "collapsed": false
   },
   "outputs": [],
   "source": [
    "fix = fac.groupby(['year','round','left','right'])"
   ]
  },
  {
   "cell_type": "code",
   "execution_count": 24,
   "metadata": {
    "collapsed": false
   },
   "outputs": [
    {
     "data": {
      "text/plain": [
       "5"
      ]
     },
     "execution_count": 24,
     "metadata": {},
     "output_type": "execute_result"
    }
   ],
   "source": [
    "fix.size().max()"
   ]
  },
  {
   "cell_type": "code",
   "execution_count": 25,
   "metadata": {
    "collapsed": false
   },
   "outputs": [
    {
     "data": {
      "text/plain": [
       "(25, 14)"
      ]
     },
     "execution_count": 25,
     "metadata": {},
     "output_type": "execute_result"
    }
   ],
   "source": [
    "fix.filter(lambda x: len(x) == 5).shape #total number of matches belonging to 5 match fixtures"
   ]
  },
  {
   "cell_type": "markdown",
   "metadata": {},
   "source": [
    "The record number of matches in a fixture for \"proper\" rounds is 5, there are 5 instances of this occuring\n",
    "\n",
    "Finding number of matches with non-NaN winners in each fixture"
   ]
  },
  {
   "cell_type": "code",
   "execution_count": 26,
   "metadata": {
    "collapsed": false
   },
   "outputs": [
    {
     "data": {
      "text/plain": [
       "year  round                left                     right                 \n",
       "1872  FINAL                WANDERERS                ROYAL ENGINEERS           1\n",
       "      FIRST ROUND PROPER   CIVIL SERVICE            BARNES                    1\n",
       "                           HAMPSTEAD HEATHENS       BYE                       1\n",
       "                           HITCHIN                  CRYSTAL PALACE            0\n",
       "                           MARLOW                   MAIDENHEAD                1\n",
       "                           QUEEN'S PARK (GLASGOW)   DONNINGTON SCHOOL         0\n",
       "                           ROYAL ENGINEERS          REIGATE PRIORY            0\n",
       "                           UPTON PARK               CLAPHAM ROVERS            1\n",
       "                           WANDERERS                HARROW CHEQUERS           0\n",
       "      SECOND ROUND PROPER  HAMPSTEAD HEATHENS       BARNES                    1\n",
       "                           MAIDENHEAD               CRYSTAL PALACE            1\n",
       "                           QUEEN'S PARK (GLASGOW)   DONNINGTON SCHOOL         0\n",
       "                           ROYAL ENGINEERS          HITCHIN                   1\n",
       "                           WANDERERS                CLAPHAM ROVERS            1\n",
       "      SEMI-FINAL           ROYAL ENGINEERS          CRYSTAL PALACE            1\n",
       "                           WANDERERS                QUEEN'S PARK (GLASGOW)    0\n",
       "      THIRD ROUND PROPER   QUEEN'S PARK (GLASGOW)   BYE                       1\n",
       "                           ROYAL ENGINEERS          HAMPSTEAD HEATHENS        1\n",
       "                           WANDERERS                CRYSTAL PALACE            0\n",
       "1873  FINAL                WANDERERS                OXFORD UNIVERSITY         1\n",
       "      FIRST ROUND PROPER   HITCHIN                  CLAPHAM ROVERS            0\n",
       "                           MARLOW                   MAIDENHEAD                1\n",
       "                           OXFORD UNIVERSITY        CRYSTAL PALACE            1\n",
       "                           QUEEN'S PARK (GLASGOW)   BYE                       1\n",
       "                           ROYAL ENGINEERS          CIVIL SERVICE             1\n",
       "                           SOUTH NORWOOD            BARNES                    1\n",
       "                           UPTON PARK               1ST SURREY RIFLES         1\n",
       "                           WANDERERS                BYE                       1\n",
       "                           WINDSOR HOME PARK        REIGATE PRIORY            1\n",
       "      FOURTH ROUND PROPER  OXFORD UNIVERSITY        MAIDENHEAD                1\n",
       "                                                                             ..\n",
       "2015  THIRD ROUND PROPER   BRIGHTON & HOVE ALBION   BRENTFORD                 1\n",
       "                           CHARLTON ATHLETIC        BLACKBURN ROVERS          1\n",
       "                           COLCHESTER UNITED        CARDIFF CITY              1\n",
       "                           DONCASTER ROVERS         BRISTOL CITY              1\n",
       "                           DOVER ATHLETIC           CRYSTAL PALACE            1\n",
       "                           HULL CITY                ARSENAL                   1\n",
       "                           LIVERPOOL                AFC WIMBLEDON             1\n",
       "                           LUTON TOWN               CAMBRIDGE UNITED          1\n",
       "                           MIDDLESBROUGH            BARNSLEY                  1\n",
       "                           MILLWALL                 BRADFORD CITY             1\n",
       "                           NEWCASTLE UNITED         LEICESTER CITY            1\n",
       "                           PRESTON NORTH END        NORWICH CITY              1\n",
       "                           READING                  HUDDERSFIELD TOWN         1\n",
       "                           ROCHDALE                 NOTTINGHAM FOREST         1\n",
       "                           ROTHERHAM UNITED         AFC BOURNEMOUTH           1\n",
       "                           SCUNTHORPE UNITED        CHESTERFIELD              1\n",
       "                           SHEFFIELD UNITED         QUEENS PARK RANGERS       1\n",
       "                           SHEFFIELD WEDNESDAY      MANCHESTER CITY           1\n",
       "                           SOUTHAMPTON              IPSWICH TOWN              1\n",
       "                           SOUTHPORT                DERBY COUNTY              1\n",
       "                           SUNDERLAND               LEEDS UNITED              1\n",
       "                           TOTTENHAM HOTSPUR        BURNLEY                   1\n",
       "                           TRANMERE ROVERS          SWANSEA CITY              1\n",
       "                           WATFORD                  CHELSEA                   1\n",
       "                           WEST BROMWICH ALBION     GATESHEAD                 1\n",
       "                           WEST HAM UNITED          EVERTON                   0\n",
       "                           WIGAN ATHLETIC           BOLTON WANDERERS          1\n",
       "                           WOLVERHAMPTON WANDERERS  FULHAM                    0\n",
       "                           WREXHAM                  STOKE CITY                1\n",
       "                           YEOVIL TOWN              MANCHESTER UNITED         1\n",
       "Name: winner, dtype: int64"
      ]
     },
     "execution_count": 26,
     "metadata": {},
     "output_type": "execute_result"
    }
   ],
   "source": [
    "fix['winner'].count()"
   ]
  },
  {
   "cell_type": "markdown",
   "metadata": {},
   "source": [
    "finding fixtures that have multiple winners"
   ]
  },
  {
   "cell_type": "code",
   "execution_count": 27,
   "metadata": {
    "collapsed": false,
    "scrolled": false
   },
   "outputs": [],
   "source": [
    "overfix = fix.filter(lambda x: x['winner'].count() > 1)\n",
    "\n",
    "overfix.to_csv('overfix.csv')"
   ]
  },
  {
   "cell_type": "code",
   "execution_count": 28,
   "metadata": {
    "collapsed": false
   },
   "outputs": [],
   "source": [
    "over_plt = overfix.year.value_counts().reindex(range(1872, 2016))"
   ]
  },
  {
   "cell_type": "code",
   "execution_count": 29,
   "metadata": {
    "collapsed": false
   },
   "outputs": [
    {
     "data": {
      "text/html": [
       "<iframe id=\"igraph\" scrolling=\"no\" style=\"border:none;\" seamless=\"seamless\" src=\"https://plot.ly/~starhammer/811.embed\" height=\"400px\" width=\"900px\"></iframe>"
      ],
      "text/plain": [
       "<plotly.tools.PlotlyDisplay object>"
      ]
     },
     "execution_count": 29,
     "metadata": {},
     "output_type": "execute_result"
    }
   ],
   "source": [
    "over_plt.iplot(kind = 'bar', width = 0.1, dimensions = (900,400))"
   ]
  },
  {
   "cell_type": "code",
   "execution_count": 30,
   "metadata": {
    "collapsed": false
   },
   "outputs": [
    {
     "data": {
      "text/plain": [
       "False"
      ]
     },
     "execution_count": 30,
     "metadata": {},
     "output_type": "execute_result"
    }
   ],
   "source": [
    "# 1946 has the majority of \"multiple winners\" in a single fixture due to EVERY fixture being replayed, the rest are due to results\n",
    "# which were voided so setting winner column to VOID\n",
    "\n",
    "# first check that no teams are named void\n",
    "\n",
    "(pd.concat([fac.home_team, fac.away_team]).values == 'VOID').max()"
   ]
  },
  {
   "cell_type": "code",
   "execution_count": 31,
   "metadata": {
    "collapsed": true
   },
   "outputs": [],
   "source": [
    "void_match = pd.read_csv('void_match.csv')"
   ]
  },
  {
   "cell_type": "code",
   "execution_count": 32,
   "metadata": {
    "collapsed": false
   },
   "outputs": [
    {
     "data": {
      "text/html": [
       "<div>\n",
       "<table border=\"1\" class=\"dataframe\">\n",
       "  <thead>\n",
       "    <tr style=\"text-align: right;\">\n",
       "      <th></th>\n",
       "      <th>home_team</th>\n",
       "      <th>away_team</th>\n",
       "      <th>home_score</th>\n",
       "      <th>away_score</th>\n",
       "      <th>round</th>\n",
       "      <th>year</th>\n",
       "      <th>match_id</th>\n",
       "    </tr>\n",
       "  </thead>\n",
       "  <tbody>\n",
       "    <tr>\n",
       "      <th>0</th>\n",
       "      <td>SOUTH NORWOOD</td>\n",
       "      <td>WINDSOR HOME PARK</td>\n",
       "      <td>1</td>\n",
       "      <td>0</td>\n",
       "      <td>SECOND ROUND PROPER</td>\n",
       "      <td>1873</td>\n",
       "      <td>16082</td>\n",
       "    </tr>\n",
       "    <tr>\n",
       "      <th>1</th>\n",
       "      <td>NOTTS COUNTY</td>\n",
       "      <td>WEDNESBURY STROLLERS</td>\n",
       "      <td>5</td>\n",
       "      <td>3</td>\n",
       "      <td>SECOND ROUND PROPER</td>\n",
       "      <td>1882</td>\n",
       "      <td>16547</td>\n",
       "    </tr>\n",
       "    <tr>\n",
       "      <th>2</th>\n",
       "      <td>DREADNOUGHT</td>\n",
       "      <td>SOUTH READING</td>\n",
       "      <td>1</td>\n",
       "      <td>2</td>\n",
       "      <td>FIRST ROUND PROPER</td>\n",
       "      <td>1883</td>\n",
       "      <td>16610</td>\n",
       "    </tr>\n",
       "    <tr>\n",
       "      <th>3</th>\n",
       "      <td>BLACKBURN OLYMPIC</td>\n",
       "      <td>CHURCH</td>\n",
       "      <td>4</td>\n",
       "      <td>2</td>\n",
       "      <td>FIRST ROUND PROPER</td>\n",
       "      <td>1886</td>\n",
       "      <td>16976</td>\n",
       "    </tr>\n",
       "    <tr>\n",
       "      <th>4</th>\n",
       "      <td>HURST</td>\n",
       "      <td>BRADSHAW</td>\n",
       "      <td>2</td>\n",
       "      <td>1</td>\n",
       "      <td>FIRST ROUND PROPER</td>\n",
       "      <td>1886</td>\n",
       "      <td>16997</td>\n",
       "    </tr>\n",
       "  </tbody>\n",
       "</table>\n",
       "</div>"
      ],
      "text/plain": [
       "           home_team             away_team  home_score  away_score  \\\n",
       "0      SOUTH NORWOOD     WINDSOR HOME PARK           1           0   \n",
       "1       NOTTS COUNTY  WEDNESBURY STROLLERS           5           3   \n",
       "2        DREADNOUGHT         SOUTH READING           1           2   \n",
       "3  BLACKBURN OLYMPIC                CHURCH           4           2   \n",
       "4              HURST              BRADSHAW           2           1   \n",
       "\n",
       "                 round  year  match_id  \n",
       "0  SECOND ROUND PROPER  1873     16082  \n",
       "1  SECOND ROUND PROPER  1882     16547  \n",
       "2   FIRST ROUND PROPER  1883     16610  \n",
       "3   FIRST ROUND PROPER  1886     16976  \n",
       "4   FIRST ROUND PROPER  1886     16997  "
      ]
     },
     "execution_count": 32,
     "metadata": {},
     "output_type": "execute_result"
    }
   ],
   "source": [
    "void_match.head()"
   ]
  },
  {
   "cell_type": "markdown",
   "metadata": {},
   "source": [
    "filter out winner = VOID rows and check that the only 'multi-winner' fixtures are from 1946"
   ]
  },
  {
   "cell_type": "code",
   "execution_count": 33,
   "metadata": {
    "collapsed": false
   },
   "outputs": [],
   "source": [
    "fac.ix[fac.match_id.isin(void_match.match_id),'winner'] = 'VOID'"
   ]
  },
  {
   "cell_type": "code",
   "execution_count": 34,
   "metadata": {
    "collapsed": false
   },
   "outputs": [],
   "source": [
    "over_plt2 = (fac[~(fac.winner == 'VOID')]\n",
    "             .groupby(['year','round','left','right'])\n",
    "             .filter(lambda x: x['winner'].count() > 1)['year']\n",
    "             .value_counts().reindex(range(1872, 2016))\n",
    "            )"
   ]
  },
  {
   "cell_type": "code",
   "execution_count": 35,
   "metadata": {
    "collapsed": false
   },
   "outputs": [
    {
     "data": {
      "text/html": [
       "<iframe id=\"igraph\" scrolling=\"no\" style=\"border:none;\" seamless=\"seamless\" src=\"https://plot.ly/~starhammer/813.embed\" height=\"400px\" width=\"900px\"></iframe>"
      ],
      "text/plain": [
       "<plotly.tools.PlotlyDisplay object>"
      ]
     },
     "execution_count": 35,
     "metadata": {},
     "output_type": "execute_result"
    }
   ],
   "source": [
    "figure = over_plt2.iplot(kind = 'bar', width = 0.1, dimensions = (900,400), asFigure = True)\n",
    "\n",
    "figure['layout']['xaxis1'].update({'range':[1872,2015]})\n",
    "\n",
    "py.iplot(figure)"
   ]
  },
  {
   "cell_type": "markdown",
   "metadata": {},
   "source": [
    "now looking at fixtures which have no winners"
   ]
  },
  {
   "cell_type": "code",
   "execution_count": 36,
   "metadata": {
    "collapsed": false,
    "scrolled": true
   },
   "outputs": [],
   "source": [
    "underfix = fix.filter(lambda x: x['winner'].count() < 1)\n",
    "\n",
    "underfix.to_csv('underfix.csv')"
   ]
  },
  {
   "cell_type": "code",
   "execution_count": 37,
   "metadata": {
    "collapsed": false
   },
   "outputs": [
    {
     "data": {
      "text/html": [
       "<iframe id=\"igraph\" scrolling=\"no\" style=\"border:none;\" seamless=\"seamless\" src=\"https://plot.ly/~starhammer/815.embed\" height=\"400px\" width=\"900px\"></iframe>"
      ],
      "text/plain": [
       "<plotly.tools.PlotlyDisplay object>"
      ]
     },
     "execution_count": 37,
     "metadata": {},
     "output_type": "execute_result"
    }
   ],
   "source": [
    "under_plt = underfix.year.value_counts().reindex(range(1872, 2016))\n",
    "\n",
    "figure = under_plt.iplot(kind = 'bar', width = 0.1, dimensions = (900,400), asFigure = True)\n",
    "\n",
    "figure['layout']['xaxis1'].update({'range':[1872,2015]})\n",
    "\n",
    "py.iplot(figure)"
   ]
  },
  {
   "cell_type": "markdown",
   "metadata": {},
   "source": [
    "'missing' winners were either penalty shootouts in replays (1992 onwards) or walkovers (pre-1940)\n",
    "\n",
    "actual match winner or BYE researched and filled in as appropriate"
   ]
  },
  {
   "cell_type": "code",
   "execution_count": 38,
   "metadata": {
    "collapsed": false
   },
   "outputs": [
    {
     "data": {
      "text/html": [
       "<div>\n",
       "<table border=\"1\" class=\"dataframe\">\n",
       "  <thead>\n",
       "    <tr style=\"text-align: right;\">\n",
       "      <th></th>\n",
       "      <th>home_team</th>\n",
       "      <th>away_team</th>\n",
       "      <th>round</th>\n",
       "      <th>year</th>\n",
       "      <th>replay</th>\n",
       "      <th>match_id</th>\n",
       "      <th>winner</th>\n",
       "    </tr>\n",
       "  </thead>\n",
       "  <tbody>\n",
       "    <tr>\n",
       "      <th>0</th>\n",
       "      <td>WANDERERS</td>\n",
       "      <td>QUEEN'S PARK (GLASGOW)</td>\n",
       "      <td>SEMI-FINAL</td>\n",
       "      <td>1872</td>\n",
       "      <td>False</td>\n",
       "      <td>16065</td>\n",
       "      <td>BYE</td>\n",
       "    </tr>\n",
       "    <tr>\n",
       "      <th>1</th>\n",
       "      <td>WANDERERS</td>\n",
       "      <td>QUEEN'S PARK (GLASGOW)</td>\n",
       "      <td>SEMI-FINAL</td>\n",
       "      <td>1872</td>\n",
       "      <td>True</td>\n",
       "      <td>16067</td>\n",
       "      <td>BYE</td>\n",
       "    </tr>\n",
       "    <tr>\n",
       "      <th>2</th>\n",
       "      <td>QUEEN'S PARK (GLASGOW)</td>\n",
       "      <td>DONNINGTON SCHOOL</td>\n",
       "      <td>SECOND ROUND PROPER</td>\n",
       "      <td>1872</td>\n",
       "      <td>False</td>\n",
       "      <td>16058</td>\n",
       "      <td>BYE</td>\n",
       "    </tr>\n",
       "    <tr>\n",
       "      <th>3</th>\n",
       "      <td>WANDERERS</td>\n",
       "      <td>CRYSTAL PALACE</td>\n",
       "      <td>THIRD ROUND PROPER</td>\n",
       "      <td>1872</td>\n",
       "      <td>False</td>\n",
       "      <td>16063</td>\n",
       "      <td>BYE</td>\n",
       "    </tr>\n",
       "    <tr>\n",
       "      <th>4</th>\n",
       "      <td>HITCHIN</td>\n",
       "      <td>CRYSTAL PALACE</td>\n",
       "      <td>FIRST ROUND PROPER</td>\n",
       "      <td>1872</td>\n",
       "      <td>False</td>\n",
       "      <td>16049</td>\n",
       "      <td>BYE</td>\n",
       "    </tr>\n",
       "  </tbody>\n",
       "</table>\n",
       "</div>"
      ],
      "text/plain": [
       "                home_team               away_team                round  year  \\\n",
       "0               WANDERERS  QUEEN'S PARK (GLASGOW)           SEMI-FINAL  1872   \n",
       "1               WANDERERS  QUEEN'S PARK (GLASGOW)           SEMI-FINAL  1872   \n",
       "2  QUEEN'S PARK (GLASGOW)       DONNINGTON SCHOOL  SECOND ROUND PROPER  1872   \n",
       "3               WANDERERS          CRYSTAL PALACE   THIRD ROUND PROPER  1872   \n",
       "4                 HITCHIN          CRYSTAL PALACE   FIRST ROUND PROPER  1872   \n",
       "\n",
       "  replay  match_id winner  \n",
       "0  False     16065    BYE  \n",
       "1   True     16067    BYE  \n",
       "2  False     16058    BYE  \n",
       "3  False     16063    BYE  \n",
       "4  False     16049    BYE  "
      ]
     },
     "execution_count": 38,
     "metadata": {},
     "output_type": "execute_result"
    }
   ],
   "source": [
    "miss_win = pd.read_csv('no_winner.csv')\n",
    "\n",
    "miss_win.head()"
   ]
  },
  {
   "cell_type": "markdown",
   "metadata": {},
   "source": [
    "#### Setting index equal to match_id"
   ]
  },
  {
   "cell_type": "code",
   "execution_count": 39,
   "metadata": {
    "collapsed": false
   },
   "outputs": [],
   "source": [
    "fac.set_index('match_id', inplace = True)\n",
    "\n",
    "miss_win.set_index('match_id', inplace = True)"
   ]
  },
  {
   "cell_type": "code",
   "execution_count": 40,
   "metadata": {
    "collapsed": false
   },
   "outputs": [],
   "source": [
    "fac.ix[miss_win.index, 'winner'] = miss_win['winner'] # updating winner column with penalty shootout winners and BYE were appropriate"
   ]
  },
  {
   "cell_type": "code",
   "execution_count": 41,
   "metadata": {
    "collapsed": false
   },
   "outputs": [
    {
     "data": {
      "text/html": [
       "<div>\n",
       "<table border=\"1\" class=\"dataframe\">\n",
       "  <thead>\n",
       "    <tr style=\"text-align: right;\">\n",
       "      <th></th>\n",
       "      <th>home_team</th>\n",
       "      <th>away_team</th>\n",
       "      <th>home_score</th>\n",
       "      <th>away_score</th>\n",
       "      <th>round</th>\n",
       "      <th>year</th>\n",
       "      <th>date</th>\n",
       "      <th>replay</th>\n",
       "      <th>qualifier</th>\n",
       "      <th>stage</th>\n",
       "      <th>winner</th>\n",
       "      <th>left</th>\n",
       "      <th>right</th>\n",
       "    </tr>\n",
       "    <tr>\n",
       "      <th>match_id</th>\n",
       "      <th></th>\n",
       "      <th></th>\n",
       "      <th></th>\n",
       "      <th></th>\n",
       "      <th></th>\n",
       "      <th></th>\n",
       "      <th></th>\n",
       "      <th></th>\n",
       "      <th></th>\n",
       "      <th></th>\n",
       "      <th></th>\n",
       "      <th></th>\n",
       "      <th></th>\n",
       "    </tr>\n",
       "  </thead>\n",
       "  <tbody>\n",
       "  </tbody>\n",
       "</table>\n",
       "</div>"
      ],
      "text/plain": [
       "Empty DataFrame\n",
       "Columns: [home_team, away_team, home_score, away_score, round, year, date, replay, qualifier, stage, winner, left, right]\n",
       "Index: []"
      ]
     },
     "execution_count": 41,
     "metadata": {},
     "output_type": "execute_result"
    }
   ],
   "source": [
    "# checking that there are no longer any 'fixtures' without a winner\n",
    "\n",
    "fac.groupby(['year','round','left','right']).filter(lambda x: x['winner'].count() < 1)"
   ]
  },
  {
   "cell_type": "markdown",
   "metadata": {},
   "source": [
    "setting home and away score in all BYE and VOID matches to NaN"
   ]
  },
  {
   "cell_type": "code",
   "execution_count": 42,
   "metadata": {
    "collapsed": false
   },
   "outputs": [],
   "source": [
    "bye_void = fac.winner.isin(['BYE','VOID'])"
   ]
  },
  {
   "cell_type": "code",
   "execution_count": 43,
   "metadata": {
    "collapsed": true
   },
   "outputs": [],
   "source": [
    "fac.ix[bye_void, ['home_score', 'away_score']] = np.NaN"
   ]
  },
  {
   "cell_type": "code",
   "execution_count": 44,
   "metadata": {
    "collapsed": false
   },
   "outputs": [
    {
     "data": {
      "text/plain": [
       "BYE     295\n",
       "VOID     37\n",
       "Name: winner, dtype: int64"
      ]
     },
     "execution_count": 44,
     "metadata": {},
     "output_type": "execute_result"
    }
   ],
   "source": [
    "fac[fac.home_score.isnull()]['winner'].value_counts()"
   ]
  },
  {
   "cell_type": "code",
   "execution_count": 45,
   "metadata": {
    "collapsed": true
   },
   "outputs": [],
   "source": [
    "fac.to_csv('facup_v3.csv')"
   ]
  },
  {
   "cell_type": "code",
   "execution_count": null,
   "metadata": {
    "collapsed": true
   },
   "outputs": [],
   "source": []
  }
 ],
 "metadata": {
  "kernelspec": {
   "display_name": "Python 2",
   "language": "python",
   "name": "python2"
  },
  "language_info": {
   "codemirror_mode": {
    "name": "ipython",
    "version": 2
   },
   "file_extension": ".py",
   "mimetype": "text/x-python",
   "name": "python",
   "nbconvert_exporter": "python",
   "pygments_lexer": "ipython2",
   "version": "2.7.11"
  }
 },
 "nbformat": 4,
 "nbformat_minor": 0
}
