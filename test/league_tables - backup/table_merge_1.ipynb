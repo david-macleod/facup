{
 "cells": [
  {
   "cell_type": "code",
   "execution_count": 1,
   "metadata": {
    "collapsed": true
   },
   "outputs": [],
   "source": [
    "import pandas as pd\n",
    "import numpy as np\n",
    "import matplotlib.pyplot as plt\n",
    "import matplotlib\n",
    "\n",
    "%matplotlib inline\n",
    "matplotlib.style.use('ggplot')"
   ]
  },
  {
   "cell_type": "code",
   "execution_count": 2,
   "metadata": {
    "collapsed": false
   },
   "outputs": [],
   "source": [
    "fl = pd.read_csv('tables_merged_v1.csv')"
   ]
  },
  {
   "cell_type": "code",
   "execution_count": 3,
   "metadata": {
    "collapsed": false
   },
   "outputs": [
    {
     "name": "stdout",
     "output_type": "stream",
     "text": [
      "<class 'pandas.core.frame.DataFrame'>\n",
      "Int64Index: 6332 entries, 0 to 6331\n",
      "Data columns (total 11 columns):\n",
      "pos     6332 non-null int64\n",
      "team    6332 non-null object\n",
      "w       6331 non-null float64\n",
      "d       6331 non-null float64\n",
      "l       6331 non-null float64\n",
      "f       6331 non-null float64\n",
      "a       6331 non-null float64\n",
      "pts     6331 non-null float64\n",
      "pld     6331 non-null float64\n",
      "year    6332 non-null int64\n",
      "tier    6332 non-null int64\n",
      "dtypes: float64(7), int64(3), object(1)\n",
      "memory usage: 593.6+ KB\n"
     ]
    }
   ],
   "source": [
    "fl.info()"
   ]
  },
  {
   "cell_type": "code",
   "execution_count": 4,
   "metadata": {
    "collapsed": false
   },
   "outputs": [],
   "source": [
    "nl = pd.read_csv('nonleague_1_v1.csv')"
   ]
  },
  {
   "cell_type": "code",
   "execution_count": 5,
   "metadata": {
    "collapsed": false
   },
   "outputs": [
    {
     "name": "stdout",
     "output_type": "stream",
     "text": [
      "<class 'pandas.core.frame.DataFrame'>\n",
      "Int64Index: 3510 entries, 0 to 3509\n",
      "Data columns (total 12 columns):\n",
      "a         3510 non-null int64\n",
      "league    3510 non-null object\n",
      "d         3510 non-null int64\n",
      "f         3510 non-null int64\n",
      "year      3510 non-null int64\n",
      "l         3510 non-null int64\n",
      "pos       3510 non-null int64\n",
      "pld       3510 non-null int64\n",
      "w         3510 non-null int64\n",
      "team      3510 non-null object\n",
      "tier      3510 non-null int64\n",
      "pts       3510 non-null int64\n",
      "dtypes: int64(10), object(2)\n",
      "memory usage: 356.5+ KB\n"
     ]
    }
   ],
   "source": [
    "nl.info()"
   ]
  },
  {
   "cell_type": "code",
   "execution_count": 6,
   "metadata": {
    "collapsed": true
   },
   "outputs": [],
   "source": [
    "merge = pd.concat([fl, nl], axis=0)"
   ]
  },
  {
   "cell_type": "code",
   "execution_count": 7,
   "metadata": {
    "collapsed": false
   },
   "outputs": [
    {
     "name": "stdout",
     "output_type": "stream",
     "text": [
      "<class 'pandas.core.frame.DataFrame'>\n",
      "Int64Index: 9842 entries, 0 to 3509\n",
      "Data columns (total 12 columns):\n",
      "a         9841 non-null float64\n",
      "d         9841 non-null float64\n",
      "f         9841 non-null float64\n",
      "l         9841 non-null float64\n",
      "league    3510 non-null object\n",
      "pld       9841 non-null float64\n",
      "pos       9842 non-null int64\n",
      "pts       9841 non-null float64\n",
      "team      9842 non-null object\n",
      "tier      9842 non-null int64\n",
      "w         9841 non-null float64\n",
      "year      9842 non-null int64\n",
      "dtypes: float64(7), int64(3), object(2)\n",
      "memory usage: 999.6+ KB\n"
     ]
    }
   ],
   "source": [
    "merge.info()"
   ]
  },
  {
   "cell_type": "code",
   "execution_count": 8,
   "metadata": {
    "collapsed": false
   },
   "outputs": [],
   "source": [
    "merge.reset_index(drop=True, inplace=True)"
   ]
  },
  {
   "cell_type": "code",
   "execution_count": 9,
   "metadata": {
    "collapsed": false
   },
   "outputs": [],
   "source": [
    "merge = merge[['pos','team','pld','w','d','l','f','a', 'pts','year','tier','league']]"
   ]
  },
  {
   "cell_type": "code",
   "execution_count": 10,
   "metadata": {
    "collapsed": false
   },
   "outputs": [],
   "source": [
    "merge.team = merge.team.str.upper()"
   ]
  },
  {
   "cell_type": "code",
   "execution_count": 11,
   "metadata": {
    "collapsed": false
   },
   "outputs": [
    {
     "data": {
      "text/html": [
       "<div>\n",
       "<table border=\"1\" class=\"dataframe\">\n",
       "  <thead>\n",
       "    <tr style=\"text-align: right;\">\n",
       "      <th></th>\n",
       "      <th>pos</th>\n",
       "      <th>team</th>\n",
       "      <th>pld</th>\n",
       "      <th>w</th>\n",
       "      <th>d</th>\n",
       "      <th>l</th>\n",
       "      <th>f</th>\n",
       "      <th>a</th>\n",
       "      <th>pts</th>\n",
       "      <th>year</th>\n",
       "      <th>tier</th>\n",
       "      <th>league</th>\n",
       "    </tr>\n",
       "  </thead>\n",
       "  <tbody>\n",
       "    <tr>\n",
       "      <th>0</th>\n",
       "      <td>1</td>\n",
       "      <td>LIVERPOOL</td>\n",
       "      <td>42</td>\n",
       "      <td>25</td>\n",
       "      <td>7</td>\n",
       "      <td>10</td>\n",
       "      <td>84</td>\n",
       "      <td>52</td>\n",
       "      <td>57</td>\n",
       "      <td>1947</td>\n",
       "      <td>11</td>\n",
       "      <td>NaN</td>\n",
       "    </tr>\n",
       "    <tr>\n",
       "      <th>1</th>\n",
       "      <td>2</td>\n",
       "      <td>MANCHESTER UNITED</td>\n",
       "      <td>42</td>\n",
       "      <td>22</td>\n",
       "      <td>12</td>\n",
       "      <td>8</td>\n",
       "      <td>95</td>\n",
       "      <td>54</td>\n",
       "      <td>56</td>\n",
       "      <td>1947</td>\n",
       "      <td>11</td>\n",
       "      <td>NaN</td>\n",
       "    </tr>\n",
       "    <tr>\n",
       "      <th>2</th>\n",
       "      <td>3</td>\n",
       "      <td>WOLVERHAMPTON WANDERERS</td>\n",
       "      <td>42</td>\n",
       "      <td>25</td>\n",
       "      <td>6</td>\n",
       "      <td>11</td>\n",
       "      <td>98</td>\n",
       "      <td>56</td>\n",
       "      <td>56</td>\n",
       "      <td>1947</td>\n",
       "      <td>11</td>\n",
       "      <td>NaN</td>\n",
       "    </tr>\n",
       "    <tr>\n",
       "      <th>3</th>\n",
       "      <td>4</td>\n",
       "      <td>STOKE CITY</td>\n",
       "      <td>42</td>\n",
       "      <td>24</td>\n",
       "      <td>7</td>\n",
       "      <td>11</td>\n",
       "      <td>90</td>\n",
       "      <td>53</td>\n",
       "      <td>55</td>\n",
       "      <td>1947</td>\n",
       "      <td>11</td>\n",
       "      <td>NaN</td>\n",
       "    </tr>\n",
       "    <tr>\n",
       "      <th>4</th>\n",
       "      <td>5</td>\n",
       "      <td>BLACKPOOL</td>\n",
       "      <td>42</td>\n",
       "      <td>22</td>\n",
       "      <td>6</td>\n",
       "      <td>14</td>\n",
       "      <td>71</td>\n",
       "      <td>70</td>\n",
       "      <td>50</td>\n",
       "      <td>1947</td>\n",
       "      <td>11</td>\n",
       "      <td>NaN</td>\n",
       "    </tr>\n",
       "  </tbody>\n",
       "</table>\n",
       "</div>"
      ],
      "text/plain": [
       "   pos                     team  pld   w   d   l   f   a  pts  year  tier  \\\n",
       "0    1                LIVERPOOL   42  25   7  10  84  52   57  1947    11   \n",
       "1    2        MANCHESTER UNITED   42  22  12   8  95  54   56  1947    11   \n",
       "2    3  WOLVERHAMPTON WANDERERS   42  25   6  11  98  56   56  1947    11   \n",
       "3    4               STOKE CITY   42  24   7  11  90  53   55  1947    11   \n",
       "4    5                BLACKPOOL   42  22   6  14  71  70   50  1947    11   \n",
       "\n",
       "  league  \n",
       "0    NaN  \n",
       "1    NaN  \n",
       "2    NaN  \n",
       "3    NaN  \n",
       "4    NaN  "
      ]
     },
     "execution_count": 11,
     "metadata": {},
     "output_type": "execute_result"
    }
   ],
   "source": [
    "merge.head()"
   ]
  },
  {
   "cell_type": "code",
   "execution_count": 12,
   "metadata": {
    "collapsed": true
   },
   "outputs": [],
   "source": [
    "merge.to_csv('table_archive_v1.csv', index=False)"
   ]
  },
  {
   "cell_type": "code",
   "execution_count": 13,
   "metadata": {
    "collapsed": false
   },
   "outputs": [
    {
     "data": {
      "text/plain": [
       "2012"
      ]
     },
     "execution_count": 13,
     "metadata": {},
     "output_type": "execute_result"
    }
   ],
   "source": [
    "nl.year.min()"
   ]
  },
  {
   "cell_type": "code",
   "execution_count": 14,
   "metadata": {
    "collapsed": false
   },
   "outputs": [],
   "source": [
    "merge.sort_values('tier', inplace=True)"
   ]
  },
  {
   "cell_type": "code",
   "execution_count": 15,
   "metadata": {
    "collapsed": false
   },
   "outputs": [
    {
     "data": {
      "text/html": [
       "<div>\n",
       "<table border=\"1\" class=\"dataframe\">\n",
       "  <thead>\n",
       "    <tr style=\"text-align: right;\">\n",
       "      <th></th>\n",
       "      <th>pos</th>\n",
       "      <th>team</th>\n",
       "      <th>pld</th>\n",
       "      <th>w</th>\n",
       "      <th>d</th>\n",
       "      <th>l</th>\n",
       "      <th>f</th>\n",
       "      <th>a</th>\n",
       "      <th>pts</th>\n",
       "      <th>year</th>\n",
       "      <th>tier</th>\n",
       "      <th>league</th>\n",
       "    </tr>\n",
       "  </thead>\n",
       "  <tbody>\n",
       "    <tr>\n",
       "      <th>0</th>\n",
       "      <td>1</td>\n",
       "      <td>LIVERPOOL</td>\n",
       "      <td>42</td>\n",
       "      <td>25</td>\n",
       "      <td>7</td>\n",
       "      <td>10</td>\n",
       "      <td>84</td>\n",
       "      <td>52</td>\n",
       "      <td>57</td>\n",
       "      <td>1947</td>\n",
       "      <td>11</td>\n",
       "      <td>NaN</td>\n",
       "    </tr>\n",
       "    <tr>\n",
       "      <th>3116</th>\n",
       "      <td>6</td>\n",
       "      <td>SOUTHAMPTON</td>\n",
       "      <td>42</td>\n",
       "      <td>20</td>\n",
       "      <td>10</td>\n",
       "      <td>12</td>\n",
       "      <td>76</td>\n",
       "      <td>56</td>\n",
       "      <td>50</td>\n",
       "      <td>1981</td>\n",
       "      <td>11</td>\n",
       "      <td>NaN</td>\n",
       "    </tr>\n",
       "    <tr>\n",
       "      <th>3117</th>\n",
       "      <td>7</td>\n",
       "      <td>NOTTINGHAM FOREST</td>\n",
       "      <td>42</td>\n",
       "      <td>19</td>\n",
       "      <td>12</td>\n",
       "      <td>11</td>\n",
       "      <td>62</td>\n",
       "      <td>44</td>\n",
       "      <td>50</td>\n",
       "      <td>1981</td>\n",
       "      <td>11</td>\n",
       "      <td>NaN</td>\n",
       "    </tr>\n",
       "    <tr>\n",
       "      <th>3118</th>\n",
       "      <td>8</td>\n",
       "      <td>MANCHESTER UNITED</td>\n",
       "      <td>42</td>\n",
       "      <td>15</td>\n",
       "      <td>18</td>\n",
       "      <td>9</td>\n",
       "      <td>51</td>\n",
       "      <td>36</td>\n",
       "      <td>48</td>\n",
       "      <td>1981</td>\n",
       "      <td>11</td>\n",
       "      <td>NaN</td>\n",
       "    </tr>\n",
       "    <tr>\n",
       "      <th>3119</th>\n",
       "      <td>9</td>\n",
       "      <td>LEEDS UNITED</td>\n",
       "      <td>42</td>\n",
       "      <td>17</td>\n",
       "      <td>10</td>\n",
       "      <td>15</td>\n",
       "      <td>39</td>\n",
       "      <td>47</td>\n",
       "      <td>44</td>\n",
       "      <td>1981</td>\n",
       "      <td>11</td>\n",
       "      <td>NaN</td>\n",
       "    </tr>\n",
       "  </tbody>\n",
       "</table>\n",
       "</div>"
      ],
      "text/plain": [
       "      pos               team  pld   w   d   l   f   a  pts  year  tier league\n",
       "0       1          LIVERPOOL   42  25   7  10  84  52   57  1947    11    NaN\n",
       "3116    6        SOUTHAMPTON   42  20  10  12  76  56   50  1981    11    NaN\n",
       "3117    7  NOTTINGHAM FOREST   42  19  12  11  62  44   50  1981    11    NaN\n",
       "3118    8  MANCHESTER UNITED   42  15  18   9  51  36   48  1981    11    NaN\n",
       "3119    9       LEEDS UNITED   42  17  10  15  39  47   44  1981    11    NaN"
      ]
     },
     "execution_count": 15,
     "metadata": {},
     "output_type": "execute_result"
    }
   ],
   "source": [
    "merge.head()"
   ]
  },
  {
   "cell_type": "code",
   "execution_count": 16,
   "metadata": {
    "collapsed": false
   },
   "outputs": [
    {
     "data": {
      "text/plain": [
       "1    9826\n",
       "2       8\n",
       "dtype: int64"
      ]
     },
     "execution_count": 16,
     "metadata": {},
     "output_type": "execute_result"
    }
   ],
   "source": [
    "merge.groupby(['year','team']).size().value_counts()"
   ]
  },
  {
   "cell_type": "code",
   "execution_count": 17,
   "metadata": {
    "collapsed": false
   },
   "outputs": [
    {
     "name": "stdout",
     "output_type": "stream",
     "text": [
      "<class 'pandas.core.frame.DataFrame'>\n",
      "Int64Index: 9842 entries, 0 to 9841\n",
      "Data columns (total 12 columns):\n",
      "pos       9842 non-null int64\n",
      "team      9842 non-null object\n",
      "pld       9841 non-null float64\n",
      "w         9841 non-null float64\n",
      "d         9841 non-null float64\n",
      "l         9841 non-null float64\n",
      "f         9841 non-null float64\n",
      "a         9841 non-null float64\n",
      "pts       9841 non-null float64\n",
      "year      9842 non-null int64\n",
      "tier      9842 non-null int64\n",
      "league    3510 non-null object\n",
      "dtypes: float64(7), int64(3), object(2)\n",
      "memory usage: 999.6+ KB\n"
     ]
    }
   ],
   "source": [
    "merge.info()"
   ]
  },
  {
   "cell_type": "code",
   "execution_count": 18,
   "metadata": {
    "collapsed": false
   },
   "outputs": [],
   "source": [
    "merge['dupes'] = merge.groupby(['year','team'])['tier'].rank()"
   ]
  },
  {
   "cell_type": "code",
   "execution_count": 22,
   "metadata": {
    "collapsed": false
   },
   "outputs": [
    {
     "data": {
      "text/html": [
       "<div>\n",
       "<table border=\"1\" class=\"dataframe\">\n",
       "  <thead>\n",
       "    <tr style=\"text-align: right;\">\n",
       "      <th></th>\n",
       "      <th>pos</th>\n",
       "      <th>team</th>\n",
       "      <th>pld</th>\n",
       "      <th>w</th>\n",
       "      <th>d</th>\n",
       "      <th>l</th>\n",
       "      <th>f</th>\n",
       "      <th>a</th>\n",
       "      <th>pts</th>\n",
       "      <th>year</th>\n",
       "      <th>tier</th>\n",
       "      <th>league</th>\n",
       "      <th>dupes</th>\n",
       "    </tr>\n",
       "  </thead>\n",
       "  <tbody>\n",
       "    <tr>\n",
       "      <th>7089</th>\n",
       "      <td>12</td>\n",
       "      <td>WESTFIELD</td>\n",
       "      <td>34</td>\n",
       "      <td>9</td>\n",
       "      <td>10</td>\n",
       "      <td>15</td>\n",
       "      <td>58</td>\n",
       "      <td>73</td>\n",
       "      <td>37</td>\n",
       "      <td>2012</td>\n",
       "      <td>1012</td>\n",
       "      <td>Southern Combination Div One</td>\n",
       "      <td>2</td>\n",
       "    </tr>\n",
       "    <tr>\n",
       "      <th>7923</th>\n",
       "      <td>5</td>\n",
       "      <td>WESTFIELD</td>\n",
       "      <td>34</td>\n",
       "      <td>17</td>\n",
       "      <td>7</td>\n",
       "      <td>10</td>\n",
       "      <td>67</td>\n",
       "      <td>56</td>\n",
       "      <td>58</td>\n",
       "      <td>2013</td>\n",
       "      <td>1012</td>\n",
       "      <td>Southern Combination Div One</td>\n",
       "      <td>2</td>\n",
       "    </tr>\n",
       "    <tr>\n",
       "      <th>9652</th>\n",
       "      <td>12</td>\n",
       "      <td>WESTFIELD</td>\n",
       "      <td>28</td>\n",
       "      <td>7</td>\n",
       "      <td>8</td>\n",
       "      <td>13</td>\n",
       "      <td>48</td>\n",
       "      <td>61</td>\n",
       "      <td>29</td>\n",
       "      <td>2015</td>\n",
       "      <td>1012</td>\n",
       "      <td>Southern Combination Div One</td>\n",
       "      <td>2</td>\n",
       "    </tr>\n",
       "    <tr>\n",
       "      <th>8733</th>\n",
       "      <td>9</td>\n",
       "      <td>WESTFIELD</td>\n",
       "      <td>32</td>\n",
       "      <td>12</td>\n",
       "      <td>5</td>\n",
       "      <td>15</td>\n",
       "      <td>55</td>\n",
       "      <td>50</td>\n",
       "      <td>38</td>\n",
       "      <td>2014</td>\n",
       "      <td>1012</td>\n",
       "      <td>Southern Combination Div One</td>\n",
       "      <td>2</td>\n",
       "    </tr>\n",
       "    <tr>\n",
       "      <th>7150</th>\n",
       "      <td>11</td>\n",
       "      <td>WELLINGTON</td>\n",
       "      <td>42</td>\n",
       "      <td>17</td>\n",
       "      <td>7</td>\n",
       "      <td>18</td>\n",
       "      <td>79</td>\n",
       "      <td>83</td>\n",
       "      <td>58</td>\n",
       "      <td>2012</td>\n",
       "      <td>1015</td>\n",
       "      <td>West Midlands Regional Premier</td>\n",
       "      <td>2</td>\n",
       "    </tr>\n",
       "    <tr>\n",
       "      <th>8928</th>\n",
       "      <td>8</td>\n",
       "      <td>WELLINGTON</td>\n",
       "      <td>42</td>\n",
       "      <td>19</td>\n",
       "      <td>8</td>\n",
       "      <td>15</td>\n",
       "      <td>86</td>\n",
       "      <td>87</td>\n",
       "      <td>65</td>\n",
       "      <td>2014</td>\n",
       "      <td>1015</td>\n",
       "      <td>West Midlands Regional Premier</td>\n",
       "      <td>2</td>\n",
       "    </tr>\n",
       "    <tr>\n",
       "      <th>8051</th>\n",
       "      <td>15</td>\n",
       "      <td>WELLINGTON</td>\n",
       "      <td>41</td>\n",
       "      <td>14</td>\n",
       "      <td>5</td>\n",
       "      <td>22</td>\n",
       "      <td>64</td>\n",
       "      <td>93</td>\n",
       "      <td>47</td>\n",
       "      <td>2013</td>\n",
       "      <td>1015</td>\n",
       "      <td>West Midlands Regional Premier</td>\n",
       "      <td>2</td>\n",
       "    </tr>\n",
       "    <tr>\n",
       "      <th>9782</th>\n",
       "      <td>11</td>\n",
       "      <td>WELLINGTON</td>\n",
       "      <td>42</td>\n",
       "      <td>16</td>\n",
       "      <td>11</td>\n",
       "      <td>15</td>\n",
       "      <td>83</td>\n",
       "      <td>71</td>\n",
       "      <td>59</td>\n",
       "      <td>2015</td>\n",
       "      <td>1015</td>\n",
       "      <td>West Midlands Regional Premier</td>\n",
       "      <td>2</td>\n",
       "    </tr>\n",
       "  </tbody>\n",
       "</table>\n",
       "</div>"
      ],
      "text/plain": [
       "      pos        team  pld   w   d   l   f   a  pts  year  tier  \\\n",
       "7089   12   WESTFIELD   34   9  10  15  58  73   37  2012  1012   \n",
       "7923    5   WESTFIELD   34  17   7  10  67  56   58  2013  1012   \n",
       "9652   12   WESTFIELD   28   7   8  13  48  61   29  2015  1012   \n",
       "8733    9   WESTFIELD   32  12   5  15  55  50   38  2014  1012   \n",
       "7150   11  WELLINGTON   42  17   7  18  79  83   58  2012  1015   \n",
       "8928    8  WELLINGTON   42  19   8  15  86  87   65  2014  1015   \n",
       "8051   15  WELLINGTON   41  14   5  22  64  93   47  2013  1015   \n",
       "9782   11  WELLINGTON   42  16  11  15  83  71   59  2015  1015   \n",
       "\n",
       "                              league  dupes  \n",
       "7089    Southern Combination Div One      2  \n",
       "7923    Southern Combination Div One      2  \n",
       "9652    Southern Combination Div One      2  \n",
       "8733    Southern Combination Div One      2  \n",
       "7150  West Midlands Regional Premier      2  \n",
       "8928  West Midlands Regional Premier      2  \n",
       "8051  West Midlands Regional Premier      2  \n",
       "9782  West Midlands Regional Premier      2  "
      ]
     },
     "execution_count": 22,
     "metadata": {},
     "output_type": "execute_result"
    }
   ],
   "source": [
    "merge[merge['dupes'] > 1]"
   ]
  },
  {
   "cell_type": "code",
   "execution_count": 20,
   "metadata": {
    "collapsed": false
   },
   "outputs": [
    {
     "data": {
      "text/html": [
       "<div>\n",
       "<table border=\"1\" class=\"dataframe\">\n",
       "  <thead>\n",
       "    <tr style=\"text-align: right;\">\n",
       "      <th></th>\n",
       "      <th>pos</th>\n",
       "      <th>team</th>\n",
       "      <th>pld</th>\n",
       "      <th>w</th>\n",
       "      <th>d</th>\n",
       "      <th>l</th>\n",
       "      <th>f</th>\n",
       "      <th>a</th>\n",
       "      <th>pts</th>\n",
       "      <th>year</th>\n",
       "      <th>tier</th>\n",
       "      <th>league</th>\n",
       "      <th>dupes</th>\n",
       "    </tr>\n",
       "  </thead>\n",
       "  <tbody>\n",
       "    <tr>\n",
       "      <th>9482</th>\n",
       "      <td>14</td>\n",
       "      <td>WESTFIELD</td>\n",
       "      <td>40</td>\n",
       "      <td>12</td>\n",
       "      <td>11</td>\n",
       "      <td>17</td>\n",
       "      <td>61</td>\n",
       "      <td>68</td>\n",
       "      <td>47</td>\n",
       "      <td>2015</td>\n",
       "      <td>913</td>\n",
       "      <td>Combined Counties Premier</td>\n",
       "      <td>1</td>\n",
       "    </tr>\n",
       "    <tr>\n",
       "      <th>8494</th>\n",
       "      <td>4</td>\n",
       "      <td>WESTFIELD</td>\n",
       "      <td>42</td>\n",
       "      <td>24</td>\n",
       "      <td>5</td>\n",
       "      <td>13</td>\n",
       "      <td>72</td>\n",
       "      <td>51</td>\n",
       "      <td>77</td>\n",
       "      <td>2014</td>\n",
       "      <td>913</td>\n",
       "      <td>Combined Counties Premier</td>\n",
       "      <td>1</td>\n",
       "    </tr>\n",
       "    <tr>\n",
       "      <th>6793</th>\n",
       "      <td>8</td>\n",
       "      <td>WESTFIELD</td>\n",
       "      <td>34</td>\n",
       "      <td>16</td>\n",
       "      <td>4</td>\n",
       "      <td>14</td>\n",
       "      <td>64</td>\n",
       "      <td>65</td>\n",
       "      <td>52</td>\n",
       "      <td>2012</td>\n",
       "      <td>1001</td>\n",
       "      <td>Combined Counties Div One</td>\n",
       "      <td>1</td>\n",
       "    </tr>\n",
       "    <tr>\n",
       "      <th>7710</th>\n",
       "      <td>3</td>\n",
       "      <td>WESTFIELD</td>\n",
       "      <td>34</td>\n",
       "      <td>24</td>\n",
       "      <td>3</td>\n",
       "      <td>7</td>\n",
       "      <td>67</td>\n",
       "      <td>42</td>\n",
       "      <td>75</td>\n",
       "      <td>2013</td>\n",
       "      <td>1001</td>\n",
       "      <td>Combined Counties Div One</td>\n",
       "      <td>1</td>\n",
       "    </tr>\n",
       "    <tr>\n",
       "      <th>7089</th>\n",
       "      <td>12</td>\n",
       "      <td>WESTFIELD</td>\n",
       "      <td>34</td>\n",
       "      <td>9</td>\n",
       "      <td>10</td>\n",
       "      <td>15</td>\n",
       "      <td>58</td>\n",
       "      <td>73</td>\n",
       "      <td>37</td>\n",
       "      <td>2012</td>\n",
       "      <td>1012</td>\n",
       "      <td>Southern Combination Div One</td>\n",
       "      <td>2</td>\n",
       "    </tr>\n",
       "    <tr>\n",
       "      <th>7923</th>\n",
       "      <td>5</td>\n",
       "      <td>WESTFIELD</td>\n",
       "      <td>34</td>\n",
       "      <td>17</td>\n",
       "      <td>7</td>\n",
       "      <td>10</td>\n",
       "      <td>67</td>\n",
       "      <td>56</td>\n",
       "      <td>58</td>\n",
       "      <td>2013</td>\n",
       "      <td>1012</td>\n",
       "      <td>Southern Combination Div One</td>\n",
       "      <td>2</td>\n",
       "    </tr>\n",
       "    <tr>\n",
       "      <th>9652</th>\n",
       "      <td>12</td>\n",
       "      <td>WESTFIELD</td>\n",
       "      <td>28</td>\n",
       "      <td>7</td>\n",
       "      <td>8</td>\n",
       "      <td>13</td>\n",
       "      <td>48</td>\n",
       "      <td>61</td>\n",
       "      <td>29</td>\n",
       "      <td>2015</td>\n",
       "      <td>1012</td>\n",
       "      <td>Southern Combination Div One</td>\n",
       "      <td>2</td>\n",
       "    </tr>\n",
       "    <tr>\n",
       "      <th>8733</th>\n",
       "      <td>9</td>\n",
       "      <td>WESTFIELD</td>\n",
       "      <td>32</td>\n",
       "      <td>12</td>\n",
       "      <td>5</td>\n",
       "      <td>15</td>\n",
       "      <td>55</td>\n",
       "      <td>50</td>\n",
       "      <td>38</td>\n",
       "      <td>2014</td>\n",
       "      <td>1012</td>\n",
       "      <td>Southern Combination Div One</td>\n",
       "      <td>2</td>\n",
       "    </tr>\n",
       "  </tbody>\n",
       "</table>\n",
       "</div>"
      ],
      "text/plain": [
       "      pos       team  pld   w   d   l   f   a  pts  year  tier  \\\n",
       "9482   14  WESTFIELD   40  12  11  17  61  68   47  2015   913   \n",
       "8494    4  WESTFIELD   42  24   5  13  72  51   77  2014   913   \n",
       "6793    8  WESTFIELD   34  16   4  14  64  65   52  2012  1001   \n",
       "7710    3  WESTFIELD   34  24   3   7  67  42   75  2013  1001   \n",
       "7089   12  WESTFIELD   34   9  10  15  58  73   37  2012  1012   \n",
       "7923    5  WESTFIELD   34  17   7  10  67  56   58  2013  1012   \n",
       "9652   12  WESTFIELD   28   7   8  13  48  61   29  2015  1012   \n",
       "8733    9  WESTFIELD   32  12   5  15  55  50   38  2014  1012   \n",
       "\n",
       "                            league  dupes  \n",
       "9482     Combined Counties Premier      1  \n",
       "8494     Combined Counties Premier      1  \n",
       "6793     Combined Counties Div One      1  \n",
       "7710     Combined Counties Div One      1  \n",
       "7089  Southern Combination Div One      2  \n",
       "7923  Southern Combination Div One      2  \n",
       "9652  Southern Combination Div One      2  \n",
       "8733  Southern Combination Div One      2  "
      ]
     },
     "execution_count": 20,
     "metadata": {},
     "output_type": "execute_result"
    }
   ],
   "source": [
    "merge[merge.team == 'WESTFIELD']"
   ]
  },
  {
   "cell_type": "code",
   "execution_count": null,
   "metadata": {
    "collapsed": true
   },
   "outputs": [],
   "source": []
  }
 ],
 "metadata": {
  "kernelspec": {
   "display_name": "Python 2",
   "language": "python",
   "name": "python2"
  },
  "language_info": {
   "codemirror_mode": {
    "name": "ipython",
    "version": 2
   },
   "file_extension": ".py",
   "mimetype": "text/x-python",
   "name": "python",
   "nbconvert_exporter": "python",
   "pygments_lexer": "ipython2",
   "version": "2.7.11"
  }
 },
 "nbformat": 4,
 "nbformat_minor": 0
}
