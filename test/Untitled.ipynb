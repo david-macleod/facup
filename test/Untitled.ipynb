{
 "cells": [
  {
   "cell_type": "code",
   "execution_count": 1,
   "metadata": {
    "collapsed": true
   },
   "outputs": [],
   "source": [
    "import pandas as pd\n",
    "import numpy as np\n",
    "%matplotlib inline"
   ]
  },
  {
   "cell_type": "code",
   "execution_count": 5,
   "metadata": {
    "collapsed": true
   },
   "outputs": [],
   "source": [
    "fac = pd.read_csv('facup_v3.csv')"
   ]
  },
  {
   "cell_type": "code",
   "execution_count": 6,
   "metadata": {
    "collapsed": false
   },
   "outputs": [
    {
     "data": {
      "text/html": [
       "<div>\n",
       "<table border=\"1\" class=\"dataframe\">\n",
       "  <thead>\n",
       "    <tr style=\"text-align: right;\">\n",
       "      <th></th>\n",
       "      <th>Unnamed: 0</th>\n",
       "      <th>away_score</th>\n",
       "      <th>away_team</th>\n",
       "      <th>date</th>\n",
       "      <th>home_score</th>\n",
       "      <th>home_team</th>\n",
       "      <th>match_id</th>\n",
       "      <th>qualifier</th>\n",
       "      <th>replay</th>\n",
       "      <th>round</th>\n",
       "      <th>round_id</th>\n",
       "      <th>stage</th>\n",
       "      <th>year</th>\n",
       "      <th>year_id</th>\n",
       "      <th>team</th>\n",
       "      <th>home</th>\n",
       "      <th>stage_r</th>\n",
       "    </tr>\n",
       "  </thead>\n",
       "  <tbody>\n",
       "    <tr>\n",
       "      <th>0</th>\n",
       "      <td>0</td>\n",
       "      <td>0</td>\n",
       "      <td>Hampstead Heathens</td>\n",
       "      <td>27.01.72</td>\n",
       "      <td>3</td>\n",
       "      <td>Royal Engineers</td>\n",
       "      <td>16062</td>\n",
       "      <td>False</td>\n",
       "      <td>False</td>\n",
       "      <td>Third Round Proper</td>\n",
       "      <td>10683</td>\n",
       "      <td>3</td>\n",
       "      <td>1872</td>\n",
       "      <td>71234</td>\n",
       "      <td>Royal Engineers</td>\n",
       "      <td>True</td>\n",
       "      <td>12</td>\n",
       "    </tr>\n",
       "    <tr>\n",
       "      <th>1</th>\n",
       "      <td>1</td>\n",
       "      <td>0</td>\n",
       "      <td>Crystal Palace (1)</td>\n",
       "      <td>20.01.72</td>\n",
       "      <td>0</td>\n",
       "      <td>Wanderers</td>\n",
       "      <td>16063</td>\n",
       "      <td>False</td>\n",
       "      <td>False</td>\n",
       "      <td>Third Round Proper</td>\n",
       "      <td>10683</td>\n",
       "      <td>3</td>\n",
       "      <td>1872</td>\n",
       "      <td>71234</td>\n",
       "      <td>Wanderers</td>\n",
       "      <td>True</td>\n",
       "      <td>12</td>\n",
       "    </tr>\n",
       "    <tr>\n",
       "      <th>2</th>\n",
       "      <td>2</td>\n",
       "      <td>0</td>\n",
       "      <td>Bye</td>\n",
       "      <td>01.01.01</td>\n",
       "      <td>0</td>\n",
       "      <td>Queen's Park (Glasgow)</td>\n",
       "      <td>16061</td>\n",
       "      <td>False</td>\n",
       "      <td>False</td>\n",
       "      <td>Third Round Proper</td>\n",
       "      <td>10683</td>\n",
       "      <td>3</td>\n",
       "      <td>1872</td>\n",
       "      <td>71234</td>\n",
       "      <td>Queen's Park (Glasgow)</td>\n",
       "      <td>True</td>\n",
       "      <td>12</td>\n",
       "    </tr>\n",
       "    <tr>\n",
       "      <th>3</th>\n",
       "      <td>3</td>\n",
       "      <td>0</td>\n",
       "      <td>Crystal Palace (1)</td>\n",
       "      <td>09.03.72</td>\n",
       "      <td>3</td>\n",
       "      <td>Royal Engineers</td>\n",
       "      <td>16066</td>\n",
       "      <td>False</td>\n",
       "      <td>True</td>\n",
       "      <td>Semi-Final</td>\n",
       "      <td>10682</td>\n",
       "      <td>4</td>\n",
       "      <td>1872</td>\n",
       "      <td>71234</td>\n",
       "      <td>Royal Engineers</td>\n",
       "      <td>True</td>\n",
       "      <td>13</td>\n",
       "    </tr>\n",
       "    <tr>\n",
       "      <th>4</th>\n",
       "      <td>4</td>\n",
       "      <td>0</td>\n",
       "      <td>Queen's Park (Glasgow)</td>\n",
       "      <td>05.03.72</td>\n",
       "      <td>0</td>\n",
       "      <td>Wanderers</td>\n",
       "      <td>16065</td>\n",
       "      <td>False</td>\n",
       "      <td>False</td>\n",
       "      <td>Semi-Final</td>\n",
       "      <td>10682</td>\n",
       "      <td>4</td>\n",
       "      <td>1872</td>\n",
       "      <td>71234</td>\n",
       "      <td>Wanderers</td>\n",
       "      <td>True</td>\n",
       "      <td>13</td>\n",
       "    </tr>\n",
       "  </tbody>\n",
       "</table>\n",
       "</div>"
      ],
      "text/plain": [
       "   Unnamed: 0  away_score               away_team      date  home_score  \\\n",
       "0           0           0      Hampstead Heathens  27.01.72           3   \n",
       "1           1           0      Crystal Palace (1)  20.01.72           0   \n",
       "2           2           0                     Bye  01.01.01           0   \n",
       "3           3           0      Crystal Palace (1)  09.03.72           3   \n",
       "4           4           0  Queen's Park (Glasgow)  05.03.72           0   \n",
       "\n",
       "                home_team  match_id qualifier replay               round  \\\n",
       "0         Royal Engineers     16062     False  False  Third Round Proper   \n",
       "1               Wanderers     16063     False  False  Third Round Proper   \n",
       "2  Queen's Park (Glasgow)     16061     False  False  Third Round Proper   \n",
       "3         Royal Engineers     16066     False   True          Semi-Final   \n",
       "4               Wanderers     16065     False  False          Semi-Final   \n",
       "\n",
       "   round_id  stage  year  year_id                    team  home  stage_r  \n",
       "0     10683      3  1872    71234         Royal Engineers  True       12  \n",
       "1     10683      3  1872    71234               Wanderers  True       12  \n",
       "2     10683      3  1872    71234  Queen's Park (Glasgow)  True       12  \n",
       "3     10682      4  1872    71234         Royal Engineers  True       13  \n",
       "4     10682      4  1872    71234               Wanderers  True       13  "
      ]
     },
     "execution_count": 6,
     "metadata": {},
     "output_type": "execute_result"
    }
   ],
   "source": [
    "fac.head()"
   ]
  },
  {
   "cell_type": "code",
   "execution_count": 7,
   "metadata": {
    "collapsed": false
   },
   "outputs": [
    {
     "data": {
      "text/plain": [
       "Unnamed: 0                     67493\n",
       "away_score                         1\n",
       "away_team            Gosport Borough\n",
       "date                        11.10.14\n",
       "home_score                         1\n",
       "home_team          Mickleover Sports\n",
       "match_id                      433199\n",
       "qualifier                       True\n",
       "replay                         False\n",
       "round         Third Round Qualifying\n",
       "round_id                       12821\n",
       "stage                              5\n",
       "year                            2015\n",
       "year_id                        75823\n",
       "team                 Gosport Borough\n",
       "home                           False\n",
       "stage_r                            5\n",
       "Name: 136108, dtype: object"
      ]
     },
     "execution_count": 7,
     "metadata": {},
     "output_type": "execute_result"
    }
   ],
   "source": [
    "fac.loc[136108]"
   ]
  },
  {
   "cell_type": "code",
   "execution_count": null,
   "metadata": {
    "collapsed": true
   },
   "outputs": [],
   "source": []
  }
 ],
 "metadata": {
  "kernelspec": {
   "display_name": "Python 2",
   "language": "python",
   "name": "python2"
  },
  "language_info": {
   "codemirror_mode": {
    "name": "ipython",
    "version": 2
   },
   "file_extension": ".py",
   "mimetype": "text/x-python",
   "name": "python",
   "nbconvert_exporter": "python",
   "pygments_lexer": "ipython2",
   "version": "2.7.11"
  }
 },
 "nbformat": 4,
 "nbformat_minor": 0
}
