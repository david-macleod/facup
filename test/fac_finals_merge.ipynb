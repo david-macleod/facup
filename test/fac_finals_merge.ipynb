{
 "cells": [
  {
   "cell_type": "code",
   "execution_count": 1,
   "metadata": {
    "collapsed": true
   },
   "outputs": [],
   "source": [
    "import pandas as pd\n",
    "import numpy as np\n",
    "%matplotlib inline"
   ]
  },
  {
   "cell_type": "code",
   "execution_count": 2,
   "metadata": {
    "collapsed": false
   },
   "outputs": [
    {
     "name": "stdout",
     "output_type": "stream",
     "text": [
      "<class 'pandas.core.frame.DataFrame'>\n",
      "Int64Index: 68495 entries, 0 to 68494\n",
      "Data columns (total 13 columns):\n",
      "home_team     68495 non-null object\n",
      "away_team     68495 non-null object\n",
      "match_id      68495 non-null int64\n",
      "round_id      68495 non-null int64\n",
      "replay        68495 non-null bool\n",
      "home_score    68495 non-null int64\n",
      "date          68495 non-null object\n",
      "away_score    68495 non-null int64\n",
      "round         68495 non-null object\n",
      "year_id       68495 non-null int64\n",
      "year          68495 non-null int64\n",
      "stage         68495 non-null float64\n",
      "qualifier     68495 non-null bool\n",
      "dtypes: bool(2), float64(1), int64(6), object(4)\n",
      "memory usage: 6.4+ MB\n"
     ]
    }
   ],
   "source": [
    "fac = pd.read_csv('facup_archive.csv')\n",
    "del fac['Unnamed: 0']\n",
    "fac.info()"
   ]
  },
  {
   "cell_type": "code",
   "execution_count": 3,
   "metadata": {
    "collapsed": false
   },
   "outputs": [
    {
     "name": "stdout",
     "output_type": "stream",
     "text": [
      "<class 'pandas.core.frame.DataFrame'>\n",
      "Int64Index: 120 entries, 0 to 119\n",
      "Data columns (total 13 columns):\n",
      "home_team     120 non-null object\n",
      "away_team     120 non-null object\n",
      "match_id      120 non-null int64\n",
      "round_id      120 non-null int64\n",
      "year_id       120 non-null int64\n",
      "replay        120 non-null bool\n",
      "home_score    120 non-null int64\n",
      "year          120 non-null int64\n",
      "date          120 non-null object\n",
      "away_score    120 non-null int64\n",
      "round         120 non-null object\n",
      "stage         120 non-null int64\n",
      "qualifier     120 non-null bool\n",
      "dtypes: bool(2), int64(7), object(4)\n",
      "memory usage: 11.5+ KB\n"
     ]
    }
   ],
   "source": [
    "missing_finals = pd.read_csv('results_finals.csv')\n",
    "missing_finals.info()"
   ]
  },
  {
   "cell_type": "code",
   "execution_count": 4,
   "metadata": {
    "collapsed": false
   },
   "outputs": [
    {
     "name": "stdout",
     "output_type": "stream",
     "text": [
      "<class 'pandas.core.frame.DataFrame'>\n",
      "Int64Index: 68615 entries, 0 to 68614\n",
      "Data columns (total 13 columns):\n",
      "away_score    68615 non-null int64\n",
      "away_team     68615 non-null object\n",
      "date          68615 non-null object\n",
      "home_score    68615 non-null int64\n",
      "home_team     68615 non-null object\n",
      "match_id      68615 non-null int64\n",
      "qualifier     68615 non-null bool\n",
      "replay        68615 non-null bool\n",
      "round         68615 non-null object\n",
      "round_id      68615 non-null int64\n",
      "stage         68615 non-null float64\n",
      "year          68615 non-null int64\n",
      "year_id       68615 non-null int64\n",
      "dtypes: bool(2), float64(1), int64(6), object(4)\n",
      "memory usage: 6.4+ MB\n"
     ]
    }
   ],
   "source": [
    "merged = pd.concat([fac, missing_finals], ignore_index=True)\n",
    "merged.info()"
   ]
  },
  {
   "cell_type": "code",
   "execution_count": 5,
   "metadata": {
    "collapsed": false
   },
   "outputs": [
    {
     "data": {
      "text/html": [
       "<div>\n",
       "<table border=\"1\" class=\"dataframe\">\n",
       "  <thead>\n",
       "    <tr style=\"text-align: right;\">\n",
       "      <th></th>\n",
       "      <th>away_score</th>\n",
       "      <th>away_team</th>\n",
       "      <th>date</th>\n",
       "      <th>home_score</th>\n",
       "      <th>home_team</th>\n",
       "      <th>match_id</th>\n",
       "      <th>qualifier</th>\n",
       "      <th>replay</th>\n",
       "      <th>round</th>\n",
       "      <th>round_id</th>\n",
       "      <th>stage</th>\n",
       "      <th>year</th>\n",
       "      <th>year_id</th>\n",
       "    </tr>\n",
       "  </thead>\n",
       "  <tbody>\n",
       "    <tr>\n",
       "      <th>0</th>\n",
       "      <td>0</td>\n",
       "      <td>Hampstead Heathens</td>\n",
       "      <td>27.01.72</td>\n",
       "      <td>3</td>\n",
       "      <td>Royal Engineers</td>\n",
       "      <td>16062</td>\n",
       "      <td>False</td>\n",
       "      <td>False</td>\n",
       "      <td>Third Round Proper</td>\n",
       "      <td>10683</td>\n",
       "      <td>3</td>\n",
       "      <td>1872</td>\n",
       "      <td>71234</td>\n",
       "    </tr>\n",
       "    <tr>\n",
       "      <th>1</th>\n",
       "      <td>0</td>\n",
       "      <td>Crystal Palace (1)</td>\n",
       "      <td>20.01.72</td>\n",
       "      <td>0</td>\n",
       "      <td>Wanderers</td>\n",
       "      <td>16063</td>\n",
       "      <td>False</td>\n",
       "      <td>False</td>\n",
       "      <td>Third Round Proper</td>\n",
       "      <td>10683</td>\n",
       "      <td>3</td>\n",
       "      <td>1872</td>\n",
       "      <td>71234</td>\n",
       "    </tr>\n",
       "    <tr>\n",
       "      <th>2</th>\n",
       "      <td>0</td>\n",
       "      <td>Bye</td>\n",
       "      <td>01.01.01</td>\n",
       "      <td>0</td>\n",
       "      <td>Queen's Park (Glasgow)</td>\n",
       "      <td>16061</td>\n",
       "      <td>False</td>\n",
       "      <td>False</td>\n",
       "      <td>Third Round Proper</td>\n",
       "      <td>10683</td>\n",
       "      <td>3</td>\n",
       "      <td>1872</td>\n",
       "      <td>71234</td>\n",
       "    </tr>\n",
       "    <tr>\n",
       "      <th>3</th>\n",
       "      <td>0</td>\n",
       "      <td>Crystal Palace (1)</td>\n",
       "      <td>09.03.72</td>\n",
       "      <td>3</td>\n",
       "      <td>Royal Engineers</td>\n",
       "      <td>16066</td>\n",
       "      <td>False</td>\n",
       "      <td>True</td>\n",
       "      <td>Semi-Final</td>\n",
       "      <td>10682</td>\n",
       "      <td>4</td>\n",
       "      <td>1872</td>\n",
       "      <td>71234</td>\n",
       "    </tr>\n",
       "    <tr>\n",
       "      <th>4</th>\n",
       "      <td>0</td>\n",
       "      <td>Queen's Park (Glasgow)</td>\n",
       "      <td>05.03.72</td>\n",
       "      <td>0</td>\n",
       "      <td>Wanderers</td>\n",
       "      <td>16065</td>\n",
       "      <td>False</td>\n",
       "      <td>False</td>\n",
       "      <td>Semi-Final</td>\n",
       "      <td>10682</td>\n",
       "      <td>4</td>\n",
       "      <td>1872</td>\n",
       "      <td>71234</td>\n",
       "    </tr>\n",
       "  </tbody>\n",
       "</table>\n",
       "</div>"
      ],
      "text/plain": [
       "   away_score               away_team      date  home_score  \\\n",
       "0           0      Hampstead Heathens  27.01.72           3   \n",
       "1           0      Crystal Palace (1)  20.01.72           0   \n",
       "2           0                     Bye  01.01.01           0   \n",
       "3           0      Crystal Palace (1)  09.03.72           3   \n",
       "4           0  Queen's Park (Glasgow)  05.03.72           0   \n",
       "\n",
       "                home_team  match_id qualifier replay               round  \\\n",
       "0         Royal Engineers     16062     False  False  Third Round Proper   \n",
       "1               Wanderers     16063     False  False  Third Round Proper   \n",
       "2  Queen's Park (Glasgow)     16061     False  False  Third Round Proper   \n",
       "3         Royal Engineers     16066     False   True          Semi-Final   \n",
       "4               Wanderers     16065     False  False          Semi-Final   \n",
       "\n",
       "   round_id  stage  year  year_id  \n",
       "0     10683      3  1872    71234  \n",
       "1     10683      3  1872    71234  \n",
       "2     10683      3  1872    71234  \n",
       "3     10682      4  1872    71234  \n",
       "4     10682      4  1872    71234  "
      ]
     },
     "execution_count": 5,
     "metadata": {},
     "output_type": "execute_result"
    }
   ],
   "source": [
    "merged.head()"
   ]
  },
  {
   "cell_type": "code",
   "execution_count": 6,
   "metadata": {
    "collapsed": false
   },
   "outputs": [],
   "source": [
    "merged.to_csv('facup_v1.csv')"
   ]
  },
  {
   "cell_type": "code",
   "execution_count": 7,
   "metadata": {
    "collapsed": false
   },
   "outputs": [
    {
     "data": {
      "text/plain": [
       "(134L,)"
      ]
     },
     "execution_count": 7,
     "metadata": {},
     "output_type": "execute_result"
    }
   ],
   "source": [
    "merged.groupby('round')['year'].unique().loc['Final'].shape"
   ]
  },
  {
   "cell_type": "code",
   "execution_count": 8,
   "metadata": {
    "collapsed": false
   },
   "outputs": [
    {
     "data": {
      "text/plain": [
       "134"
      ]
     },
     "execution_count": 8,
     "metadata": {},
     "output_type": "execute_result"
    }
   ],
   "source": [
    "merged['year'].nunique()"
   ]
  },
  {
   "cell_type": "code",
   "execution_count": null,
   "metadata": {
    "collapsed": true
   },
   "outputs": [],
   "source": []
  }
 ],
 "metadata": {
  "kernelspec": {
   "display_name": "Python 2",
   "language": "python",
   "name": "python2"
  },
  "language_info": {
   "codemirror_mode": {
    "name": "ipython",
    "version": 2
   },
   "file_extension": ".py",
   "mimetype": "text/x-python",
   "name": "python",
   "nbconvert_exporter": "python",
   "pygments_lexer": "ipython2",
   "version": "2.7.11"
  }
 },
 "nbformat": 4,
 "nbformat_minor": 0
}
