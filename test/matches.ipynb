{
 "cells": [
  {
   "cell_type": "code",
   "execution_count": 1,
   "metadata": {
    "collapsed": true
   },
   "outputs": [],
   "source": [
    "import pandas as pd\n",
    "import numpy as np\n",
    "\n",
    "%matplotlib inline"
   ]
  },
  {
   "cell_type": "code",
   "execution_count": 2,
   "metadata": {
    "collapsed": true
   },
   "outputs": [],
   "source": [
    "matches = pd.read_csv('results_2.csv') \n",
    "missing = pd.read_csv('results_miss.csv') #missing matches"
   ]
  },
  {
   "cell_type": "code",
   "execution_count": 6,
   "metadata": {
    "collapsed": false
   },
   "outputs": [],
   "source": [
    "missing.head()\n",
    "\n",
    "years = pd.read_csv('years_edit.csv')\n"
   ]
  },
  {
   "cell_type": "code",
   "execution_count": 7,
   "metadata": {
    "collapsed": false
   },
   "outputs": [],
   "source": [
    "matches = pd.merge(missing, years, how='inner', on='round_id')"
   ]
  },
  {
   "cell_type": "code",
   "execution_count": 9,
   "metadata": {
    "collapsed": false
   },
   "outputs": [],
   "source": [
    "matches.to_csv('results_miss2.csv')"
   ]
  },
  {
   "cell_type": "code",
   "execution_count": 7,
   "metadata": {
    "collapsed": false
   },
   "outputs": [
    {
     "data": {
      "text/html": [
       "<div>\n",
       "<table border=\"1\" class=\"dataframe\">\n",
       "  <thead>\n",
       "    <tr style=\"text-align: right;\">\n",
       "      <th></th>\n",
       "      <th>round_id</th>\n",
       "      <th>round</th>\n",
       "      <th>year_id</th>\n",
       "      <th>year</th>\n",
       "      <th>stage</th>\n",
       "    </tr>\n",
       "  </thead>\n",
       "  <tbody>\n",
       "    <tr>\n",
       "      <th>0</th>\n",
       "      <td>10682</td>\n",
       "      <td>Semi-Final</td>\n",
       "      <td>71234</td>\n",
       "      <td>1872</td>\n",
       "      <td>4</td>\n",
       "    </tr>\n",
       "    <tr>\n",
       "      <th>1</th>\n",
       "      <td>10681</td>\n",
       "      <td>Second Round Proper</td>\n",
       "      <td>71234</td>\n",
       "      <td>1872</td>\n",
       "      <td>2</td>\n",
       "    </tr>\n",
       "    <tr>\n",
       "      <th>2</th>\n",
       "      <td>10683</td>\n",
       "      <td>Third Round Proper</td>\n",
       "      <td>71234</td>\n",
       "      <td>1872</td>\n",
       "      <td>3</td>\n",
       "    </tr>\n",
       "    <tr>\n",
       "      <th>3</th>\n",
       "      <td>10680</td>\n",
       "      <td>First Round Proper</td>\n",
       "      <td>71234</td>\n",
       "      <td>1872</td>\n",
       "      <td>1</td>\n",
       "    </tr>\n",
       "    <tr>\n",
       "      <th>4</th>\n",
       "      <td>10689</td>\n",
       "      <td>Third Round Proper</td>\n",
       "      <td>71235</td>\n",
       "      <td>1873</td>\n",
       "      <td>3</td>\n",
       "    </tr>\n",
       "  </tbody>\n",
       "</table>\n",
       "</div>"
      ],
      "text/plain": [
       "   round_id                round  year_id  year  stage\n",
       "0     10682           Semi-Final    71234  1872      4\n",
       "1     10681  Second Round Proper    71234  1872      2\n",
       "2     10683   Third Round Proper    71234  1872      3\n",
       "3     10680   First Round Proper    71234  1872      1\n",
       "4     10689   Third Round Proper    71235  1873      3"
      ]
     },
     "execution_count": 7,
     "metadata": {},
     "output_type": "execute_result"
    }
   ],
   "source": [
    "years = pd.read_csv('years_edit.csv')\n",
    "years.head()"
   ]
  },
  {
   "cell_type": "code",
   "execution_count": 8,
   "metadata": {
    "collapsed": false
   },
   "outputs": [
    {
     "data": {
      "text/html": [
       "<div>\n",
       "<table border=\"1\" class=\"dataframe\">\n",
       "  <thead>\n",
       "    <tr style=\"text-align: right;\">\n",
       "      <th></th>\n",
       "      <th>home_team</th>\n",
       "      <th>away_team</th>\n",
       "      <th>match_id</th>\n",
       "      <th>round_id</th>\n",
       "      <th>replay</th>\n",
       "      <th>home_score</th>\n",
       "      <th>date</th>\n",
       "      <th>away_score</th>\n",
       "      <th>round</th>\n",
       "      <th>year_id</th>\n",
       "      <th>year</th>\n",
       "      <th>stage</th>\n",
       "    </tr>\n",
       "  </thead>\n",
       "  <tbody>\n",
       "    <tr>\n",
       "      <th>0</th>\n",
       "      <td>Royal Engineers</td>\n",
       "      <td>Hampstead Heathens</td>\n",
       "      <td>16062</td>\n",
       "      <td>10683</td>\n",
       "      <td>False</td>\n",
       "      <td>3</td>\n",
       "      <td>27.01.72</td>\n",
       "      <td>0</td>\n",
       "      <td>Third Round Proper</td>\n",
       "      <td>71234</td>\n",
       "      <td>1872</td>\n",
       "      <td>3</td>\n",
       "    </tr>\n",
       "    <tr>\n",
       "      <th>1</th>\n",
       "      <td>Wanderers</td>\n",
       "      <td>Crystal Palace (1)</td>\n",
       "      <td>16063</td>\n",
       "      <td>10683</td>\n",
       "      <td>False</td>\n",
       "      <td>0</td>\n",
       "      <td>20.01.72</td>\n",
       "      <td>0</td>\n",
       "      <td>Third Round Proper</td>\n",
       "      <td>71234</td>\n",
       "      <td>1872</td>\n",
       "      <td>3</td>\n",
       "    </tr>\n",
       "    <tr>\n",
       "      <th>2</th>\n",
       "      <td>Queen's Park (Glasgow)</td>\n",
       "      <td>Bye</td>\n",
       "      <td>16061</td>\n",
       "      <td>10683</td>\n",
       "      <td>False</td>\n",
       "      <td>0</td>\n",
       "      <td>01.01.01</td>\n",
       "      <td>0</td>\n",
       "      <td>Third Round Proper</td>\n",
       "      <td>71234</td>\n",
       "      <td>1872</td>\n",
       "      <td>3</td>\n",
       "    </tr>\n",
       "    <tr>\n",
       "      <th>3</th>\n",
       "      <td>Royal Engineers</td>\n",
       "      <td>Crystal Palace (1)</td>\n",
       "      <td>16066</td>\n",
       "      <td>10682</td>\n",
       "      <td>True</td>\n",
       "      <td>3</td>\n",
       "      <td>09.03.72</td>\n",
       "      <td>0</td>\n",
       "      <td>Semi-Final</td>\n",
       "      <td>71234</td>\n",
       "      <td>1872</td>\n",
       "      <td>4</td>\n",
       "    </tr>\n",
       "    <tr>\n",
       "      <th>4</th>\n",
       "      <td>Wanderers</td>\n",
       "      <td>Queen's Park (Glasgow)</td>\n",
       "      <td>16065</td>\n",
       "      <td>10682</td>\n",
       "      <td>False</td>\n",
       "      <td>0</td>\n",
       "      <td>05.03.72</td>\n",
       "      <td>0</td>\n",
       "      <td>Semi-Final</td>\n",
       "      <td>71234</td>\n",
       "      <td>1872</td>\n",
       "      <td>4</td>\n",
       "    </tr>\n",
       "  </tbody>\n",
       "</table>\n",
       "</div>"
      ],
      "text/plain": [
       "                home_team               away_team  match_id  round_id replay  \\\n",
       "0         Royal Engineers      Hampstead Heathens     16062     10683  False   \n",
       "1               Wanderers      Crystal Palace (1)     16063     10683  False   \n",
       "2  Queen's Park (Glasgow)                     Bye     16061     10683  False   \n",
       "3         Royal Engineers      Crystal Palace (1)     16066     10682   True   \n",
       "4               Wanderers  Queen's Park (Glasgow)     16065     10682  False   \n",
       "\n",
       "   home_score      date  away_score               round  year_id  year  stage  \n",
       "0           3  27.01.72           0  Third Round Proper    71234  1872      3  \n",
       "1           0  20.01.72           0  Third Round Proper    71234  1872      3  \n",
       "2           0  01.01.01           0  Third Round Proper    71234  1872      3  \n",
       "3           3  09.03.72           0          Semi-Final    71234  1872      4  \n",
       "4           0  05.03.72           0          Semi-Final    71234  1872      4  "
      ]
     },
     "execution_count": 8,
     "metadata": {},
     "output_type": "execute_result"
    }
   ],
   "source": [
    "merged_new = pd.merge(matches_all, years, how='inner', on='round_id')\n",
    "merged_new.head()"
   ]
  },
  {
   "cell_type": "code",
   "execution_count": 9,
   "metadata": {
    "collapsed": false
   },
   "outputs": [
    {
     "data": {
      "text/plain": [
       "<matplotlib.axes._subplots.AxesSubplot at 0xc4136a0>"
      ]
     },
     "execution_count": 9,
     "metadata": {},
     "output_type": "execute_result"
    },
    {
     "data": {
      "image/png": "[encoded data removed]",
      "text/plain": [
       "<matplotlib.figure.Figure at 0xc413eb8>"
      ]
     },
     "metadata": {},
     "output_type": "display_data"
    }
   ],
   "source": [
    "matches_per_year = merged_new.groupby('year')['year'].count()\n",
    "%matplotlib inline\n",
    "matches_per_year.plot(kind='bar', figsize=(12,4))"
   ]
  },
  {
   "cell_type": "code",
   "execution_count": 10,
   "metadata": {
    "collapsed": false,
    "scrolled": true
   },
   "outputs": [
    {
     "name": "stdout",
     "output_type": "stream",
     "text": [
      "Number of teams entered since 1872: 3434\n"
     ]
    }
   ],
   "source": [
    "alltime_teams = pd.concat([merged_new['home_team'], merged_new['away_team']]).nunique()\n",
    "print 'Number of teams entered since 1872:', alltime_teams"
   ]
  },
  {
   "cell_type": "code",
   "execution_count": 11,
   "metadata": {
    "collapsed": false
   },
   "outputs": [],
   "source": [
    "home_teams = merged_new[['home_team', 'year']]\n",
    "away_teams = merged_new[['away_team', 'year']]\n",
    "home_teams.columns.values[0] = 'team'\n",
    "away_teams.columns.values[0] = 'team'"
   ]
  },
  {
   "cell_type": "code",
   "execution_count": 12,
   "metadata": {
    "collapsed": false
   },
   "outputs": [
    {
     "data": {
      "text/plain": [
       "<matplotlib.axes._subplots.AxesSubplot at 0xe40c780>"
      ]
     },
     "execution_count": 12,
     "metadata": {},
     "output_type": "execute_result"
    },
    {
     "data": {
      "image/png": "[encoded data removed]",
      "text/plain": [
       "<matplotlib.figure.Figure at 0xe562320>"
      ]
     },
     "metadata": {},
     "output_type": "display_data"
    }
   ],
   "source": [
    "teams_per_year = pd.concat([home_teams, away_teams]).groupby('year')['team'].nunique()\n",
    "teams_per_year.plot(kind='bar', figsize=(7,4))"
   ]
  },
  {
   "cell_type": "code",
   "execution_count": 13,
   "metadata": {
    "collapsed": false
   },
   "outputs": [
    {
     "data": {
      "text/plain": [
       "First Qualifying Round     14314\n",
       "Preliminary Round          13876\n",
       "Second Qualifying Round     8063\n",
       "First Round Proper          5795\n",
       "Extra Preliminary Round     4801\n",
       "Third Qualifying Round      4290\n",
       "Third Round Proper          3986\n",
       "Fourth Qualifying Round     3448\n",
       "Second Round Proper         2970\n",
       "Fourth Round Proper         1950\n",
       "First Round Qualifying      1141\n",
       "Fifth Round Proper           934\n",
       "Second Round Qualifying      789\n",
       "Sixth Round Proper           459\n",
       "Fifth Qualifying Round       409\n",
       "Third Round Qualifying       390\n",
       "Fourth Round Qualifying      325\n",
       "Semi-Final                   321\n",
       "Sixth Qualifying Round       120\n",
       "Intermediate Round            70\n",
       "Final                         28\n",
       "Semi Final                    16\n",
       "Name: round, dtype: int64"
      ]
     },
     "execution_count": 13,
     "metadata": {},
     "output_type": "execute_result"
    }
   ],
   "source": [
    "merged_new['round'].value_counts()"
   ]
  },
  {
   "cell_type": "code",
   "execution_count": 14,
   "metadata": {
    "collapsed": false
   },
   "outputs": [],
   "source": [
    "merged_new['qualifier'] = merged_new['round'].str.contains(\"Qualifying|Preliminary\") #search for regex expression, return boolean"
   ]
  },
  {
   "cell_type": "code",
   "execution_count": 15,
   "metadata": {
    "collapsed": false
   },
   "outputs": [
    {
     "data": {
      "text/plain": [
       "True     51966\n",
       "False    16529\n",
       "Name: qualifier, dtype: int64"
      ]
     },
     "execution_count": 15,
     "metadata": {},
     "output_type": "execute_result"
    }
   ],
   "source": [
    "merged_new['qualifier'].value_counts()"
   ]
  },
  {
   "cell_type": "code",
   "execution_count": 16,
   "metadata": {
    "collapsed": false
   },
   "outputs": [
    {
     "data": {
      "text/plain": [
       "First Qualifying Round     14314\n",
       "Preliminary Round          13876\n",
       "Second Qualifying Round     8063\n",
       "Extra Preliminary Round     4801\n",
       "Third Qualifying Round      4290\n",
       "Fourth Qualifying Round     3448\n",
       "First Round Qualifying      1141\n",
       "Second Round Qualifying      789\n",
       "Fifth Qualifying Round       409\n",
       "Third Round Qualifying       390\n",
       "Fourth Round Qualifying      325\n",
       "Sixth Qualifying Round       120\n",
       "Name: round, dtype: int64"
      ]
     },
     "execution_count": 16,
     "metadata": {},
     "output_type": "execute_result"
    }
   ],
   "source": [
    "merged_new[merged_new['qualifier'] == True]['round'].value_counts()"
   ]
  },
  {
   "cell_type": "code",
   "execution_count": 17,
   "metadata": {
    "collapsed": false
   },
   "outputs": [
    {
     "data": {
      "text/plain": [
       "First Round Proper     5795\n",
       "Third Round Proper     3986\n",
       "Second Round Proper    2970\n",
       "Fourth Round Proper    1950\n",
       "Fifth Round Proper      934\n",
       "Sixth Round Proper      459\n",
       "Semi-Final              321\n",
       "Intermediate Round       70\n",
       "Final                    28\n",
       "Semi Final               16\n",
       "Name: round, dtype: int64"
      ]
     },
     "execution_count": 17,
     "metadata": {},
     "output_type": "execute_result"
    }
   ],
   "source": [
    "merged_new[merged_new['qualifier'] == False]['round'].value_counts()"
   ]
  },
  {
   "cell_type": "code",
   "execution_count": 18,
   "metadata": {
    "collapsed": true
   },
   "outputs": [],
   "source": [
    "merged_new.to_csv('facup_archive.csv')"
   ]
  },
  {
   "cell_type": "code",
   "execution_count": null,
   "metadata": {
    "collapsed": true
   },
   "outputs": [],
   "source": []
  }
 ],
 "metadata": {
  "kernelspec": {
   "display_name": "Python 2",
   "language": "python",
   "name": "python2"
  },
  "language_info": {
   "codemirror_mode": {
    "name": "ipython",
    "version": 2
   },
   "file_extension": ".py",
   "mimetype": "text/x-python",
   "name": "python",
   "nbconvert_exporter": "python",
   "pygments_lexer": "ipython2",
   "version": "2.7.11"
  }
 },
 "nbformat": 4,
 "nbformat_minor": 0
}
