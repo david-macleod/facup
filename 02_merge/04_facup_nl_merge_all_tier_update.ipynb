{
 "cells": [
  {
   "cell_type": "code",
   "execution_count": 15,
   "metadata": {
    "collapsed": true
   },
   "outputs": [],
   "source": [
    "import pandas as pd\n",
    "import numpy as np\n",
    "\n",
    "import matplotlib\n",
    "import matplotlib.pyplot as plt\n",
    "%matplotlib inline\n",
    "matplotlib.style.use('ggplot')"
   ]
  },
  {
   "cell_type": "markdown",
   "metadata": {},
   "source": [
    "Reading FA Cup teams merged with league table information for all non-league teams (1952+) then concatenating"
   ]
  },
  {
   "cell_type": "code",
   "execution_count": 11,
   "metadata": {
    "collapsed": true
   },
   "outputs": [],
   "source": [
    "nl_1952 = pd.read_csv(r'C:\\Users\\David\\Python\\scrapy\\facup\\02_merge\\fa_nl_merge_1952-89_v1.csv')\n",
    "nl_1990 = pd.read_csv(r'C:\\Users\\David\\Python\\scrapy\\facup\\02_merge\\fa_nl_merge_1990-11_v1.csv')\n",
    "nl_2012 = pd.read_csv(r'C:\\Users\\David\\Python\\scrapy\\facup\\02_merge\\fa_nl_merge_2012-15_v1.csv')"
   ]
  },
  {
   "cell_type": "code",
   "execution_count": 12,
   "metadata": {
    "collapsed": true
   },
   "outputs": [],
   "source": [
    "nl_all = pd.concat([nl_1952, nl_1990, nl_2012], ignore_index=True)"
   ]
  },
  {
   "cell_type": "code",
   "execution_count": 13,
   "metadata": {
    "collapsed": false
   },
   "outputs": [
    {
     "name": "stdout",
     "output_type": "stream",
     "text": [
      "<class 'pandas.core.frame.DataFrame'>\n",
      "Int64Index: 2047 entries, 0 to 2046\n",
      "Data columns (total 7 columns):\n",
      "league    2046 non-null object\n",
      "pos       2046 non-null float64\n",
      "round     2047 non-null object\n",
      "stage     2047 non-null float64\n",
      "team      2047 non-null object\n",
      "tier      128 non-null float64\n",
      "year      2047 non-null float64\n",
      "dtypes: float64(4), object(3)\n",
      "memory usage: 127.9+ KB\n"
     ]
    }
   ],
   "source": [
    "nl_all.info()"
   ]
  },
  {
   "cell_type": "markdown",
   "metadata": {},
   "source": [
    "MAIDSTONE UNITED were walked over in 1993 and had no league (hence only 2046 non-null league/pos)"
   ]
  },
  {
   "cell_type": "code",
   "execution_count": 18,
   "metadata": {
    "collapsed": false
   },
   "outputs": [
    {
     "data": {
      "image/png": "[encoded data removed]",
      "text/plain": [
       "<matplotlib.figure.Figure at 0xad1c0b8>"
      ]
     },
     "metadata": {},
     "output_type": "display_data"
    }
   ],
   "source": [
    "nl_all.year.value_counts().sort_index().plot()\n",
    "\n",
    "plt.show()"
   ]
  },
  {
   "cell_type": "markdown",
   "metadata": {},
   "source": [
    "We already know there are only 31 teams non-league teams entering in 1991 so this looks ok"
   ]
  },
  {
   "cell_type": "code",
   "execution_count": 22,
   "metadata": {
    "collapsed": false
   },
   "outputs": [
    {
     "data": {
      "text/plain": [
       "year  league                                     league                                   \n",
       "1952  ATHENIAN LEAGUE                            ATHENIAN LEAGUE                               2\n",
       "      BIRMINGHAM AND DISTRICT LEAGUE             BIRMINGHAM AND DISTRICT LEAGUE                1\n",
       "      CENTRAL ALLIANCE                           CENTRAL ALLIANCE                              1\n",
       "      CHESHIRE COUNTY LEAGUE                     CHESHIRE COUNTY LEAGUE                        4\n",
       "      DELPHIAN LEAGUE                            DELPHIAN LEAGUE                               1\n",
       "      EASTERN COUNTIES LEAGUE                    EASTERN COUNTIES LEAGUE                       2\n",
       "      ISTHMIAN LEAGUE - SENIOR SECTION           ISTHMIAN LEAGUE - SENIOR SECTION              1\n",
       "      KENT LEAGUE                                KENT LEAGUE                                   1\n",
       "      LANCASHIRE COMBINATION - FIRST DIVISION    LANCASHIRE COMBINATION - FIRST DIVISION       1\n",
       "      MIDLAND COUNTIES LEAGUE                    MIDLAND COUNTIES LEAGUE                       2\n",
       "      NORTH EASTERN LEAGUE                       NORTH EASTERN LEAGUE                          1\n",
       "      NORTH-EASTERN LEAGUE                       NORTH-EASTERN LEAGUE                          2\n",
       "      NORTHERN LEAGUE                            NORTHERN LEAGUE                               2\n",
       "      SHEFFIELD ALLIANCE                         SHEFFIELD ALLIANCE                            1\n",
       "      SOUTHERN LEAGUE                            SOUTHERN LEAGUE                               8\n",
       "      WESTERN LEAGUE - DIVISION 1                WESTERN LEAGUE - DIVISION 1                   2\n",
       "1953  ATHENIAN LEAGUE                            ATHENIAN LEAGUE                               3\n",
       "      CHESHIRE COUNTY LEAGUE                     CHESHIRE COUNTY LEAGUE                        3\n",
       "      CORINTHIAN LEAGUE                          CORINTHIAN LEAGUE                             1\n",
       "      EASTERN COUNTIES                           EASTERN COUNTIES                              1\n",
       "      HAMPSHIRE LEAGUE DIVISION ONE              HAMPSHIRE LEAGUE DIVISION ONE                 1\n",
       "      ISTHMIAN LEAGUE - SENIOR SECTION           ISTHMIAN LEAGUE - SENIOR SECTION              3\n",
       "      LANCASHIRE COMBINATION - FIRST DIVISION    LANCASHIRE COMBINATION - FIRST DIVISION       2\n",
       "      LONDON LEAGUE - PREMIER DIVISION           LONDON LEAGUE - PREMIER DIVISION              1\n",
       "      MIDLAND COUNTIES LEAGUE                    MIDLAND COUNTIES LEAGUE                       4\n",
       "      NORTH-EASTERN LEAGUE                       NORTH-EASTERN LEAGUE                          3\n",
       "      NORTHERN LEAGUE                            NORTHERN LEAGUE                               1\n",
       "      SOUTHERN LEAGUE                            SOUTHERN LEAGUE                               6\n",
       "      WESTERN LEAGUE - DIVISION 1                WESTERN LEAGUE - DIVISION 1                   1\n",
       "      YORKSHIRE LEAGUE - FIRST DIVISION          YORKSHIRE LEAGUE - FIRST DIVISION             2\n",
       "                                                                                              ..\n",
       "2011  NORTHERN PREMIER LEAGUE PREMIER DIVISION   NORTHERN PREMIER LEAGUE PREMIER DIVISION      1\n",
       "      SOUTHERN FOOTBALL LEAGUE PREMIER DIVISION  SOUTHERN FOOTBALL LEAGUE PREMIER DIVISION     1\n",
       "2012  ISTHMIAN DIV ONE NORTH                     ISTHMIAN DIV ONE NORTH                        1\n",
       "      ISTHMIAN PREMIER                           ISTHMIAN PREMIER                              1\n",
       "      NATIONAL                                   NATIONAL                                     14\n",
       "      NATIONAL NORTH                             NATIONAL NORTH                                4\n",
       "      NATIONAL SOUTH                             NATIONAL SOUTH                                6\n",
       "      NORTHERN PREMIER PREMIER                   NORTHERN PREMIER PREMIER                      2\n",
       "      SOUTHERN PREMIER                           SOUTHERN PREMIER                              4\n",
       "2013  ISTHMIAN PREMIER                           ISTHMIAN PREMIER                              3\n",
       "      NATIONAL                                   NATIONAL                                     14\n",
       "      NATIONAL NORTH                             NATIONAL NORTH                                6\n",
       "      NATIONAL SOUTH                             NATIONAL SOUTH                                4\n",
       "      NORTHERN PREMIER PREMIER                   NORTHERN PREMIER PREMIER                      1\n",
       "      SOUTHERN DIV ONE CENTRAL                   SOUTHERN DIV ONE CENTRAL                      1\n",
       "      SOUTHERN DIV ONE SOUTH & WEST              SOUTHERN DIV ONE SOUTH & WEST                 1\n",
       "      SOUTHERN PREMIER                           SOUTHERN PREMIER                              2\n",
       "2014  NATIONAL                                   NATIONAL                                     18\n",
       "      NATIONAL NORTH                             NATIONAL NORTH                                3\n",
       "      NATIONAL SOUTH                             NATIONAL SOUTH                                5\n",
       "      SOUTHERN DIV ONE CENTRAL                   SOUTHERN DIV ONE CENTRAL                      1\n",
       "      SOUTHERN DIV ONE SOUTH & WEST              SOUTHERN DIV ONE SOUTH & WEST                 1\n",
       "      SOUTHERN PREMIER                           SOUTHERN PREMIER                              4\n",
       "2015  ISTHMIAN PREMIER                           ISTHMIAN PREMIER                              2\n",
       "      NATIONAL                                   NATIONAL                                     18\n",
       "      NATIONAL NORTH                             NATIONAL NORTH                                2\n",
       "      NATIONAL SOUTH                             NATIONAL SOUTH                                7\n",
       "      NORTHERN PREMIER DIV ONE NORTH             NORTHERN PREMIER DIV ONE NORTH                1\n",
       "      NORTHERN PREMIER DIV ONE SOUTH             NORTHERN PREMIER DIV ONE SOUTH                1\n",
       "      NORTHERN PREMIER PREMIER                   NORTHERN PREMIER PREMIER                      1\n",
       "dtype: int64"
      ]
     },
     "execution_count": 22,
     "metadata": {},
     "output_type": "execute_result"
    }
   ],
   "source": [
    "nl_all.groupby(['year', 'league']).league.value_counts()"
   ]
  },
  {
   "cell_type": "code",
   "execution_count": null,
   "metadata": {
    "collapsed": true
   },
   "outputs": [],
   "source": []
  }
 ],
 "metadata": {
  "kernelspec": {
   "display_name": "Python 2",
   "language": "python",
   "name": "python2"
  },
  "language_info": {
   "codemirror_mode": {
    "name": "ipython",
    "version": 2
   },
   "file_extension": ".py",
   "mimetype": "text/x-python",
   "name": "python",
   "nbconvert_exporter": "python",
   "pygments_lexer": "ipython2",
   "version": "2.7.11"
  }
 },
 "nbformat": 4,
 "nbformat_minor": 0
}
