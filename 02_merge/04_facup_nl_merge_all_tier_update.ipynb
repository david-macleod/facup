{
 "cells": [
  {
   "cell_type": "code",
   "execution_count": 127,
   "metadata": {
    "collapsed": true
   },
   "outputs": [],
   "source": [
    "import pandas as pd\n",
    "import numpy as np\n",
    "\n",
    "import matplotlib\n",
    "import matplotlib.pyplot as plt\n",
    "%matplotlib inline\n",
    "matplotlib.style.use('ggplot')"
   ]
  },
  {
   "cell_type": "markdown",
   "metadata": {},
   "source": [
    "Reading FA Cup teams merged with league table information for all non-league teams (1952+) then concatenating"
   ]
  },
  {
   "cell_type": "code",
   "execution_count": 128,
   "metadata": {
    "collapsed": true
   },
   "outputs": [],
   "source": [
    "nl_1952 = pd.read_csv(r'C:\\Dropbox\\Python\\scrapy\\facup\\02_merge\\fa_nl_merge_1952-89_v1.csv')\n",
    "nl_1990 = pd.read_csv(r'C:\\Dropbox\\Python\\scrapy\\facup\\02_merge\\fa_nl_merge_1990-11_v1.csv')\n",
    "nl_2012 = pd.read_csv(r'C:\\Dropbox\\Python\\scrapy\\facup\\02_merge\\fa_nl_merge_2012-15_v1.csv')"
   ]
  },
  {
   "cell_type": "code",
   "execution_count": 129,
   "metadata": {
    "collapsed": true
   },
   "outputs": [],
   "source": [
    "nl_all = pd.concat([nl_1952, nl_1990, nl_2012], ignore_index=True)"
   ]
  },
  {
   "cell_type": "code",
   "execution_count": 130,
   "metadata": {
    "collapsed": false
   },
   "outputs": [
    {
     "name": "stdout",
     "output_type": "stream",
     "text": [
      "<class 'pandas.core.frame.DataFrame'>\n",
      "Int64Index: 2047 entries, 0 to 2046\n",
      "Data columns (total 7 columns):\n",
      "league    2046 non-null object\n",
      "pos       2046 non-null float64\n",
      "round     2047 non-null object\n",
      "stage     2047 non-null float64\n",
      "team      2047 non-null object\n",
      "tier      128 non-null float64\n",
      "year      2047 non-null float64\n",
      "dtypes: float64(4), object(3)\n",
      "memory usage: 127.9+ KB\n"
     ]
    }
   ],
   "source": [
    "nl_all.info()"
   ]
  },
  {
   "cell_type": "markdown",
   "metadata": {},
   "source": [
    "MAIDSTONE UNITED were walked over in 1992 and had no league (hence only 2046 non-null league/pos)"
   ]
  },
  {
   "cell_type": "code",
   "execution_count": 131,
   "metadata": {
    "collapsed": false,
    "scrolled": true
   },
   "outputs": [
    {
     "data": {
      "image/png": "[encoded data removed]",
      "text/plain": [
       "<matplotlib.figure.Figure at 0x9c04b70>"
      ]
     },
     "metadata": {},
     "output_type": "display_data"
    }
   ],
   "source": [
    "nl_all.year.value_counts().sort_index().plot()\n",
    "\n",
    "plt.show()"
   ]
  },
  {
   "cell_type": "code",
   "execution_count": 132,
   "metadata": {
    "collapsed": false
   },
   "outputs": [
    {
     "data": {
      "text/html": [
       "<div>\n",
       "<table border=\"1\" class=\"dataframe\">\n",
       "  <thead>\n",
       "    <tr style=\"text-align: right;\">\n",
       "      <th></th>\n",
       "      <th>league</th>\n",
       "      <th>pos</th>\n",
       "      <th>round</th>\n",
       "      <th>stage</th>\n",
       "      <th>team</th>\n",
       "      <th>tier</th>\n",
       "      <th>year</th>\n",
       "    </tr>\n",
       "  </thead>\n",
       "  <tbody>\n",
       "    <tr>\n",
       "      <th>1892</th>\n",
       "      <td>NaN</td>\n",
       "      <td>NaN</td>\n",
       "      <td>FIRST ROUND PROPER</td>\n",
       "      <td>8</td>\n",
       "      <td>MAIDSTONE UNITED</td>\n",
       "      <td>NaN</td>\n",
       "      <td>1993</td>\n",
       "    </tr>\n",
       "  </tbody>\n",
       "</table>\n",
       "</div>"
      ],
      "text/plain": [
       "     league  pos               round  stage              team  tier  year\n",
       "1892    NaN  NaN  FIRST ROUND PROPER      8  MAIDSTONE UNITED   NaN  1993"
      ]
     },
     "execution_count": 132,
     "metadata": {},
     "output_type": "execute_result"
    }
   ],
   "source": [
    "nl_all[nl_all.league.isnull()]"
   ]
  },
  {
   "cell_type": "code",
   "execution_count": 133,
   "metadata": {
    "collapsed": false
   },
   "outputs": [
    {
     "name": "stdout",
     "output_type": "stream",
     "text": [
      "<class 'pandas.core.frame.DataFrame'>\n",
      "Int64Index: 2046 entries, 0 to 2046\n",
      "Data columns (total 7 columns):\n",
      "league    2046 non-null object\n",
      "pos       2046 non-null float64\n",
      "round     2046 non-null object\n",
      "stage     2046 non-null float64\n",
      "team      2046 non-null object\n",
      "tier      128 non-null float64\n",
      "year      2046 non-null float64\n",
      "dtypes: float64(4), object(3)\n",
      "memory usage: 127.9+ KB\n"
     ]
    }
   ],
   "source": [
    "nl_all = nl_all[~((nl_all.team == 'MAIDSTONE UNITED') & (nl_all.year == 1993))]\n",
    "\n",
    "nl_all.info()"
   ]
  },
  {
   "cell_type": "markdown",
   "metadata": {},
   "source": [
    "We already know there are only 31 teams non-league teams entering in 1991 so this looks ok"
   ]
  },
  {
   "cell_type": "code",
   "execution_count": 134,
   "metadata": {
    "collapsed": false
   },
   "outputs": [
    {
     "data": {
      "text/plain": [
       "FOOTBALL CONFERENCE                                   279\n",
       "SOUTHERN LEAGUE - PREMIER DIVISION                    160\n",
       "ISTHMIAN LEAGUE PREMIER DIVISION                      143\n",
       "NORTHERN PREMIER LEAGUE PREMIER DIVISION               91\n",
       "CONFERENCE (ALLIANCE PREMIER LEAGUE)                   87\n",
       "NORTHERN PREMIER LEAGUE                                87\n",
       "SOUTHERN FOOTBALL LEAGUE PREMIER DIVISION              78\n",
       "ISTHMIAN LEAGUE - SENIOR SECTION                       64\n",
       "NATIONAL                                               64\n",
       "MIDLAND COUNTIES LEAGUE                                59\n",
       "CHESHIRE COUNTY LEAGUE                                 54\n",
       "NORTHERN LEAGUE                                        50\n",
       "SOUTHERN LEAGUE                                        48\n",
       "SOUTHERN LEAGUE PREMIER DIVISION                       38\n",
       "FOOTBALL CONFERENCE SOUTH                              36\n",
       "FOOTBALL CONFERENCE NORTH                              34\n",
       "SOUTHERN LEAGUE - FIRST DIVISION                       34\n",
       "ATHENIAN LEAGUE                                        23\n",
       "NATIONAL SOUTH                                         22\n",
       "LANCASHIRE COMBINATION - DIVISION 1                    22\n",
       "SOUTHERN PREMIER                                       21\n",
       "NATIONAL NORTH                                         15\n",
       "WESTERN LEAGUE                                         14\n",
       "ALLIANCE PREMIER LEAGUE                                14\n",
       "CONFERENCE (GOLA LEAGUE) (ALLIANCE PREMIER LEAGUE)     14\n",
       "SOUTHERN FOOTBALL LEAGUE MIDLAND DIVISION              13\n",
       "ROTHMAN'S ISTHMIAN LEAGUE - DIVISION 1                 13\n",
       "WESTERN LEAGUE - DIVISION 1                            13\n",
       "ATHENIAN LEAGUE - PREMIER DIVISION                     13\n",
       "NORTH-EASTERN LEAGUE                                   13\n",
       "                                                     ... \n",
       "NORTHERN FOOTBALL LEAGUE                                1\n",
       "KENT LEAGUE                                             1\n",
       "ISTHMIAN LEAGUE DIVISON 2 SOUTH                         1\n",
       "VAUX WEARSIDE LEAGUE                                    1\n",
       "NORTHERN PREMIER DIV ONE SOUTH                          1\n",
       "BIRMINGHAM AND DISTRICT LEAGUE - NORTHERN DIVISION      1\n",
       "WEST MIDLANDS (REGIONAL) LEAGUE                         1\n",
       "CENTRAL MIDLANDS LEAGUE SUPREME DIVISION                1\n",
       "HELLENIC LEAGUE                                         1\n",
       "ROTHMAN'S WESTERN LEAGUE - PREMIER DIVISION             1\n",
       "SUSSEX COUNTIES LEAUGE DIVISION ONE                     1\n",
       "FOOTBALL CONFERENCE NORTHERN                            1\n",
       "MIDLAND COMBINATION DIVISION ONE                        1\n",
       "BANKS NORTHERN YOUTH LEAGUE                             1\n",
       "SOUTHERN LEAGUE PREMIER DIVISION 1 SOUTH                1\n",
       "ATHENIAN LEAGUE - DIVISION 1                            1\n",
       "MIDLAND LEAGUE                                          1\n",
       "DELPHIAN LEAGUE                                         1\n",
       "SOUTHERN LEAGUE FIRST DIVISION                          1\n",
       "LANCASHIRE COMBINATION                                  1\n",
       "ATHENIAN LEAGUE - SECOND DIVISION                       1\n",
       "LINCONSHIRE LEAGUE                                      1\n",
       "WESTERN LEAGUE DIVISION ONE                             1\n",
       "DRYBOROUGH'S NORTHERN FOOTBALL LEAGUE                   1\n",
       "SUSSEX COUNTY LEAGUE DIVISION ONE                       1\n",
       "MAGNET & PLANET EASTERN LEAGUE                          1\n",
       "SHEFFIELD ALLIANCE                                      1\n",
       "NORTH WEST COUNTIES LEAGUE DIVISION ONE                 1\n",
       "SOUTHERN LEAGUE NORTH WEST                              1\n",
       "BERGER ISTHMIAN LEAGUE - SECOND DIVISION                1\n",
       "Name: league, dtype: int64"
      ]
     },
     "execution_count": 134,
     "metadata": {},
     "output_type": "execute_result"
    }
   ],
   "source": [
    "nl_all.league.value_counts()"
   ]
  },
  {
   "cell_type": "markdown",
   "metadata": {
    "collapsed": true
   },
   "source": [
    "We will now assign a tier to each league.\n",
    "\n",
    "2012-2015 has already had a tier/division value assigned and we will extract the tier from this."
   ]
  },
  {
   "cell_type": "code",
   "execution_count": 135,
   "metadata": {
    "collapsed": false
   },
   "outputs": [
    {
     "data": {
      "text/plain": [
       "501    64\n",
       "602    22\n",
       "601    15\n",
       "702    10\n",
       "703     6\n",
       "701     4\n",
       "804     2\n",
       "803     2\n",
       "805     1\n",
       "802     1\n",
       "801     1\n",
       "Name: tier, dtype: int64"
      ]
     },
     "execution_count": 135,
     "metadata": {},
     "output_type": "execute_result"
    }
   ],
   "source": [
    "nl_all.tier.value_counts()"
   ]
  },
  {
   "cell_type": "code",
   "execution_count": 136,
   "metadata": {
    "collapsed": false
   },
   "outputs": [
    {
     "data": {
      "text/plain": [
       "5    64\n",
       "6    37\n",
       "7    20\n",
       "8     7\n",
       "Name: tier, dtype: int64"
      ]
     },
     "execution_count": 136,
     "metadata": {},
     "output_type": "execute_result"
    }
   ],
   "source": [
    "nl_all['tier'] = np.floor(nl_all['tier'] / 100)\n",
    "\n",
    "nl_all.tier.value_counts()"
   ]
  },
  {
   "cell_type": "markdown",
   "metadata": {},
   "source": [
    "regularising league names before adding tiers"
   ]
  },
  {
   "cell_type": "code",
   "execution_count": 137,
   "metadata": {
    "collapsed": false
   },
   "outputs": [],
   "source": [
    "#stripping whitespace\n",
    "nl_all['league'] = nl_all['league'].str.strip()\n",
    "#removing hyphens\n",
    "nl_all['league'] = nl_all['league'].str.replace(' -', '')"
   ]
  },
  {
   "cell_type": "code",
   "execution_count": 138,
   "metadata": {
    "collapsed": false
   },
   "outputs": [
    {
     "data": {
      "text/plain": [
       "FOOTBALL CONFERENCE                                   289\n",
       "SOUTHERN LEAGUE PREMIER DIVISION                      198\n",
       "ISTHMIAN LEAGUE PREMIER DIVISION                      143\n",
       "NORTHERN PREMIER LEAGUE PREMIER DIVISION               91\n",
       "NORTHERN PREMIER LEAGUE                                87\n",
       "CONFERENCE (ALLIANCE PREMIER LEAGUE)                   87\n",
       "SOUTHERN FOOTBALL LEAGUE PREMIER DIVISION              78\n",
       "ISTHMIAN LEAGUE SENIOR SECTION                         64\n",
       "NATIONAL                                               64\n",
       "MIDLAND COUNTIES LEAGUE                                59\n",
       "CHESHIRE COUNTY LEAGUE                                 54\n",
       "NORTHERN LEAGUE                                        50\n",
       "SOUTHERN LEAGUE                                        48\n",
       "FOOTBALL CONFERENCE SOUTH                              36\n",
       "SOUTHERN LEAGUE FIRST DIVISION                         35\n",
       "FOOTBALL CONFERENCE NORTH                              34\n",
       "ATHENIAN LEAGUE                                        23\n",
       "LANCASHIRE COMBINATION DIVISION 1                      22\n",
       "NATIONAL SOUTH                                         22\n",
       "SOUTHERN PREMIER                                       21\n",
       "ISTHMIAN LEAGUE DIVISION 1                             18\n",
       "SOUTHERN FOOTBALL LEAGUE MIDLAND DIVISION              15\n",
       "NATIONAL NORTH                                         15\n",
       "WESTERN LEAGUE                                         14\n",
       "CONFERENCE (GOLA LEAGUE) (ALLIANCE PREMIER LEAGUE)     14\n",
       "WESTERN LEAGUE DIVISION 1                              14\n",
       "ALLIANCE PREMIER LEAGUE                                14\n",
       "ATHENIAN LEAGUE PREMIER DIVISION                       13\n",
       "WEST MIDLANDS (REGIONAL) LEAGUE PREMIER DIVISION       13\n",
       "NORTH-EASTERN LEAGUE                                   13\n",
       "                                                     ... \n",
       "FOOTBALL CONFERENCE NATIONAL                            1\n",
       "ISTHMIAN LEAGUE DIVISON 2 SOUTH                         1\n",
       "MAGNET & PLANET EASTERN LEAGUE                          1\n",
       "SERVOWARM ISTHMIAN LEAGUE DIVSION 2                     1\n",
       "NORTHERN FOOTBALL LEAGUE                                1\n",
       "ROTHMAN'S WESTERN LEAGUE PREMIER DIVISION               1\n",
       "KENT LEAGUE                                             1\n",
       "SOUTHERN FOOTBALL LEAGUE WEST DIVISION                  1\n",
       "HELLENIC LEAGUE                                         1\n",
       "ISTHMIAN LEAGUE DIVISION ONE SOUTH                      1\n",
       "TOWN & COUNTRY FOOTBALL LEAGUE (EASTERN COUNTIES)       1\n",
       "BIRMINGHAM AND DISTRICT LEAGUE NORTHERN DIVISION        1\n",
       "BANKS NORTHERN YOUTH LEAGUE                             1\n",
       "SOUTHERN LEAGUE PREMIER DIVISION 1 SOUTH                1\n",
       "WESTERN LEAGUE DIVISION ONE                             1\n",
       "BIRMINGHAM & DISTRICT NORTHERN                          1\n",
       "CHESHIRE COUNTY FOOTBALL LEAGUE                         1\n",
       "NORTH WEST COUNTIES LEAGUE DIVISION ONE                 1\n",
       "NORTHERN ALLIANCE                                       1\n",
       "CENTRAL MIDLANDS LEAGUE SUPREME DIVISION                1\n",
       "SUSSEX COUNTIES LEAUGE DIVISION ONE                     1\n",
       "LONDON LEAGUE PREMIER DIVISION                          1\n",
       "MIDLAND LEAGUE                                          1\n",
       "CHESHIRE COUNTY FOOTBALL LEAGUE FIRST DIVISION          1\n",
       "PETERBOROUGH & DISTRICT PREMIER                         1\n",
       "DELPHIAN LEAGUE                                         1\n",
       "KENT PREMIER DIVISION                                   1\n",
       "SOUTHERN LEAGUE NORTH WEST                              1\n",
       "LANCASHIRE COMBINATION                                  1\n",
       "CENTRAL ALLIANCE DIVISION 1 SOUTH                       1\n",
       "Name: league, dtype: int64"
      ]
     },
     "execution_count": 138,
     "metadata": {},
     "output_type": "execute_result"
    }
   ],
   "source": [
    "nl_all.league.value_counts()"
   ]
  },
  {
   "cell_type": "markdown",
   "metadata": {},
   "source": [
    "Filling the most common leagues and then will then complete the rest year-by-year"
   ]
  },
  {
   "cell_type": "code",
   "execution_count": 139,
   "metadata": {
    "collapsed": false
   },
   "outputs": [],
   "source": [
    "# football conference has always been tier 5\n",
    "\n",
    "nl_all.ix[nl_all.league == 'FOOTBALL CONFERENCE', 'tier'] = 5"
   ]
  },
  {
   "cell_type": "code",
   "execution_count": 140,
   "metadata": {
    "collapsed": false
   },
   "outputs": [
    {
     "data": {
      "text/plain": [
       "1960    10\n",
       "1961    10\n",
       "1962     8\n",
       "1963     8\n",
       "1964    10\n",
       "1965     9\n",
       "1966    10\n",
       "1967     9\n",
       "1968    10\n",
       "1969     9\n",
       "1970    11\n",
       "1971     8\n",
       "1972     9\n",
       "1973     8\n",
       "1974     7\n",
       "1975     8\n",
       "1976     7\n",
       "1977     7\n",
       "1978     7\n",
       "1979     9\n",
       "1983     1\n",
       "1984     3\n",
       "1985     2\n",
       "1986     3\n",
       "1987     5\n",
       "1988     5\n",
       "1989     5\n",
       "Name: year, dtype: int64"
      ]
     },
     "execution_count": 140,
     "metadata": {},
     "output_type": "execute_result"
    }
   ],
   "source": [
    "nl_all.ix[nl_all.league == 'SOUTHERN LEAGUE PREMIER DIVISION'].year.value_counts().sort_index()"
   ]
  },
  {
   "cell_type": "code",
   "execution_count": 141,
   "metadata": {
    "collapsed": true
   },
   "outputs": [],
   "source": [
    "nl_all.ix[((nl_all.league == 'SOUTHERN LEAGUE PREMIER DIVISION') & nl_all.year.isin(range(1960, 1980))), 'tier'] = 5\n",
    "nl_all.ix[((nl_all.league == 'SOUTHERN LEAGUE PREMIER DIVISION') & nl_all.year.isin(range(1980, 1990))), 'tier'] = 6"
   ]
  },
  {
   "cell_type": "code",
   "execution_count": 142,
   "metadata": {
    "collapsed": false
   },
   "outputs": [
    {
     "data": {
      "text/plain": [
       "1978    8\n",
       "1981    5\n",
       "1982    7\n",
       "1983    5\n",
       "1986    6\n",
       "1987    4\n",
       "1988    5\n",
       "1989    5\n",
       "1990    4\n",
       "1991    3\n",
       "1992    7\n",
       "1993    6\n",
       "1994    6\n",
       "1995    9\n",
       "1996    5\n",
       "1997    6\n",
       "1998    6\n",
       "1999    6\n",
       "2000    4\n",
       "2001    5\n",
       "2002    4\n",
       "2003    3\n",
       "2004    6\n",
       "2005    3\n",
       "2006    2\n",
       "2007    2\n",
       "2008    3\n",
       "2009    3\n",
       "2010    3\n",
       "2011    2\n",
       "Name: year, dtype: int64"
      ]
     },
     "execution_count": 142,
     "metadata": {},
     "output_type": "execute_result"
    }
   ],
   "source": [
    "nl_all.ix[nl_all.league == 'ISTHMIAN LEAGUE PREMIER DIVISION'].year.value_counts().sort_index()"
   ]
  },
  {
   "cell_type": "code",
   "execution_count": 143,
   "metadata": {
    "collapsed": false
   },
   "outputs": [],
   "source": [
    "#this league was tier 6 until 2004, and then tier 7 after\n",
    "nl_all.ix[((nl_all.league == 'ISTHMIAN LEAGUE PREMIER DIVISION') & nl_all.year.isin(range(1978, 1980))), 'tier'] = 5\n",
    "nl_all.ix[((nl_all.league == 'ISTHMIAN LEAGUE PREMIER DIVISION') & nl_all.year.isin(range(1980, 2005))), 'tier'] = 6\n",
    "nl_all.ix[((nl_all.league == 'ISTHMIAN LEAGUE PREMIER DIVISION') & nl_all.year.isin(range(2005, 2012))), 'tier'] = 7"
   ]
  },
  {
   "cell_type": "code",
   "execution_count": 144,
   "metadata": {
    "collapsed": false
   },
   "outputs": [
    {
     "data": {
      "text/plain": [
       "1969     6\n",
       "1970     4\n",
       "1971     7\n",
       "1972     8\n",
       "1973     9\n",
       "1974     6\n",
       "1975     7\n",
       "1976     9\n",
       "1977    10\n",
       "1978     7\n",
       "1979     9\n",
       "1980     4\n",
       "1984     1\n",
       "Name: year, dtype: int64"
      ]
     },
     "execution_count": 144,
     "metadata": {},
     "output_type": "execute_result"
    }
   ],
   "source": [
    "nl_all.ix[nl_all.league == 'NORTHERN PREMIER LEAGUE'].year.value_counts().sort_index()"
   ]
  },
  {
   "cell_type": "code",
   "execution_count": 145,
   "metadata": {
    "collapsed": true
   },
   "outputs": [],
   "source": [
    "# this league was always tier 6\n",
    "\n",
    "nl_all.ix[((nl_all.league == 'NORTHERN PREMIER LEAGUE') & nl_all.year.isin(range(1969, 1980))), 'tier'] = 5\n",
    "nl_all.ix[((nl_all.league == 'NORTHERN PREMIER LEAGUE') & nl_all.year.isin(range(1980, 1985))), 'tier'] = 6"
   ]
  },
  {
   "cell_type": "code",
   "execution_count": 146,
   "metadata": {
    "collapsed": false
   },
   "outputs": [
    {
     "data": {
      "text/plain": [
       "1981    4\n",
       "1982    2\n",
       "1983    3\n",
       "1984    4\n",
       "1985    4\n",
       "1987    3\n",
       "1988    1\n",
       "1989    3\n",
       "1990    3\n",
       "1991    5\n",
       "1992    2\n",
       "1993    3\n",
       "1994    4\n",
       "1995    5\n",
       "1996    6\n",
       "1997    3\n",
       "1998    6\n",
       "1999    4\n",
       "2000    5\n",
       "2001    3\n",
       "2002    5\n",
       "2003    4\n",
       "2004    5\n",
       "2006    1\n",
       "2007    1\n",
       "2009    1\n",
       "2011    1\n",
       "Name: year, dtype: int64"
      ]
     },
     "execution_count": 146,
     "metadata": {},
     "output_type": "execute_result"
    }
   ],
   "source": [
    "nl_all.ix[nl_all.league == 'NORTHERN PREMIER LEAGUE PREMIER DIVISION'].year.value_counts().sort_index()"
   ]
  },
  {
   "cell_type": "code",
   "execution_count": 147,
   "metadata": {
    "collapsed": false
   },
   "outputs": [],
   "source": [
    "#this league was tier 6 until 2004, and then tier 7 after\n",
    "\n",
    "nl_all.ix[((nl_all.league == 'NORTHERN PREMIER LEAGUE PREMIER DIVISION') & nl_all.year.isin(range(1978, 2005))), 'tier'] = 6\n",
    "nl_all.ix[((nl_all.league == 'NORTHERN PREMIER LEAGUE PREMIER DIVISION') & nl_all.year.isin(range(2005, 2012))), 'tier'] = 7"
   ]
  },
  {
   "cell_type": "code",
   "execution_count": 148,
   "metadata": {
    "collapsed": false
   },
   "outputs": [
    {
     "data": {
      "text/plain": [
       "1981    10\n",
       "1982    10\n",
       "1983    14\n",
       "1984    14\n",
       "1987    12\n",
       "1988    14\n",
       "1989    13\n",
       "Name: year, dtype: int64"
      ]
     },
     "execution_count": 148,
     "metadata": {},
     "output_type": "execute_result"
    }
   ],
   "source": [
    "nl_all.ix[nl_all.league == 'CONFERENCE (ALLIANCE PREMIER LEAGUE)'].year.value_counts().sort_index()"
   ]
  },
  {
   "cell_type": "code",
   "execution_count": 149,
   "metadata": {
    "collapsed": true
   },
   "outputs": [],
   "source": [
    "#this league was always tier 5\n",
    "\n",
    "nl_all.ix[nl_all.league == 'CONFERENCE (ALLIANCE PREMIER LEAGUE)', 'tier'] = 5"
   ]
  },
  {
   "cell_type": "code",
   "execution_count": 150,
   "metadata": {
    "collapsed": false
   },
   "outputs": [
    {
     "data": {
      "text/plain": [
       "1989    1\n",
       "1990    5\n",
       "1991    4\n",
       "1992    4\n",
       "1993    3\n",
       "1994    3\n",
       "1995    3\n",
       "1996    4\n",
       "1997    3\n",
       "1998    2\n",
       "1999    5\n",
       "2000    5\n",
       "2001    4\n",
       "2002    8\n",
       "2003    6\n",
       "2004    3\n",
       "2005    4\n",
       "2006    1\n",
       "2007    3\n",
       "2008    1\n",
       "2009    2\n",
       "2010    3\n",
       "2011    1\n",
       "Name: year, dtype: int64"
      ]
     },
     "execution_count": 150,
     "metadata": {},
     "output_type": "execute_result"
    }
   ],
   "source": [
    "nl_all.ix[nl_all.league == 'SOUTHERN FOOTBALL LEAGUE PREMIER DIVISION'].year.value_counts().sort_index()"
   ]
  },
  {
   "cell_type": "code",
   "execution_count": 151,
   "metadata": {
    "collapsed": true
   },
   "outputs": [],
   "source": [
    "#this league was tier 6 until 2004, and then tier 7 after\n",
    "\n",
    "nl_all.ix[((nl_all.league == 'SOUTHERN FOOTBALL LEAGUE PREMIER DIVISION') & nl_all.year.isin(range(1989, 2005))), 'tier'] = 6\n",
    "nl_all.ix[((nl_all.league == 'SOUTHERN FOOTBALL LEAGUE PREMIER DIVISION') & nl_all.year.isin(range(2005, 2012))), 'tier'] = 7"
   ]
  },
  {
   "cell_type": "markdown",
   "metadata": {},
   "source": [
    "checking the updated dataframe"
   ]
  },
  {
   "cell_type": "code",
   "execution_count": 152,
   "metadata": {
    "collapsed": false
   },
   "outputs": [
    {
     "name": "stdout",
     "output_type": "stream",
     "text": [
      "<class 'pandas.core.frame.DataFrame'>\n",
      "Int64Index: 2046 entries, 0 to 2046\n",
      "Data columns (total 7 columns):\n",
      "league    2046 non-null object\n",
      "pos       2046 non-null float64\n",
      "round     2046 non-null object\n",
      "stage     2046 non-null float64\n",
      "team      2046 non-null object\n",
      "tier      1101 non-null float64\n",
      "year      2046 non-null float64\n",
      "dtypes: float64(4), object(3)\n",
      "memory usage: 127.9+ KB\n"
     ]
    }
   ],
   "source": [
    "nl_all.info()"
   ]
  },
  {
   "cell_type": "markdown",
   "metadata": {},
   "source": [
    "filtering to rows without a tier yet"
   ]
  },
  {
   "cell_type": "code",
   "execution_count": 153,
   "metadata": {
    "collapsed": false
   },
   "outputs": [],
   "source": [
    "no_tier = nl_all[nl_all.tier.isnull()]"
   ]
  },
  {
   "cell_type": "code",
   "execution_count": 154,
   "metadata": {
    "collapsed": false,
    "scrolled": true
   },
   "outputs": [
    {
     "data": {
      "text/html": [
       "<div>\n",
       "<table border=\"1\" class=\"dataframe\">\n",
       "  <thead>\n",
       "    <tr style=\"text-align: right;\">\n",
       "      <th></th>\n",
       "      <th></th>\n",
       "      <th>pos</th>\n",
       "      <th>round</th>\n",
       "      <th>stage</th>\n",
       "      <th>team</th>\n",
       "      <th>tier</th>\n",
       "    </tr>\n",
       "    <tr>\n",
       "      <th>year</th>\n",
       "      <th>league</th>\n",
       "      <th></th>\n",
       "      <th></th>\n",
       "      <th></th>\n",
       "      <th></th>\n",
       "      <th></th>\n",
       "    </tr>\n",
       "  </thead>\n",
       "  <tbody>\n",
       "    <tr>\n",
       "      <th rowspan=\"5\" valign=\"top\">1952</th>\n",
       "      <th>ATHENIAN LEAGUE</th>\n",
       "      <td>3</td>\n",
       "      <td>FIRST ROUND PROPER</td>\n",
       "      <td>8</td>\n",
       "      <td>BROMLEY</td>\n",
       "      <td>NaN</td>\n",
       "    </tr>\n",
       "    <tr>\n",
       "      <th>BIRMINGHAM AND DISTRICT LEAGUE</th>\n",
       "      <td>12</td>\n",
       "      <td>FIRST ROUND PROPER</td>\n",
       "      <td>8</td>\n",
       "      <td>BRUSH SPORTS</td>\n",
       "      <td>NaN</td>\n",
       "    </tr>\n",
       "    <tr>\n",
       "      <th>CENTRAL ALLIANCE</th>\n",
       "      <td>1</td>\n",
       "      <td>FIRST ROUND PROPER</td>\n",
       "      <td>8</td>\n",
       "      <td>ILKESTON TOWN</td>\n",
       "      <td>NaN</td>\n",
       "    </tr>\n",
       "    <tr>\n",
       "      <th>CHESHIRE COUNTY LEAGUE</th>\n",
       "      <td>2</td>\n",
       "      <td>FIRST ROUND PROPER</td>\n",
       "      <td>8</td>\n",
       "      <td>RHYL</td>\n",
       "      <td>NaN</td>\n",
       "    </tr>\n",
       "    <tr>\n",
       "      <th>DELPHIAN LEAGUE</th>\n",
       "      <td>6</td>\n",
       "      <td>FIRST ROUND PROPER</td>\n",
       "      <td>8</td>\n",
       "      <td>AYLESBURY UNITED</td>\n",
       "      <td>NaN</td>\n",
       "    </tr>\n",
       "  </tbody>\n",
       "</table>\n",
       "</div>"
      ],
      "text/plain": [
       "                                     pos               round  stage  \\\n",
       "year league                                                           \n",
       "1952 ATHENIAN LEAGUE                   3  FIRST ROUND PROPER      8   \n",
       "     BIRMINGHAM AND DISTRICT LEAGUE   12  FIRST ROUND PROPER      8   \n",
       "     CENTRAL ALLIANCE                  1  FIRST ROUND PROPER      8   \n",
       "     CHESHIRE COUNTY LEAGUE            2  FIRST ROUND PROPER      8   \n",
       "     DELPHIAN LEAGUE                   6  FIRST ROUND PROPER      8   \n",
       "\n",
       "                                                 team  tier  \n",
       "year league                                                  \n",
       "1952 ATHENIAN LEAGUE                          BROMLEY   NaN  \n",
       "     BIRMINGHAM AND DISTRICT LEAGUE      BRUSH SPORTS   NaN  \n",
       "     CENTRAL ALLIANCE                   ILKESTON TOWN   NaN  \n",
       "     CHESHIRE COUNTY LEAGUE                      RHYL   NaN  \n",
       "     DELPHIAN LEAGUE                 AYLESBURY UNITED   NaN  "
      ]
     },
     "execution_count": 154,
     "metadata": {},
     "output_type": "execute_result"
    }
   ],
   "source": [
    "# returning a datframe that has one row per year/league which we will save out\n",
    "\n",
    "year_league = no_tier.groupby(['year', 'league']).first()\n",
    "\n",
    "year_league.head()"
   ]
  },
  {
   "cell_type": "code",
   "execution_count": 155,
   "metadata": {
    "collapsed": false,
    "scrolled": true
   },
   "outputs": [],
   "source": [
    "year_league.to_csv(r'C:\\Dropbox\\Python\\scrapy\\facup\\02_merge\\year_league.csv')"
   ]
  },
  {
   "cell_type": "code",
   "execution_count": 160,
   "metadata": {
    "collapsed": false
   },
   "outputs": [
    {
     "data": {
      "text/html": [
       "<div>\n",
       "<table border=\"1\" class=\"dataframe\">\n",
       "  <thead>\n",
       "    <tr style=\"text-align: right;\">\n",
       "      <th></th>\n",
       "      <th></th>\n",
       "      <th>tier</th>\n",
       "    </tr>\n",
       "    <tr>\n",
       "      <th>year</th>\n",
       "      <th>league</th>\n",
       "      <th></th>\n",
       "    </tr>\n",
       "  </thead>\n",
       "  <tbody>\n",
       "    <tr>\n",
       "      <th rowspan=\"5\" valign=\"top\">1952</th>\n",
       "      <th>ATHENIAN LEAGUE</th>\n",
       "      <td>7</td>\n",
       "    </tr>\n",
       "    <tr>\n",
       "      <th>BIRMINGHAM AND DISTRICT LEAGUE</th>\n",
       "      <td>7</td>\n",
       "    </tr>\n",
       "    <tr>\n",
       "      <th>CENTRAL ALLIANCE</th>\n",
       "      <td>7</td>\n",
       "    </tr>\n",
       "    <tr>\n",
       "      <th>CHESHIRE COUNTY LEAGUE</th>\n",
       "      <td>7</td>\n",
       "    </tr>\n",
       "    <tr>\n",
       "      <th>DELPHIAN LEAGUE</th>\n",
       "      <td>7</td>\n",
       "    </tr>\n",
       "  </tbody>\n",
       "</table>\n",
       "</div>"
      ],
      "text/plain": [
       "                                     tier\n",
       "year league                              \n",
       "1952 ATHENIAN LEAGUE                    7\n",
       "     BIRMINGHAM AND DISTRICT LEAGUE     7\n",
       "     CENTRAL ALLIANCE                   7\n",
       "     CHESHIRE COUNTY LEAGUE             7\n",
       "     DELPHIAN LEAGUE                    7"
      ]
     },
     "execution_count": 160,
     "metadata": {},
     "output_type": "execute_result"
    }
   ],
   "source": [
    "year_league_updated = pd.read_csv(r'C:\\Dropbox\\Python\\scrapy\\facup\\02_merge\\year_league_v2.csv', index_col=['year', 'league'])\n",
    "\n",
    "year_league_updated.head()"
   ]
  },
  {
   "cell_type": "markdown",
   "metadata": {},
   "source": [
    "Updating main dataframe with tiers"
   ]
  },
  {
   "cell_type": "code",
   "execution_count": 161,
   "metadata": {
    "collapsed": false
   },
   "outputs": [
    {
     "name": "stdout",
     "output_type": "stream",
     "text": [
      "<class 'pandas.core.frame.DataFrame'>\n",
      "Int64Index: 2046 entries, 0 to 2046\n",
      "Data columns (total 7 columns):\n",
      "league    2046 non-null object\n",
      "pos       2046 non-null float64\n",
      "round     2046 non-null object\n",
      "stage     2046 non-null float64\n",
      "team      2046 non-null object\n",
      "tier      1101 non-null float64\n",
      "year      2046 non-null float64\n",
      "dtypes: float64(4), object(3)\n",
      "memory usage: 127.9+ KB\n"
     ]
    }
   ],
   "source": [
    "nl_all.info()"
   ]
  },
  {
   "cell_type": "code",
   "execution_count": 162,
   "metadata": {
    "collapsed": false
   },
   "outputs": [
    {
     "data": {
      "text/html": [
       "<div>\n",
       "<table border=\"1\" class=\"dataframe\">\n",
       "  <thead>\n",
       "    <tr style=\"text-align: right;\">\n",
       "      <th></th>\n",
       "      <th></th>\n",
       "      <th>pos</th>\n",
       "      <th>round</th>\n",
       "      <th>stage</th>\n",
       "      <th>team</th>\n",
       "      <th>tier</th>\n",
       "    </tr>\n",
       "    <tr>\n",
       "      <th>year</th>\n",
       "      <th>league</th>\n",
       "      <th></th>\n",
       "      <th></th>\n",
       "      <th></th>\n",
       "      <th></th>\n",
       "      <th></th>\n",
       "    </tr>\n",
       "  </thead>\n",
       "  <tbody>\n",
       "    <tr>\n",
       "      <th rowspan=\"5\" valign=\"top\">1952</th>\n",
       "      <th>ATHENIAN LEAGUE</th>\n",
       "      <td>3</td>\n",
       "      <td>FIRST ROUND PROPER</td>\n",
       "      <td>8</td>\n",
       "      <td>BROMLEY</td>\n",
       "      <td>NaN</td>\n",
       "    </tr>\n",
       "    <tr>\n",
       "      <th>ATHENIAN LEAGUE</th>\n",
       "      <td>11</td>\n",
       "      <td>FIRST ROUND PROPER</td>\n",
       "      <td>8</td>\n",
       "      <td>LEYTON</td>\n",
       "      <td>NaN</td>\n",
       "    </tr>\n",
       "    <tr>\n",
       "      <th>CENTRAL ALLIANCE</th>\n",
       "      <td>1</td>\n",
       "      <td>FIRST ROUND PROPER</td>\n",
       "      <td>8</td>\n",
       "      <td>ILKESTON TOWN</td>\n",
       "      <td>NaN</td>\n",
       "    </tr>\n",
       "    <tr>\n",
       "      <th>CHESHIRE COUNTY LEAGUE</th>\n",
       "      <td>2</td>\n",
       "      <td>FIRST ROUND PROPER</td>\n",
       "      <td>8</td>\n",
       "      <td>RHYL</td>\n",
       "      <td>NaN</td>\n",
       "    </tr>\n",
       "    <tr>\n",
       "      <th>CHESHIRE COUNTY LEAGUE</th>\n",
       "      <td>4</td>\n",
       "      <td>FIRST ROUND PROPER</td>\n",
       "      <td>8</td>\n",
       "      <td>WITTON ALBION</td>\n",
       "      <td>NaN</td>\n",
       "    </tr>\n",
       "  </tbody>\n",
       "</table>\n",
       "</div>"
      ],
      "text/plain": [
       "                             pos               round  stage           team  \\\n",
       "year league                                                                  \n",
       "1952 ATHENIAN LEAGUE           3  FIRST ROUND PROPER      8        BROMLEY   \n",
       "     ATHENIAN LEAGUE          11  FIRST ROUND PROPER      8         LEYTON   \n",
       "     CENTRAL ALLIANCE          1  FIRST ROUND PROPER      8  ILKESTON TOWN   \n",
       "     CHESHIRE COUNTY LEAGUE    2  FIRST ROUND PROPER      8           RHYL   \n",
       "     CHESHIRE COUNTY LEAGUE    4  FIRST ROUND PROPER      8  WITTON ALBION   \n",
       "\n",
       "                             tier  \n",
       "year league                        \n",
       "1952 ATHENIAN LEAGUE          NaN  \n",
       "     ATHENIAN LEAGUE          NaN  \n",
       "     CENTRAL ALLIANCE         NaN  \n",
       "     CHESHIRE COUNTY LEAGUE   NaN  \n",
       "     CHESHIRE COUNTY LEAGUE   NaN  "
      ]
     },
     "execution_count": 162,
     "metadata": {},
     "output_type": "execute_result"
    }
   ],
   "source": [
    "nl_all.set_index(['year','league'], inplace=True)\n",
    "\n",
    "nl_all.head()"
   ]
  },
  {
   "cell_type": "code",
   "execution_count": 163,
   "metadata": {
    "collapsed": false
   },
   "outputs": [],
   "source": [
    "nl_all.update(year_league_updated)"
   ]
  },
  {
   "cell_type": "code",
   "execution_count": 164,
   "metadata": {
    "collapsed": false
   },
   "outputs": [
    {
     "name": "stdout",
     "output_type": "stream",
     "text": [
      "<class 'pandas.core.frame.DataFrame'>\n",
      "MultiIndex: 2046 entries, (1952.0, ATHENIAN LEAGUE) to (2015.0, ISTHMIAN PREMIER)\n",
      "Data columns (total 5 columns):\n",
      "pos      2046 non-null float64\n",
      "round    2046 non-null object\n",
      "stage    2046 non-null float64\n",
      "team     2046 non-null object\n",
      "tier     2046 non-null float64\n",
      "dtypes: float64(3), object(2)\n",
      "memory usage: 95.9+ KB\n"
     ]
    }
   ],
   "source": [
    "nl_all.info()"
   ]
  },
  {
   "cell_type": "code",
   "execution_count": 165,
   "metadata": {
    "collapsed": false
   },
   "outputs": [
    {
     "data": {
      "text/html": [
       "<div>\n",
       "<table border=\"1\" class=\"dataframe\">\n",
       "  <thead>\n",
       "    <tr style=\"text-align: right;\">\n",
       "      <th></th>\n",
       "      <th>year</th>\n",
       "      <th>league</th>\n",
       "      <th>pos</th>\n",
       "      <th>round</th>\n",
       "      <th>stage</th>\n",
       "      <th>team</th>\n",
       "      <th>tier</th>\n",
       "    </tr>\n",
       "  </thead>\n",
       "  <tbody>\n",
       "    <tr>\n",
       "      <th>0</th>\n",
       "      <td>1952</td>\n",
       "      <td>ATHENIAN LEAGUE</td>\n",
       "      <td>3</td>\n",
       "      <td>FIRST ROUND PROPER</td>\n",
       "      <td>8</td>\n",
       "      <td>BROMLEY</td>\n",
       "      <td>7</td>\n",
       "    </tr>\n",
       "    <tr>\n",
       "      <th>1</th>\n",
       "      <td>1952</td>\n",
       "      <td>ATHENIAN LEAGUE</td>\n",
       "      <td>11</td>\n",
       "      <td>FIRST ROUND PROPER</td>\n",
       "      <td>8</td>\n",
       "      <td>LEYTON</td>\n",
       "      <td>7</td>\n",
       "    </tr>\n",
       "    <tr>\n",
       "      <th>2</th>\n",
       "      <td>1952</td>\n",
       "      <td>CENTRAL ALLIANCE</td>\n",
       "      <td>1</td>\n",
       "      <td>FIRST ROUND PROPER</td>\n",
       "      <td>8</td>\n",
       "      <td>ILKESTON TOWN</td>\n",
       "      <td>7</td>\n",
       "    </tr>\n",
       "    <tr>\n",
       "      <th>3</th>\n",
       "      <td>1952</td>\n",
       "      <td>CHESHIRE COUNTY LEAGUE</td>\n",
       "      <td>2</td>\n",
       "      <td>FIRST ROUND PROPER</td>\n",
       "      <td>8</td>\n",
       "      <td>RHYL</td>\n",
       "      <td>7</td>\n",
       "    </tr>\n",
       "    <tr>\n",
       "      <th>4</th>\n",
       "      <td>1952</td>\n",
       "      <td>CHESHIRE COUNTY LEAGUE</td>\n",
       "      <td>4</td>\n",
       "      <td>FIRST ROUND PROPER</td>\n",
       "      <td>8</td>\n",
       "      <td>WITTON ALBION</td>\n",
       "      <td>7</td>\n",
       "    </tr>\n",
       "  </tbody>\n",
       "</table>\n",
       "</div>"
      ],
      "text/plain": [
       "   year                  league  pos               round  stage  \\\n",
       "0  1952         ATHENIAN LEAGUE    3  FIRST ROUND PROPER      8   \n",
       "1  1952         ATHENIAN LEAGUE   11  FIRST ROUND PROPER      8   \n",
       "2  1952        CENTRAL ALLIANCE    1  FIRST ROUND PROPER      8   \n",
       "3  1952  CHESHIRE COUNTY LEAGUE    2  FIRST ROUND PROPER      8   \n",
       "4  1952  CHESHIRE COUNTY LEAGUE    4  FIRST ROUND PROPER      8   \n",
       "\n",
       "            team  tier  \n",
       "0        BROMLEY     7  \n",
       "1         LEYTON     7  \n",
       "2  ILKESTON TOWN     7  \n",
       "3           RHYL     7  \n",
       "4  WITTON ALBION     7  "
      ]
     },
     "execution_count": 165,
     "metadata": {},
     "output_type": "execute_result"
    }
   ],
   "source": [
    "nl_all.reset_index(inplace=True)\n",
    "\n",
    "nl_all.head()"
   ]
  },
  {
   "cell_type": "code",
   "execution_count": 166,
   "metadata": {
    "collapsed": false
   },
   "outputs": [],
   "source": [
    "group = nl_all.groupby(['year','tier']).size().unstack()\n",
    "#reversing columns order\n",
    "group = group[group.columns[::-1]]"
   ]
  },
  {
   "cell_type": "code",
   "execution_count": 167,
   "metadata": {
    "collapsed": false
   },
   "outputs": [
    {
     "data": {
      "image/png": "[encoded data removed]",
      "text/plain": [
       "<matplotlib.figure.Figure at 0x9c0a978>"
      ]
     },
     "metadata": {},
     "output_type": "display_data"
    }
   ],
   "source": [
    "group.plot(kind='bar', \n",
    "           figsize=(13,5), \n",
    "           width=1, \n",
    "           stacked=True, \n",
    "           colormap = 'Blues',\n",
    "           legend=True)\n",
    "\n",
    "plt.show()"
   ]
  },
  {
   "cell_type": "markdown",
   "metadata": {},
   "source": [
    "1992 has 31 teams due to start of Premier League, 1993 has 31 teams due to MAIDSTONE UNITED dropping out"
   ]
  },
  {
   "cell_type": "markdown",
   "metadata": {},
   "source": [
    "Prior to 1959 there were only 3 tiers in the football league (division 3 was run in parallel) so non-league started in tier 4, need to update tier to account for this"
   ]
  },
  {
   "cell_type": "code",
   "execution_count": 172,
   "metadata": {
    "collapsed": false
   },
   "outputs": [],
   "source": [
    "nl_all['tier'] = np.where(nl_all.year < 1959, nl_all.tier - 1, nl_all.tier)"
   ]
  },
  {
   "cell_type": "code",
   "execution_count": 181,
   "metadata": {
    "collapsed": false
   },
   "outputs": [
    {
     "data": {
      "image/png": "[encoded data removed]",
      "text/plain": [
       "<matplotlib.figure.Figure at 0xbb1db00>"
      ]
     },
     "metadata": {},
     "output_type": "display_data"
    }
   ],
   "source": [
    "group2 = nl_all.groupby(['year','tier']).size().unstack()\n",
    "#reversing columns order\n",
    "group2 = group2[group2.columns[::-1]]\n",
    "\n",
    "group2.plot(kind='bar', \n",
    "           figsize=(13,5), \n",
    "           width=1, \n",
    "           stacked=True, \n",
    "           colormap = 'Blues',\n",
    "           edgecolor='black',\n",
    "           legend=True)\n",
    "\n",
    "plt.show()"
   ]
  },
  {
   "cell_type": "markdown",
   "metadata": {},
   "source": [
    "Creating rank column\n",
    "\n",
    "assuming 22 teams per league (roughly correct but data not avaialble for more accurate measurement)"
   ]
  },
  {
   "cell_type": "code",
   "execution_count": 182,
   "metadata": {
    "collapsed": false
   },
   "outputs": [],
   "source": [
    "def ranker(row):\n",
    "    if row['year'] < 1959:\n",
    "        row['rank'] = 68 + ((row['tier'] - 4) * 22) + row['pos']\n",
    "    else:\n",
    "        row['rank'] = 92 + ((row['tier'] - 5) * 22) + row['pos']\n",
    "    return row\n",
    "\n",
    "nl_all = nl_all.apply(ranker, axis=1)"
   ]
  },
  {
   "cell_type": "code",
   "execution_count": 183,
   "metadata": {
    "collapsed": false
   },
   "outputs": [
    {
     "data": {
      "image/png": "[encoded data removed]",
      "text/plain": [
       "<matplotlib.figure.Figure at 0x9596e10>"
      ]
     },
     "metadata": {},
     "output_type": "display_data"
    }
   ],
   "source": [
    "nl_all.plot.scatter(x='year', y='rank', )\n",
    "\n",
    "plt.show()"
   ]
  },
  {
   "cell_type": "code",
   "execution_count": 184,
   "metadata": {
    "collapsed": false
   },
   "outputs": [],
   "source": [
    "nl_all.to_csv(r'C:\\Dropbox\\Python\\scrapy\\facup\\02_merge\\fa_nl_merge_all.csv', index = False)"
   ]
  },
  {
   "cell_type": "code",
   "execution_count": null,
   "metadata": {
    "collapsed": true
   },
   "outputs": [],
   "source": []
  }
 ],
 "metadata": {
  "kernelspec": {
   "display_name": "Python 2",
   "language": "python",
   "name": "python2"
  },
  "language_info": {
   "codemirror_mode": {
    "name": "ipython",
    "version": 2
   },
   "file_extension": ".py",
   "mimetype": "text/x-python",
   "name": "python",
   "nbconvert_exporter": "python",
   "pygments_lexer": "ipython2",
   "version": "2.7.11"
  }
 },
 "nbformat": 4,
 "nbformat_minor": 0
}
