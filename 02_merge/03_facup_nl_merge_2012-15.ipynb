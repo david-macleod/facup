{
 "cells": [
  {
   "cell_type": "code",
   "execution_count": 1,
   "metadata": {
    "collapsed": true
   },
   "outputs": [],
   "source": [
    "import pandas as pd\n",
    "import numpy as np\n",
    "import plotly\n",
    "import plotly.plotly as py\n",
    "import cufflinks as cf"
   ]
  },
  {
   "cell_type": "code",
   "execution_count": 2,
   "metadata": {
    "collapsed": true
   },
   "outputs": [],
   "source": [
    "nl_fac = pd.read_csv(r'C:\\Users\\David\\Python\\scrapy\\facup\\02_merge\\nleague_teams_v1.csv')\n",
    "nl_tab = pd.read_csv(r'C:\\Users\\David\\Python\\scrapy\\facup\\01_league_tables\\nonleague_2012-15.csv')"
   ]
  },
  {
   "cell_type": "code",
   "execution_count": 4,
   "metadata": {
    "collapsed": false
   },
   "outputs": [],
   "source": [
    "nl_tab = nl_tab[['league','pos','tier','year','team']]"
   ]
  },
  {
   "cell_type": "code",
   "execution_count": 6,
   "metadata": {
    "collapsed": false
   },
   "outputs": [],
   "source": [
    "nl_fac = nl_fac[nl_fac.year > 2011]"
   ]
  },
  {
   "cell_type": "markdown",
   "metadata": {},
   "source": [
    "Text string regularisation"
   ]
  },
  {
   "cell_type": "code",
   "execution_count": 10,
   "metadata": {
    "collapsed": true
   },
   "outputs": [],
   "source": [
    "nl_tab['team'] = nl_tab['team'].str.upper()\n",
    "nl_tab['league'] = nl_tab['league'].str.upper()"
   ]
  },
  {
   "cell_type": "code",
   "execution_count": 13,
   "metadata": {
    "collapsed": false
   },
   "outputs": [],
   "source": [
    "#removing 'non-breaking' spaces and normal spaces from end of strings\n",
    "nl_tab['team'].replace('\\xc2\\xa0', '', inplace = True, regex = True) \n",
    "nl_tab['team'] = nl_tab['team'].str.strip()"
   ]
  },
  {
   "cell_type": "code",
   "execution_count": 14,
   "metadata": {
    "collapsed": false
   },
   "outputs": [
    {
     "data": {
      "text/html": [
       "<div>\n",
       "<table border=\"1\" class=\"dataframe\">\n",
       "  <thead>\n",
       "    <tr style=\"text-align: right;\">\n",
       "      <th></th>\n",
       "      <th>league</th>\n",
       "      <th>pos</th>\n",
       "      <th>tier</th>\n",
       "      <th>year</th>\n",
       "      <th>team</th>\n",
       "    </tr>\n",
       "  </thead>\n",
       "  <tbody>\n",
       "    <tr>\n",
       "      <th>0</th>\n",
       "      <td>NATIONAL</td>\n",
       "      <td>1</td>\n",
       "      <td>501</td>\n",
       "      <td>2012</td>\n",
       "      <td>FLEETWOOD TOWN</td>\n",
       "    </tr>\n",
       "    <tr>\n",
       "      <th>1</th>\n",
       "      <td>NATIONAL</td>\n",
       "      <td>2</td>\n",
       "      <td>501</td>\n",
       "      <td>2012</td>\n",
       "      <td>WREXHAM</td>\n",
       "    </tr>\n",
       "    <tr>\n",
       "      <th>2</th>\n",
       "      <td>NATIONAL SOUTH</td>\n",
       "      <td>1</td>\n",
       "      <td>602</td>\n",
       "      <td>2012</td>\n",
       "      <td>WOKING</td>\n",
       "    </tr>\n",
       "    <tr>\n",
       "      <th>3</th>\n",
       "      <td>NORTHERN PREMIER DIV ONE NORTH</td>\n",
       "      <td>1</td>\n",
       "      <td>801</td>\n",
       "      <td>2012</td>\n",
       "      <td>AFC FYLDE</td>\n",
       "    </tr>\n",
       "    <tr>\n",
       "      <th>4</th>\n",
       "      <td>NATIONAL</td>\n",
       "      <td>3</td>\n",
       "      <td>501</td>\n",
       "      <td>2012</td>\n",
       "      <td>MANSFIELD TOWN</td>\n",
       "    </tr>\n",
       "  </tbody>\n",
       "</table>\n",
       "</div>"
      ],
      "text/plain": [
       "                           league  pos  tier  year            team\n",
       "0                        NATIONAL    1   501  2012  FLEETWOOD TOWN\n",
       "1                        NATIONAL    2   501  2012         WREXHAM\n",
       "2                  NATIONAL SOUTH    1   602  2012          WOKING\n",
       "3  NORTHERN PREMIER DIV ONE NORTH    1   801  2012       AFC FYLDE\n",
       "4                        NATIONAL    3   501  2012  MANSFIELD TOWN"
      ]
     },
     "execution_count": 14,
     "metadata": {},
     "output_type": "execute_result"
    }
   ],
   "source": [
    "nl_tab.head()"
   ]
  },
  {
   "cell_type": "markdown",
   "metadata": {},
   "source": [
    "#### Merge test 1"
   ]
  },
  {
   "cell_type": "code",
   "execution_count": 15,
   "metadata": {
    "collapsed": true
   },
   "outputs": [],
   "source": [
    "nl_merge = pd.merge(nl_tab, nl_fac, how='right', on=['team', 'year'])\n",
    "\n",
    "missing_teams = nl_merge[nl_merge.pos.isnull()].copy()\n",
    "\n",
    "mt_plot = missing_teams.year.value_counts().sort_index().reindex()"
   ]
  },
  {
   "cell_type": "code",
   "execution_count": 17,
   "metadata": {
    "collapsed": false
   },
   "outputs": [
    {
     "data": {
      "text/html": [
       "<iframe id=\"igraph\" scrolling=\"no\" style=\"border:none;\" seamless=\"seamless\" src=\"https://plot.ly/~starhammer/1029.embed\" height=\"400px\" width=\"700px\"></iframe>"
      ],
      "text/plain": [
       "<plotly.tools.PlotlyDisplay object>"
      ]
     },
     "execution_count": 17,
     "metadata": {},
     "output_type": "execute_result"
    }
   ],
   "source": [
    "mt_plot.iplot(kind='bar', dimensions = (700,400))"
   ]
  },
  {
   "cell_type": "code",
   "execution_count": 18,
   "metadata": {
    "collapsed": false
   },
   "outputs": [
    {
     "data": {
      "text/html": [
       "<div>\n",
       "<table border=\"1\" class=\"dataframe\">\n",
       "  <thead>\n",
       "    <tr style=\"text-align: right;\">\n",
       "      <th></th>\n",
       "      <th>league</th>\n",
       "      <th>pos</th>\n",
       "      <th>tier</th>\n",
       "      <th>year</th>\n",
       "      <th>team</th>\n",
       "      <th>round</th>\n",
       "      <th>stage</th>\n",
       "    </tr>\n",
       "  </thead>\n",
       "  <tbody>\n",
       "    <tr>\n",
       "      <th>123</th>\n",
       "      <td>NaN</td>\n",
       "      <td>NaN</td>\n",
       "      <td>NaN</td>\n",
       "      <td>2012</td>\n",
       "      <td>BRADFORD (PARK AVENUE)</td>\n",
       "      <td>FIRST ROUND PROPER</td>\n",
       "      <td>8</td>\n",
       "    </tr>\n",
       "    <tr>\n",
       "      <th>124</th>\n",
       "      <td>NaN</td>\n",
       "      <td>NaN</td>\n",
       "      <td>NaN</td>\n",
       "      <td>2012</td>\n",
       "      <td>SALISBURY CITY</td>\n",
       "      <td>FIRST ROUND PROPER</td>\n",
       "      <td>8</td>\n",
       "    </tr>\n",
       "    <tr>\n",
       "      <th>125</th>\n",
       "      <td>NaN</td>\n",
       "      <td>NaN</td>\n",
       "      <td>NaN</td>\n",
       "      <td>2013</td>\n",
       "      <td>BRADFORD (PARK AVENUE)</td>\n",
       "      <td>FIRST ROUND PROPER</td>\n",
       "      <td>8</td>\n",
       "    </tr>\n",
       "    <tr>\n",
       "      <th>126</th>\n",
       "      <td>NaN</td>\n",
       "      <td>NaN</td>\n",
       "      <td>NaN</td>\n",
       "      <td>2014</td>\n",
       "      <td>SALISBURY CITY</td>\n",
       "      <td>FIRST ROUND PROPER</td>\n",
       "      <td>8</td>\n",
       "    </tr>\n",
       "    <tr>\n",
       "      <th>127</th>\n",
       "      <td>NaN</td>\n",
       "      <td>NaN</td>\n",
       "      <td>NaN</td>\n",
       "      <td>2015</td>\n",
       "      <td>WESTON SUPER MARE</td>\n",
       "      <td>FIRST ROUND PROPER</td>\n",
       "      <td>8</td>\n",
       "    </tr>\n",
       "  </tbody>\n",
       "</table>\n",
       "</div>"
      ],
      "text/plain": [
       "    league  pos  tier  year                    team               round  stage\n",
       "123    NaN  NaN   NaN  2012  BRADFORD (PARK AVENUE)  FIRST ROUND PROPER      8\n",
       "124    NaN  NaN   NaN  2012          SALISBURY CITY  FIRST ROUND PROPER      8\n",
       "125    NaN  NaN   NaN  2013  BRADFORD (PARK AVENUE)  FIRST ROUND PROPER      8\n",
       "126    NaN  NaN   NaN  2014          SALISBURY CITY  FIRST ROUND PROPER      8\n",
       "127    NaN  NaN   NaN  2015       WESTON SUPER MARE  FIRST ROUND PROPER      8"
      ]
     },
     "execution_count": 18,
     "metadata": {},
     "output_type": "execute_result"
    }
   ],
   "source": [
    "missing_teams"
   ]
  },
  {
   "cell_type": "code",
   "execution_count": 19,
   "metadata": {
    "collapsed": true
   },
   "outputs": [],
   "source": [
    "from fuzzywuzzy import process\n",
    "import fuzzywuzzy\n",
    "import Levenshtein"
   ]
  },
  {
   "cell_type": "code",
   "execution_count": 20,
   "metadata": {
    "collapsed": false
   },
   "outputs": [
    {
     "name": "stdout",
     "output_type": "stream",
     "text": [
      "Wall time: 657 ms\n"
     ]
    }
   ],
   "source": [
    "def near_match(row):\n",
    "    return process.extractOne(row['team'], nl_tab[nl_tab.year == row['year']]['team'].values) # only search specific year\n",
    "     #return tuple containing (nearest match, score)\n",
    "    \n",
    "%time missing_teams['match'], missing_teams['score'] = zip(*missing_teams.apply(near_match, axis = 1))"
   ]
  },
  {
   "cell_type": "code",
   "execution_count": 21,
   "metadata": {
    "collapsed": false
   },
   "outputs": [
    {
     "data": {
      "text/html": [
       "<div>\n",
       "<table border=\"1\" class=\"dataframe\">\n",
       "  <thead>\n",
       "    <tr style=\"text-align: right;\">\n",
       "      <th></th>\n",
       "      <th>league</th>\n",
       "      <th>pos</th>\n",
       "      <th>tier</th>\n",
       "      <th>year</th>\n",
       "      <th>team</th>\n",
       "      <th>round</th>\n",
       "      <th>stage</th>\n",
       "      <th>match</th>\n",
       "      <th>score</th>\n",
       "    </tr>\n",
       "  </thead>\n",
       "  <tbody>\n",
       "    <tr>\n",
       "      <th>123</th>\n",
       "      <td>NaN</td>\n",
       "      <td>NaN</td>\n",
       "      <td>NaN</td>\n",
       "      <td>2012</td>\n",
       "      <td>BRADFORD (PARK AVENUE)</td>\n",
       "      <td>FIRST ROUND PROPER</td>\n",
       "      <td>8</td>\n",
       "      <td>BRADFORD PARK AVENUE</td>\n",
       "      <td>98</td>\n",
       "    </tr>\n",
       "    <tr>\n",
       "      <th>124</th>\n",
       "      <td>NaN</td>\n",
       "      <td>NaN</td>\n",
       "      <td>NaN</td>\n",
       "      <td>2012</td>\n",
       "      <td>SALISBURY CITY</td>\n",
       "      <td>FIRST ROUND PROPER</td>\n",
       "      <td>8</td>\n",
       "      <td>SALISBURY</td>\n",
       "      <td>90</td>\n",
       "    </tr>\n",
       "    <tr>\n",
       "      <th>125</th>\n",
       "      <td>NaN</td>\n",
       "      <td>NaN</td>\n",
       "      <td>NaN</td>\n",
       "      <td>2013</td>\n",
       "      <td>BRADFORD (PARK AVENUE)</td>\n",
       "      <td>FIRST ROUND PROPER</td>\n",
       "      <td>8</td>\n",
       "      <td>BRADFORD PARK AVENUE</td>\n",
       "      <td>98</td>\n",
       "    </tr>\n",
       "    <tr>\n",
       "      <th>126</th>\n",
       "      <td>NaN</td>\n",
       "      <td>NaN</td>\n",
       "      <td>NaN</td>\n",
       "      <td>2014</td>\n",
       "      <td>SALISBURY CITY</td>\n",
       "      <td>FIRST ROUND PROPER</td>\n",
       "      <td>8</td>\n",
       "      <td>SALISBURY</td>\n",
       "      <td>90</td>\n",
       "    </tr>\n",
       "    <tr>\n",
       "      <th>127</th>\n",
       "      <td>NaN</td>\n",
       "      <td>NaN</td>\n",
       "      <td>NaN</td>\n",
       "      <td>2015</td>\n",
       "      <td>WESTON SUPER MARE</td>\n",
       "      <td>FIRST ROUND PROPER</td>\n",
       "      <td>8</td>\n",
       "      <td>WESTON-SUPER-MARE</td>\n",
       "      <td>100</td>\n",
       "    </tr>\n",
       "  </tbody>\n",
       "</table>\n",
       "</div>"
      ],
      "text/plain": [
       "    league  pos  tier  year                    team               round  \\\n",
       "123    NaN  NaN   NaN  2012  BRADFORD (PARK AVENUE)  FIRST ROUND PROPER   \n",
       "124    NaN  NaN   NaN  2012          SALISBURY CITY  FIRST ROUND PROPER   \n",
       "125    NaN  NaN   NaN  2013  BRADFORD (PARK AVENUE)  FIRST ROUND PROPER   \n",
       "126    NaN  NaN   NaN  2014          SALISBURY CITY  FIRST ROUND PROPER   \n",
       "127    NaN  NaN   NaN  2015       WESTON SUPER MARE  FIRST ROUND PROPER   \n",
       "\n",
       "     stage                 match  score  \n",
       "123      8  BRADFORD PARK AVENUE     98  \n",
       "124      8             SALISBURY     90  \n",
       "125      8  BRADFORD PARK AVENUE     98  \n",
       "126      8             SALISBURY     90  \n",
       "127      8     WESTON-SUPER-MARE    100  "
      ]
     },
     "execution_count": 21,
     "metadata": {},
     "output_type": "execute_result"
    }
   ],
   "source": [
    "missing_teams"
   ]
  },
  {
   "cell_type": "markdown",
   "metadata": {},
   "source": [
    "These matches are correct, will merge will update nl_tab dataframe\n",
    "\n",
    "Need to update index for update method"
   ]
  },
  {
   "cell_type": "code",
   "execution_count": 22,
   "metadata": {
    "collapsed": true
   },
   "outputs": [],
   "source": [
    "nl_tab.set_index(['year', 'team'], inplace=True, drop=False)"
   ]
  },
  {
   "cell_type": "code",
   "execution_count": 23,
   "metadata": {
    "collapsed": false
   },
   "outputs": [
    {
     "data": {
      "text/html": [
       "<div>\n",
       "<table border=\"1\" class=\"dataframe\">\n",
       "  <thead>\n",
       "    <tr style=\"text-align: right;\">\n",
       "      <th></th>\n",
       "      <th></th>\n",
       "      <th>league</th>\n",
       "      <th>pos</th>\n",
       "      <th>tier</th>\n",
       "      <th>year</th>\n",
       "      <th>team</th>\n",
       "    </tr>\n",
       "    <tr>\n",
       "      <th>year</th>\n",
       "      <th>team</th>\n",
       "      <th></th>\n",
       "      <th></th>\n",
       "      <th></th>\n",
       "      <th></th>\n",
       "      <th></th>\n",
       "    </tr>\n",
       "  </thead>\n",
       "  <tbody>\n",
       "    <tr>\n",
       "      <th rowspan=\"5\" valign=\"top\">2012</th>\n",
       "      <th>FLEETWOOD TOWN</th>\n",
       "      <td>NATIONAL</td>\n",
       "      <td>1</td>\n",
       "      <td>501</td>\n",
       "      <td>2012</td>\n",
       "      <td>FLEETWOOD TOWN</td>\n",
       "    </tr>\n",
       "    <tr>\n",
       "      <th>WREXHAM</th>\n",
       "      <td>NATIONAL</td>\n",
       "      <td>2</td>\n",
       "      <td>501</td>\n",
       "      <td>2012</td>\n",
       "      <td>WREXHAM</td>\n",
       "    </tr>\n",
       "    <tr>\n",
       "      <th>WOKING</th>\n",
       "      <td>NATIONAL SOUTH</td>\n",
       "      <td>1</td>\n",
       "      <td>602</td>\n",
       "      <td>2012</td>\n",
       "      <td>WOKING</td>\n",
       "    </tr>\n",
       "    <tr>\n",
       "      <th>AFC FYLDE</th>\n",
       "      <td>NORTHERN PREMIER DIV ONE NORTH</td>\n",
       "      <td>1</td>\n",
       "      <td>801</td>\n",
       "      <td>2012</td>\n",
       "      <td>AFC FYLDE</td>\n",
       "    </tr>\n",
       "    <tr>\n",
       "      <th>MANSFIELD TOWN</th>\n",
       "      <td>NATIONAL</td>\n",
       "      <td>3</td>\n",
       "      <td>501</td>\n",
       "      <td>2012</td>\n",
       "      <td>MANSFIELD TOWN</td>\n",
       "    </tr>\n",
       "  </tbody>\n",
       "</table>\n",
       "</div>"
      ],
      "text/plain": [
       "                                             league  pos  tier  year  \\\n",
       "year team                                                              \n",
       "2012 FLEETWOOD TOWN                        NATIONAL    1   501  2012   \n",
       "     WREXHAM                               NATIONAL    2   501  2012   \n",
       "     WOKING                          NATIONAL SOUTH    1   602  2012   \n",
       "     AFC FYLDE       NORTHERN PREMIER DIV ONE NORTH    1   801  2012   \n",
       "     MANSFIELD TOWN                        NATIONAL    3   501  2012   \n",
       "\n",
       "                               team  \n",
       "year team                            \n",
       "2012 FLEETWOOD TOWN  FLEETWOOD TOWN  \n",
       "     WREXHAM                WREXHAM  \n",
       "     WOKING                  WOKING  \n",
       "     AFC FYLDE            AFC FYLDE  \n",
       "     MANSFIELD TOWN  MANSFIELD TOWN  "
      ]
     },
     "execution_count": 23,
     "metadata": {},
     "output_type": "execute_result"
    }
   ],
   "source": [
    "nl_tab.head()"
   ]
  },
  {
   "cell_type": "code",
   "execution_count": 24,
   "metadata": {
    "collapsed": true
   },
   "outputs": [],
   "source": [
    "missing_teams.set_index(['year', 'match'], inplace=True, drop=False)"
   ]
  },
  {
   "cell_type": "code",
   "execution_count": 26,
   "metadata": {
    "collapsed": false
   },
   "outputs": [],
   "source": [
    "missing_teams = missing_teams[['team', 'pos', 'year', 'league', 'tier']]"
   ]
  },
  {
   "cell_type": "code",
   "execution_count": 27,
   "metadata": {
    "collapsed": false
   },
   "outputs": [
    {
     "data": {
      "text/html": [
       "<div>\n",
       "<table border=\"1\" class=\"dataframe\">\n",
       "  <thead>\n",
       "    <tr style=\"text-align: right;\">\n",
       "      <th></th>\n",
       "      <th></th>\n",
       "      <th>team</th>\n",
       "      <th>pos</th>\n",
       "      <th>year</th>\n",
       "      <th>league</th>\n",
       "      <th>tier</th>\n",
       "    </tr>\n",
       "    <tr>\n",
       "      <th>year</th>\n",
       "      <th>match</th>\n",
       "      <th></th>\n",
       "      <th></th>\n",
       "      <th></th>\n",
       "      <th></th>\n",
       "      <th></th>\n",
       "    </tr>\n",
       "  </thead>\n",
       "  <tbody>\n",
       "    <tr>\n",
       "      <th rowspan=\"2\" valign=\"top\">2012</th>\n",
       "      <th>BRADFORD PARK AVENUE</th>\n",
       "      <td>BRADFORD (PARK AVENUE)</td>\n",
       "      <td>NaN</td>\n",
       "      <td>2012</td>\n",
       "      <td>NaN</td>\n",
       "      <td>NaN</td>\n",
       "    </tr>\n",
       "    <tr>\n",
       "      <th>SALISBURY</th>\n",
       "      <td>SALISBURY CITY</td>\n",
       "      <td>NaN</td>\n",
       "      <td>2012</td>\n",
       "      <td>NaN</td>\n",
       "      <td>NaN</td>\n",
       "    </tr>\n",
       "    <tr>\n",
       "      <th>2013</th>\n",
       "      <th>BRADFORD PARK AVENUE</th>\n",
       "      <td>BRADFORD (PARK AVENUE)</td>\n",
       "      <td>NaN</td>\n",
       "      <td>2013</td>\n",
       "      <td>NaN</td>\n",
       "      <td>NaN</td>\n",
       "    </tr>\n",
       "    <tr>\n",
       "      <th>2014</th>\n",
       "      <th>SALISBURY</th>\n",
       "      <td>SALISBURY CITY</td>\n",
       "      <td>NaN</td>\n",
       "      <td>2014</td>\n",
       "      <td>NaN</td>\n",
       "      <td>NaN</td>\n",
       "    </tr>\n",
       "    <tr>\n",
       "      <th>2015</th>\n",
       "      <th>WESTON-SUPER-MARE</th>\n",
       "      <td>WESTON SUPER MARE</td>\n",
       "      <td>NaN</td>\n",
       "      <td>2015</td>\n",
       "      <td>NaN</td>\n",
       "      <td>NaN</td>\n",
       "    </tr>\n",
       "  </tbody>\n",
       "</table>\n",
       "</div>"
      ],
      "text/plain": [
       "                                             team  pos  year league  tier\n",
       "year match                                                               \n",
       "2012 BRADFORD PARK AVENUE  BRADFORD (PARK AVENUE)  NaN  2012    NaN   NaN\n",
       "     SALISBURY                     SALISBURY CITY  NaN  2012    NaN   NaN\n",
       "2013 BRADFORD PARK AVENUE  BRADFORD (PARK AVENUE)  NaN  2013    NaN   NaN\n",
       "2014 SALISBURY                     SALISBURY CITY  NaN  2014    NaN   NaN\n",
       "2015 WESTON-SUPER-MARE          WESTON SUPER MARE  NaN  2015    NaN   NaN"
      ]
     },
     "execution_count": 27,
     "metadata": {},
     "output_type": "execute_result"
    }
   ],
   "source": [
    "missing_teams.head()"
   ]
  },
  {
   "cell_type": "code",
   "execution_count": 28,
   "metadata": {
    "collapsed": true
   },
   "outputs": [],
   "source": [
    "nl_tab.update(missing_teams)"
   ]
  },
  {
   "cell_type": "markdown",
   "metadata": {},
   "source": [
    "#### Merge test 2"
   ]
  },
  {
   "cell_type": "code",
   "execution_count": 30,
   "metadata": {
    "collapsed": false
   },
   "outputs": [],
   "source": [
    "nl_merge2 = pd.merge(nl_tab, nl_fac, how='right', on=['team', 'year'])\n",
    "\n",
    "missing_teams2 = nl_merge2[nl_merge2.pos.isnull()].copy()\n",
    "\n",
    "mt_plot2 = missing_teams2.year.value_counts().sort_index().reindex()"
   ]
  },
  {
   "cell_type": "code",
   "execution_count": 31,
   "metadata": {
    "collapsed": false
   },
   "outputs": [
    {
     "data": {
      "text/html": [
       "<iframe id=\"igraph\" scrolling=\"no\" style=\"border:none;\" seamless=\"seamless\" src=\"https://plot.ly/~starhammer/1031.embed\" height=\"400px\" width=\"700px\"></iframe>"
      ],
      "text/plain": [
       "<plotly.tools.PlotlyDisplay object>"
      ]
     },
     "execution_count": 31,
     "metadata": {},
     "output_type": "execute_result"
    }
   ],
   "source": [
    "#making dataframe which join missing teams from 1st and 2nd merge\n",
    "\n",
    "mt_plot_join = pd.DataFrame({'mt_plot':mt_plot, 'mt_plot2':mt_plot2})\n",
    "\n",
    "mt_plot_join.iplot(kind='bar', barmode='overlay', dimensions = (700,400))"
   ]
  },
  {
   "cell_type": "markdown",
   "metadata": {},
   "source": [
    "All teams merged succesfully, now checking for duplicate matches (i.e. teams which exist twice in league tables (per year) and have been matched to fa cup dataframe multiple times "
   ]
  },
  {
   "cell_type": "code",
   "execution_count": 33,
   "metadata": {
    "collapsed": false
   },
   "outputs": [
    {
     "data": {
      "text/html": [
       "<div>\n",
       "<table border=\"1\" class=\"dataframe\">\n",
       "  <thead>\n",
       "    <tr style=\"text-align: right;\">\n",
       "      <th></th>\n",
       "      <th>league</th>\n",
       "      <th>pos</th>\n",
       "      <th>tier</th>\n",
       "      <th>year</th>\n",
       "      <th>team</th>\n",
       "      <th>round</th>\n",
       "      <th>stage</th>\n",
       "    </tr>\n",
       "  </thead>\n",
       "  <tbody>\n",
       "  </tbody>\n",
       "</table>\n",
       "</div>"
      ],
      "text/plain": [
       "Empty DataFrame\n",
       "Columns: [league, pos, tier, year, team, round, stage]\n",
       "Index: []"
      ]
     },
     "execution_count": 33,
     "metadata": {},
     "output_type": "execute_result"
    }
   ],
   "source": [
    "nl_merge2.groupby(['year', 'team']).filter(lambda x: len(x) > 1)"
   ]
  },
  {
   "cell_type": "code",
   "execution_count": 34,
   "metadata": {
    "collapsed": false
   },
   "outputs": [
    {
     "name": "stdout",
     "output_type": "stream",
     "text": [
      "<class 'pandas.core.frame.DataFrame'>\n",
      "Int64Index: 128 entries, 1919 to 2046\n",
      "Data columns (total 4 columns):\n",
      "team     128 non-null object\n",
      "year     128 non-null int64\n",
      "round    128 non-null object\n",
      "stage    128 non-null float64\n",
      "dtypes: float64(1), int64(1), object(2)\n",
      "memory usage: 5.0+ KB\n"
     ]
    }
   ],
   "source": [
    "nl_fac.info()"
   ]
  },
  {
   "cell_type": "code",
   "execution_count": 35,
   "metadata": {
    "collapsed": false
   },
   "outputs": [
    {
     "name": "stdout",
     "output_type": "stream",
     "text": [
      "<class 'pandas.core.frame.DataFrame'>\n",
      "Int64Index: 128 entries, 0 to 127\n",
      "Data columns (total 7 columns):\n",
      "league    128 non-null object\n",
      "pos       128 non-null int64\n",
      "tier      128 non-null int64\n",
      "year      128 non-null float64\n",
      "team      128 non-null object\n",
      "round     128 non-null object\n",
      "stage     128 non-null float64\n",
      "dtypes: float64(2), int64(2), object(3)\n",
      "memory usage: 8.0+ KB\n"
     ]
    }
   ],
   "source": [
    "nl_merge2.info()"
   ]
  },
  {
   "cell_type": "markdown",
   "metadata": {},
   "source": [
    "#### Final save of non-league 1952-89 merge"
   ]
  },
  {
   "cell_type": "code",
   "execution_count": 36,
   "metadata": {
    "collapsed": true
   },
   "outputs": [],
   "source": [
    "nl_merge2.to_csv(r'C:\\Users\\David\\Python\\scrapy\\facup\\02_merge\\fa_nl_merge_2012-15_v1.csv', index=False)"
   ]
  },
  {
   "cell_type": "code",
   "execution_count": null,
   "metadata": {
    "collapsed": true
   },
   "outputs": [],
   "source": []
  }
 ],
 "metadata": {
  "kernelspec": {
   "display_name": "Python 2",
   "language": "python",
   "name": "python2"
  },
  "language_info": {
   "codemirror_mode": {
    "name": "ipython",
    "version": 2
   },
   "file_extension": ".py",
   "mimetype": "text/x-python",
   "name": "python",
   "nbconvert_exporter": "python",
   "pygments_lexer": "ipython2",
   "version": "2.7.11"
  }
 },
 "nbformat": 4,
 "nbformat_minor": 0
}
