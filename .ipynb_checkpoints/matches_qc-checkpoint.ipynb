{
 "cells": [
  {
   "cell_type": "code",
   "execution_count": 8,
   "metadata": {
    "collapsed": false
   },
   "outputs": [],
   "source": [
    "import pandas as pd\n",
    "import numpy as np\n",
    "import matplotlib\n",
    "import matplotlib.pyplot as plt\n",
    "\n",
    "%matplotlib inline\n",
    "matplotlib.style.use('ggplot')"
   ]
  },
  {
   "cell_type": "code",
   "execution_count": 4,
   "metadata": {
    "collapsed": false
   },
   "outputs": [],
   "source": [
    "matches = pd.read_csv('results_3.csv') "
   ]
  },
  {
   "cell_type": "code",
   "execution_count": 5,
   "metadata": {
    "collapsed": false
   },
   "outputs": [
    {
     "name": "stdout",
     "output_type": "stream",
     "text": [
      "<class 'pandas.core.frame.DataFrame'>\n",
      "Int64Index: 137021 entries, 0 to 137020\n",
      "Data columns (total 8 columns):\n",
      "home_team     137017 non-null object\n",
      "away_team     137021 non-null object\n",
      "match_id      137021 non-null object\n",
      "round_id      137021 non-null object\n",
      "replay        137021 non-null object\n",
      "home_score    136841 non-null object\n",
      "date          137021 non-null object\n",
      "away_score    136841 non-null object\n",
      "dtypes: object(8)\n",
      "memory usage: 9.4+ MB\n"
     ]
    }
   ],
   "source": [
    "matches.info()"
   ]
  },
  {
   "cell_type": "code",
   "execution_count": 13,
   "metadata": {
    "collapsed": false
   },
   "outputs": [
    {
     "name": "stdout",
     "output_type": "stream",
     "text": [
      "<class 'pandas.core.frame.DataFrame'>\n",
      "Int64Index: 184 entries, 55255 to 136839\n",
      "Data columns (total 8 columns):\n",
      "home_team     180 non-null object\n",
      "away_team     184 non-null object\n",
      "match_id      184 non-null object\n",
      "round_id      184 non-null object\n",
      "replay        184 non-null object\n",
      "home_score    4 non-null object\n",
      "date          184 non-null object\n",
      "away_score    4 non-null object\n",
      "dtypes: object(8)\n",
      "memory usage: 12.9+ KB\n"
     ]
    }
   ],
   "source": [
    "# returning rows with missing data\n",
    "\n",
    "missing = matches[matches.isnull().any(axis=1)]\n",
    "missing.info()"
   ]
  },
  {
   "cell_type": "code",
   "execution_count": null,
   "metadata": {
    "collapsed": true
   },
   "outputs": [],
   "source": [
    "# mainly missing scorelines but also some missing team names, saving to separate .csv file and dropping from dataframe\n",
    "\n",
    "missing.to_csv('')"
   ]
  },
  {
   "cell_type": "code",
   "execution_count": null,
   "metadata": {
    "collapsed": false
   },
   "outputs": [],
   "source": [
    "years = pd.read_csv('years_edit.csv')\n",
    "years.head()"
   ]
  },
  {
   "cell_type": "code",
   "execution_count": null,
   "metadata": {
    "collapsed": false
   },
   "outputs": [],
   "source": [
    "merged_new = pd.merge(matches_all, years, how='inner', on='round_id')\n",
    "merged_new.head()"
   ]
  },
  {
   "cell_type": "code",
   "execution_count": null,
   "metadata": {
    "collapsed": false
   },
   "outputs": [],
   "source": [
    "matches_per_year = merged_new.groupby('year')['year'].count()\n",
    "%matplotlib inline\n",
    "matches_per_year.plot(kind='bar', figsize=(12,4))"
   ]
  },
  {
   "cell_type": "code",
   "execution_count": null,
   "metadata": {
    "collapsed": false,
    "scrolled": true
   },
   "outputs": [],
   "source": [
    "alltime_teams = pd.concat([merged_new['home_team'], merged_new['away_team']]).nunique()\n",
    "print 'Number of teams entered since 1872:', alltime_teams"
   ]
  },
  {
   "cell_type": "code",
   "execution_count": null,
   "metadata": {
    "collapsed": false
   },
   "outputs": [],
   "source": [
    "home_teams = merged_new[['home_team', 'year']]\n",
    "away_teams = merged_new[['away_team', 'year']]\n",
    "home_teams.columns.values[0] = 'team'\n",
    "away_teams.columns.values[0] = 'team'"
   ]
  },
  {
   "cell_type": "code",
   "execution_count": null,
   "metadata": {
    "collapsed": false
   },
   "outputs": [],
   "source": [
    "teams_per_year = pd.concat([home_teams, away_teams]).groupby('year')['team'].nunique()\n",
    "teams_per_year.plot(kind='bar', figsize=(7,4))"
   ]
  },
  {
   "cell_type": "code",
   "execution_count": null,
   "metadata": {
    "collapsed": false
   },
   "outputs": [],
   "source": [
    "merged_new['round'].value_counts()"
   ]
  },
  {
   "cell_type": "code",
   "execution_count": null,
   "metadata": {
    "collapsed": false
   },
   "outputs": [],
   "source": [
    "merged_new['qualifier'] = merged_new['round'].str.contains(\"Qualifying|Preliminary\") #search for regex expression, return boolean"
   ]
  },
  {
   "cell_type": "code",
   "execution_count": null,
   "metadata": {
    "collapsed": false
   },
   "outputs": [],
   "source": [
    "merged_new['qualifier'].value_counts()"
   ]
  },
  {
   "cell_type": "code",
   "execution_count": null,
   "metadata": {
    "collapsed": false
   },
   "outputs": [],
   "source": [
    "merged_new[merged_new['qualifier'] == True]['round'].value_counts()"
   ]
  },
  {
   "cell_type": "code",
   "execution_count": null,
   "metadata": {
    "collapsed": false
   },
   "outputs": [],
   "source": [
    "merged_new[merged_new['qualifier'] == False]['round'].value_counts()"
   ]
  },
  {
   "cell_type": "code",
   "execution_count": null,
   "metadata": {
    "collapsed": true
   },
   "outputs": [],
   "source": [
    "merged_new.to_csv('facup_archive.csv')"
   ]
  },
  {
   "cell_type": "code",
   "execution_count": null,
   "metadata": {
    "collapsed": true
   },
   "outputs": [],
   "source": []
  }
 ],
 "metadata": {
  "kernelspec": {
   "display_name": "Python 2",
   "language": "python",
   "name": "python2"
  },
  "language_info": {
   "codemirror_mode": {
    "name": "ipython",
    "version": 2
   },
   "file_extension": ".py",
   "mimetype": "text/x-python",
   "name": "python",
   "nbconvert_exporter": "python",
   "pygments_lexer": "ipython2",
   "version": "2.7.11"
  }
 },
 "nbformat": 4,
 "nbformat_minor": 0
}
