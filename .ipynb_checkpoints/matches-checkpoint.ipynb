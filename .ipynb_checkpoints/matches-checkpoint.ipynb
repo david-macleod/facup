{
 "cells": [
  {
   "cell_type": "code",
   "execution_count": 4,
   "metadata": {
    "collapsed": true
   },
   "outputs": [],
   "source": [
    "import pandas as pd\n",
    "import numpy as np"
   ]
  },
  {
   "cell_type": "code",
   "execution_count": 5,
   "metadata": {
    "collapsed": true
   },
   "outputs": [
    {
     "data": {
      "text/plain": [
       "u'0.17.1'"
      ]
     },
     "execution_count": 5,
     "metadata": {},
     "output_type": "execute_result"
    }
   ],
   "source": [
    "df = pd.read_csv('results.csv')\n",
    "pd.__version__"
   ]
  },
  {
   "cell_type": "code",
   "execution_count": 6,
   "metadata": {
    "collapsed": true
   },
   "outputs": [
    {
     "data": {
      "text/html": [
       "<div>\n",
       "<table border=\"1\" class=\"dataframe\">\n",
       "  <thead>\n",
       "    <tr style=\"text-align: right;\">\n",
       "      <th></th>\n",
       "      <th>home_score</th>\n",
       "      <th>away_score</th>\n",
       "      <th>match_id</th>\n",
       "      <th>round_id</th>\n",
       "      <th>replay</th>\n",
       "    </tr>\n",
       "  </thead>\n",
       "  <tbody>\n",
       "    <tr>\n",
       "      <th>count</th>\n",
       "      <td>64876.000000</td>\n",
       "      <td>64876.000000</td>\n",
       "      <td>64876.000000</td>\n",
       "      <td>64876.000000</td>\n",
       "      <td>64876</td>\n",
       "    </tr>\n",
       "    <tr>\n",
       "      <th>mean</th>\n",
       "      <td>2.092222</td>\n",
       "      <td>1.467029</td>\n",
       "      <td>56125.344365</td>\n",
       "      <td>11233.905990</td>\n",
       "      <td>0.177924</td>\n",
       "    </tr>\n",
       "    <tr>\n",
       "      <th>std</th>\n",
       "      <td>1.886756</td>\n",
       "      <td>1.461788</td>\n",
       "      <td>53176.330961</td>\n",
       "      <td>802.436147</td>\n",
       "      <td>0.382452</td>\n",
       "    </tr>\n",
       "    <tr>\n",
       "      <th>min</th>\n",
       "      <td>0.000000</td>\n",
       "      <td>0.000000</td>\n",
       "      <td>11.000000</td>\n",
       "      <td>9179.000000</td>\n",
       "      <td>False</td>\n",
       "    </tr>\n",
       "    <tr>\n",
       "      <th>25%</th>\n",
       "      <td>1.000000</td>\n",
       "      <td>0.000000</td>\n",
       "      <td>31707.750000</td>\n",
       "      <td>10991.000000</td>\n",
       "      <td>0</td>\n",
       "    </tr>\n",
       "    <tr>\n",
       "      <th>50%</th>\n",
       "      <td>2.000000</td>\n",
       "      <td>1.000000</td>\n",
       "      <td>47987.500000</td>\n",
       "      <td>11369.000000</td>\n",
       "      <td>0</td>\n",
       "    </tr>\n",
       "    <tr>\n",
       "      <th>75%</th>\n",
       "      <td>3.000000</td>\n",
       "      <td>2.000000</td>\n",
       "      <td>64230.250000</td>\n",
       "      <td>11752.000000</td>\n",
       "      <td>0</td>\n",
       "    </tr>\n",
       "    <tr>\n",
       "      <th>max</th>\n",
       "      <td>26.000000</td>\n",
       "      <td>14.000000</td>\n",
       "      <td>434659.000000</td>\n",
       "      <td>12829.000000</td>\n",
       "      <td>True</td>\n",
       "    </tr>\n",
       "  </tbody>\n",
       "</table>\n",
       "</div>"
      ],
      "text/plain": [
       "         home_score    away_score       match_id      round_id    replay\n",
       "count  64876.000000  64876.000000   64876.000000  64876.000000     64876\n",
       "mean       2.092222      1.467029   56125.344365  11233.905990  0.177924\n",
       "std        1.886756      1.461788   53176.330961    802.436147  0.382452\n",
       "min        0.000000      0.000000      11.000000   9179.000000     False\n",
       "25%        1.000000      0.000000   31707.750000  10991.000000         0\n",
       "50%        2.000000      1.000000   47987.500000  11369.000000         0\n",
       "75%        3.000000      2.000000   64230.250000  11752.000000         0\n",
       "max       26.000000     14.000000  434659.000000  12829.000000      True"
      ]
     },
     "execution_count": 6,
     "metadata": {},
     "output_type": "execute_result"
    }
   ],
   "source": [
    "df.describe()"
   ]
  },
  {
   "cell_type": "code",
   "execution_count": 7,
   "metadata": {
    "collapsed": true
   },
   "outputs": [],
   "source": [
    "%matplotlib inline"
   ]
  },
  {
   "cell_type": "code",
   "execution_count": 8,
   "metadata": {
    "collapsed": true
   },
   "outputs": [
    {
     "data": {
      "text/html": [
       "<div>\n",
       "<table border=\"1\" class=\"dataframe\">\n",
       "  <thead>\n",
       "    <tr style=\"text-align: right;\">\n",
       "      <th></th>\n",
       "      <th>home_score</th>\n",
       "      <th>away_score</th>\n",
       "    </tr>\n",
       "  </thead>\n",
       "  <tbody>\n",
       "    <tr>\n",
       "      <th>0</th>\n",
       "      <td>12297</td>\n",
       "      <td>18488</td>\n",
       "    </tr>\n",
       "    <tr>\n",
       "      <th>1</th>\n",
       "      <td>17044</td>\n",
       "      <td>20568</td>\n",
       "    </tr>\n",
       "    <tr>\n",
       "      <th>2</th>\n",
       "      <td>14162</td>\n",
       "      <td>13375</td>\n",
       "    </tr>\n",
       "    <tr>\n",
       "      <th>3</th>\n",
       "      <td>9462</td>\n",
       "      <td>6784</td>\n",
       "    </tr>\n",
       "    <tr>\n",
       "      <th>4</th>\n",
       "      <td>5512</td>\n",
       "      <td>3064</td>\n",
       "    </tr>\n",
       "    <tr>\n",
       "      <th>5</th>\n",
       "      <td>2886</td>\n",
       "      <td>1407</td>\n",
       "    </tr>\n",
       "    <tr>\n",
       "      <th>6</th>\n",
       "      <td>1547</td>\n",
       "      <td>642</td>\n",
       "    </tr>\n",
       "    <tr>\n",
       "      <th>7</th>\n",
       "      <td>885</td>\n",
       "      <td>290</td>\n",
       "    </tr>\n",
       "    <tr>\n",
       "      <th>8</th>\n",
       "      <td>480</td>\n",
       "      <td>131</td>\n",
       "    </tr>\n",
       "    <tr>\n",
       "      <th>9</th>\n",
       "      <td>293</td>\n",
       "      <td>57</td>\n",
       "    </tr>\n",
       "    <tr>\n",
       "      <th>10</th>\n",
       "      <td>124</td>\n",
       "      <td>33</td>\n",
       "    </tr>\n",
       "    <tr>\n",
       "      <th>11</th>\n",
       "      <td>83</td>\n",
       "      <td>20</td>\n",
       "    </tr>\n",
       "    <tr>\n",
       "      <th>12</th>\n",
       "      <td>34</td>\n",
       "      <td>6</td>\n",
       "    </tr>\n",
       "    <tr>\n",
       "      <th>13</th>\n",
       "      <td>25</td>\n",
       "      <td>5</td>\n",
       "    </tr>\n",
       "    <tr>\n",
       "      <th>14</th>\n",
       "      <td>12</td>\n",
       "      <td>6</td>\n",
       "    </tr>\n",
       "    <tr>\n",
       "      <th>15</th>\n",
       "      <td>14</td>\n",
       "      <td>NaN</td>\n",
       "    </tr>\n",
       "    <tr>\n",
       "      <th>16</th>\n",
       "      <td>5</td>\n",
       "      <td>NaN</td>\n",
       "    </tr>\n",
       "    <tr>\n",
       "      <th>17</th>\n",
       "      <td>3</td>\n",
       "      <td>NaN</td>\n",
       "    </tr>\n",
       "    <tr>\n",
       "      <th>18</th>\n",
       "      <td>5</td>\n",
       "      <td>NaN</td>\n",
       "    </tr>\n",
       "    <tr>\n",
       "      <th>19</th>\n",
       "      <td>2</td>\n",
       "      <td>NaN</td>\n",
       "    </tr>\n",
       "    <tr>\n",
       "      <th>26</th>\n",
       "      <td>1</td>\n",
       "      <td>NaN</td>\n",
       "    </tr>\n",
       "  </tbody>\n",
       "</table>\n",
       "</div>"
      ],
      "text/plain": [
       "    home_score  away_score\n",
       "0        12297       18488\n",
       "1        17044       20568\n",
       "2        14162       13375\n",
       "3         9462        6784\n",
       "4         5512        3064\n",
       "5         2886        1407\n",
       "6         1547         642\n",
       "7          885         290\n",
       "8          480         131\n",
       "9          293          57\n",
       "10         124          33\n",
       "11          83          20\n",
       "12          34           6\n",
       "13          25           5\n",
       "14          12           6\n",
       "15          14         NaN\n",
       "16           5         NaN\n",
       "17           3         NaN\n",
       "18           5         NaN\n",
       "19           2         NaN\n",
       "26           1         NaN"
      ]
     },
     "execution_count": 8,
     "metadata": {},
     "output_type": "execute_result"
    }
   ],
   "source": [
    "df[['home_score','away_score']].apply(pd.Series.value_counts)"
   ]
  },
  {
   "cell_type": "code",
   "execution_count": 9,
   "metadata": {
    "collapsed": true
   },
   "outputs": [
    {
     "data": {
      "text/plain": [
       "u'0.17.1'"
      ]
     },
     "execution_count": 9,
     "metadata": {},
     "output_type": "execute_result"
    }
   ],
   "source": [
    "pd.__version__"
   ]
  },
  {
   "cell_type": "code",
   "execution_count": 10,
   "metadata": {
    "collapsed": true
   },
   "outputs": [
    {
     "data": {
      "text/plain": [
       "<matplotlib.axes._subplots.AxesSubplot at 0xd598828>"
      ]
     },
     "execution_count": 10,
     "metadata": {},
     "output_type": "execute_result"
    },
    {
     "data": {
      "image/png": "[encoded data removed]",
      "text/plain": [
       "<matplotlib.figure.Figure at 0xa7abe10>"
      ]
     },
     "metadata": {},
     "output_type": "display_data"
    }
   ],
   "source": [
    "import matplotlib\n",
    "import matplotlib.pyplot as plt\n",
    "matplotlib.style.use('ggplot')\n",
    "df.plot.scatter(x='home_score', y='away_score')"
   ]
  },
  {
   "cell_type": "code",
   "execution_count": 11,
   "metadata": {
    "collapsed": true
   },
   "outputs": [
    {
     "data": {
      "text/html": [
       "<div>\n",
       "<table border=\"1\" class=\"dataframe\">\n",
       "  <thead>\n",
       "    <tr style=\"text-align: right;\">\n",
       "      <th></th>\n",
       "      <th>home_team</th>\n",
       "      <th>away_team</th>\n",
       "      <th>home_score</th>\n",
       "      <th>away_score</th>\n",
       "      <th>match_id</th>\n",
       "      <th>round_id</th>\n",
       "      <th>replay</th>\n",
       "      <th>date</th>\n",
       "    </tr>\n",
       "  </thead>\n",
       "  <tbody>\n",
       "    <tr>\n",
       "      <th>0</th>\n",
       "      <td>Royal Engineers</td>\n",
       "      <td>Crystal Palace (1)</td>\n",
       "      <td>3</td>\n",
       "      <td>0</td>\n",
       "      <td>16066</td>\n",
       "      <td>10709</td>\n",
       "      <td>True</td>\n",
       "      <td>09.03.72</td>\n",
       "    </tr>\n",
       "    <tr>\n",
       "      <th>1</th>\n",
       "      <td>Wanderers</td>\n",
       "      <td>Queen's Park (Glasgow)</td>\n",
       "      <td>0</td>\n",
       "      <td>0</td>\n",
       "      <td>16065</td>\n",
       "      <td>10709</td>\n",
       "      <td>False</td>\n",
       "      <td>05.03.72</td>\n",
       "    </tr>\n",
       "    <tr>\n",
       "      <th>2</th>\n",
       "      <td>Royal Engineers</td>\n",
       "      <td>Crystal Palace (1)</td>\n",
       "      <td>0</td>\n",
       "      <td>0</td>\n",
       "      <td>16064</td>\n",
       "      <td>10709</td>\n",
       "      <td>False</td>\n",
       "      <td>17.02.72</td>\n",
       "    </tr>\n",
       "    <tr>\n",
       "      <th>3</th>\n",
       "      <td>Wanderers</td>\n",
       "      <td>Queen's Park (Glasgow)</td>\n",
       "      <td>0</td>\n",
       "      <td>0</td>\n",
       "      <td>16067</td>\n",
       "      <td>10709</td>\n",
       "      <td>True</td>\n",
       "      <td>01.01.01</td>\n",
       "    </tr>\n",
       "    <tr>\n",
       "      <th>4</th>\n",
       "      <td>Hitchin</td>\n",
       "      <td>Royal Engineers</td>\n",
       "      <td>0</td>\n",
       "      <td>5</td>\n",
       "      <td>16057</td>\n",
       "      <td>10709</td>\n",
       "      <td>False</td>\n",
       "      <td>10.01.72</td>\n",
       "    </tr>\n",
       "  </tbody>\n",
       "</table>\n",
       "</div>"
      ],
      "text/plain": [
       "         home_team               away_team  home_score  away_score  match_id  \\\n",
       "0  Royal Engineers      Crystal Palace (1)           3           0     16066   \n",
       "1        Wanderers  Queen's Park (Glasgow)           0           0     16065   \n",
       "2  Royal Engineers      Crystal Palace (1)           0           0     16064   \n",
       "3        Wanderers  Queen's Park (Glasgow)           0           0     16067   \n",
       "4          Hitchin         Royal Engineers           0           5     16057   \n",
       "\n",
       "   round_id replay      date  \n",
       "0     10709   True  09.03.72  \n",
       "1     10709  False  05.03.72  \n",
       "2     10709  False  17.02.72  \n",
       "3     10709   True  01.01.01  \n",
       "4     10709  False  10.01.72  "
      ]
     },
     "execution_count": 11,
     "metadata": {},
     "output_type": "execute_result"
    }
   ],
   "source": [
    "df.head()"
   ]
  },
  {
   "cell_type": "code",
   "execution_count": 12,
   "metadata": {
    "collapsed": true
   },
   "outputs": [
    {
     "data": {
      "text/plain": [
       "Bye                            269\n",
       "Aston Villa                    198\n",
       "Liverpool                      198\n",
       "Kettering Town                 196\n",
       "Tottenham Hotspur              190\n",
       "Bolton Wanderers               186\n",
       "Nottingham Forest              185\n",
       "Blackburn Rovers               183\n",
       "Everton                        183\n",
       "Sheffield Wednesday            181\n",
       "Sheffield United               179\n",
       "Arsenal                        177\n",
       "Middlesbrough                  175\n",
       "West Bromwich Albion           173\n",
       "Reading                        173\n",
       "Chelsea                        172\n",
       "Manchester United              171\n",
       "Gainsborough Trinity           171\n",
       "Wolverhampton Wanderers        167\n",
       "Weymouth                       167\n",
       "Manchester City                167\n",
       "Sunderland AFC                 167\n",
       "Bath City                      164\n",
       "Stoke City                     164\n",
       "Notts County                   163\n",
       "Wrexham                        163\n",
       "Burnley                        163\n",
       "Luton Town                     162\n",
       "Preston North End              161\n",
       "Watford                        161\n",
       "                              ... \n",
       "Cannon                           1\n",
       "Aquarius                         1\n",
       "Oreston Rovers                   1\n",
       "Brierley Hill & Withymoor        1\n",
       "Royal Arsenal                    1\n",
       "Wingate Constitutional Ath.      1\n",
       "Bedminster St Pauls              1\n",
       "Hugglescote Robin Hood           1\n",
       "Consett Swifts                   1\n",
       "Croydon Rovers                   1\n",
       "London Generals                  1\n",
       "Chinnor                          1\n",
       "Belfast YMCA                     1\n",
       "Freetown                         1\n",
       "Sandhurst (Liverpool)            1\n",
       "Witheridge AFC                   1\n",
       "Wimborne                         1\n",
       "Haverhill Borough                1\n",
       "Bromyard Town                    1\n",
       "Newton Common Recreation         1\n",
       "Goole Chevrons                   1\n",
       "Bolton Athletic                  1\n",
       "Old Castle Swifts                1\n",
       "Post Office Telecoms             1\n",
       "Newton Corinthians               1\n",
       "London United                    1\n",
       "Caernarvon Wanderers             1\n",
       "West End Rovers                  1\n",
       "Eastern Counties Utd.            1\n",
       "Immingham                        1\n",
       "Name: away_team, dtype: int64"
      ]
     },
     "execution_count": 12,
     "metadata": {},
     "output_type": "execute_result"
    }
   ],
   "source": [
    "df['away_team'].value_counts()"
   ]
  },
  {
   "cell_type": "code",
   "execution_count": 13,
   "metadata": {
    "collapsed": true
   },
   "outputs": [
    {
     "name": "stdout",
     "output_type": "stream",
     "text": [
      "<class 'pandas.core.frame.DataFrame'>\n",
      "Int64Index: 64876 entries, 0 to 64875\n",
      "Data columns (total 8 columns):\n",
      "home_team     64876 non-null object\n",
      "away_team     64876 non-null object\n",
      "home_score    64876 non-null int64\n",
      "away_score    64876 non-null int64\n",
      "match_id      64876 non-null int64\n",
      "round_id      64876 non-null int64\n",
      "replay        64876 non-null bool\n",
      "date          64876 non-null object\n",
      "dtypes: bool(1), int64(4), object(3)\n",
      "memory usage: 4.0+ MB\n"
     ]
    }
   ],
   "source": [
    "df.info()"
   ]
  },
  {
   "cell_type": "code",
   "execution_count": 14,
   "metadata": {
    "collapsed": true
   },
   "outputs": [
    {
     "data": {
      "text/plain": [
       "False    53333\n",
       "True     11543\n",
       "Name: replay, dtype: int64"
      ]
     },
     "execution_count": 14,
     "metadata": {},
     "output_type": "execute_result"
    }
   ],
   "source": [
    "df['replay'].value_counts()"
   ]
  },
  {
   "cell_type": "code",
   "execution_count": 15,
   "metadata": {
    "collapsed": false
   },
   "outputs": [],
   "source": [
    "from pandas.tools.plotting import scatter_matrix"
   ]
  },
  {
   "cell_type": "code",
   "execution_count": 16,
   "metadata": {
    "collapsed": true
   },
   "outputs": [
    {
     "data": {
      "text/plain": [
       "array([[<matplotlib.axes._subplots.AxesSubplot object at 0x000000000DC6E400>,\n",
       "        <matplotlib.axes._subplots.AxesSubplot object at 0x000000000D831940>,\n",
       "        <matplotlib.axes._subplots.AxesSubplot object at 0x000000000DA01198>,\n",
       "        <matplotlib.axes._subplots.AxesSubplot object at 0x000000000DA6D2B0>,\n",
       "        <matplotlib.axes._subplots.AxesSubplot object at 0x000000000DAB4400>],\n",
       "       [<matplotlib.axes._subplots.AxesSubplot object at 0x000000000DDD0FD0>,\n",
       "        <matplotlib.axes._subplots.AxesSubplot object at 0x000000000DEDFB38>,\n",
       "        <matplotlib.axes._subplots.AxesSubplot object at 0x000000000DFAB518>,\n",
       "        <matplotlib.axes._subplots.AxesSubplot object at 0x000000000E099550>,\n",
       "        <matplotlib.axes._subplots.AxesSubplot object at 0x000000000E190EF0>],\n",
       "       [<matplotlib.axes._subplots.AxesSubplot object at 0x000000000E1F6F60>,\n",
       "        <matplotlib.axes._subplots.AxesSubplot object at 0x000000000E2FC940>,\n",
       "        <matplotlib.axes._subplots.AxesSubplot object at 0x000000000E3A55C0>,\n",
       "        <matplotlib.axes._subplots.AxesSubplot object at 0x000000000E4B71D0>,\n",
       "        <matplotlib.axes._subplots.AxesSubplot object at 0x000000000E5AFB70>],\n",
       "       [<matplotlib.axes._subplots.AxesSubplot object at 0x000000000E65F5C0>,\n",
       "        <matplotlib.axes._subplots.AxesSubplot object at 0x000000000E757F60>,\n",
       "        <matplotlib.axes._subplots.AxesSubplot object at 0x000000000E8070F0>,\n",
       "        <matplotlib.axes._subplots.AxesSubplot object at 0x000000000E96AB70>,\n",
       "        <matplotlib.axes._subplots.AxesSubplot object at 0x000000000E9AC278>],\n",
       "       [<matplotlib.axes._subplots.AxesSubplot object at 0x000000000EAE13C8>,\n",
       "        <matplotlib.axes._subplots.AxesSubplot object at 0x000000000EBDAD68>,\n",
       "        <matplotlib.axes._subplots.AxesSubplot object at 0x000000000ECCB080>,\n",
       "        <matplotlib.axes._subplots.AxesSubplot object at 0x000000000ED49A20>,\n",
       "        <matplotlib.axes._subplots.AxesSubplot object at 0x000000000EE346A0>]], dtype=object)"
      ]
     },
     "execution_count": 16,
     "metadata": {},
     "output_type": "execute_result"
    },
    {
     "data": {
      "image/png": "[encoded data removed]",
      "text/plain": [
       "<matplotlib.figure.Figure at 0xd75fc50>"
      ]
     },
     "metadata": {},
     "output_type": "display_data"
    }
   ],
   "source": [
    "scatter_matrix(df, figsize=(12,12))"
   ]
  },
  {
   "cell_type": "code",
   "execution_count": 19,
   "metadata": {
    "collapsed": true
   },
   "outputs": [
    {
     "data": {
      "text/html": [
       "<div>\n",
       "<table border=\"1\" class=\"dataframe\">\n",
       "  <thead>\n",
       "    <tr style=\"text-align: right;\">\n",
       "      <th></th>\n",
       "      <th>round_id</th>\n",
       "      <th>round</th>\n",
       "      <th>year_id</th>\n",
       "      <th>year</th>\n",
       "      <th>stage</th>\n",
       "    </tr>\n",
       "  </thead>\n",
       "  <tbody>\n",
       "    <tr>\n",
       "      <th>0</th>\n",
       "      <td>10682</td>\n",
       "      <td>Semi-Final</td>\n",
       "      <td>71234</td>\n",
       "      <td>1872</td>\n",
       "      <td>4</td>\n",
       "    </tr>\n",
       "    <tr>\n",
       "      <th>1</th>\n",
       "      <td>10681</td>\n",
       "      <td>Second Round Proper</td>\n",
       "      <td>71234</td>\n",
       "      <td>1872</td>\n",
       "      <td>2</td>\n",
       "    </tr>\n",
       "    <tr>\n",
       "      <th>2</th>\n",
       "      <td>10683</td>\n",
       "      <td>Third Round Proper</td>\n",
       "      <td>71234</td>\n",
       "      <td>1872</td>\n",
       "      <td>3</td>\n",
       "    </tr>\n",
       "    <tr>\n",
       "      <th>3</th>\n",
       "      <td>10680</td>\n",
       "      <td>First Round Proper</td>\n",
       "      <td>71234</td>\n",
       "      <td>1872</td>\n",
       "      <td>1</td>\n",
       "    </tr>\n",
       "    <tr>\n",
       "      <th>4</th>\n",
       "      <td>10689</td>\n",
       "      <td>Third Round Proper</td>\n",
       "      <td>71235</td>\n",
       "      <td>1873</td>\n",
       "      <td>3</td>\n",
       "    </tr>\n",
       "  </tbody>\n",
       "</table>\n",
       "</div>"
      ],
      "text/plain": [
       "   round_id                round  year_id  year  stage\n",
       "0     10682           Semi-Final    71234  1872      4\n",
       "1     10681  Second Round Proper    71234  1872      2\n",
       "2     10683   Third Round Proper    71234  1872      3\n",
       "3     10680   First Round Proper    71234  1872      1\n",
       "4     10689   Third Round Proper    71235  1873      3"
      ]
     },
     "execution_count": 19,
     "metadata": {},
     "output_type": "execute_result"
    }
   ],
   "source": [
    "matches = df\n",
    "years = pd.read_csv('years_edit.csv')\n",
    "years.head()"
   ]
  },
  {
   "cell_type": "code",
   "execution_count": 25,
   "metadata": {
    "collapsed": true
   },
   "outputs": [
    {
     "name": "stdout",
     "output_type": "stream",
     "text": [
      "<class 'pandas.core.frame.DataFrame'>\n",
      "Int64Index: 64876 entries, 0 to 64875\n",
      "Data columns (total 12 columns):\n",
      "home_team     64876 non-null object\n",
      "away_team     64876 non-null object\n",
      "home_score    64876 non-null int64\n",
      "away_score    64876 non-null int64\n",
      "match_id      64876 non-null int64\n",
      "round_id      64876 non-null int64\n",
      "replay        64876 non-null bool\n",
      "date          64876 non-null object\n",
      "round         64876 non-null object\n",
      "year_id       64876 non-null int64\n",
      "year          64876 non-null int64\n",
      "stage         64876 non-null float64\n",
      "dtypes: bool(1), float64(1), int64(6), object(4)\n",
      "memory usage: 6.0+ MB\n"
     ]
    }
   ],
   "source": [
    "merged = pd.merge(matches, years, how='inner', on='round_id')\n",
    "merged.info()"
   ]
  },
  {
   "cell_type": "code",
   "execution_count": 26,
   "metadata": {
    "collapsed": true
   },
   "outputs": [
    {
     "data": {
      "text/html": [
       "<div>\n",
       "<table border=\"1\" class=\"dataframe\">\n",
       "  <thead>\n",
       "    <tr style=\"text-align: right;\">\n",
       "      <th></th>\n",
       "      <th>home_team</th>\n",
       "      <th>away_team</th>\n",
       "      <th>home_score</th>\n",
       "      <th>away_score</th>\n",
       "      <th>match_id</th>\n",
       "      <th>round_id</th>\n",
       "      <th>replay</th>\n",
       "      <th>date</th>\n",
       "      <th>round</th>\n",
       "      <th>year_id</th>\n",
       "      <th>year</th>\n",
       "      <th>stage</th>\n",
       "    </tr>\n",
       "  </thead>\n",
       "  <tbody>\n",
       "    <tr>\n",
       "      <th>64871</th>\n",
       "      <td>Handsworth Parramore</td>\n",
       "      <td>AFC Blackpool</td>\n",
       "      <td>2</td>\n",
       "      <td>0</td>\n",
       "      <td>352053</td>\n",
       "      <td>12819</td>\n",
       "      <td>False</td>\n",
       "      <td>16.08.13</td>\n",
       "      <td>First Round Qualifying</td>\n",
       "      <td>75823</td>\n",
       "      <td>2015</td>\n",
       "      <td>3</td>\n",
       "    </tr>\n",
       "    <tr>\n",
       "      <th>64872</th>\n",
       "      <td>Hoddesdon Town</td>\n",
       "      <td>St Margaretsbury</td>\n",
       "      <td>1</td>\n",
       "      <td>1</td>\n",
       "      <td>352126</td>\n",
       "      <td>12819</td>\n",
       "      <td>False</td>\n",
       "      <td>16.08.13</td>\n",
       "      <td>First Round Qualifying</td>\n",
       "      <td>75823</td>\n",
       "      <td>2015</td>\n",
       "      <td>3</td>\n",
       "    </tr>\n",
       "    <tr>\n",
       "      <th>64873</th>\n",
       "      <td>Thetford Town</td>\n",
       "      <td>Diss Town</td>\n",
       "      <td>1</td>\n",
       "      <td>0</td>\n",
       "      <td>352100</td>\n",
       "      <td>12819</td>\n",
       "      <td>False</td>\n",
       "      <td>16.08.13</td>\n",
       "      <td>First Round Qualifying</td>\n",
       "      <td>75823</td>\n",
       "      <td>2015</td>\n",
       "      <td>3</td>\n",
       "    </tr>\n",
       "    <tr>\n",
       "      <th>64874</th>\n",
       "      <td>Yaxley</td>\n",
       "      <td>Peterborough Northern Star</td>\n",
       "      <td>0</td>\n",
       "      <td>3</td>\n",
       "      <td>352102</td>\n",
       "      <td>12819</td>\n",
       "      <td>False</td>\n",
       "      <td>16.08.13</td>\n",
       "      <td>First Round Qualifying</td>\n",
       "      <td>75823</td>\n",
       "      <td>2015</td>\n",
       "      <td>3</td>\n",
       "    </tr>\n",
       "    <tr>\n",
       "      <th>64875</th>\n",
       "      <td>Bishop Auckland</td>\n",
       "      <td>Tadcaster Albion</td>\n",
       "      <td>0</td>\n",
       "      <td>0</td>\n",
       "      <td>352044</td>\n",
       "      <td>12819</td>\n",
       "      <td>False</td>\n",
       "      <td>16.08.13</td>\n",
       "      <td>First Round Qualifying</td>\n",
       "      <td>75823</td>\n",
       "      <td>2015</td>\n",
       "      <td>3</td>\n",
       "    </tr>\n",
       "  </tbody>\n",
       "</table>\n",
       "</div>"
      ],
      "text/plain": [
       "                  home_team                   away_team  home_score  \\\n",
       "64871  Handsworth Parramore               AFC Blackpool           2   \n",
       "64872        Hoddesdon Town            St Margaretsbury           1   \n",
       "64873         Thetford Town                   Diss Town           1   \n",
       "64874                Yaxley  Peterborough Northern Star           0   \n",
       "64875       Bishop Auckland            Tadcaster Albion           0   \n",
       "\n",
       "       away_score  match_id  round_id replay      date  \\\n",
       "64871           0    352053     12819  False  16.08.13   \n",
       "64872           1    352126     12819  False  16.08.13   \n",
       "64873           0    352100     12819  False  16.08.13   \n",
       "64874           3    352102     12819  False  16.08.13   \n",
       "64875           0    352044     12819  False  16.08.13   \n",
       "\n",
       "                        round  year_id  year  stage  \n",
       "64871  First Round Qualifying    75823  2015      3  \n",
       "64872  First Round Qualifying    75823  2015      3  \n",
       "64873  First Round Qualifying    75823  2015      3  \n",
       "64874  First Round Qualifying    75823  2015      3  \n",
       "64875  First Round Qualifying    75823  2015      3  "
      ]
     },
     "execution_count": 26,
     "metadata": {},
     "output_type": "execute_result"
    }
   ],
   "source": [
    "merged.tail()"
   ]
  },
  {
   "cell_type": "code",
   "execution_count": 29,
   "metadata": {
    "collapsed": false
   },
   "outputs": [],
   "source": [
    "group_year = merged.groupby('year')['year']"
   ]
  },
  {
   "cell_type": "code",
   "execution_count": 32,
   "metadata": {
    "collapsed": false
   },
   "outputs": [
    {
     "data": {
      "text/plain": [
       "<matplotlib.axes._subplots.AxesSubplot at 0x120fb518>"
      ]
     },
     "execution_count": 32,
     "metadata": {},
     "output_type": "execute_result"
    },
    {
     "data": {
      "image/png": "[encoded data removed]",
      "text/plain": [
       "<matplotlib.figure.Figure at 0x12103748>"
      ]
     },
     "metadata": {},
     "output_type": "display_data"
    }
   ],
   "source": [
    "group_year.count().plot()"
   ]
  },
  {
   "cell_type": "code",
   "execution_count": 49,
   "metadata": {
    "collapsed": false
   },
   "outputs": [
    {
     "ename": "AttributeError",
     "evalue": "'NoneType' object has no attribute 'sort_values'",
     "output_type": "error",
     "traceback": [
      "\u001b[1;31m---------------------------------------------------------------------------\u001b[0m",
      "\u001b[1;31mAttributeError\u001b[0m                            Traceback (most recent call last)",
      "\u001b[1;32m<ipython-input-49-ce73ab0531d1>\u001b[0m in \u001b[0;36m<module>\u001b[1;34m()\u001b[0m\n\u001b[1;32m----> 1\u001b[1;33m \u001b[0mgroup_year_stage\u001b[0m \u001b[1;33m=\u001b[0m \u001b[0mmerged\u001b[0m\u001b[1;33m.\u001b[0m\u001b[0msort_values\u001b[0m\u001b[1;33m(\u001b[0m\u001b[1;34m'stage'\u001b[0m\u001b[1;33m)\u001b[0m\u001b[1;33m.\u001b[0m\u001b[0mgroupby\u001b[0m\u001b[1;33m(\u001b[0m\u001b[1;33m[\u001b[0m\u001b[1;34m'year'\u001b[0m\u001b[1;33m,\u001b[0m\u001b[1;34m'stage'\u001b[0m\u001b[1;33m]\u001b[0m\u001b[1;33m)\u001b[0m\u001b[1;33m[\u001b[0m\u001b[1;33m[\u001b[0m\u001b[1;34m'year'\u001b[0m\u001b[1;33m,\u001b[0m\u001b[1;34m'stage'\u001b[0m\u001b[1;33m]\u001b[0m\u001b[1;33m]\u001b[0m\u001b[1;33m\u001b[0m\u001b[0m\n\u001b[0m\u001b[0;32m      2\u001b[0m \u001b[0mmerged\u001b[0m\u001b[1;33m\u001b[0m\u001b[0m\n",
      "\u001b[1;31mAttributeError\u001b[0m: 'NoneType' object has no attribute 'sort_values'"
     ]
    }
   ],
   "source": [
    "group_year_stage = merged.groupby(['year','stage'])[['year','stage']].sort(['stage')"
   ]
  },
  {
   "cell_type": "code",
   "execution_count": 50,
   "metadata": {
    "collapsed": true
   },
   "outputs": [
    {
     "data": {
      "text/html": [
       "<div>\n",
       "<table border=\"1\" class=\"dataframe\">\n",
       "  <thead>\n",
       "    <tr style=\"text-align: right;\">\n",
       "      <th></th>\n",
       "      <th></th>\n",
       "      <th>year</th>\n",
       "      <th>stage</th>\n",
       "    </tr>\n",
       "    <tr>\n",
       "      <th>year</th>\n",
       "      <th>stage</th>\n",
       "      <th></th>\n",
       "      <th></th>\n",
       "    </tr>\n",
       "  </thead>\n",
       "  <tbody>\n",
       "    <tr>\n",
       "      <th rowspan=\"2\" valign=\"top\">1877</th>\n",
       "      <th>4</th>\n",
       "      <td>2</td>\n",
       "      <td>2</td>\n",
       "    </tr>\n",
       "    <tr>\n",
       "      <th>5</th>\n",
       "      <td>44</td>\n",
       "      <td>44</td>\n",
       "    </tr>\n",
       "    <tr>\n",
       "      <th rowspan=\"3\" valign=\"top\">1878</th>\n",
       "      <th>1</th>\n",
       "      <td>2</td>\n",
       "      <td>2</td>\n",
       "    </tr>\n",
       "    <tr>\n",
       "      <th>4</th>\n",
       "      <td>28</td>\n",
       "      <td>28</td>\n",
       "    </tr>\n",
       "    <tr>\n",
       "      <th>5</th>\n",
       "      <td>7</td>\n",
       "      <td>7</td>\n",
       "    </tr>\n",
       "    <tr>\n",
       "      <th rowspan=\"2\" valign=\"top\">1879</th>\n",
       "      <th>1</th>\n",
       "      <td>5</td>\n",
       "      <td>5</td>\n",
       "    </tr>\n",
       "    <tr>\n",
       "      <th>4</th>\n",
       "      <td>48</td>\n",
       "      <td>48</td>\n",
       "    </tr>\n",
       "    <tr>\n",
       "      <th rowspan=\"2\" valign=\"top\">1880</th>\n",
       "      <th>1</th>\n",
       "      <td>41</td>\n",
       "      <td>41</td>\n",
       "    </tr>\n",
       "    <tr>\n",
       "      <th>6</th>\n",
       "      <td>18</td>\n",
       "      <td>18</td>\n",
       "    </tr>\n",
       "    <tr>\n",
       "      <th rowspan=\"3\" valign=\"top\">1881</th>\n",
       "      <th>1</th>\n",
       "      <td>26</td>\n",
       "      <td>26</td>\n",
       "    </tr>\n",
       "    <tr>\n",
       "      <th>3</th>\n",
       "      <td>20</td>\n",
       "      <td>20</td>\n",
       "    </tr>\n",
       "    <tr>\n",
       "      <th>4</th>\n",
       "      <td>26</td>\n",
       "      <td>26</td>\n",
       "    </tr>\n",
       "    <tr>\n",
       "      <th rowspan=\"5\" valign=\"top\">1882</th>\n",
       "      <th>1</th>\n",
       "      <td>17</td>\n",
       "      <td>17</td>\n",
       "    </tr>\n",
       "    <tr>\n",
       "      <th>2</th>\n",
       "      <td>4</td>\n",
       "      <td>4</td>\n",
       "    </tr>\n",
       "    <tr>\n",
       "      <th>3</th>\n",
       "      <td>10</td>\n",
       "      <td>10</td>\n",
       "    </tr>\n",
       "    <tr>\n",
       "      <th>4</th>\n",
       "      <td>5</td>\n",
       "      <td>5</td>\n",
       "    </tr>\n",
       "    <tr>\n",
       "      <th>5</th>\n",
       "      <td>2</td>\n",
       "      <td>2</td>\n",
       "    </tr>\n",
       "    <tr>\n",
       "      <th rowspan=\"6\" valign=\"top\">1883</th>\n",
       "      <th>1</th>\n",
       "      <td>57</td>\n",
       "      <td>57</td>\n",
       "    </tr>\n",
       "    <tr>\n",
       "      <th>2</th>\n",
       "      <td>21</td>\n",
       "      <td>21</td>\n",
       "    </tr>\n",
       "    <tr>\n",
       "      <th>3</th>\n",
       "      <td>2</td>\n",
       "      <td>2</td>\n",
       "    </tr>\n",
       "    <tr>\n",
       "      <th>4</th>\n",
       "      <td>4</td>\n",
       "      <td>4</td>\n",
       "    </tr>\n",
       "    <tr>\n",
       "      <th>5</th>\n",
       "      <td>12</td>\n",
       "      <td>12</td>\n",
       "    </tr>\n",
       "    <tr>\n",
       "      <th>6</th>\n",
       "      <td>12</td>\n",
       "      <td>12</td>\n",
       "    </tr>\n",
       "    <tr>\n",
       "      <th rowspan=\"4\" valign=\"top\">1884</th>\n",
       "      <th>1</th>\n",
       "      <td>10</td>\n",
       "      <td>10</td>\n",
       "    </tr>\n",
       "    <tr>\n",
       "      <th>2</th>\n",
       "      <td>22</td>\n",
       "      <td>22</td>\n",
       "    </tr>\n",
       "    <tr>\n",
       "      <th>4</th>\n",
       "      <td>12</td>\n",
       "      <td>12</td>\n",
       "    </tr>\n",
       "    <tr>\n",
       "      <th>5</th>\n",
       "      <td>2</td>\n",
       "      <td>2</td>\n",
       "    </tr>\n",
       "    <tr>\n",
       "      <th rowspan=\"3\" valign=\"top\">1885</th>\n",
       "      <th>1</th>\n",
       "      <td>26</td>\n",
       "      <td>26</td>\n",
       "    </tr>\n",
       "    <tr>\n",
       "      <th>2</th>\n",
       "      <td>50</td>\n",
       "      <td>50</td>\n",
       "    </tr>\n",
       "    <tr>\n",
       "      <th>3</th>\n",
       "      <td>19</td>\n",
       "      <td>19</td>\n",
       "    </tr>\n",
       "    <tr>\n",
       "      <th>...</th>\n",
       "      <th>...</th>\n",
       "      <td>...</td>\n",
       "      <td>...</td>\n",
       "    </tr>\n",
       "    <tr>\n",
       "      <th>2012</th>\n",
       "      <th>12</th>\n",
       "      <td>64</td>\n",
       "      <td>64</td>\n",
       "    </tr>\n",
       "    <tr>\n",
       "      <th rowspan=\"12\" valign=\"top\">2013</th>\n",
       "      <th>1</th>\n",
       "      <td>7</td>\n",
       "      <td>7</td>\n",
       "    </tr>\n",
       "    <tr>\n",
       "      <th>2</th>\n",
       "      <td>25</td>\n",
       "      <td>25</td>\n",
       "    </tr>\n",
       "    <tr>\n",
       "      <th>3</th>\n",
       "      <td>136</td>\n",
       "      <td>136</td>\n",
       "    </tr>\n",
       "    <tr>\n",
       "      <th>4</th>\n",
       "      <td>38</td>\n",
       "      <td>38</td>\n",
       "    </tr>\n",
       "    <tr>\n",
       "      <th>5</th>\n",
       "      <td>10</td>\n",
       "      <td>10</td>\n",
       "    </tr>\n",
       "    <tr>\n",
       "      <th>6</th>\n",
       "      <td>246</td>\n",
       "      <td>246</td>\n",
       "    </tr>\n",
       "    <tr>\n",
       "      <th>7</th>\n",
       "      <td>99</td>\n",
       "      <td>99</td>\n",
       "    </tr>\n",
       "    <tr>\n",
       "      <th>8</th>\n",
       "      <td>45</td>\n",
       "      <td>45</td>\n",
       "    </tr>\n",
       "    <tr>\n",
       "      <th>9</th>\n",
       "      <td>6</td>\n",
       "      <td>6</td>\n",
       "    </tr>\n",
       "    <tr>\n",
       "      <th>10</th>\n",
       "      <td>11</td>\n",
       "      <td>11</td>\n",
       "    </tr>\n",
       "    <tr>\n",
       "      <th>12</th>\n",
       "      <td>44</td>\n",
       "      <td>44</td>\n",
       "    </tr>\n",
       "    <tr>\n",
       "      <th>13</th>\n",
       "      <td>2</td>\n",
       "      <td>2</td>\n",
       "    </tr>\n",
       "    <tr>\n",
       "      <th rowspan=\"8\" valign=\"top\">2014</th>\n",
       "      <th>1</th>\n",
       "      <td>4</td>\n",
       "      <td>4</td>\n",
       "    </tr>\n",
       "    <tr>\n",
       "      <th>5</th>\n",
       "      <td>18</td>\n",
       "      <td>18</td>\n",
       "    </tr>\n",
       "    <tr>\n",
       "      <th>7</th>\n",
       "      <td>74</td>\n",
       "      <td>74</td>\n",
       "    </tr>\n",
       "    <tr>\n",
       "      <th>8</th>\n",
       "      <td>54</td>\n",
       "      <td>54</td>\n",
       "    </tr>\n",
       "    <tr>\n",
       "      <th>9</th>\n",
       "      <td>95</td>\n",
       "      <td>95</td>\n",
       "    </tr>\n",
       "    <tr>\n",
       "      <th>10</th>\n",
       "      <td>111</td>\n",
       "      <td>111</td>\n",
       "    </tr>\n",
       "    <tr>\n",
       "      <th>12</th>\n",
       "      <td>240</td>\n",
       "      <td>240</td>\n",
       "    </tr>\n",
       "    <tr>\n",
       "      <th>13</th>\n",
       "      <td>9</td>\n",
       "      <td>9</td>\n",
       "    </tr>\n",
       "    <tr>\n",
       "      <th rowspan=\"9\" valign=\"top\">2015</th>\n",
       "      <th>1</th>\n",
       "      <td>134</td>\n",
       "      <td>134</td>\n",
       "    </tr>\n",
       "    <tr>\n",
       "      <th>2</th>\n",
       "      <td>2</td>\n",
       "      <td>2</td>\n",
       "    </tr>\n",
       "    <tr>\n",
       "      <th>3</th>\n",
       "      <td>897</td>\n",
       "      <td>897</td>\n",
       "    </tr>\n",
       "    <tr>\n",
       "      <th>5</th>\n",
       "      <td>115</td>\n",
       "      <td>115</td>\n",
       "    </tr>\n",
       "    <tr>\n",
       "      <th>6</th>\n",
       "      <td>27</td>\n",
       "      <td>27</td>\n",
       "    </tr>\n",
       "    <tr>\n",
       "      <th>8</th>\n",
       "      <td>43</td>\n",
       "      <td>43</td>\n",
       "    </tr>\n",
       "    <tr>\n",
       "      <th>11</th>\n",
       "      <td>39</td>\n",
       "      <td>39</td>\n",
       "    </tr>\n",
       "    <tr>\n",
       "      <th>12</th>\n",
       "      <td>2</td>\n",
       "      <td>2</td>\n",
       "    </tr>\n",
       "    <tr>\n",
       "      <th>13</th>\n",
       "      <td>4</td>\n",
       "      <td>4</td>\n",
       "    </tr>\n",
       "  </tbody>\n",
       "</table>\n",
       "<p>1227 rows × 2 columns</p>\n",
       "</div>"
      ],
      "text/plain": [
       "            year  stage\n",
       "year stage             \n",
       "1877 4         2      2\n",
       "     5        44     44\n",
       "1878 1         2      2\n",
       "     4        28     28\n",
       "     5         7      7\n",
       "1879 1         5      5\n",
       "     4        48     48\n",
       "1880 1        41     41\n",
       "     6        18     18\n",
       "1881 1        26     26\n",
       "     3        20     20\n",
       "     4        26     26\n",
       "1882 1        17     17\n",
       "     2         4      4\n",
       "     3        10     10\n",
       "     4         5      5\n",
       "     5         2      2\n",
       "1883 1        57     57\n",
       "     2        21     21\n",
       "     3         2      2\n",
       "     4         4      4\n",
       "     5        12     12\n",
       "     6        12     12\n",
       "1884 1        10     10\n",
       "     2        22     22\n",
       "     4        12     12\n",
       "     5         2      2\n",
       "1885 1        26     26\n",
       "     2        50     50\n",
       "     3        19     19\n",
       "...          ...    ...\n",
       "2012 12       64     64\n",
       "2013 1         7      7\n",
       "     2        25     25\n",
       "     3       136    136\n",
       "     4        38     38\n",
       "     5        10     10\n",
       "     6       246    246\n",
       "     7        99     99\n",
       "     8        45     45\n",
       "     9         6      6\n",
       "     10       11     11\n",
       "     12       44     44\n",
       "     13        2      2\n",
       "2014 1         4      4\n",
       "     5        18     18\n",
       "     7        74     74\n",
       "     8        54     54\n",
       "     9        95     95\n",
       "     10      111    111\n",
       "     12      240    240\n",
       "     13        9      9\n",
       "2015 1       134    134\n",
       "     2         2      2\n",
       "     3       897    897\n",
       "     5       115    115\n",
       "     6        27     27\n",
       "     8        43     43\n",
       "     11       39     39\n",
       "     12        2      2\n",
       "     13        4      4\n",
       "\n",
       "[1227 rows x 2 columns]"
      ]
     },
     "execution_count": 50,
     "metadata": {},
     "output_type": "execute_result"
    }
   ],
   "source": [
    "group_year_stage.count()"
   ]
  },
  {
   "cell_type": "code",
   "execution_count": 51,
   "metadata": {
    "collapsed": true
   },
   "outputs": [
    {
     "name": "stdout",
     "output_type": "stream",
     "text": [
      "<class 'pandas.core.frame.DataFrame'>\n",
      "Int64Index: 64876 entries, 0 to 64875\n",
      "Data columns (total 12 columns):\n",
      "home_team     64876 non-null object\n",
      "away_team     64876 non-null object\n",
      "home_score    64876 non-null int64\n",
      "away_score    64876 non-null int64\n",
      "match_id      64876 non-null int64\n",
      "round_id      64876 non-null int64\n",
      "replay        64876 non-null bool\n",
      "date          64876 non-null object\n",
      "round         64876 non-null object\n",
      "year_id       64876 non-null int64\n",
      "year          64876 non-null int64\n",
      "stage         64876 non-null float64\n",
      "dtypes: bool(1), float64(1), int64(6), object(4)\n",
      "memory usage: 6.0+ MB\n"
     ]
    }
   ],
   "source": [
    "merged = pd.merge(matches, years, how='inner', on='round_id')\n",
    "merged.info()"
   ]
  },
  {
   "cell_type": "code",
   "execution_count": 52,
   "metadata": {
    "collapsed": false
   },
   "outputs": [],
   "source": [
    "merged.set_index('stage', inplace=True)"
   ]
  },
  {
   "cell_type": "code",
   "execution_count": 60,
   "metadata": {
    "collapsed": true
   },
   "outputs": [
    {
     "data": {
      "text/html": [
       "<div>\n",
       "<table border=\"1\" class=\"dataframe\">\n",
       "  <thead>\n",
       "    <tr style=\"text-align: right;\">\n",
       "      <th></th>\n",
       "      <th>home_team</th>\n",
       "      <th>away_team</th>\n",
       "      <th>home_score</th>\n",
       "      <th>away_score</th>\n",
       "      <th>match_id</th>\n",
       "      <th>round_id</th>\n",
       "      <th>replay</th>\n",
       "      <th>date</th>\n",
       "      <th>round</th>\n",
       "      <th>year_id</th>\n",
       "      <th>year</th>\n",
       "    </tr>\n",
       "    <tr>\n",
       "      <th>stage</th>\n",
       "      <th></th>\n",
       "      <th></th>\n",
       "      <th></th>\n",
       "      <th></th>\n",
       "      <th></th>\n",
       "      <th></th>\n",
       "      <th></th>\n",
       "      <th></th>\n",
       "      <th></th>\n",
       "      <th></th>\n",
       "      <th></th>\n",
       "    </tr>\n",
       "  </thead>\n",
       "  <tbody>\n",
       "    <tr>\n",
       "      <th>3</th>\n",
       "      <td>Handsworth Parramore</td>\n",
       "      <td>AFC Blackpool</td>\n",
       "      <td>2</td>\n",
       "      <td>0</td>\n",
       "      <td>352053</td>\n",
       "      <td>12819</td>\n",
       "      <td>False</td>\n",
       "      <td>16.08.13</td>\n",
       "      <td>First Round Qualifying</td>\n",
       "      <td>75823</td>\n",
       "      <td>2015</td>\n",
       "    </tr>\n",
       "    <tr>\n",
       "      <th>3</th>\n",
       "      <td>Hoddesdon Town</td>\n",
       "      <td>St Margaretsbury</td>\n",
       "      <td>1</td>\n",
       "      <td>1</td>\n",
       "      <td>352126</td>\n",
       "      <td>12819</td>\n",
       "      <td>False</td>\n",
       "      <td>16.08.13</td>\n",
       "      <td>First Round Qualifying</td>\n",
       "      <td>75823</td>\n",
       "      <td>2015</td>\n",
       "    </tr>\n",
       "    <tr>\n",
       "      <th>3</th>\n",
       "      <td>Thetford Town</td>\n",
       "      <td>Diss Town</td>\n",
       "      <td>1</td>\n",
       "      <td>0</td>\n",
       "      <td>352100</td>\n",
       "      <td>12819</td>\n",
       "      <td>False</td>\n",
       "      <td>16.08.13</td>\n",
       "      <td>First Round Qualifying</td>\n",
       "      <td>75823</td>\n",
       "      <td>2015</td>\n",
       "    </tr>\n",
       "    <tr>\n",
       "      <th>3</th>\n",
       "      <td>Yaxley</td>\n",
       "      <td>Peterborough Northern Star</td>\n",
       "      <td>0</td>\n",
       "      <td>3</td>\n",
       "      <td>352102</td>\n",
       "      <td>12819</td>\n",
       "      <td>False</td>\n",
       "      <td>16.08.13</td>\n",
       "      <td>First Round Qualifying</td>\n",
       "      <td>75823</td>\n",
       "      <td>2015</td>\n",
       "    </tr>\n",
       "    <tr>\n",
       "      <th>3</th>\n",
       "      <td>Bishop Auckland</td>\n",
       "      <td>Tadcaster Albion</td>\n",
       "      <td>0</td>\n",
       "      <td>0</td>\n",
       "      <td>352044</td>\n",
       "      <td>12819</td>\n",
       "      <td>False</td>\n",
       "      <td>16.08.13</td>\n",
       "      <td>First Round Qualifying</td>\n",
       "      <td>75823</td>\n",
       "      <td>2015</td>\n",
       "    </tr>\n",
       "  </tbody>\n",
       "</table>\n",
       "</div>"
      ],
      "text/plain": [
       "                  home_team                   away_team  home_score  \\\n",
       "stage                                                                 \n",
       "3      Handsworth Parramore               AFC Blackpool           2   \n",
       "3            Hoddesdon Town            St Margaretsbury           1   \n",
       "3             Thetford Town                   Diss Town           1   \n",
       "3                    Yaxley  Peterborough Northern Star           0   \n",
       "3           Bishop Auckland            Tadcaster Albion           0   \n",
       "\n",
       "       away_score  match_id  round_id replay      date  \\\n",
       "stage                                                    \n",
       "3               0    352053     12819  False  16.08.13   \n",
       "3               1    352126     12819  False  16.08.13   \n",
       "3               0    352100     12819  False  16.08.13   \n",
       "3               3    352102     12819  False  16.08.13   \n",
       "3               0    352044     12819  False  16.08.13   \n",
       "\n",
       "                        round  year_id  year  \n",
       "stage                                         \n",
       "3      First Round Qualifying    75823  2015  \n",
       "3      First Round Qualifying    75823  2015  \n",
       "3      First Round Qualifying    75823  2015  \n",
       "3      First Round Qualifying    75823  2015  \n",
       "3      First Round Qualifying    75823  2015  "
      ]
     },
     "execution_count": 60,
     "metadata": {},
     "output_type": "execute_result"
    }
   ],
   "source": [
    "merged.tail()"
   ]
  },
  {
   "cell_type": "code",
   "execution_count": 63,
   "metadata": {
    "collapsed": false
   },
   "outputs": [],
   "source": [
    "merged.reset_index(inplace=True)"
   ]
  },
  {
   "cell_type": "code",
   "execution_count": 64,
   "metadata": {
    "collapsed": true
   },
   "outputs": [
    {
     "data": {
      "text/html": [
       "<div>\n",
       "<table border=\"1\" class=\"dataframe\">\n",
       "  <thead>\n",
       "    <tr style=\"text-align: right;\">\n",
       "      <th></th>\n",
       "      <th>stage</th>\n",
       "      <th>home_team</th>\n",
       "      <th>away_team</th>\n",
       "      <th>home_score</th>\n",
       "      <th>away_score</th>\n",
       "      <th>match_id</th>\n",
       "      <th>round_id</th>\n",
       "      <th>replay</th>\n",
       "      <th>date</th>\n",
       "      <th>round</th>\n",
       "      <th>year_id</th>\n",
       "      <th>year</th>\n",
       "    </tr>\n",
       "  </thead>\n",
       "  <tbody>\n",
       "    <tr>\n",
       "      <th>64871</th>\n",
       "      <td>3</td>\n",
       "      <td>Handsworth Parramore</td>\n",
       "      <td>AFC Blackpool</td>\n",
       "      <td>2</td>\n",
       "      <td>0</td>\n",
       "      <td>352053</td>\n",
       "      <td>12819</td>\n",
       "      <td>False</td>\n",
       "      <td>16.08.13</td>\n",
       "      <td>First Round Qualifying</td>\n",
       "      <td>75823</td>\n",
       "      <td>2015</td>\n",
       "    </tr>\n",
       "    <tr>\n",
       "      <th>64872</th>\n",
       "      <td>3</td>\n",
       "      <td>Hoddesdon Town</td>\n",
       "      <td>St Margaretsbury</td>\n",
       "      <td>1</td>\n",
       "      <td>1</td>\n",
       "      <td>352126</td>\n",
       "      <td>12819</td>\n",
       "      <td>False</td>\n",
       "      <td>16.08.13</td>\n",
       "      <td>First Round Qualifying</td>\n",
       "      <td>75823</td>\n",
       "      <td>2015</td>\n",
       "    </tr>\n",
       "    <tr>\n",
       "      <th>64873</th>\n",
       "      <td>3</td>\n",
       "      <td>Thetford Town</td>\n",
       "      <td>Diss Town</td>\n",
       "      <td>1</td>\n",
       "      <td>0</td>\n",
       "      <td>352100</td>\n",
       "      <td>12819</td>\n",
       "      <td>False</td>\n",
       "      <td>16.08.13</td>\n",
       "      <td>First Round Qualifying</td>\n",
       "      <td>75823</td>\n",
       "      <td>2015</td>\n",
       "    </tr>\n",
       "    <tr>\n",
       "      <th>64874</th>\n",
       "      <td>3</td>\n",
       "      <td>Yaxley</td>\n",
       "      <td>Peterborough Northern Star</td>\n",
       "      <td>0</td>\n",
       "      <td>3</td>\n",
       "      <td>352102</td>\n",
       "      <td>12819</td>\n",
       "      <td>False</td>\n",
       "      <td>16.08.13</td>\n",
       "      <td>First Round Qualifying</td>\n",
       "      <td>75823</td>\n",
       "      <td>2015</td>\n",
       "    </tr>\n",
       "    <tr>\n",
       "      <th>64875</th>\n",
       "      <td>3</td>\n",
       "      <td>Bishop Auckland</td>\n",
       "      <td>Tadcaster Albion</td>\n",
       "      <td>0</td>\n",
       "      <td>0</td>\n",
       "      <td>352044</td>\n",
       "      <td>12819</td>\n",
       "      <td>False</td>\n",
       "      <td>16.08.13</td>\n",
       "      <td>First Round Qualifying</td>\n",
       "      <td>75823</td>\n",
       "      <td>2015</td>\n",
       "    </tr>\n",
       "  </tbody>\n",
       "</table>\n",
       "</div>"
      ],
      "text/plain": [
       "       stage             home_team                   away_team  home_score  \\\n",
       "64871      3  Handsworth Parramore               AFC Blackpool           2   \n",
       "64872      3        Hoddesdon Town            St Margaretsbury           1   \n",
       "64873      3         Thetford Town                   Diss Town           1   \n",
       "64874      3                Yaxley  Peterborough Northern Star           0   \n",
       "64875      3       Bishop Auckland            Tadcaster Albion           0   \n",
       "\n",
       "       away_score  match_id  round_id replay      date  \\\n",
       "64871           0    352053     12819  False  16.08.13   \n",
       "64872           1    352126     12819  False  16.08.13   \n",
       "64873           0    352100     12819  False  16.08.13   \n",
       "64874           3    352102     12819  False  16.08.13   \n",
       "64875           0    352044     12819  False  16.08.13   \n",
       "\n",
       "                        round  year_id  year  \n",
       "64871  First Round Qualifying    75823  2015  \n",
       "64872  First Round Qualifying    75823  2015  \n",
       "64873  First Round Qualifying    75823  2015  \n",
       "64874  First Round Qualifying    75823  2015  \n",
       "64875  First Round Qualifying    75823  2015  "
      ]
     },
     "execution_count": 64,
     "metadata": {},
     "output_type": "execute_result"
    }
   ],
   "source": [
    "merged.tail()"
   ]
  },
  {
   "cell_type": "code",
   "execution_count": 67,
   "metadata": {
    "collapsed": true
   },
   "outputs": [],
   "source": [
    "year_2015 = merged[(merged.year == 2015) & (merged.stage == 3)]"
   ]
  },
  {
   "cell_type": "code",
   "execution_count": 69,
   "metadata": {
    "collapsed": false
   },
   "outputs": [],
   "source": [
    "%matplotlib qt"
   ]
  },
  {
   "cell_type": "code",
   "execution_count": 74,
   "metadata": {
    "collapsed": false
   },
   "outputs": [
    {
     "data": {
      "text/plain": [
       "Warrington Town    5\n",
       "Leek Town          5\n",
       "Evesham United     5\n",
       "Aston Villa        5\n",
       "Newport (IW)       4\n",
       "Tividale           4\n",
       "Norton United      4\n",
       "Spennymoor Town    4\n",
       "Shildon            4\n",
       "Runcorn Town       4\n",
       "Name: home_team, dtype: int64"
      ]
     },
     "execution_count": 74,
     "metadata": {},
     "output_type": "execute_result"
    }
   ],
   "source": [
    "year_2015['home_team'].value_counts()[:10]"
   ]
  },
  {
   "cell_type": "code",
   "execution_count": 75,
   "metadata": {
    "collapsed": false
   },
   "outputs": [
    {
     "data": {
      "text/html": [
       "<div>\n",
       "<table border=\"1\" class=\"dataframe\">\n",
       "  <thead>\n",
       "    <tr style=\"text-align: right;\">\n",
       "      <th></th>\n",
       "      <th>stage</th>\n",
       "      <th>home_team</th>\n",
       "      <th>away_team</th>\n",
       "      <th>home_score</th>\n",
       "      <th>away_score</th>\n",
       "      <th>match_id</th>\n",
       "      <th>round_id</th>\n",
       "      <th>replay</th>\n",
       "      <th>date</th>\n",
       "      <th>round</th>\n",
       "      <th>year_id</th>\n",
       "      <th>year</th>\n",
       "    </tr>\n",
       "  </thead>\n",
       "  <tbody>\n",
       "    <tr>\n",
       "      <th>64367</th>\n",
       "      <td>3</td>\n",
       "      <td>Aston Villa</td>\n",
       "      <td>Liverpool</td>\n",
       "      <td>2</td>\n",
       "      <td>1</td>\n",
       "      <td>434587</td>\n",
       "      <td>12819</td>\n",
       "      <td>False</td>\n",
       "      <td>19.04.15</td>\n",
       "      <td>First Round Qualifying</td>\n",
       "      <td>75823</td>\n",
       "      <td>2015</td>\n",
       "    </tr>\n",
       "    <tr>\n",
       "      <th>64541</th>\n",
       "      <td>3</td>\n",
       "      <td>Aston Villa</td>\n",
       "      <td>West Bromwich Albion</td>\n",
       "      <td>2</td>\n",
       "      <td>0</td>\n",
       "      <td>434537</td>\n",
       "      <td>12819</td>\n",
       "      <td>False</td>\n",
       "      <td>07.03.15</td>\n",
       "      <td>First Round Qualifying</td>\n",
       "      <td>75823</td>\n",
       "      <td>2015</td>\n",
       "    </tr>\n",
       "    <tr>\n",
       "      <th>64548</th>\n",
       "      <td>3</td>\n",
       "      <td>Aston Villa</td>\n",
       "      <td>AFC Bournemouth</td>\n",
       "      <td>2</td>\n",
       "      <td>1</td>\n",
       "      <td>434339</td>\n",
       "      <td>12819</td>\n",
       "      <td>False</td>\n",
       "      <td>25.01.15</td>\n",
       "      <td>First Round Qualifying</td>\n",
       "      <td>75823</td>\n",
       "      <td>2015</td>\n",
       "    </tr>\n",
       "    <tr>\n",
       "      <th>64620</th>\n",
       "      <td>3</td>\n",
       "      <td>Aston Villa</td>\n",
       "      <td>Blackpool</td>\n",
       "      <td>1</td>\n",
       "      <td>0</td>\n",
       "      <td>434223</td>\n",
       "      <td>12819</td>\n",
       "      <td>False</td>\n",
       "      <td>04.01.15</td>\n",
       "      <td>First Round Qualifying</td>\n",
       "      <td>75823</td>\n",
       "      <td>2015</td>\n",
       "    </tr>\n",
       "    <tr>\n",
       "      <th>64646</th>\n",
       "      <td>3</td>\n",
       "      <td>Aston Villa</td>\n",
       "      <td>Leicester City</td>\n",
       "      <td>2</td>\n",
       "      <td>1</td>\n",
       "      <td>434469</td>\n",
       "      <td>12819</td>\n",
       "      <td>False</td>\n",
       "      <td>15.02.15</td>\n",
       "      <td>First Round Qualifying</td>\n",
       "      <td>75823</td>\n",
       "      <td>2015</td>\n",
       "    </tr>\n",
       "  </tbody>\n",
       "</table>\n",
       "</div>"
      ],
      "text/plain": [
       "       stage    home_team             away_team  home_score  away_score  \\\n",
       "64367      3  Aston Villa             Liverpool           2           1   \n",
       "64541      3  Aston Villa  West Bromwich Albion           2           0   \n",
       "64548      3  Aston Villa       AFC Bournemouth           2           1   \n",
       "64620      3  Aston Villa             Blackpool           1           0   \n",
       "64646      3  Aston Villa        Leicester City           2           1   \n",
       "\n",
       "       match_id  round_id replay      date                   round  year_id  \\\n",
       "64367    434587     12819  False  19.04.15  First Round Qualifying    75823   \n",
       "64541    434537     12819  False  07.03.15  First Round Qualifying    75823   \n",
       "64548    434339     12819  False  25.01.15  First Round Qualifying    75823   \n",
       "64620    434223     12819  False  04.01.15  First Round Qualifying    75823   \n",
       "64646    434469     12819  False  15.02.15  First Round Qualifying    75823   \n",
       "\n",
       "       year  \n",
       "64367  2015  \n",
       "64541  2015  \n",
       "64548  2015  \n",
       "64620  2015  \n",
       "64646  2015  "
      ]
     },
     "execution_count": 75,
     "metadata": {},
     "output_type": "execute_result"
    }
   ],
   "source": [
    "year_2015[year_2015.home_team == 'Aston Villa']"
   ]
  },
  {
   "cell_type": "code",
   "execution_count": 78,
   "metadata": {
    "collapsed": false
   },
   "outputs": [
    {
     "data": {
      "text/html": [
       "<div>\n",
       "<table border=\"1\" class=\"dataframe\">\n",
       "  <thead>\n",
       "    <tr style=\"text-align: right;\">\n",
       "      <th></th>\n",
       "      <th>round_id</th>\n",
       "      <th>round</th>\n",
       "      <th>year_id</th>\n",
       "      <th>year</th>\n",
       "      <th>stage</th>\n",
       "    </tr>\n",
       "  </thead>\n",
       "  <tbody>\n",
       "    <tr>\n",
       "      <th>1506</th>\n",
       "      <td>12819</td>\n",
       "      <td>First Round Qualifying</td>\n",
       "      <td>75823</td>\n",
       "      <td>2015</td>\n",
       "      <td>3</td>\n",
       "    </tr>\n",
       "  </tbody>\n",
       "</table>\n",
       "</div>"
      ],
      "text/plain": [
       "      round_id                   round  year_id  year  stage\n",
       "1506     12819  First Round Qualifying    75823  2015      3"
      ]
     },
     "execution_count": 78,
     "metadata": {},
     "output_type": "execute_result"
    }
   ],
   "source": [
    "years[years.round_id == 12819]"
   ]
  },
  {
   "cell_type": "code",
   "execution_count": 114,
   "metadata": {
    "collapsed": true
   },
   "outputs": [],
   "source": [
    "matches_2 = pd.read_csv('results_2.csv')"
   ]
  },
  {
   "cell_type": "code",
   "execution_count": 115,
   "metadata": {
    "collapsed": false
   },
   "outputs": [
    {
     "name": "stdout",
     "output_type": "stream",
     "text": [
      "<class 'pandas.core.frame.DataFrame'>\n",
      "Int64Index: 68418 entries, 0 to 68417\n",
      "Data columns (total 8 columns):\n",
      "home_team     68418 non-null object\n",
      "away_team     68418 non-null object\n",
      "match_id      68418 non-null int64\n",
      "round_id      68418 non-null int64\n",
      "replay        68418 non-null bool\n",
      "home_score    68418 non-null int64\n",
      "date          68418 non-null object\n",
      "away_score    68418 non-null int64\n",
      "dtypes: bool(1), int64(4), object(3)\n",
      "memory usage: 4.2+ MB\n"
     ]
    }
   ],
   "source": [
    "matches_2.info()"
   ]
  },
  {
   "cell_type": "code",
   "execution_count": 116,
   "metadata": {
    "collapsed": false
   },
   "outputs": [
    {
     "name": "stdout",
     "output_type": "stream",
     "text": [
      "<class 'pandas.core.frame.DataFrame'>\n",
      "Int64Index: 1507 entries, 0 to 1506\n",
      "Data columns (total 5 columns):\n",
      "round_id    1507 non-null int64\n",
      "round       1507 non-null object\n",
      "year_id     1507 non-null int64\n",
      "year        1507 non-null int64\n",
      "stage       1507 non-null float64\n",
      "dtypes: float64(1), int64(3), object(1)\n",
      "memory usage: 70.6+ KB\n"
     ]
    }
   ],
   "source": [
    "years.info()"
   ]
  },
  {
   "cell_type": "code",
   "execution_count": 117,
   "metadata": {
    "collapsed": false
   },
   "outputs": [
    {
     "data": {
      "text/html": [
       "<div>\n",
       "<table border=\"1\" class=\"dataframe\">\n",
       "  <thead>\n",
       "    <tr style=\"text-align: right;\">\n",
       "      <th></th>\n",
       "      <th>home_team</th>\n",
       "      <th>away_team</th>\n",
       "      <th>match_id</th>\n",
       "      <th>round_id</th>\n",
       "      <th>replay</th>\n",
       "      <th>home_score</th>\n",
       "      <th>date</th>\n",
       "      <th>away_score</th>\n",
       "      <th>round</th>\n",
       "      <th>year_id</th>\n",
       "      <th>year</th>\n",
       "      <th>stage</th>\n",
       "    </tr>\n",
       "  </thead>\n",
       "  <tbody>\n",
       "    <tr>\n",
       "      <th>0</th>\n",
       "      <td>Royal Engineers</td>\n",
       "      <td>Hampstead Heathens</td>\n",
       "      <td>16062</td>\n",
       "      <td>10683</td>\n",
       "      <td>False</td>\n",
       "      <td>3</td>\n",
       "      <td>27.01.72</td>\n",
       "      <td>0</td>\n",
       "      <td>Third Round Proper</td>\n",
       "      <td>71234</td>\n",
       "      <td>1872</td>\n",
       "      <td>3</td>\n",
       "    </tr>\n",
       "    <tr>\n",
       "      <th>1</th>\n",
       "      <td>Wanderers</td>\n",
       "      <td>Crystal Palace (1)</td>\n",
       "      <td>16063</td>\n",
       "      <td>10683</td>\n",
       "      <td>False</td>\n",
       "      <td>0</td>\n",
       "      <td>20.01.72</td>\n",
       "      <td>0</td>\n",
       "      <td>Third Round Proper</td>\n",
       "      <td>71234</td>\n",
       "      <td>1872</td>\n",
       "      <td>3</td>\n",
       "    </tr>\n",
       "    <tr>\n",
       "      <th>2</th>\n",
       "      <td>Queen's Park (Glasgow)</td>\n",
       "      <td>Bye</td>\n",
       "      <td>16061</td>\n",
       "      <td>10683</td>\n",
       "      <td>False</td>\n",
       "      <td>0</td>\n",
       "      <td>01.01.01</td>\n",
       "      <td>0</td>\n",
       "      <td>Third Round Proper</td>\n",
       "      <td>71234</td>\n",
       "      <td>1872</td>\n",
       "      <td>3</td>\n",
       "    </tr>\n",
       "    <tr>\n",
       "      <th>3</th>\n",
       "      <td>Royal Engineers</td>\n",
       "      <td>Crystal Palace (1)</td>\n",
       "      <td>16066</td>\n",
       "      <td>10682</td>\n",
       "      <td>True</td>\n",
       "      <td>3</td>\n",
       "      <td>09.03.72</td>\n",
       "      <td>0</td>\n",
       "      <td>Semi-Final</td>\n",
       "      <td>71234</td>\n",
       "      <td>1872</td>\n",
       "      <td>4</td>\n",
       "    </tr>\n",
       "    <tr>\n",
       "      <th>4</th>\n",
       "      <td>Wanderers</td>\n",
       "      <td>Queen's Park (Glasgow)</td>\n",
       "      <td>16065</td>\n",
       "      <td>10682</td>\n",
       "      <td>False</td>\n",
       "      <td>0</td>\n",
       "      <td>05.03.72</td>\n",
       "      <td>0</td>\n",
       "      <td>Semi-Final</td>\n",
       "      <td>71234</td>\n",
       "      <td>1872</td>\n",
       "      <td>4</td>\n",
       "    </tr>\n",
       "  </tbody>\n",
       "</table>\n",
       "</div>"
      ],
      "text/plain": [
       "                home_team               away_team  match_id  round_id replay  \\\n",
       "0         Royal Engineers      Hampstead Heathens     16062     10683  False   \n",
       "1               Wanderers      Crystal Palace (1)     16063     10683  False   \n",
       "2  Queen's Park (Glasgow)                     Bye     16061     10683  False   \n",
       "3         Royal Engineers      Crystal Palace (1)     16066     10682   True   \n",
       "4               Wanderers  Queen's Park (Glasgow)     16065     10682  False   \n",
       "\n",
       "   home_score      date  away_score               round  year_id  year  stage  \n",
       "0           3  27.01.72           0  Third Round Proper    71234  1872      3  \n",
       "1           0  20.01.72           0  Third Round Proper    71234  1872      3  \n",
       "2           0  01.01.01           0  Third Round Proper    71234  1872      3  \n",
       "3           3  09.03.72           0          Semi-Final    71234  1872      4  \n",
       "4           0  05.03.72           0          Semi-Final    71234  1872      4  "
      ]
     },
     "execution_count": 117,
     "metadata": {},
     "output_type": "execute_result"
    }
   ],
   "source": [
    "merged_new = pd.merge(matches_2, years, how='inner', on='round_id')\n",
    "merged_new.head()"
   ]
  },
  {
   "cell_type": "code",
   "execution_count": 132,
   "metadata": {
    "collapsed": false
   },
   "outputs": [
    {
     "data": {
      "text/plain": [
       "<matplotlib.axes._subplots.AxesSubplot at 0x2ad95ba8>"
      ]
     },
     "execution_count": 132,
     "metadata": {},
     "output_type": "execute_result"
    },
    {
     "data": {
      "image/png": "[encoded data removed]",
      "text/plain": [
       "<matplotlib.figure.Figure at 0x2b5489e8>"
      ]
     },
     "metadata": {},
     "output_type": "display_data"
    }
   ],
   "source": [
    "matches_per_year = merged_new.groupby('year')['year'].count()\n",
    "%matplotlib inline\n",
    "matches_per_year.plot(kind='bar', figsize=(12,4))"
   ]
  },
  {
   "cell_type": "code",
   "execution_count": 181,
   "metadata": {
    "collapsed": false,
    "scrolled": true
   },
   "outputs": [
    {
     "name": "stdout",
     "output_type": "stream",
     "text": [
      "Number of teams entered since 1872: 3434\n"
     ]
    }
   ],
   "source": [
    "alltime_teams = pd.concat([merged_new['home_team'], merged_new['away_team']]).nunique()\n",
    "print 'Number of teams entered since 1872:', alltime_teams"
   ]
  },
  {
   "cell_type": "code",
   "execution_count": 171,
   "metadata": {
    "collapsed": false
   },
   "outputs": [],
   "source": [
    "home_teams = merged_new[['home_team', 'year']]\n",
    "away_teams = merged_new[['away_team', 'year']]\n",
    "home_teams.columns.values[0] = 'team'\n",
    "away_teams.columns.values[0] = 'team'"
   ]
  },
  {
   "cell_type": "code",
   "execution_count": 195,
   "metadata": {
    "collapsed": false
   },
   "outputs": [
    {
     "data": {
      "text/plain": [
       "<matplotlib.axes._subplots.AxesSubplot at 0x3cac3dd8>"
      ]
     },
     "execution_count": 195,
     "metadata": {},
     "output_type": "execute_result"
    },
    {
     "data": {
      "image/png": "[encoded data removed]",
      "text/plain": [
       "<matplotlib.figure.Figure at 0x38a92080>"
      ]
     },
     "metadata": {},
     "output_type": "display_data"
    }
   ],
   "source": [
    "teams_per_year = pd.concat([home_teams, away_teams]).groupby('year')['team'].nunique()\n",
    "teams_per_year.plot(kind='bar', figsize=(7,4))"
   ]
  },
  {
   "cell_type": "code",
   "execution_count": 198,
   "metadata": {
    "collapsed": false
   },
   "outputs": [
    {
     "data": {
      "text/plain": [
       "First Qualifying Round     14314\n",
       "Preliminary Round          13863\n",
       "Second Qualifying Round     8062\n",
       "First Round Proper          5786\n",
       "Extra Preliminary Round     4796\n",
       "Third Qualifying Round      4290\n",
       "Third Round Proper          3968\n",
       "Fourth Qualifying Round     3448\n",
       "Second Round Proper         2957\n",
       "Fourth Round Proper         1949\n",
       "First Round Qualifying      1134\n",
       "Fifth Round Proper           932\n",
       "Second Round Qualifying      785\n",
       "Sixth Round Proper           458\n",
       "Fifth Qualifying Round       409\n",
       "Third Round Qualifying       389\n",
       "Fourth Round Qualifying      323\n",
       "Semi-Final                   321\n",
       "Sixth Qualifying Round       120\n",
       "Intermediate Round            70\n",
       "Final                         28\n",
       "Semi Final                    16\n",
       "Name: round, dtype: int64"
      ]
     },
     "execution_count": 198,
     "metadata": {},
     "output_type": "execute_result"
    }
   ],
   "source": [
    "merged_new['round'].value_counts()"
   ]
  },
  {
   "cell_type": "code",
   "execution_count": 211,
   "metadata": {
    "collapsed": false
   },
   "outputs": [],
   "source": [
    "merged_new['qualifier'] = merged_new['round'].str.contains(\"Qualifying|Preliminary\") #search for regex expression, return boolean"
   ]
  },
  {
   "cell_type": "code",
   "execution_count": 214,
   "metadata": {
    "collapsed": false
   },
   "outputs": [
    {
     "data": {
      "text/plain": [
       "True     51933\n",
       "False    16485\n",
       "Name: qualifier, dtype: int64"
      ]
     },
     "execution_count": 214,
     "metadata": {},
     "output_type": "execute_result"
    }
   ],
   "source": [
    "merged_new['qualifier'].value_counts()"
   ]
  },
  {
   "cell_type": "code",
   "execution_count": 215,
   "metadata": {
    "collapsed": false
   },
   "outputs": [
    {
     "data": {
      "text/plain": [
       "First Qualifying Round     14314\n",
       "Preliminary Round          13863\n",
       "Second Qualifying Round     8062\n",
       "Extra Preliminary Round     4796\n",
       "Third Qualifying Round      4290\n",
       "Fourth Qualifying Round     3448\n",
       "First Round Qualifying      1134\n",
       "Second Round Qualifying      785\n",
       "Fifth Qualifying Round       409\n",
       "Third Round Qualifying       389\n",
       "Fourth Round Qualifying      323\n",
       "Sixth Qualifying Round       120\n",
       "Name: round, dtype: int64"
      ]
     },
     "execution_count": 215,
     "metadata": {},
     "output_type": "execute_result"
    }
   ],
   "source": [
    "merged_new[merged_new['qualifier'] == True]['round'].value_counts()"
   ]
  },
  {
   "cell_type": "code",
   "execution_count": 216,
   "metadata": {
    "collapsed": false
   },
   "outputs": [
    {
     "data": {
      "text/plain": [
       "First Round Proper     5786\n",
       "Third Round Proper     3968\n",
       "Second Round Proper    2957\n",
       "Fourth Round Proper    1949\n",
       "Fifth Round Proper      932\n",
       "Sixth Round Proper      458\n",
       "Semi-Final              321\n",
       "Intermediate Round       70\n",
       "Final                    28\n",
       "Semi Final               16\n",
       "Name: round, dtype: int64"
      ]
     },
     "execution_count": 216,
     "metadata": {},
     "output_type": "execute_result"
    }
   ],
   "source": [
    "merged_new[merged_new['qualifier'] == False]['round'].value_counts()"
   ]
  },
  {
   "cell_type": "code",
   "execution_count": null,
   "metadata": {
    "collapsed": true
   },
   "outputs": [],
   "source": [
    "merged_new['qualifier'].str.replace('Semi Final','Semi-Final')"
   ]
  }
 ],
 "metadata": {
  "kernelspec": {
   "display_name": "Python 2",
   "language": "python",
   "name": "python2"
  },
  "language_info": {
   "codemirror_mode": {
    "name": "ipython",
    "version": 2
   },
   "file_extension": ".py",
   "mimetype": "text/x-python",
   "name": "python",
   "nbconvert_exporter": "python",
   "pygments_lexer": "ipython2",
   "version": "2.7.11"
  }
 },
 "nbformat": 4,
 "nbformat_minor": 0
}
